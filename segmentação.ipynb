{
  "nbformat": 4,
  "nbformat_minor": 0,
  "metadata": {
    "kernelspec": {
      "display_name": "Python 3",
      "language": "python",
      "name": "python3"
    },
    "language_info": {
      "codemirror_mode": {
        "name": "ipython",
        "version": 3
      },
      "file_extension": ".py",
      "mimetype": "text/x-python",
      "name": "python",
      "nbconvert_exporter": "python",
      "pygments_lexer": "ipython3",
      "version": "3.8.3"
    },
    "colab": {
      "name": "segmentação.ipynb",
      "provenance": [],
      "collapsed_sections": [],
      "include_colab_link": true
    }
  },
  "cells": [
    {
      "cell_type": "markdown",
      "metadata": {
        "id": "view-in-github",
        "colab_type": "text"
      },
      "source": [
        "<a href=\"https://colab.research.google.com/github/JaquesZanon/JOB/blob/main/segmenta%C3%A7%C3%A3o.ipynb\" target=\"_parent\"><img src=\"https://colab.research.google.com/assets/colab-badge.svg\" alt=\"Open In Colab\"/></a>"
      ]
    },
    {
      "cell_type": "markdown",
      "metadata": {
        "id": "-giyAU6ab7YA"
      },
      "source": [
        "### Martins Segmentação de Representantes\n",
        "![An image](https://www2.flixdovarejo.com.br/logo/martins/)\n"
      ]
    },
    {
      "cell_type": "code",
      "metadata": {
        "id": "MRfzXY6tl1jS"
      },
      "source": [
        "\n"
      ],
      "execution_count": null,
      "outputs": []
    },
    {
      "cell_type": "code",
      "metadata": {
        "id": "n9rcX5eMeBXB",
        "colab": {
          "base_uri": "https://localhost:8080/"
        },
        "collapsed": true,
        "outputId": "5883a42a-86a9-4ee3-d044-d409b00ce131"
      },
      "source": [
        "!pip install kneed\n",
        "!pip install feature_engine\n",
        "!pip install factor_analyzer\n",
        "!pip install sklearn-som"
      ],
      "execution_count": 101,
      "outputs": [
        {
          "output_type": "stream",
          "text": [
            "Requirement already satisfied: kneed in /usr/local/lib/python3.7/dist-packages (0.7.0)\n",
            "Requirement already satisfied: scipy in /usr/local/lib/python3.7/dist-packages (from kneed) (1.4.1)\n",
            "Requirement already satisfied: numpy>=1.14.2 in /usr/local/lib/python3.7/dist-packages (from kneed) (1.19.5)\n",
            "Requirement already satisfied: matplotlib in /usr/local/lib/python3.7/dist-packages (from kneed) (3.2.2)\n",
            "Requirement already satisfied: python-dateutil>=2.1 in /usr/local/lib/python3.7/dist-packages (from matplotlib->kneed) (2.8.1)\n",
            "Requirement already satisfied: pyparsing!=2.0.4,!=2.1.2,!=2.1.6,>=2.0.1 in /usr/local/lib/python3.7/dist-packages (from matplotlib->kneed) (2.4.7)\n",
            "Requirement already satisfied: cycler>=0.10 in /usr/local/lib/python3.7/dist-packages (from matplotlib->kneed) (0.10.0)\n",
            "Requirement already satisfied: kiwisolver>=1.0.1 in /usr/local/lib/python3.7/dist-packages (from matplotlib->kneed) (1.3.1)\n",
            "Requirement already satisfied: six in /usr/local/lib/python3.7/dist-packages (from cycler>=0.10->matplotlib->kneed) (1.15.0)\n",
            "Requirement already satisfied: feature_engine in /usr/local/lib/python3.7/dist-packages (1.1.0)\n",
            "Requirement already satisfied: numpy>=1.18.2 in /usr/local/lib/python3.7/dist-packages (from feature_engine) (1.19.5)\n",
            "Requirement already satisfied: pandas>=1.0.3 in /usr/local/lib/python3.7/dist-packages (from feature_engine) (1.1.5)\n",
            "Requirement already satisfied: statsmodels>=0.11.1 in /usr/local/lib/python3.7/dist-packages (from feature_engine) (0.12.2)\n",
            "Requirement already satisfied: scipy>=1.4.1 in /usr/local/lib/python3.7/dist-packages (from feature_engine) (1.4.1)\n",
            "Requirement already satisfied: scikit-learn>=0.22.2 in /usr/local/lib/python3.7/dist-packages (from feature_engine) (0.22.2.post1)\n",
            "Requirement already satisfied: pytz>=2017.2 in /usr/local/lib/python3.7/dist-packages (from pandas>=1.0.3->feature_engine) (2018.9)\n",
            "Requirement already satisfied: python-dateutil>=2.7.3 in /usr/local/lib/python3.7/dist-packages (from pandas>=1.0.3->feature_engine) (2.8.1)\n",
            "Requirement already satisfied: six>=1.5 in /usr/local/lib/python3.7/dist-packages (from python-dateutil>=2.7.3->pandas>=1.0.3->feature_engine) (1.15.0)\n",
            "Requirement already satisfied: joblib>=0.11 in /usr/local/lib/python3.7/dist-packages (from scikit-learn>=0.22.2->feature_engine) (1.0.1)\n",
            "Requirement already satisfied: patsy>=0.5 in /usr/local/lib/python3.7/dist-packages (from statsmodels>=0.11.1->feature_engine) (0.5.1)\n",
            "Requirement already satisfied: factor_analyzer in /usr/local/lib/python3.7/dist-packages (0.3.2)\n",
            "Requirement already satisfied: scipy in /usr/local/lib/python3.7/dist-packages (from factor_analyzer) (1.4.1)\n",
            "Requirement already satisfied: scikit-learn in /usr/local/lib/python3.7/dist-packages (from factor_analyzer) (0.22.2.post1)\n",
            "Requirement already satisfied: numpy in /usr/local/lib/python3.7/dist-packages (from factor_analyzer) (1.19.5)\n",
            "Requirement already satisfied: pandas in /usr/local/lib/python3.7/dist-packages (from factor_analyzer) (1.1.5)\n",
            "Requirement already satisfied: python-dateutil>=2.7.3 in /usr/local/lib/python3.7/dist-packages (from pandas->factor_analyzer) (2.8.1)\n",
            "Requirement already satisfied: pytz>=2017.2 in /usr/local/lib/python3.7/dist-packages (from pandas->factor_analyzer) (2018.9)\n",
            "Requirement already satisfied: six>=1.5 in /usr/local/lib/python3.7/dist-packages (from python-dateutil>=2.7.3->pandas->factor_analyzer) (1.15.0)\n",
            "Requirement already satisfied: joblib>=0.11 in /usr/local/lib/python3.7/dist-packages (from scikit-learn->factor_analyzer) (1.0.1)\n",
            "Requirement already satisfied: sklearn-som in /usr/local/lib/python3.7/dist-packages (1.1.0)\n",
            "Requirement already satisfied: numpy in /usr/local/lib/python3.7/dist-packages (from sklearn-som) (1.19.5)\n"
          ],
          "name": "stdout"
        }
      ]
    },
    {
      "cell_type": "code",
      "metadata": {
        "id": "TBeE9tjib7YP"
      },
      "source": [
        "import os\n",
        "import numpy as np\n",
        "import pandas as pd\n",
        "from sklearn.cluster import KMeans\n",
        "from kneed import KneeLocator\n",
        "#from sklearn.metrics import silhouette_score\n",
        "from sklearn.preprocessing import StandardScaler\n",
        "#from yellowbrick.cluster import KElbowVisualizer\n",
        "from feature_engine.wrappers import SklearnTransformerWrapper\n",
        "from sklearn.preprocessing import MinMaxScaler\n",
        "import seaborn as sns\n",
        "import matplotlib.pyplot as plt\n",
        "#from sklearn.cluster import DBSCAN\n",
        "#from sklearn.cluster import AgglomerativeClustering\n",
        "from sklearn.decomposition import PCA\n",
        "#from scipy.cluster import hierarchy\n",
        "from sklearn.decomposition import FactorAnalysis\n",
        "from factor_analyzer import FactorAnalyzer\n",
        "from factor_analyzer.factor_analyzer import calculate_bartlett_sphericity\n",
        "from factor_analyzer.factor_analyzer import calculate_kmo\n",
        "from factor_analyzer import (ConfirmatoryFactorAnalyzer,\n",
        "                              ModelSpecificationParser)\n",
        "from sklearn_som.som import SOM\n",
        "from io import StringIO"
      ],
      "execution_count": 102,
      "outputs": []
    },
    {
      "cell_type": "code",
      "metadata": {
        "id": "fZT6Y-0qclmV",
        "colab": {
          "base_uri": "https://localhost:8080/"
        },
        "outputId": "ac1672ac-c668-4718-fcef-4e422f5b8c68"
      },
      "source": [
        "from google.colab import drive\n",
        "drive.mount('/content/drive')"
      ],
      "execution_count": 103,
      "outputs": [
        {
          "output_type": "stream",
          "text": [
            "Drive already mounted at /content/drive; to attempt to forcibly remount, call drive.mount(\"/content/drive\", force_remount=True).\n"
          ],
          "name": "stdout"
        }
      ]
    },
    {
      "cell_type": "code",
      "metadata": {
        "id": "UednnTqL8SFC"
      },
      "source": [
        "#df = pd.read_csv(StringIO(mystr), header=None, sep='|')\n",
        "df = pd.read_csv('/content/drive/MyDrive/JOB-Martins/segmento.txt', sep='|')"
      ],
      "execution_count": 107,
      "outputs": []
    },
    {
      "cell_type": "code",
      "metadata": {
        "colab": {
          "base_uri": "https://localhost:8080/",
          "height": 277
        },
        "id": "Tcj0mPt382PM",
        "outputId": "8cce66c8-a8e4-4654-e70e-ba0e4ba702cd"
      },
      "source": [
        "df.head()"
      ],
      "execution_count": 108,
      "outputs": [
        {
          "output_type": "execute_result",
          "data": {
            "text/html": [
              "<div>\n",
              "<style scoped>\n",
              "    .dataframe tbody tr th:only-of-type {\n",
              "        vertical-align: middle;\n",
              "    }\n",
              "\n",
              "    .dataframe tbody tr th {\n",
              "        vertical-align: top;\n",
              "    }\n",
              "\n",
              "    .dataframe thead th {\n",
              "        text-align: right;\n",
              "    }\n",
              "</style>\n",
              "<table border=\"1\" class=\"dataframe\">\n",
              "  <thead>\n",
              "    <tr style=\"text-align: right;\">\n",
              "      <th></th>\n",
              "      <th>DtMovimento</th>\n",
              "      <th>NrPedido</th>\n",
              "      <th>IdClienteVenda</th>\n",
              "      <th>IdProduto</th>\n",
              "      <th>QtdeVendida</th>\n",
              "      <th>VlVendaLiquido</th>\n",
              "      <th>VlVendaBruto</th>\n",
              "      <th>VlTotalBruto</th>\n",
              "      <th>VlTotalLiquido</th>\n",
              "      <th>VlImpostos</th>\n",
              "      <th>CdCategoria</th>\n",
              "      <th>DsCategoria</th>\n",
              "      <th>CdSubCategoria</th>\n",
              "      <th>DsSubCategoria</th>\n",
              "      <th>IdRepComercial</th>\n",
              "      <th>DtCadastro</th>\n",
              "      <th>DsTipoPessoaRepresentante</th>\n",
              "      <th>DsTipoRepresentante</th>\n",
              "      <th>DsTerritorioVendas</th>\n",
              "      <th>DtCadastroRCA</th>\n",
              "      <th>DtSubstituicaoRepresentante</th>\n",
              "      <th>Vocaçao_dos_Municipios</th>\n",
              "    </tr>\n",
              "  </thead>\n",
              "  <tbody>\n",
              "    <tr>\n",
              "      <th>0</th>\n",
              "      <td>2021-05-24</td>\n",
              "      <td>2974700.0</td>\n",
              "      <td>4391039.0</td>\n",
              "      <td>193931.0</td>\n",
              "      <td>1.0</td>\n",
              "      <td>74.10</td>\n",
              "      <td>78.41</td>\n",
              "      <td>78.41</td>\n",
              "      <td>74.10</td>\n",
              "      <td>13.96</td>\n",
              "      <td>71.0</td>\n",
              "      <td>SABAO/DETERGENTE PARA ROUPA</td>\n",
              "      <td>1.0</td>\n",
              "      <td>DETERGENTE EM PO</td>\n",
              "      <td>1171850.0</td>\n",
              "      <td>2016-12-08</td>\n",
              "      <td>PESSOA FÍSICA</td>\n",
              "      <td>VAREJO ALIMENTAR</td>\n",
              "      <td>BA_ITAPETINGA3_VAR_ATC</td>\n",
              "      <td>2016-12-08</td>\n",
              "      <td>2017-05-11</td>\n",
              "      <td>Núcleos Regionais</td>\n",
              "    </tr>\n",
              "    <tr>\n",
              "      <th>1</th>\n",
              "      <td>2021-05-24</td>\n",
              "      <td>2974700.0</td>\n",
              "      <td>4391039.0</td>\n",
              "      <td>216241.0</td>\n",
              "      <td>1.0</td>\n",
              "      <td>116.29</td>\n",
              "      <td>128.50</td>\n",
              "      <td>128.50</td>\n",
              "      <td>116.29</td>\n",
              "      <td>21.92</td>\n",
              "      <td>71.0</td>\n",
              "      <td>SABAO/DETERGENTE PARA ROUPA</td>\n",
              "      <td>1.0</td>\n",
              "      <td>DETERGENTE EM PO</td>\n",
              "      <td>1171850.0</td>\n",
              "      <td>2016-12-08</td>\n",
              "      <td>PESSOA FÍSICA</td>\n",
              "      <td>VAREJO ALIMENTAR</td>\n",
              "      <td>BA_ITAPETINGA3_VAR_ATC</td>\n",
              "      <td>2016-12-08</td>\n",
              "      <td>2017-05-11</td>\n",
              "      <td>Núcleos Regionais</td>\n",
              "    </tr>\n",
              "    <tr>\n",
              "      <th>2</th>\n",
              "      <td>2021-05-24</td>\n",
              "      <td>2993905.0</td>\n",
              "      <td>4542353.0</td>\n",
              "      <td>194950.0</td>\n",
              "      <td>3.0</td>\n",
              "      <td>25.99</td>\n",
              "      <td>26.93</td>\n",
              "      <td>80.79</td>\n",
              "      <td>77.97</td>\n",
              "      <td>19.92</td>\n",
              "      <td>14.0</td>\n",
              "      <td>SANDALIA</td>\n",
              "      <td>22.0</td>\n",
              "      <td>CASUAL</td>\n",
              "      <td>1241883.0</td>\n",
              "      <td>2020-02-18</td>\n",
              "      <td>PESSOA FÍSICA</td>\n",
              "      <td>VAREJO ALIMENTAR</td>\n",
              "      <td>BA_SALVADOR60_FAR_CAT</td>\n",
              "      <td>2020-02-18</td>\n",
              "      <td>2020-02-18</td>\n",
              "      <td>Metrópoles Desenvolvidas</td>\n",
              "    </tr>\n",
              "    <tr>\n",
              "      <th>3</th>\n",
              "      <td>2021-05-25</td>\n",
              "      <td>3002010.0</td>\n",
              "      <td>428799.0</td>\n",
              "      <td>215740.0</td>\n",
              "      <td>3.0</td>\n",
              "      <td>25.03</td>\n",
              "      <td>27.36</td>\n",
              "      <td>82.08</td>\n",
              "      <td>75.09</td>\n",
              "      <td>19.20</td>\n",
              "      <td>14.0</td>\n",
              "      <td>SANDALIA</td>\n",
              "      <td>22.0</td>\n",
              "      <td>CASUAL</td>\n",
              "      <td>1075456.0</td>\n",
              "      <td>2007-06-20</td>\n",
              "      <td>PESSOA FÍSICA</td>\n",
              "      <td>VAREJO ALIMENTAR</td>\n",
              "      <td>BA_SALVADOR19_VAR_ATC</td>\n",
              "      <td>2007-06-20</td>\n",
              "      <td>2010-07-16</td>\n",
              "      <td>Metrópoles Desenvolvidas</td>\n",
              "    </tr>\n",
              "    <tr>\n",
              "      <th>4</th>\n",
              "      <td>2021-05-26</td>\n",
              "      <td>3040084.0</td>\n",
              "      <td>6125928.0</td>\n",
              "      <td>209706.0</td>\n",
              "      <td>2.0</td>\n",
              "      <td>100.10</td>\n",
              "      <td>107.63</td>\n",
              "      <td>215.26</td>\n",
              "      <td>200.20</td>\n",
              "      <td>51.21</td>\n",
              "      <td>15.0</td>\n",
              "      <td>UTILIDADES DOMESTICAS</td>\n",
              "      <td>2.0</td>\n",
              "      <td>ESCADA DOMESTICA</td>\n",
              "      <td>1234508.0</td>\n",
              "      <td>2019-11-22</td>\n",
              "      <td>PESSOA FÍSICA</td>\n",
              "      <td>MARTCON</td>\n",
              "      <td>CE_FORTALEZA31_MAT_CAT</td>\n",
              "      <td>2019-11-22</td>\n",
              "      <td>2019-11-22</td>\n",
              "      <td>Metrópoles Desenvolvidas</td>\n",
              "    </tr>\n",
              "  </tbody>\n",
              "</table>\n",
              "</div>"
            ],
            "text/plain": [
              "  DtMovimento   NrPedido  ...  DtSubstituicaoRepresentante    Vocaçao_dos_Municipios\n",
              "0  2021-05-24  2974700.0  ...                   2017-05-11         Núcleos Regionais\n",
              "1  2021-05-24  2974700.0  ...                   2017-05-11         Núcleos Regionais\n",
              "2  2021-05-24  2993905.0  ...                   2020-02-18  Metrópoles Desenvolvidas\n",
              "3  2021-05-25  3002010.0  ...                   2010-07-16  Metrópoles Desenvolvidas\n",
              "4  2021-05-26  3040084.0  ...                   2019-11-22  Metrópoles Desenvolvidas\n",
              "\n",
              "[5 rows x 22 columns]"
            ]
          },
          "metadata": {
            "tags": []
          },
          "execution_count": 108
        }
      ]
    },
    {
      "cell_type": "code",
      "metadata": {
        "scrolled": true,
        "id": "fWvdWUf6b7YT",
        "colab": {
          "base_uri": "https://localhost:8080/"
        },
        "outputId": "ad7c11d4-c993-4586-ba1b-d72b122a7089"
      },
      "source": [
        "#df = pd.read_csv(\"/content/drive/MyDrive/JOB-Martins/segmentacao.csv\",parse_dates=True)\n",
        "#df = df[df['DtCadastroRCA'].notna()]\n",
        "#df.head()"
      ],
      "execution_count": 4,
      "outputs": [
        {
          "output_type": "stream",
          "text": [
            "/usr/local/lib/python3.7/dist-packages/IPython/core/interactiveshell.py:2718: DtypeWarning: Columns (52,55) have mixed types.Specify dtype option on import or set low_memory=False.\n",
            "  interactivity=interactivity, compiler=compiler, result=result)\n"
          ],
          "name": "stderr"
        }
      ]
    },
    {
      "cell_type": "code",
      "metadata": {
        "colab": {
          "base_uri": "https://localhost:8080/"
        },
        "id": "eRdNEBDrK3o4",
        "outputId": "5c31aa3c-d760-4582-bd57-b7b836336d09"
      },
      "source": [
        "df.DsTerritorioVendas"
      ],
      "execution_count": 109,
      "outputs": [
        {
          "output_type": "execute_result",
          "data": {
            "text/plain": [
              "0          BA_ITAPETINGA3_VAR_ATC        \n",
              "1          BA_ITAPETINGA3_VAR_ATC        \n",
              "2          BA_SALVADOR60_FAR_CAT         \n",
              "3          BA_SALVADOR19_VAR_ATC         \n",
              "4          CE_FORTALEZA31_MAT_CAT        \n",
              "                        ...              \n",
              "6615546    TO_FORMOSO ARAGUAI1_VAR_ATC   \n",
              "6615547    MG_SACRAMENTO1_VAR_ATC        \n",
              "6615548    PR_MARINGA1_VAR_ATC           \n",
              "6615549    MG_S.JOAO NEPOMUC.1_ELE_CAT   \n",
              "6615550                               NaN\n",
              "Name: DsTerritorioVendas, Length: 6615551, dtype: object"
            ]
          },
          "metadata": {
            "tags": []
          },
          "execution_count": 109
        }
      ]
    },
    {
      "cell_type": "markdown",
      "metadata": {
        "id": "nW6atktpb7YW"
      },
      "source": [
        "### Para gerar a codificação de estados.\n",
        "\n"
      ]
    },
    {
      "cell_type": "code",
      "metadata": {
        "id": "ZcriSQ_rK6H3"
      },
      "source": [
        "mapping = {'DF': 1, \n",
        "           'GO': 1,\n",
        "           'MS': 1,\n",
        "           'MT': 1, \n",
        "           'AC': 2,\n",
        "           'AM': 2,\n",
        "           'AP': 2, \n",
        "           'PA': 2,\n",
        "           'RO': 2,\n",
        "           'RR': 2, \n",
        "           'TO': 2,\n",
        "           'MA': 3,\n",
        "           'PI': 3, \n",
        "           'CE': 3,\n",
        "           'RN': 3,\n",
        "           'PB': 3, \n",
        "           'PE': 3,\n",
        "           'AL': 3,\n",
        "           'SE': 4, \n",
        "           'BA': 4,\n",
        "           'PR': 5,\n",
        "           'SC': 5, \n",
        "           'RS': 5,\n",
        "           'ES': 6,\n",
        "           'RJ': 6,\n",
        "           'MG': 7,\n",
        "           'SP': 8}"
      ],
      "execution_count": 7,
      "outputs": []
    },
    {
      "cell_type": "code",
      "metadata": {
        "id": "fMxJRj4TN4xi",
        "colab": {
          "base_uri": "https://localhost:8080/"
        },
        "outputId": "b508ee21-d57d-483e-e6c2-0c599ac84c3f"
      },
      "source": [
        "df = df.replace({'CdEstadoTerritorioVendas': mapping}).copy()\n",
        "df['CdEstadoTerritorioVendas'] = df['CdEstadoTerritorioVendas'].astype('category')\n",
        "df.CdEstadoTerritorioVendas.unique()"
      ],
      "execution_count": 8,
      "outputs": [
        {
          "output_type": "execute_result",
          "data": {
            "text/plain": [
              "[5, 7, 8, 1, 6, 3, 4, 2]\n",
              "Categories (8, int64): [5, 7, 8, 1, 6, 3, 4, 2]"
            ]
          },
          "metadata": {
            "tags": []
          },
          "execution_count": 8
        }
      ]
    },
    {
      "cell_type": "markdown",
      "metadata": {
        "id": "LXa5a5zHQIvg"
      },
      "source": [
        "# Calculando variaveis auxiliares"
      ]
    },
    {
      "cell_type": "code",
      "metadata": {
        "id": "2lPx0DuI9D7t"
      },
      "source": [
        "# Tempo_Expo\n",
        "df.DtCadastroRCA = pd.to_datetime(df.DtCadastroRCA).copy()\n",
        "df.DtMovimento = pd.to_datetime(df.DtMovimento).copy()\n",
        "df.DtMovimento"
      ],
      "execution_count": 9,
      "outputs": []
    },
    {
      "cell_type": "markdown",
      "metadata": {
        "id": "H0bmB9UQ6awY"
      },
      "source": [
        "### Calculando tempo de explosição"
      ]
    },
    {
      "cell_type": "code",
      "metadata": {
        "id": "8q80sFIc-h_S"
      },
      "source": [
        "df['Tempo_Expo'] = pd.to_numeric(df.DtMovimento  - df.DtCadastroRCA).copy()\n",
        "#df.assign(Tempo_expo = pd.to_numeric(df.DtMovimento  - df.DtCadastroRCA)).copy()"
      ],
      "execution_count": 11,
      "outputs": []
    },
    {
      "cell_type": "code",
      "metadata": {
        "id": "jpewjj_Ub7YX"
      },
      "source": [
        "#Total_VLRecLiq_Reg \n",
        "Total_VLRecLiq_Reg = df.groupby(['CdEstadoTerritorioVendas'])[['VlReceitaLiquida']].agg('sum')"
      ],
      "execution_count": 12,
      "outputs": []
    },
    {
      "cell_type": "code",
      "metadata": {
        "id": "TBWp9D3vWhp8"
      },
      "source": [
        "mapping = {'VAREJO ALIMENTAR                        ': 4, \n",
        "           'MARTCON                                 ': 3,\n",
        "           'FARMA NACIONAL                          ': 2,\n",
        "           'INFORMATICA                             ': 1, \n",
        "           'ELETRO                                  ': 1,\n",
        "           'VETERINARIO                             ': 3\n",
        "           }"
      ],
      "execution_count": 13,
      "outputs": []
    },
    {
      "cell_type": "code",
      "metadata": {
        "id": "ekPj7ZHYcszy"
      },
      "source": [
        "df = df.replace({'DsTipoNegocioRepresentanteComercial': mapping})"
      ],
      "execution_count": 14,
      "outputs": []
    },
    {
      "cell_type": "code",
      "metadata": {
        "id": "-4Y3ZSL4KsoW"
      },
      "source": [
        "#Total_VLRecLiq_TipoRepr \n",
        "Total_VLRecLiq_TipoRepr = df.groupby(['DsTipoNegocioRepresentanteComercial'])[['VlReceitaLiquida']].agg('sum')"
      ],
      "execution_count": 15,
      "outputs": []
    },
    {
      "cell_type": "code",
      "metadata": {
        "id": "RlvQIBeZdVTr",
        "colab": {
          "base_uri": "https://localhost:8080/",
          "height": 205
        },
        "outputId": "d4a37d0d-bd79-417b-a7f8-2f1d8021f0c2"
      },
      "source": [
        "#Média_QteClientes_TipoRepr\n",
        "Media_QteClientes_TipoRepr = df.groupby(['DsTipoNegocioRepresentanteComercial'])[['IdClienteEntrega']].nunique()\n",
        "#df.groupby(['DsTipoNegocioRepresentanteComercial'])[['IdClienteEntrega']].count()\n",
        "#df.groupby(['DsTipoNegocioRepresentanteComercial'])[['IdRepComercial']].count()\n",
        "Media_QteClientes_TipoRepr\n",
        "\n"
      ],
      "execution_count": 16,
      "outputs": [
        {
          "output_type": "execute_result",
          "data": {
            "text/html": [
              "<div>\n",
              "<style scoped>\n",
              "    .dataframe tbody tr th:only-of-type {\n",
              "        vertical-align: middle;\n",
              "    }\n",
              "\n",
              "    .dataframe tbody tr th {\n",
              "        vertical-align: top;\n",
              "    }\n",
              "\n",
              "    .dataframe thead th {\n",
              "        text-align: right;\n",
              "    }\n",
              "</style>\n",
              "<table border=\"1\" class=\"dataframe\">\n",
              "  <thead>\n",
              "    <tr style=\"text-align: right;\">\n",
              "      <th></th>\n",
              "      <th>IdClienteEntrega</th>\n",
              "    </tr>\n",
              "    <tr>\n",
              "      <th>DsTipoNegocioRepresentanteComercial</th>\n",
              "      <th></th>\n",
              "    </tr>\n",
              "  </thead>\n",
              "  <tbody>\n",
              "    <tr>\n",
              "      <th>1</th>\n",
              "      <td>8</td>\n",
              "    </tr>\n",
              "    <tr>\n",
              "      <th>2</th>\n",
              "      <td>17</td>\n",
              "    </tr>\n",
              "    <tr>\n",
              "      <th>3</th>\n",
              "      <td>56</td>\n",
              "    </tr>\n",
              "    <tr>\n",
              "      <th>4</th>\n",
              "      <td>947</td>\n",
              "    </tr>\n",
              "  </tbody>\n",
              "</table>\n",
              "</div>"
            ],
            "text/plain": [
              "                                     IdClienteEntrega\n",
              "DsTipoNegocioRepresentanteComercial                  \n",
              "1                                                   8\n",
              "2                                                  17\n",
              "3                                                  56\n",
              "4                                                 947"
            ]
          },
          "metadata": {
            "tags": []
          },
          "execution_count": 16
        }
      ]
    },
    {
      "cell_type": "code",
      "metadata": {
        "id": "9YJ2plZDKse9",
        "colab": {
          "base_uri": "https://localhost:8080/",
          "height": 205
        },
        "outputId": "d8978aea-aeec-4ab0-a1ca-2bf404eda8a9"
      },
      "source": [
        "#Média_QteProduto_TipoRepr\n",
        "Media_QteProduto_TipoRepr = df.groupby(['DsTipoNegocioRepresentanteComercial','NrPedido'])[['QtdeVendida']].mean().groupby(['DsTipoNegocioRepresentanteComercial'])[['QtdeVendida']].mean()\n",
        "Media_QteProduto_TipoRepr"
      ],
      "execution_count": 17,
      "outputs": [
        {
          "output_type": "execute_result",
          "data": {
            "text/html": [
              "<div>\n",
              "<style scoped>\n",
              "    .dataframe tbody tr th:only-of-type {\n",
              "        vertical-align: middle;\n",
              "    }\n",
              "\n",
              "    .dataframe tbody tr th {\n",
              "        vertical-align: top;\n",
              "    }\n",
              "\n",
              "    .dataframe thead th {\n",
              "        text-align: right;\n",
              "    }\n",
              "</style>\n",
              "<table border=\"1\" class=\"dataframe\">\n",
              "  <thead>\n",
              "    <tr style=\"text-align: right;\">\n",
              "      <th></th>\n",
              "      <th>QtdeVendida</th>\n",
              "    </tr>\n",
              "    <tr>\n",
              "      <th>DsTipoNegocioRepresentanteComercial</th>\n",
              "      <th></th>\n",
              "    </tr>\n",
              "  </thead>\n",
              "  <tbody>\n",
              "    <tr>\n",
              "      <th>1</th>\n",
              "      <td>3.750000</td>\n",
              "    </tr>\n",
              "    <tr>\n",
              "      <th>2</th>\n",
              "      <td>4.250000</td>\n",
              "    </tr>\n",
              "    <tr>\n",
              "      <th>3</th>\n",
              "      <td>4.551724</td>\n",
              "    </tr>\n",
              "    <tr>\n",
              "      <th>4</th>\n",
              "      <td>7.231520</td>\n",
              "    </tr>\n",
              "  </tbody>\n",
              "</table>\n",
              "</div>"
            ],
            "text/plain": [
              "                                     QtdeVendida\n",
              "DsTipoNegocioRepresentanteComercial             \n",
              "1                                       3.750000\n",
              "2                                       4.250000\n",
              "3                                       4.551724\n",
              "4                                       7.231520"
            ]
          },
          "metadata": {
            "tags": []
          },
          "execution_count": 17
        }
      ]
    },
    {
      "cell_type": "code",
      "metadata": {
        "id": "njbRX7nJKsUz",
        "colab": {
          "base_uri": "https://localhost:8080/",
          "height": 205
        },
        "outputId": "df4c1e40-95c8-43f1-ba5e-1cddbbf1b76a"
      },
      "source": [
        "#Média_QteCategoria_TipoRepr\n",
        "Media_QteCategoria_TipoRepr = df.groupby(['DsTipoNegocioRepresentanteComercial'])[['CdCategoria']].nunique()\n",
        "Media_QteCategoria_TipoRepr"
      ],
      "execution_count": 18,
      "outputs": [
        {
          "output_type": "execute_result",
          "data": {
            "text/html": [
              "<div>\n",
              "<style scoped>\n",
              "    .dataframe tbody tr th:only-of-type {\n",
              "        vertical-align: middle;\n",
              "    }\n",
              "\n",
              "    .dataframe tbody tr th {\n",
              "        vertical-align: top;\n",
              "    }\n",
              "\n",
              "    .dataframe thead th {\n",
              "        text-align: right;\n",
              "    }\n",
              "</style>\n",
              "<table border=\"1\" class=\"dataframe\">\n",
              "  <thead>\n",
              "    <tr style=\"text-align: right;\">\n",
              "      <th></th>\n",
              "      <th>CdCategoria</th>\n",
              "    </tr>\n",
              "    <tr>\n",
              "      <th>DsTipoNegocioRepresentanteComercial</th>\n",
              "      <th></th>\n",
              "    </tr>\n",
              "  </thead>\n",
              "  <tbody>\n",
              "    <tr>\n",
              "      <th>1</th>\n",
              "      <td>7</td>\n",
              "    </tr>\n",
              "    <tr>\n",
              "      <th>2</th>\n",
              "      <td>13</td>\n",
              "    </tr>\n",
              "    <tr>\n",
              "      <th>3</th>\n",
              "      <td>25</td>\n",
              "    </tr>\n",
              "    <tr>\n",
              "      <th>4</th>\n",
              "      <td>63</td>\n",
              "    </tr>\n",
              "  </tbody>\n",
              "</table>\n",
              "</div>"
            ],
            "text/plain": [
              "                                     CdCategoria\n",
              "DsTipoNegocioRepresentanteComercial             \n",
              "1                                              7\n",
              "2                                             13\n",
              "3                                             25\n",
              "4                                             63"
            ]
          },
          "metadata": {
            "tags": []
          },
          "execution_count": 18
        }
      ]
    },
    {
      "cell_type": "code",
      "metadata": {
        "id": "u5PFOfasZzYk",
        "colab": {
          "base_uri": "https://localhost:8080/",
          "height": 205
        },
        "outputId": "d616ea11-3939-417d-893e-ea3e4d120856"
      },
      "source": [
        "#Media_QtePedidos_TipoRepr\n",
        "Media_QtePedidos_TipoRepr = df.groupby(['DsTipoNegocioRepresentanteComercial','Tempo_Expo'])[['NrPedido']].nunique().groupby(['DsTipoNegocioRepresentanteComercial'])[['NrPedido']].mean()\n",
        "Media_QtePedidos_TipoRepr"
      ],
      "execution_count": 19,
      "outputs": [
        {
          "output_type": "execute_result",
          "data": {
            "text/html": [
              "<div>\n",
              "<style scoped>\n",
              "    .dataframe tbody tr th:only-of-type {\n",
              "        vertical-align: middle;\n",
              "    }\n",
              "\n",
              "    .dataframe tbody tr th {\n",
              "        vertical-align: top;\n",
              "    }\n",
              "\n",
              "    .dataframe thead th {\n",
              "        text-align: right;\n",
              "    }\n",
              "</style>\n",
              "<table border=\"1\" class=\"dataframe\">\n",
              "  <thead>\n",
              "    <tr style=\"text-align: right;\">\n",
              "      <th></th>\n",
              "      <th>NrPedido</th>\n",
              "    </tr>\n",
              "    <tr>\n",
              "      <th>DsTipoNegocioRepresentanteComercial</th>\n",
              "      <th></th>\n",
              "    </tr>\n",
              "  </thead>\n",
              "  <tbody>\n",
              "    <tr>\n",
              "      <th>1</th>\n",
              "      <td>1.000000</td>\n",
              "    </tr>\n",
              "    <tr>\n",
              "      <th>2</th>\n",
              "      <td>1.000000</td>\n",
              "    </tr>\n",
              "    <tr>\n",
              "      <th>3</th>\n",
              "      <td>1.074074</td>\n",
              "    </tr>\n",
              "    <tr>\n",
              "      <th>4</th>\n",
              "      <td>1.480183</td>\n",
              "    </tr>\n",
              "  </tbody>\n",
              "</table>\n",
              "</div>"
            ],
            "text/plain": [
              "                                     NrPedido\n",
              "DsTipoNegocioRepresentanteComercial          \n",
              "1                                    1.000000\n",
              "2                                    1.000000\n",
              "3                                    1.074074\n",
              "4                                    1.480183"
            ]
          },
          "metadata": {
            "tags": []
          },
          "execution_count": 19
        }
      ]
    },
    {
      "cell_type": "code",
      "metadata": {
        "id": "Dxj-hUgXKsKr"
      },
      "source": [
        "#df.DsCategoria.unique()"
      ],
      "execution_count": null,
      "outputs": []
    },
    {
      "cell_type": "markdown",
      "metadata": {
        "id": "wpdRflrkEpJg"
      },
      "source": [
        "### Variaveis segmentadoras\n"
      ]
    },
    {
      "cell_type": "code",
      "metadata": {
        "id": "wgUSF6G5Eofv",
        "colab": {
          "base_uri": "https://localhost:8080/",
          "height": 422
        },
        "outputId": "e0888097-e619-46f9-e072-29acc79b6486"
      },
      "source": [
        "#V1 Valor da Receita Líquida do Vendedor pelo período de exposição:\n",
        "V1 = df.groupby(['IdRepComercial'])[['VlReceitaLiquida']].sum().loc[:,'VlReceitaLiquida']/df.groupby(['IdRepComercial'])[['Tempo_Expo']].mean().loc[:,'Tempo_Expo']\n",
        "V1 = pd.DataFrame(V1).reset_index()\n",
        "V1"
      ],
      "execution_count": 20,
      "outputs": [
        {
          "output_type": "execute_result",
          "data": {
            "text/html": [
              "<div>\n",
              "<style scoped>\n",
              "    .dataframe tbody tr th:only-of-type {\n",
              "        vertical-align: middle;\n",
              "    }\n",
              "\n",
              "    .dataframe tbody tr th {\n",
              "        vertical-align: top;\n",
              "    }\n",
              "\n",
              "    .dataframe thead th {\n",
              "        text-align: right;\n",
              "    }\n",
              "</style>\n",
              "<table border=\"1\" class=\"dataframe\">\n",
              "  <thead>\n",
              "    <tr style=\"text-align: right;\">\n",
              "      <th></th>\n",
              "      <th>IdRepComercial</th>\n",
              "      <th>0</th>\n",
              "    </tr>\n",
              "  </thead>\n",
              "  <tbody>\n",
              "    <tr>\n",
              "      <th>0</th>\n",
              "      <td>1052190</td>\n",
              "      <td>9.832645e-17</td>\n",
              "    </tr>\n",
              "    <tr>\n",
              "      <th>1</th>\n",
              "      <td>1053746</td>\n",
              "      <td>2.271571e-17</td>\n",
              "    </tr>\n",
              "    <tr>\n",
              "      <th>2</th>\n",
              "      <td>1064554</td>\n",
              "      <td>5.970752e-17</td>\n",
              "    </tr>\n",
              "    <tr>\n",
              "      <th>3</th>\n",
              "      <td>1065840</td>\n",
              "      <td>5.286133e-15</td>\n",
              "    </tr>\n",
              "    <tr>\n",
              "      <th>4</th>\n",
              "      <td>1070515</td>\n",
              "      <td>3.450342e-17</td>\n",
              "    </tr>\n",
              "    <tr>\n",
              "      <th>...</th>\n",
              "      <td>...</td>\n",
              "      <td>...</td>\n",
              "    </tr>\n",
              "    <tr>\n",
              "      <th>596</th>\n",
              "      <td>1277626</td>\n",
              "      <td>5.017122e-16</td>\n",
              "    </tr>\n",
              "    <tr>\n",
              "      <th>597</th>\n",
              "      <td>1277688</td>\n",
              "      <td>4.887742e-16</td>\n",
              "    </tr>\n",
              "    <tr>\n",
              "      <th>598</th>\n",
              "      <td>1277776</td>\n",
              "      <td>3.683208e-16</td>\n",
              "    </tr>\n",
              "    <tr>\n",
              "      <th>599</th>\n",
              "      <td>1278807</td>\n",
              "      <td>1.437019e-15</td>\n",
              "    </tr>\n",
              "    <tr>\n",
              "      <th>600</th>\n",
              "      <td>1278808</td>\n",
              "      <td>2.843228e-14</td>\n",
              "    </tr>\n",
              "  </tbody>\n",
              "</table>\n",
              "<p>601 rows × 2 columns</p>\n",
              "</div>"
            ],
            "text/plain": [
              "     IdRepComercial             0\n",
              "0           1052190  9.832645e-17\n",
              "1           1053746  2.271571e-17\n",
              "2           1064554  5.970752e-17\n",
              "3           1065840  5.286133e-15\n",
              "4           1070515  3.450342e-17\n",
              "..              ...           ...\n",
              "596         1277626  5.017122e-16\n",
              "597         1277688  4.887742e-16\n",
              "598         1277776  3.683208e-16\n",
              "599         1278807  1.437019e-15\n",
              "600         1278808  2.843228e-14\n",
              "\n",
              "[601 rows x 2 columns]"
            ]
          },
          "metadata": {
            "tags": []
          },
          "execution_count": 20
        }
      ]
    },
    {
      "cell_type": "code",
      "metadata": {
        "id": "InMWqCe583qc"
      },
      "source": [
        "#df[(df.CdEstadoTerritorioVendas == 2) & (df.CdEstadoTerritorioVendas == 1)]\n",
        "#df[\"A\"][(df[\"B\"] > 50) & (df[\"C\"] == 900)]"
      ],
      "execution_count": null,
      "outputs": []
    },
    {
      "cell_type": "code",
      "metadata": {
        "id": "webNIdIkb7YZ",
        "colab": {
          "base_uri": "https://localhost:8080/"
        },
        "outputId": "4741082f-71a8-46de-b1a6-0e2ab9d3efc6"
      },
      "source": [
        "#V2 = Importância da receita líquida do Vendedor na região que ele pertence:\n",
        "rec_reg=df.groupby(['CdEstadoTerritorioVendas'])[['VlReceitaLiquida']].sum().loc[:,'VlReceitaLiquida']\n",
        "df[df.CdEstadoTerritorioVendas == 1].groupby(['IdRepComercial'])[['VlReceitaLiquida']].sum().loc[:,\"VlReceitaLiquida\"]/rec_reg.iloc[0]\n"
      ],
      "execution_count": 21,
      "outputs": [
        {
          "output_type": "execute_result",
          "data": {
            "text/plain": [
              "IdRepComercial\n",
              "1163525    0.000010\n",
              "1163842    0.000580\n",
              "1163933    0.000010\n",
              "1163985    0.000047\n",
              "1164159    0.000024\n",
              "             ...   \n",
              "1271729    0.000096\n",
              "1272434    0.000015\n",
              "1275230    0.000078\n",
              "1276693    0.000011\n",
              "1278808    0.000184\n",
              "Name: VlReceitaLiquida, Length: 69, dtype: float64"
            ]
          },
          "metadata": {
            "tags": []
          },
          "execution_count": 21
        }
      ]
    },
    {
      "cell_type": "code",
      "metadata": {
        "id": "bnq-V1uWMIO_"
      },
      "source": [
        "#reduce(sum(), valores)"
      ],
      "execution_count": null,
      "outputs": []
    },
    {
      "cell_type": "code",
      "metadata": {
        "id": "KHDoXEExFWMt"
      },
      "source": [
        "# Podemos ver aqui representanrr4es com duas regiões\n",
        "#df_aux_V2 = df[['IdRepComercial','CdEstadoTerritorioVendas','VlReceitaLiquida']].groupby(['IdRepComercial','CdEstadoTerritorioVendas'])[['VlReceitaLiquida']].sum().dropna().reset_index().copy()\n",
        "\n",
        "#df_aux_V2=pd.DataFrame(df_aux_V2)\n",
        "\n",
        "#df_a = df_aux_V2.groupby(['IdRepComercial'])[['CdEstadoTerritorioVendas']].count()\n",
        "#df_a[df_a.CdEstadoTerritorioVendas==3]"
      ],
      "execution_count": null,
      "outputs": []
    },
    {
      "cell_type": "code",
      "metadata": {
        "id": "Apnk_RohflVK"
      },
      "source": [
        ""
      ],
      "execution_count": null,
      "outputs": []
    },
    {
      "cell_type": "code",
      "metadata": {
        "id": "BhOoNirmJSWG"
      },
      "source": [
        "#df[df.IdRepComercial==1269432]"
      ],
      "execution_count": null,
      "outputs": []
    },
    {
      "cell_type": "code",
      "metadata": {
        "id": "iHb8p2RADtIp",
        "colab": {
          "base_uri": "https://localhost:8080/",
          "height": 422
        },
        "outputId": "510c37e4-3555-412e-f40e-5fc3a2afe292"
      },
      "source": [
        "#V3 Importância da receita líquida do Vendedor categoria Tipo de Representante (Negócio)\n",
        "rec_area_negocio=df.groupby(['DsTipoNegocioRepresentanteComercial'])[['VlReceitaLiquida']].sum().loc[:,'VlReceitaLiquida']\n",
        "V3 = pd.DataFrame(df[df.DsTipoNegocioRepresentanteComercial == 1].groupby(['IdRepComercial'])[['VlReceitaLiquida']].sum().loc[:,\"VlReceitaLiquida\"]/rec_area_negocio.iloc[0]).append([\n",
        "pd.DataFrame(df[df.DsTipoNegocioRepresentanteComercial == 2].groupby(['IdRepComercial'])[['VlReceitaLiquida']].sum().loc[:,\"VlReceitaLiquida\"]/rec_area_negocio.iloc[1]),\n",
        "pd.DataFrame(df[df.DsTipoNegocioRepresentanteComercial == 3].groupby(['IdRepComercial'])[['VlReceitaLiquida']].sum().loc[:,\"VlReceitaLiquida\"]/rec_area_negocio.iloc[2]),\n",
        "pd.DataFrame(df[df.DsTipoNegocioRepresentanteComercial == 4].groupby(['IdRepComercial'])[['VlReceitaLiquida']].sum().loc[:,\"VlReceitaLiquida\"]/rec_area_negocio.iloc[3])]).reset_index()\n",
        "V3 = V3*100\n",
        "V3"
      ],
      "execution_count": 22,
      "outputs": [
        {
          "output_type": "execute_result",
          "data": {
            "text/html": [
              "<div>\n",
              "<style scoped>\n",
              "    .dataframe tbody tr th:only-of-type {\n",
              "        vertical-align: middle;\n",
              "    }\n",
              "\n",
              "    .dataframe tbody tr th {\n",
              "        vertical-align: top;\n",
              "    }\n",
              "\n",
              "    .dataframe thead th {\n",
              "        text-align: right;\n",
              "    }\n",
              "</style>\n",
              "<table border=\"1\" class=\"dataframe\">\n",
              "  <thead>\n",
              "    <tr style=\"text-align: right;\">\n",
              "      <th></th>\n",
              "      <th>IdRepComercial</th>\n",
              "      <th>VlReceitaLiquida</th>\n",
              "    </tr>\n",
              "  </thead>\n",
              "  <tbody>\n",
              "    <tr>\n",
              "      <th>0</th>\n",
              "      <td>108557200</td>\n",
              "      <td>6.894673</td>\n",
              "    </tr>\n",
              "    <tr>\n",
              "      <th>1</th>\n",
              "      <td>117182000</td>\n",
              "      <td>7.728125</td>\n",
              "    </tr>\n",
              "    <tr>\n",
              "      <th>2</th>\n",
              "      <td>121609400</td>\n",
              "      <td>1.076492</td>\n",
              "    </tr>\n",
              "    <tr>\n",
              "      <th>3</th>\n",
              "      <td>121976800</td>\n",
              "      <td>64.699543</td>\n",
              "    </tr>\n",
              "    <tr>\n",
              "      <th>4</th>\n",
              "      <td>121996600</td>\n",
              "      <td>17.969154</td>\n",
              "    </tr>\n",
              "    <tr>\n",
              "      <th>...</th>\n",
              "      <td>...</td>\n",
              "      <td>...</td>\n",
              "    </tr>\n",
              "    <tr>\n",
              "      <th>596</th>\n",
              "      <td>127762600</td>\n",
              "      <td>0.000451</td>\n",
              "    </tr>\n",
              "    <tr>\n",
              "      <th>597</th>\n",
              "      <td>127768800</td>\n",
              "      <td>0.000311</td>\n",
              "    </tr>\n",
              "    <tr>\n",
              "      <th>598</th>\n",
              "      <td>127777600</td>\n",
              "      <td>0.000119</td>\n",
              "    </tr>\n",
              "    <tr>\n",
              "      <th>599</th>\n",
              "      <td>127880700</td>\n",
              "      <td>0.000163</td>\n",
              "    </tr>\n",
              "    <tr>\n",
              "      <th>600</th>\n",
              "      <td>127880800</td>\n",
              "      <td>0.001808</td>\n",
              "    </tr>\n",
              "  </tbody>\n",
              "</table>\n",
              "<p>601 rows × 2 columns</p>\n",
              "</div>"
            ],
            "text/plain": [
              "     IdRepComercial  VlReceitaLiquida\n",
              "0         108557200          6.894673\n",
              "1         117182000          7.728125\n",
              "2         121609400          1.076492\n",
              "3         121976800         64.699543\n",
              "4         121996600         17.969154\n",
              "..              ...               ...\n",
              "596       127762600          0.000451\n",
              "597       127768800          0.000311\n",
              "598       127777600          0.000119\n",
              "599       127880700          0.000163\n",
              "600       127880800          0.001808\n",
              "\n",
              "[601 rows x 2 columns]"
            ]
          },
          "metadata": {
            "tags": []
          },
          "execution_count": 22
        }
      ]
    },
    {
      "cell_type": "code",
      "metadata": {
        "id": "djrOD0mCEnYm"
      },
      "source": [
        "#rec_area_negocio"
      ],
      "execution_count": null,
      "outputs": []
    },
    {
      "cell_type": "code",
      "metadata": {
        "id": "f1jzU3siFqoY",
        "colab": {
          "base_uri": "https://localhost:8080/",
          "height": 422
        },
        "outputId": "f7cf08df-8b92-4dd6-c113-425118cd5e21"
      },
      "source": [
        "#V5 Quantidade de clientes atendidos pelo vendedor em relação a sua categoria Tipo de Representante \n",
        "#Média_QteClientes_TipoRepr\n",
        "#rec_area_negocio=df.groupby(['DsTipoNegocioRepresentanteComercial'])[['VlReceitaLiquida']].sum().loc[:,'VlReceitaLiquida']\n",
        "V5 = pd.DataFrame(df[df.DsTipoNegocioRepresentanteComercial == 1].groupby(['IdRepComercial'])[['IdClienteEntrega']].nunique().loc[:,\"IdClienteEntrega\"]/Media_QteClientes_TipoRepr.iloc[0,0]).append([\n",
        "pd.DataFrame(df[df.DsTipoNegocioRepresentanteComercial == 2].groupby(['IdRepComercial'])[['IdClienteEntrega']].nunique().loc[:,\"IdClienteEntrega\"]/Media_QteClientes_TipoRepr.iloc[1,0]),\n",
        "pd.DataFrame(df[df.DsTipoNegocioRepresentanteComercial == 3].groupby(['IdRepComercial'])[['IdClienteEntrega']].nunique().loc[:,\"IdClienteEntrega\"]/Media_QteClientes_TipoRepr.iloc[2,0]),\n",
        "pd.DataFrame(df[df.DsTipoNegocioRepresentanteComercial == 4].groupby(['IdRepComercial'])[['IdClienteEntrega']].nunique().loc[:,\"IdClienteEntrega\"]/Media_QteClientes_TipoRepr.iloc[3,0])]).reset_index()\n",
        "V5"
      ],
      "execution_count": 23,
      "outputs": [
        {
          "output_type": "execute_result",
          "data": {
            "text/html": [
              "<div>\n",
              "<style scoped>\n",
              "    .dataframe tbody tr th:only-of-type {\n",
              "        vertical-align: middle;\n",
              "    }\n",
              "\n",
              "    .dataframe tbody tr th {\n",
              "        vertical-align: top;\n",
              "    }\n",
              "\n",
              "    .dataframe thead th {\n",
              "        text-align: right;\n",
              "    }\n",
              "</style>\n",
              "<table border=\"1\" class=\"dataframe\">\n",
              "  <thead>\n",
              "    <tr style=\"text-align: right;\">\n",
              "      <th></th>\n",
              "      <th>IdRepComercial</th>\n",
              "      <th>IdClienteEntrega</th>\n",
              "    </tr>\n",
              "  </thead>\n",
              "  <tbody>\n",
              "    <tr>\n",
              "      <th>0</th>\n",
              "      <td>1085572</td>\n",
              "      <td>0.125000</td>\n",
              "    </tr>\n",
              "    <tr>\n",
              "      <th>1</th>\n",
              "      <td>1171820</td>\n",
              "      <td>0.125000</td>\n",
              "    </tr>\n",
              "    <tr>\n",
              "      <th>2</th>\n",
              "      <td>1216094</td>\n",
              "      <td>0.125000</td>\n",
              "    </tr>\n",
              "    <tr>\n",
              "      <th>3</th>\n",
              "      <td>1219768</td>\n",
              "      <td>0.125000</td>\n",
              "    </tr>\n",
              "    <tr>\n",
              "      <th>4</th>\n",
              "      <td>1219966</td>\n",
              "      <td>0.125000</td>\n",
              "    </tr>\n",
              "    <tr>\n",
              "      <th>...</th>\n",
              "      <td>...</td>\n",
              "      <td>...</td>\n",
              "    </tr>\n",
              "    <tr>\n",
              "      <th>596</th>\n",
              "      <td>1277626</td>\n",
              "      <td>0.002112</td>\n",
              "    </tr>\n",
              "    <tr>\n",
              "      <th>597</th>\n",
              "      <td>1277688</td>\n",
              "      <td>0.001056</td>\n",
              "    </tr>\n",
              "    <tr>\n",
              "      <th>598</th>\n",
              "      <td>1277776</td>\n",
              "      <td>0.001056</td>\n",
              "    </tr>\n",
              "    <tr>\n",
              "      <th>599</th>\n",
              "      <td>1278807</td>\n",
              "      <td>0.001056</td>\n",
              "    </tr>\n",
              "    <tr>\n",
              "      <th>600</th>\n",
              "      <td>1278808</td>\n",
              "      <td>0.001056</td>\n",
              "    </tr>\n",
              "  </tbody>\n",
              "</table>\n",
              "<p>601 rows × 2 columns</p>\n",
              "</div>"
            ],
            "text/plain": [
              "     IdRepComercial  IdClienteEntrega\n",
              "0           1085572          0.125000\n",
              "1           1171820          0.125000\n",
              "2           1216094          0.125000\n",
              "3           1219768          0.125000\n",
              "4           1219966          0.125000\n",
              "..              ...               ...\n",
              "596         1277626          0.002112\n",
              "597         1277688          0.001056\n",
              "598         1277776          0.001056\n",
              "599         1278807          0.001056\n",
              "600         1278808          0.001056\n",
              "\n",
              "[601 rows x 2 columns]"
            ]
          },
          "metadata": {
            "tags": []
          },
          "execution_count": 23
        }
      ]
    },
    {
      "cell_type": "code",
      "metadata": {
        "id": "AtBwm8tcFqeM",
        "colab": {
          "base_uri": "https://localhost:8080/",
          "height": 422
        },
        "outputId": "801949e6-30ce-4891-b280-e227678b22d8"
      },
      "source": [
        "# V6 Quantidade de itens por quantidade em relação ao Tipo de Representante\n",
        "V6 = pd.DataFrame(df[df.DsTipoNegocioRepresentanteComercial == 1].groupby(['IdRepComercial'])[['QtdeVendida']].sum().loc[:,\"QtdeVendida\"]/Media_QteProduto_TipoRepr.iloc[0,0]).append([\n",
        "pd.DataFrame(df[df.DsTipoNegocioRepresentanteComercial == 2].groupby(['IdRepComercial'])[['QtdeVendida']].sum().loc[:,\"QtdeVendida\"]/Media_QteProduto_TipoRepr.iloc[1,0]),\n",
        "pd.DataFrame(df[df.DsTipoNegocioRepresentanteComercial == 3].groupby(['IdRepComercial'])[['QtdeVendida']].sum().loc[:,\"QtdeVendida\"]/Media_QteProduto_TipoRepr.iloc[2,0]),\n",
        "pd.DataFrame(df[df.DsTipoNegocioRepresentanteComercial == 4].groupby(['IdRepComercial'])[['QtdeVendida']].sum().loc[:,\"QtdeVendida\"]/Media_QteProduto_TipoRepr.iloc[3,0])]).reset_index()\n",
        "V6 "
      ],
      "execution_count": 24,
      "outputs": [
        {
          "output_type": "execute_result",
          "data": {
            "text/html": [
              "<div>\n",
              "<style scoped>\n",
              "    .dataframe tbody tr th:only-of-type {\n",
              "        vertical-align: middle;\n",
              "    }\n",
              "\n",
              "    .dataframe tbody tr th {\n",
              "        vertical-align: top;\n",
              "    }\n",
              "\n",
              "    .dataframe thead th {\n",
              "        text-align: right;\n",
              "    }\n",
              "</style>\n",
              "<table border=\"1\" class=\"dataframe\">\n",
              "  <thead>\n",
              "    <tr style=\"text-align: right;\">\n",
              "      <th></th>\n",
              "      <th>IdRepComercial</th>\n",
              "      <th>QtdeVendida</th>\n",
              "    </tr>\n",
              "  </thead>\n",
              "  <tbody>\n",
              "    <tr>\n",
              "      <th>0</th>\n",
              "      <td>1085572</td>\n",
              "      <td>0.266667</td>\n",
              "    </tr>\n",
              "    <tr>\n",
              "      <th>1</th>\n",
              "      <td>1171820</td>\n",
              "      <td>2.133333</td>\n",
              "    </tr>\n",
              "    <tr>\n",
              "      <th>2</th>\n",
              "      <td>1216094</td>\n",
              "      <td>3.200000</td>\n",
              "    </tr>\n",
              "    <tr>\n",
              "      <th>3</th>\n",
              "      <td>1219768</td>\n",
              "      <td>1.066667</td>\n",
              "    </tr>\n",
              "    <tr>\n",
              "      <th>4</th>\n",
              "      <td>1219966</td>\n",
              "      <td>2.133333</td>\n",
              "    </tr>\n",
              "    <tr>\n",
              "      <th>...</th>\n",
              "      <td>...</td>\n",
              "      <td>...</td>\n",
              "    </tr>\n",
              "    <tr>\n",
              "      <th>596</th>\n",
              "      <td>1277626</td>\n",
              "      <td>0.829701</td>\n",
              "    </tr>\n",
              "    <tr>\n",
              "      <th>597</th>\n",
              "      <td>1277688</td>\n",
              "      <td>0.138284</td>\n",
              "    </tr>\n",
              "    <tr>\n",
              "      <th>598</th>\n",
              "      <td>1277776</td>\n",
              "      <td>0.276567</td>\n",
              "    </tr>\n",
              "    <tr>\n",
              "      <th>599</th>\n",
              "      <td>1278807</td>\n",
              "      <td>1.659402</td>\n",
              "    </tr>\n",
              "    <tr>\n",
              "      <th>600</th>\n",
              "      <td>1278808</td>\n",
              "      <td>1.659402</td>\n",
              "    </tr>\n",
              "  </tbody>\n",
              "</table>\n",
              "<p>601 rows × 2 columns</p>\n",
              "</div>"
            ],
            "text/plain": [
              "     IdRepComercial  QtdeVendida\n",
              "0           1085572     0.266667\n",
              "1           1171820     2.133333\n",
              "2           1216094     3.200000\n",
              "3           1219768     1.066667\n",
              "4           1219966     2.133333\n",
              "..              ...          ...\n",
              "596         1277626     0.829701\n",
              "597         1277688     0.138284\n",
              "598         1277776     0.276567\n",
              "599         1278807     1.659402\n",
              "600         1278808     1.659402\n",
              "\n",
              "[601 rows x 2 columns]"
            ]
          },
          "metadata": {
            "tags": []
          },
          "execution_count": 24
        }
      ]
    },
    {
      "cell_type": "code",
      "metadata": {
        "id": "-mherIk-EnQ6",
        "colab": {
          "base_uri": "https://localhost:8080/",
          "height": 422
        },
        "outputId": "b8dc1ec4-005f-4a98-f6e4-c8452dc99989"
      },
      "source": [
        "#V7 \n",
        "V7 = pd.DataFrame(df[df.DsTipoNegocioRepresentanteComercial == 1].groupby(['IdRepComercial'])[['DsCategoria']].nunique().loc[:,\"DsCategoria\"]/Media_QteCategoria_TipoRepr.iloc[0,0]).append([\n",
        "pd.DataFrame(df[df.DsTipoNegocioRepresentanteComercial == 2].groupby(['IdRepComercial'])[['DsCategoria']].nunique().loc[:,\"DsCategoria\"]/Media_QteCategoria_TipoRepr.iloc[1,0]),\n",
        "pd.DataFrame(df[df.DsTipoNegocioRepresentanteComercial == 3].groupby(['IdRepComercial'])[['DsCategoria']].nunique().loc[:,\"DsCategoria\"]/Media_QteCategoria_TipoRepr.iloc[2,0]),\n",
        "pd.DataFrame(df[df.DsTipoNegocioRepresentanteComercial == 4].groupby(['IdRepComercial'])[['DsCategoria']].nunique().loc[:,\"DsCategoria\"]/Media_QteCategoria_TipoRepr.iloc[3,0])]).reset_index()\n",
        "V7 \n"
      ],
      "execution_count": 25,
      "outputs": [
        {
          "output_type": "execute_result",
          "data": {
            "text/html": [
              "<div>\n",
              "<style scoped>\n",
              "    .dataframe tbody tr th:only-of-type {\n",
              "        vertical-align: middle;\n",
              "    }\n",
              "\n",
              "    .dataframe tbody tr th {\n",
              "        vertical-align: top;\n",
              "    }\n",
              "\n",
              "    .dataframe thead th {\n",
              "        text-align: right;\n",
              "    }\n",
              "</style>\n",
              "<table border=\"1\" class=\"dataframe\">\n",
              "  <thead>\n",
              "    <tr style=\"text-align: right;\">\n",
              "      <th></th>\n",
              "      <th>IdRepComercial</th>\n",
              "      <th>DsCategoria</th>\n",
              "    </tr>\n",
              "  </thead>\n",
              "  <tbody>\n",
              "    <tr>\n",
              "      <th>0</th>\n",
              "      <td>1085572</td>\n",
              "      <td>0.142857</td>\n",
              "    </tr>\n",
              "    <tr>\n",
              "      <th>1</th>\n",
              "      <td>1171820</td>\n",
              "      <td>0.142857</td>\n",
              "    </tr>\n",
              "    <tr>\n",
              "      <th>2</th>\n",
              "      <td>1216094</td>\n",
              "      <td>0.142857</td>\n",
              "    </tr>\n",
              "    <tr>\n",
              "      <th>3</th>\n",
              "      <td>1219768</td>\n",
              "      <td>0.142857</td>\n",
              "    </tr>\n",
              "    <tr>\n",
              "      <th>4</th>\n",
              "      <td>1219966</td>\n",
              "      <td>0.142857</td>\n",
              "    </tr>\n",
              "    <tr>\n",
              "      <th>...</th>\n",
              "      <td>...</td>\n",
              "      <td>...</td>\n",
              "    </tr>\n",
              "    <tr>\n",
              "      <th>596</th>\n",
              "      <td>1277626</td>\n",
              "      <td>0.015873</td>\n",
              "    </tr>\n",
              "    <tr>\n",
              "      <th>597</th>\n",
              "      <td>1277688</td>\n",
              "      <td>0.015873</td>\n",
              "    </tr>\n",
              "    <tr>\n",
              "      <th>598</th>\n",
              "      <td>1277776</td>\n",
              "      <td>0.015873</td>\n",
              "    </tr>\n",
              "    <tr>\n",
              "      <th>599</th>\n",
              "      <td>1278807</td>\n",
              "      <td>0.015873</td>\n",
              "    </tr>\n",
              "    <tr>\n",
              "      <th>600</th>\n",
              "      <td>1278808</td>\n",
              "      <td>0.015873</td>\n",
              "    </tr>\n",
              "  </tbody>\n",
              "</table>\n",
              "<p>601 rows × 2 columns</p>\n",
              "</div>"
            ],
            "text/plain": [
              "     IdRepComercial  DsCategoria\n",
              "0           1085572     0.142857\n",
              "1           1171820     0.142857\n",
              "2           1216094     0.142857\n",
              "3           1219768     0.142857\n",
              "4           1219966     0.142857\n",
              "..              ...          ...\n",
              "596         1277626     0.015873\n",
              "597         1277688     0.015873\n",
              "598         1277776     0.015873\n",
              "599         1278807     0.015873\n",
              "600         1278808     0.015873\n",
              "\n",
              "[601 rows x 2 columns]"
            ]
          },
          "metadata": {
            "tags": []
          },
          "execution_count": 25
        }
      ]
    },
    {
      "cell_type": "code",
      "metadata": {
        "id": "rkX48HtkiVAE"
      },
      "source": [
        "#% load_ext rpy2.ipython"
      ],
      "execution_count": null,
      "outputs": []
    },
    {
      "cell_type": "code",
      "metadata": {
        "id": "BF3cLskJitQL"
      },
      "source": [
        "#%%R\n",
        "#x <- 42\n",
        "#print(x)"
      ],
      "execution_count": null,
      "outputs": []
    },
    {
      "cell_type": "code",
      "metadata": {
        "colab": {
          "base_uri": "https://localhost:8080/",
          "height": 422
        },
        "id": "x6_u40JqEnE6",
        "outputId": "a658ce84-f51d-4df1-b6fd-f45f905fe559"
      },
      "source": [
        "#V8 \n",
        "V8 = pd.DataFrame((df[df.DsTipoNegocioRepresentanteComercial == 1].groupby(['IdRepComercial'])[['NrPedido']].nunique().reset_index().loc[:,\"NrPedido\"]/df[df.DsTipoNegocioRepresentanteComercial == 1].groupby(['IdRepComercial'])[['Tempo_Expo']].mean().reset_index().loc[:,\"Tempo_Expo\"])/Media_QtePedidos_TipoRepr.iloc[0,0]).append([\n",
        "pd.DataFrame((df[df.DsTipoNegocioRepresentanteComercial == 2].groupby(['IdRepComercial'])[['NrPedido']].nunique().reset_index().loc[:,\"NrPedido\"]/df[df.DsTipoNegocioRepresentanteComercial == 2].groupby(['IdRepComercial'])[['Tempo_Expo']].mean().reset_index().loc[:,\"Tempo_Expo\"])/Media_QtePedidos_TipoRepr.iloc[1,0]),\n",
        "pd.DataFrame((df[df.DsTipoNegocioRepresentanteComercial == 3].groupby(['IdRepComercial'])[['NrPedido']].nunique().reset_index().loc[:,\"NrPedido\"]/df[df.DsTipoNegocioRepresentanteComercial == 3].groupby(['IdRepComercial'])[['Tempo_Expo']].mean().reset_index().loc[:,\"Tempo_Expo\"])/Media_QtePedidos_TipoRepr.iloc[2,0]),\n",
        "pd.DataFrame((df[df.DsTipoNegocioRepresentanteComercial == 4].groupby(['IdRepComercial'])[['NrPedido']].nunique().reset_index().loc[:,\"NrPedido\"]/df[df.DsTipoNegocioRepresentanteComercial == 4].groupby(['IdRepComercial'])[['Tempo_Expo']].mean().reset_index().loc[:,\"Tempo_Expo\"])/Media_QtePedidos_TipoRepr.iloc[3,0])])\n",
        "V8 = V8.reset_index()\n",
        "V8.columns = ['index', \"V8\"]\n",
        "V8"
      ],
      "execution_count": 26,
      "outputs": [
        {
          "output_type": "execute_result",
          "data": {
            "text/html": [
              "<div>\n",
              "<style scoped>\n",
              "    .dataframe tbody tr th:only-of-type {\n",
              "        vertical-align: middle;\n",
              "    }\n",
              "\n",
              "    .dataframe tbody tr th {\n",
              "        vertical-align: top;\n",
              "    }\n",
              "\n",
              "    .dataframe thead th {\n",
              "        text-align: right;\n",
              "    }\n",
              "</style>\n",
              "<table border=\"1\" class=\"dataframe\">\n",
              "  <thead>\n",
              "    <tr style=\"text-align: right;\">\n",
              "      <th></th>\n",
              "      <th>index</th>\n",
              "      <th>V8</th>\n",
              "    </tr>\n",
              "  </thead>\n",
              "  <tbody>\n",
              "    <tr>\n",
              "      <th>0</th>\n",
              "      <td>0</td>\n",
              "      <td>3.070861e-18</td>\n",
              "    </tr>\n",
              "    <tr>\n",
              "      <th>1</th>\n",
              "      <td>1</td>\n",
              "      <td>6.380416e-18</td>\n",
              "    </tr>\n",
              "    <tr>\n",
              "      <th>2</th>\n",
              "      <td>2</td>\n",
              "      <td>2.726519e-18</td>\n",
              "    </tr>\n",
              "    <tr>\n",
              "      <th>3</th>\n",
              "      <td>3</td>\n",
              "      <td>1.454943e-18</td>\n",
              "    </tr>\n",
              "    <tr>\n",
              "      <th>4</th>\n",
              "      <td>4</td>\n",
              "      <td>1.509990e-18</td>\n",
              "    </tr>\n",
              "    <tr>\n",
              "      <th>...</th>\n",
              "      <td>...</td>\n",
              "      <td>...</td>\n",
              "    </tr>\n",
              "    <tr>\n",
              "      <th>596</th>\n",
              "      <td>525</td>\n",
              "      <td>9.786425e-18</td>\n",
              "    </tr>\n",
              "    <tr>\n",
              "      <th>597</th>\n",
              "      <td>526</td>\n",
              "      <td>6.919782e-18</td>\n",
              "    </tr>\n",
              "    <tr>\n",
              "      <th>598</th>\n",
              "      <td>527</td>\n",
              "      <td>1.357527e-17</td>\n",
              "    </tr>\n",
              "    <tr>\n",
              "      <th>599</th>\n",
              "      <td>528</td>\n",
              "      <td>3.870967e-17</td>\n",
              "    </tr>\n",
              "    <tr>\n",
              "      <th>600</th>\n",
              "      <td>529</td>\n",
              "      <td>6.919782e-17</td>\n",
              "    </tr>\n",
              "  </tbody>\n",
              "</table>\n",
              "<p>601 rows × 2 columns</p>\n",
              "</div>"
            ],
            "text/plain": [
              "     index            V8\n",
              "0        0  3.070861e-18\n",
              "1        1  6.380416e-18\n",
              "2        2  2.726519e-18\n",
              "3        3  1.454943e-18\n",
              "4        4  1.509990e-18\n",
              "..     ...           ...\n",
              "596    525  9.786425e-18\n",
              "597    526  6.919782e-18\n",
              "598    527  1.357527e-17\n",
              "599    528  3.870967e-17\n",
              "600    529  6.919782e-17\n",
              "\n",
              "[601 rows x 2 columns]"
            ]
          },
          "metadata": {
            "tags": []
          },
          "execution_count": 26
        }
      ]
    },
    {
      "cell_type": "code",
      "metadata": {
        "colab": {
          "base_uri": "https://localhost:8080/",
          "height": 415
        },
        "id": "_ouHPKFFCJxy",
        "outputId": "376356c9-441c-495d-9b08-f7dc3ee76412"
      },
      "source": [
        "V8"
      ],
      "execution_count": null,
      "outputs": [
        {
          "output_type": "execute_result",
          "data": {
            "text/html": [
              "<div>\n",
              "<style scoped>\n",
              "    .dataframe tbody tr th:only-of-type {\n",
              "        vertical-align: middle;\n",
              "    }\n",
              "\n",
              "    .dataframe tbody tr th {\n",
              "        vertical-align: top;\n",
              "    }\n",
              "\n",
              "    .dataframe thead th {\n",
              "        text-align: right;\n",
              "    }\n",
              "</style>\n",
              "<table border=\"1\" class=\"dataframe\">\n",
              "  <thead>\n",
              "    <tr style=\"text-align: right;\">\n",
              "      <th></th>\n",
              "      <th>index</th>\n",
              "      <th>V8</th>\n",
              "    </tr>\n",
              "  </thead>\n",
              "  <tbody>\n",
              "    <tr>\n",
              "      <th>0</th>\n",
              "      <td>0</td>\n",
              "      <td>3.070861e-18</td>\n",
              "    </tr>\n",
              "    <tr>\n",
              "      <th>1</th>\n",
              "      <td>1</td>\n",
              "      <td>6.380416e-18</td>\n",
              "    </tr>\n",
              "    <tr>\n",
              "      <th>2</th>\n",
              "      <td>2</td>\n",
              "      <td>2.726519e-18</td>\n",
              "    </tr>\n",
              "    <tr>\n",
              "      <th>3</th>\n",
              "      <td>3</td>\n",
              "      <td>1.454943e-18</td>\n",
              "    </tr>\n",
              "    <tr>\n",
              "      <th>4</th>\n",
              "      <td>4</td>\n",
              "      <td>1.509990e-18</td>\n",
              "    </tr>\n",
              "    <tr>\n",
              "      <th>...</th>\n",
              "      <td>...</td>\n",
              "      <td>...</td>\n",
              "    </tr>\n",
              "    <tr>\n",
              "      <th>596</th>\n",
              "      <td>525</td>\n",
              "      <td>9.786425e-18</td>\n",
              "    </tr>\n",
              "    <tr>\n",
              "      <th>597</th>\n",
              "      <td>526</td>\n",
              "      <td>6.919782e-18</td>\n",
              "    </tr>\n",
              "    <tr>\n",
              "      <th>598</th>\n",
              "      <td>527</td>\n",
              "      <td>1.357527e-17</td>\n",
              "    </tr>\n",
              "    <tr>\n",
              "      <th>599</th>\n",
              "      <td>528</td>\n",
              "      <td>3.870967e-17</td>\n",
              "    </tr>\n",
              "    <tr>\n",
              "      <th>600</th>\n",
              "      <td>529</td>\n",
              "      <td>6.919782e-17</td>\n",
              "    </tr>\n",
              "  </tbody>\n",
              "</table>\n",
              "<p>601 rows × 2 columns</p>\n",
              "</div>"
            ],
            "text/plain": [
              "     index            V8\n",
              "0        0  3.070861e-18\n",
              "1        1  6.380416e-18\n",
              "2        2  2.726519e-18\n",
              "3        3  1.454943e-18\n",
              "4        4  1.509990e-18\n",
              "..     ...           ...\n",
              "596    525  9.786425e-18\n",
              "597    526  6.919782e-18\n",
              "598    527  1.357527e-17\n",
              "599    528  3.870967e-17\n",
              "600    529  6.919782e-17\n",
              "\n",
              "[601 rows x 2 columns]"
            ]
          },
          "metadata": {
            "tags": []
          },
          "execution_count": 65
        }
      ]
    },
    {
      "cell_type": "code",
      "metadata": {
        "id": "_rS-7BfrFcsk"
      },
      "source": [
        "var_seg = pd.concat([V1, V3.loc[:,'VlReceitaLiquida'],V5.loc[:,'IdClienteEntrega'],V6.loc[:,'QtdeVendida'],V7.loc[:,'DsCategoria'],V8.loc[:,\"V8\"]], axis=1)\n",
        "var_seg.columns = ['rep_comercial','V1','V3','V5',\"V6\",\"V7\",\"V8\"]\n",
        "var_seg.index = var_seg['rep_comercial']\n",
        "var_seg = var_seg.drop(\"rep_comercial\", axis=1)"
      ],
      "execution_count": 27,
      "outputs": []
    },
    {
      "cell_type": "code",
      "metadata": {
        "id": "Ns-zfWFvFckq",
        "colab": {
          "base_uri": "https://localhost:8080/",
          "height": 299
        },
        "outputId": "818b5255-c799-4595-cd18-56d2c4397515"
      },
      "source": [
        "var_seg.describe().round(5)"
      ],
      "execution_count": 28,
      "outputs": [
        {
          "output_type": "execute_result",
          "data": {
            "text/html": [
              "<div>\n",
              "<style scoped>\n",
              "    .dataframe tbody tr th:only-of-type {\n",
              "        vertical-align: middle;\n",
              "    }\n",
              "\n",
              "    .dataframe tbody tr th {\n",
              "        vertical-align: top;\n",
              "    }\n",
              "\n",
              "    .dataframe thead th {\n",
              "        text-align: right;\n",
              "    }\n",
              "</style>\n",
              "<table border=\"1\" class=\"dataframe\">\n",
              "  <thead>\n",
              "    <tr style=\"text-align: right;\">\n",
              "      <th></th>\n",
              "      <th>V1</th>\n",
              "      <th>V3</th>\n",
              "      <th>V5</th>\n",
              "      <th>V6</th>\n",
              "      <th>V7</th>\n",
              "      <th>V8</th>\n",
              "    </tr>\n",
              "  </thead>\n",
              "  <tbody>\n",
              "    <tr>\n",
              "      <th>count</th>\n",
              "      <td>601.0</td>\n",
              "      <td>601.00000</td>\n",
              "      <td>601.00000</td>\n",
              "      <td>601.00000</td>\n",
              "      <td>601.00000</td>\n",
              "      <td>601.0</td>\n",
              "    </tr>\n",
              "    <tr>\n",
              "      <th>mean</th>\n",
              "      <td>0.0</td>\n",
              "      <td>0.66556</td>\n",
              "      <td>0.00666</td>\n",
              "      <td>20.93845</td>\n",
              "      <td>0.02895</td>\n",
              "      <td>0.0</td>\n",
              "    </tr>\n",
              "    <tr>\n",
              "      <th>std</th>\n",
              "      <td>0.0</td>\n",
              "      <td>5.21193</td>\n",
              "      <td>0.02130</td>\n",
              "      <td>352.07783</td>\n",
              "      <td>0.04095</td>\n",
              "      <td>0.0</td>\n",
              "    </tr>\n",
              "    <tr>\n",
              "      <th>min</th>\n",
              "      <td>-0.0</td>\n",
              "      <td>-0.14216</td>\n",
              "      <td>0.00106</td>\n",
              "      <td>0.13828</td>\n",
              "      <td>0.01587</td>\n",
              "      <td>0.0</td>\n",
              "    </tr>\n",
              "    <tr>\n",
              "      <th>25%</th>\n",
              "      <td>0.0</td>\n",
              "      <td>0.00025</td>\n",
              "      <td>0.00106</td>\n",
              "      <td>0.27657</td>\n",
              "      <td>0.01587</td>\n",
              "      <td>0.0</td>\n",
              "    </tr>\n",
              "    <tr>\n",
              "      <th>50%</th>\n",
              "      <td>0.0</td>\n",
              "      <td>0.00062</td>\n",
              "      <td>0.00106</td>\n",
              "      <td>0.69142</td>\n",
              "      <td>0.01587</td>\n",
              "      <td>0.0</td>\n",
              "    </tr>\n",
              "    <tr>\n",
              "      <th>75%</th>\n",
              "      <td>0.0</td>\n",
              "      <td>0.00217</td>\n",
              "      <td>0.00211</td>\n",
              "      <td>1.79769</td>\n",
              "      <td>0.03175</td>\n",
              "      <td>0.0</td>\n",
              "    </tr>\n",
              "    <tr>\n",
              "      <th>max</th>\n",
              "      <td>0.0</td>\n",
              "      <td>97.91266</td>\n",
              "      <td>0.25238</td>\n",
              "      <td>8458.66425</td>\n",
              "      <td>0.85714</td>\n",
              "      <td>0.0</td>\n",
              "    </tr>\n",
              "  </tbody>\n",
              "</table>\n",
              "</div>"
            ],
            "text/plain": [
              "          V1         V3         V5          V6         V7     V8\n",
              "count  601.0  601.00000  601.00000   601.00000  601.00000  601.0\n",
              "mean     0.0    0.66556    0.00666    20.93845    0.02895    0.0\n",
              "std      0.0    5.21193    0.02130   352.07783    0.04095    0.0\n",
              "min     -0.0   -0.14216    0.00106     0.13828    0.01587    0.0\n",
              "25%      0.0    0.00025    0.00106     0.27657    0.01587    0.0\n",
              "50%      0.0    0.00062    0.00106     0.69142    0.01587    0.0\n",
              "75%      0.0    0.00217    0.00211     1.79769    0.03175    0.0\n",
              "max      0.0   97.91266    0.25238  8458.66425    0.85714    0.0"
            ]
          },
          "metadata": {
            "tags": []
          },
          "execution_count": 28
        }
      ]
    },
    {
      "cell_type": "code",
      "metadata": {
        "id": "amVaYOrIFccc"
      },
      "source": [
        ""
      ],
      "execution_count": null,
      "outputs": []
    },
    {
      "cell_type": "code",
      "metadata": {
        "id": "83us1Fhwb7Ya"
      },
      "source": [
        ""
      ],
      "execution_count": null,
      "outputs": []
    },
    {
      "cell_type": "code",
      "metadata": {
        "id": "JPqpxa1rb7Yl"
      },
      "source": [
        "num_vars = ['V1',\n",
        "       'V3', 'V5', 'V6',\n",
        "       'V7', 'V8']\n",
        "std_scaler = SklearnTransformerWrapper(transformer=StandardScaler(),\n",
        "                                      variables = num_vars)"
      ],
      "execution_count": 29,
      "outputs": []
    },
    {
      "cell_type": "code",
      "metadata": {
        "id": "TETCYnr-gYuQ"
      },
      "source": [
        "#std_scaler = SklearnTransformerWrapper(transformer=MinMaxScaler(),\n",
        "#                                     variables = num_vars)"
      ],
      "execution_count": null,
      "outputs": []
    },
    {
      "cell_type": "markdown",
      "metadata": {
        "id": "q7gQqTcCb7Yn"
      },
      "source": [
        "#### Padronizando Variáveis"
      ]
    },
    {
      "cell_type": "code",
      "metadata": {
        "id": "Y4-Sys8_b7Yo"
      },
      "source": [
        "df_aux_sc = std_scaler.fit_transform(var_seg)"
      ],
      "execution_count": 30,
      "outputs": []
    },
    {
      "cell_type": "code",
      "metadata": {
        "id": "MxsQzH4Qfkv8",
        "colab": {
          "base_uri": "https://localhost:8080/"
        },
        "outputId": "4b029918-96d2-4f3d-dac9-3130c86f43a8"
      },
      "source": [
        "df_aux_sc.columns"
      ],
      "execution_count": 31,
      "outputs": [
        {
          "output_type": "execute_result",
          "data": {
            "text/plain": [
              "Index(['V1', 'V3', 'V5', 'V6', 'V7', 'V8'], dtype='object')"
            ]
          },
          "metadata": {
            "tags": []
          },
          "execution_count": 31
        }
      ]
    },
    {
      "cell_type": "markdown",
      "metadata": {
        "id": "TX5WLt037GIJ"
      },
      "source": [
        "### Testes para verificar a analise fatorial"
      ]
    },
    {
      "cell_type": "markdown",
      "metadata": {
        "id": "wCEn8EpiDCrF"
      },
      "source": [
        "Bartlett’s test of sphericity checks whether or not the observed variables intercorrelate at all using the observed correlation matrix against the identity matrix. If the test found statistically insignificant, you should not employ a factor analysis."
      ]
    },
    {
      "cell_type": "code",
      "metadata": {
        "colab": {
          "base_uri": "https://localhost:8080/"
        },
        "id": "MAa5CWpBE819",
        "outputId": "eb1d9515-81b4-4362-b2b5-f978354e8e5d"
      },
      "source": [
        "chi_square_value,p_value=calculate_bartlett_sphericity(df_aux_sc)\n",
        "chi_square_value, p_value"
      ],
      "execution_count": 32,
      "outputs": [
        {
          "output_type": "execute_result",
          "data": {
            "text/plain": [
              "(2443.630632454803, 0.0)"
            ]
          },
          "metadata": {
            "tags": []
          },
          "execution_count": 32
        }
      ]
    },
    {
      "cell_type": "markdown",
      "metadata": {
        "id": "aVtS1q7cC2LE"
      },
      "source": [
        "Kaiser-Meyer-Olkin (KMO) Test measures the suitability of data for factor analysis. It determines the adequacy for each observed variable and for the complete model. KMO estimates the proportion of variance among all the observed variable. Lower proportion id more suitable for factor analysis. KMO values range between 0 and 1. Value of KMO less than 0.6 is considered inadequate."
      ]
    },
    {
      "cell_type": "code",
      "metadata": {
        "colab": {
          "base_uri": "https://localhost:8080/"
        },
        "id": "rv-R4VzjFFCy",
        "outputId": "c7b691a0-eed6-4b4d-a01c-1d01ab6278f4"
      },
      "source": [
        "kmo_all,kmo_model=calculate_kmo(df_aux_sc)\n",
        "kmo_model"
      ],
      "execution_count": 33,
      "outputs": [
        {
          "output_type": "execute_result",
          "data": {
            "text/plain": [
              "0.7211782256143906"
            ]
          },
          "metadata": {
            "tags": []
          },
          "execution_count": 33
        }
      ]
    },
    {
      "cell_type": "code",
      "metadata": {
        "colab": {
          "base_uri": "https://localhost:8080/"
        },
        "id": "Md8SunnRGdxy",
        "outputId": "359fcac0-74cf-48e2-949c-4edd2a59f669"
      },
      "source": [
        "#EXPLORATORY FACTOR ANALYSIS\n",
        "fa = FactorAnalyzer(3, rotation=None)\n",
        "fa.fit(df_aux_sc)\n",
        "\n",
        "#FactorAnalyzer(bounds=(0.005, 1), impute='median', is_corr_matrix=False,\n",
        "#               method='minres', n_factors=3, rotation=None, rotation_kwargs={},\n",
        "#               use_smc=True)\n",
        "\n"
      ],
      "execution_count": 67,
      "outputs": [
        {
          "output_type": "execute_result",
          "data": {
            "text/plain": [
              "FactorAnalyzer(bounds=(0.005, 1), impute='median', is_corr_matrix=False,\n",
              "               method='minres', n_factors=3, rotation=None, rotation_kwargs={},\n",
              "               use_smc=True)"
            ]
          },
          "metadata": {
            "tags": []
          },
          "execution_count": 67
        }
      ]
    },
    {
      "cell_type": "code",
      "metadata": {
        "colab": {
          "base_uri": "https://localhost:8080/",
          "height": 143
        },
        "id": "5y19kr2XIbLL",
        "outputId": "4b453535-9bd7-4fc5-e0dd-b2aa7b519c60"
      },
      "source": [
        "#Variacia explicada dos dados\n",
        "pd.DataFrame(fa.get_factor_variance())"
      ],
      "execution_count": 68,
      "outputs": [
        {
          "output_type": "execute_result",
          "data": {
            "text/html": [
              "<div>\n",
              "<style scoped>\n",
              "    .dataframe tbody tr th:only-of-type {\n",
              "        vertical-align: middle;\n",
              "    }\n",
              "\n",
              "    .dataframe tbody tr th {\n",
              "        vertical-align: top;\n",
              "    }\n",
              "\n",
              "    .dataframe thead th {\n",
              "        text-align: right;\n",
              "    }\n",
              "</style>\n",
              "<table border=\"1\" class=\"dataframe\">\n",
              "  <thead>\n",
              "    <tr style=\"text-align: right;\">\n",
              "      <th></th>\n",
              "      <th>0</th>\n",
              "      <th>1</th>\n",
              "      <th>2</th>\n",
              "    </tr>\n",
              "  </thead>\n",
              "  <tbody>\n",
              "    <tr>\n",
              "      <th>0</th>\n",
              "      <td>3.398941</td>\n",
              "      <td>0.470949</td>\n",
              "      <td>0.227120</td>\n",
              "    </tr>\n",
              "    <tr>\n",
              "      <th>1</th>\n",
              "      <td>0.566490</td>\n",
              "      <td>0.078492</td>\n",
              "      <td>0.037853</td>\n",
              "    </tr>\n",
              "    <tr>\n",
              "      <th>2</th>\n",
              "      <td>0.566490</td>\n",
              "      <td>0.644982</td>\n",
              "      <td>0.682835</td>\n",
              "    </tr>\n",
              "  </tbody>\n",
              "</table>\n",
              "</div>"
            ],
            "text/plain": [
              "          0         1         2\n",
              "0  3.398941  0.470949  0.227120\n",
              "1  0.566490  0.078492  0.037853\n",
              "2  0.566490  0.644982  0.682835"
            ]
          },
          "metadata": {
            "tags": []
          },
          "execution_count": 68
        }
      ]
    },
    {
      "cell_type": "code",
      "metadata": {
        "id": "Jq06URKPGdfF"
      },
      "source": [
        "#GET EIGENVALUES\n",
        "ev, v = fa.get_eigenvalues()"
      ],
      "execution_count": 64,
      "outputs": []
    },
    {
      "cell_type": "code",
      "metadata": {
        "id": "NG4eTNSPGdYU",
        "colab": {
          "base_uri": "https://localhost:8080/",
          "height": 295
        },
        "outputId": "fbad647e-7282-4684-e482-fbf55b0be73c"
      },
      "source": [
        "# SCREEPLOT (need pyplot)\n",
        "plt.scatter(range(1,df_aux_sc.shape[1]+1),ev)\n",
        "plt.plot(range(1,df_aux_sc.shape[1]+1),ev)\n",
        "plt.title('Scree Plot')\n",
        "plt.xlabel('Factors')\n",
        "plt.ylabel('Eigenvalue')\n",
        "plt.grid()\n",
        "plt.show()"
      ],
      "execution_count": 36,
      "outputs": [
        {
          "output_type": "display_data",
          "data": {
            "image/png": "[encoded data removed]",
            "text/plain": [
              "<Figure size 432x288 with 1 Axes>"
            ]
          },
          "metadata": {
            "tags": [],
            "needs_background": "light"
          }
        }
      ]
    },
    {
      "cell_type": "code",
      "metadata": {
        "id": "X7ik1r28GdTr",
        "colab": {
          "base_uri": "https://localhost:8080/"
        },
        "outputId": "2bfad107-f819-403a-f047-cf1bbbf60c4c"
      },
      "source": [
        "fa = FactorAnalyzer(3, rotation=\"Varimax\")\n",
        "fa.fit(df_aux_sc)\n",
        "fa.get_factor_variance()\n",
        "fa.loadings_"
      ],
      "execution_count": 70,
      "outputs": [
        {
          "output_type": "execute_result",
          "data": {
            "text/plain": [
              "array([[ 0.00164523, -0.01879332, -0.00149328],\n",
              "       [ 0.5699135 ,  0.30792065,  0.75433596],\n",
              "       [ 0.42212132,  0.7709033 ,  0.24633408],\n",
              "       [ 0.88649485,  0.00806652,  0.31627703],\n",
              "       [ 0.82217539,  0.51208784,  0.23925216],\n",
              "       [ 0.61192978,  0.03238873,  0.13390278]])"
            ]
          },
          "metadata": {
            "tags": []
          },
          "execution_count": 70
        }
      ]
    },
    {
      "cell_type": "code",
      "metadata": {
        "id": "mXCC98aOGdPY",
        "colab": {
          "base_uri": "https://localhost:8080/"
        },
        "outputId": "202246e7-f55d-44ff-f2ae-2c83582202dc"
      },
      "source": [
        "fa.get_factor_variance()"
      ],
      "execution_count": 71,
      "outputs": [
        {
          "output_type": "execute_result",
          "data": {
            "text/plain": [
              "(array([2.33929407, 0.95280827, 0.80490816]),\n",
              " array([0.38988235, 0.15880138, 0.13415136]),\n",
              " array([0.38988235, 0.54868372, 0.68283508]))"
            ]
          },
          "metadata": {
            "tags": []
          },
          "execution_count": 71
        }
      ]
    },
    {
      "cell_type": "code",
      "metadata": {
        "id": "W8YqaE1gGdLO",
        "colab": {
          "base_uri": "https://localhost:8080/",
          "height": 449
        },
        "outputId": "994b76de-d134-43fc-c1b0-abe748318364"
      },
      "source": [
        "loadings = pd.DataFrame(fa.loadings_, columns=['Factor 1', 'Factor 2', 'Factor 3', 'Factor 4','Factor 5','Factor 6'], index=df_aux_sc.columns)\n",
        "print('Factor Loadings \\n%s' %loadings)"
      ],
      "execution_count": 72,
      "outputs": [
        {
          "output_type": "error",
          "ename": "ValueError",
          "evalue": "ignored",
          "traceback": [
            "\u001b[0;31m---------------------------------------------------------------------------\u001b[0m",
            "\u001b[0;31mValueError\u001b[0m                                Traceback (most recent call last)",
            "\u001b[0;32m/usr/local/lib/python3.7/dist-packages/pandas/core/internals/managers.py\u001b[0m in \u001b[0;36mcreate_block_manager_from_blocks\u001b[0;34m(blocks, axes)\u001b[0m\n\u001b[1;32m   1670\u001b[0m                 blocks = [\n\u001b[0;32m-> 1671\u001b[0;31m                     \u001b[0mmake_block\u001b[0m\u001b[0;34m(\u001b[0m\u001b[0mvalues\u001b[0m\u001b[0;34m=\u001b[0m\u001b[0mblocks\u001b[0m\u001b[0;34m[\u001b[0m\u001b[0;36m0\u001b[0m\u001b[0;34m]\u001b[0m\u001b[0;34m,\u001b[0m \u001b[0mplacement\u001b[0m\u001b[0;34m=\u001b[0m\u001b[0mslice\u001b[0m\u001b[0;34m(\u001b[0m\u001b[0;36m0\u001b[0m\u001b[0;34m,\u001b[0m \u001b[0mlen\u001b[0m\u001b[0;34m(\u001b[0m\u001b[0maxes\u001b[0m\u001b[0;34m[\u001b[0m\u001b[0;36m0\u001b[0m\u001b[0;34m]\u001b[0m\u001b[0;34m)\u001b[0m\u001b[0;34m)\u001b[0m\u001b[0;34m)\u001b[0m\u001b[0;34m\u001b[0m\u001b[0;34m\u001b[0m\u001b[0m\n\u001b[0m\u001b[1;32m   1672\u001b[0m                 ]\n",
            "\u001b[0;32m/usr/local/lib/python3.7/dist-packages/pandas/core/internals/blocks.py\u001b[0m in \u001b[0;36mmake_block\u001b[0;34m(values, placement, klass, ndim, dtype)\u001b[0m\n\u001b[1;32m   2743\u001b[0m \u001b[0;34m\u001b[0m\u001b[0m\n\u001b[0;32m-> 2744\u001b[0;31m     \u001b[0;32mreturn\u001b[0m \u001b[0mklass\u001b[0m\u001b[0;34m(\u001b[0m\u001b[0mvalues\u001b[0m\u001b[0;34m,\u001b[0m \u001b[0mndim\u001b[0m\u001b[0;34m=\u001b[0m\u001b[0mndim\u001b[0m\u001b[0;34m,\u001b[0m \u001b[0mplacement\u001b[0m\u001b[0;34m=\u001b[0m\u001b[0mplacement\u001b[0m\u001b[0;34m)\u001b[0m\u001b[0;34m\u001b[0m\u001b[0;34m\u001b[0m\u001b[0m\n\u001b[0m\u001b[1;32m   2745\u001b[0m \u001b[0;34m\u001b[0m\u001b[0m\n",
            "\u001b[0;32m/usr/local/lib/python3.7/dist-packages/pandas/core/internals/blocks.py\u001b[0m in \u001b[0;36m__init__\u001b[0;34m(self, values, placement, ndim)\u001b[0m\n\u001b[1;32m    130\u001b[0m             raise ValueError(\n\u001b[0;32m--> 131\u001b[0;31m                 \u001b[0;34mf\"Wrong number of items passed {len(self.values)}, \"\u001b[0m\u001b[0;34m\u001b[0m\u001b[0;34m\u001b[0m\u001b[0m\n\u001b[0m\u001b[1;32m    132\u001b[0m                 \u001b[0;34mf\"placement implies {len(self.mgr_locs)}\"\u001b[0m\u001b[0;34m\u001b[0m\u001b[0;34m\u001b[0m\u001b[0m\n",
            "\u001b[0;31mValueError\u001b[0m: Wrong number of items passed 3, placement implies 6",
            "\nDuring handling of the above exception, another exception occurred:\n",
            "\u001b[0;31mValueError\u001b[0m                                Traceback (most recent call last)",
            "\u001b[0;32m<ipython-input-72-edd907364ec4>\u001b[0m in \u001b[0;36m<module>\u001b[0;34m()\u001b[0m\n\u001b[0;32m----> 1\u001b[0;31m \u001b[0mloadings\u001b[0m \u001b[0;34m=\u001b[0m \u001b[0mpd\u001b[0m\u001b[0;34m.\u001b[0m\u001b[0mDataFrame\u001b[0m\u001b[0;34m(\u001b[0m\u001b[0mfa\u001b[0m\u001b[0;34m.\u001b[0m\u001b[0mloadings_\u001b[0m\u001b[0;34m,\u001b[0m \u001b[0mcolumns\u001b[0m\u001b[0;34m=\u001b[0m\u001b[0;34m[\u001b[0m\u001b[0;34m'Factor 1'\u001b[0m\u001b[0;34m,\u001b[0m \u001b[0;34m'Factor 2'\u001b[0m\u001b[0;34m,\u001b[0m \u001b[0;34m'Factor 3'\u001b[0m\u001b[0;34m,\u001b[0m \u001b[0;34m'Factor 4'\u001b[0m\u001b[0;34m,\u001b[0m\u001b[0;34m'Factor 5'\u001b[0m\u001b[0;34m,\u001b[0m\u001b[0;34m'Factor 6'\u001b[0m\u001b[0;34m]\u001b[0m\u001b[0;34m,\u001b[0m \u001b[0mindex\u001b[0m\u001b[0;34m=\u001b[0m\u001b[0mdf_aux_sc\u001b[0m\u001b[0;34m.\u001b[0m\u001b[0mcolumns\u001b[0m\u001b[0;34m)\u001b[0m\u001b[0;34m\u001b[0m\u001b[0;34m\u001b[0m\u001b[0m\n\u001b[0m\u001b[1;32m      2\u001b[0m \u001b[0mprint\u001b[0m\u001b[0;34m(\u001b[0m\u001b[0;34m'Factor Loadings \\n%s'\u001b[0m \u001b[0;34m%\u001b[0m\u001b[0mloadings\u001b[0m\u001b[0;34m)\u001b[0m\u001b[0;34m\u001b[0m\u001b[0;34m\u001b[0m\u001b[0m\n",
            "\u001b[0;32m/usr/local/lib/python3.7/dist-packages/pandas/core/frame.py\u001b[0m in \u001b[0;36m__init__\u001b[0;34m(self, data, index, columns, dtype, copy)\u001b[0m\n\u001b[1;32m    495\u001b[0m                 \u001b[0mmgr\u001b[0m \u001b[0;34m=\u001b[0m \u001b[0minit_dict\u001b[0m\u001b[0;34m(\u001b[0m\u001b[0;34m{\u001b[0m\u001b[0mdata\u001b[0m\u001b[0;34m.\u001b[0m\u001b[0mname\u001b[0m\u001b[0;34m:\u001b[0m \u001b[0mdata\u001b[0m\u001b[0;34m}\u001b[0m\u001b[0;34m,\u001b[0m \u001b[0mindex\u001b[0m\u001b[0;34m,\u001b[0m \u001b[0mcolumns\u001b[0m\u001b[0;34m,\u001b[0m \u001b[0mdtype\u001b[0m\u001b[0;34m=\u001b[0m\u001b[0mdtype\u001b[0m\u001b[0;34m)\u001b[0m\u001b[0;34m\u001b[0m\u001b[0;34m\u001b[0m\u001b[0m\n\u001b[1;32m    496\u001b[0m             \u001b[0;32melse\u001b[0m\u001b[0;34m:\u001b[0m\u001b[0;34m\u001b[0m\u001b[0;34m\u001b[0m\u001b[0m\n\u001b[0;32m--> 497\u001b[0;31m                 \u001b[0mmgr\u001b[0m \u001b[0;34m=\u001b[0m \u001b[0minit_ndarray\u001b[0m\u001b[0;34m(\u001b[0m\u001b[0mdata\u001b[0m\u001b[0;34m,\u001b[0m \u001b[0mindex\u001b[0m\u001b[0;34m,\u001b[0m \u001b[0mcolumns\u001b[0m\u001b[0;34m,\u001b[0m \u001b[0mdtype\u001b[0m\u001b[0;34m=\u001b[0m\u001b[0mdtype\u001b[0m\u001b[0;34m,\u001b[0m \u001b[0mcopy\u001b[0m\u001b[0;34m=\u001b[0m\u001b[0mcopy\u001b[0m\u001b[0;34m)\u001b[0m\u001b[0;34m\u001b[0m\u001b[0;34m\u001b[0m\u001b[0m\n\u001b[0m\u001b[1;32m    498\u001b[0m \u001b[0;34m\u001b[0m\u001b[0m\n\u001b[1;32m    499\u001b[0m         \u001b[0;31m# For data is list-like, or Iterable (will consume into list)\u001b[0m\u001b[0;34m\u001b[0m\u001b[0;34m\u001b[0m\u001b[0;34m\u001b[0m\u001b[0m\n",
            "\u001b[0;32m/usr/local/lib/python3.7/dist-packages/pandas/core/internals/construction.py\u001b[0m in \u001b[0;36minit_ndarray\u001b[0;34m(values, index, columns, dtype, copy)\u001b[0m\n\u001b[1;32m    232\u001b[0m         \u001b[0mblock_values\u001b[0m \u001b[0;34m=\u001b[0m \u001b[0;34m[\u001b[0m\u001b[0mvalues\u001b[0m\u001b[0;34m]\u001b[0m\u001b[0;34m\u001b[0m\u001b[0;34m\u001b[0m\u001b[0m\n\u001b[1;32m    233\u001b[0m \u001b[0;34m\u001b[0m\u001b[0m\n\u001b[0;32m--> 234\u001b[0;31m     \u001b[0;32mreturn\u001b[0m \u001b[0mcreate_block_manager_from_blocks\u001b[0m\u001b[0;34m(\u001b[0m\u001b[0mblock_values\u001b[0m\u001b[0;34m,\u001b[0m \u001b[0;34m[\u001b[0m\u001b[0mcolumns\u001b[0m\u001b[0;34m,\u001b[0m \u001b[0mindex\u001b[0m\u001b[0;34m]\u001b[0m\u001b[0;34m)\u001b[0m\u001b[0;34m\u001b[0m\u001b[0;34m\u001b[0m\u001b[0m\n\u001b[0m\u001b[1;32m    235\u001b[0m \u001b[0;34m\u001b[0m\u001b[0m\n\u001b[1;32m    236\u001b[0m \u001b[0;34m\u001b[0m\u001b[0m\n",
            "\u001b[0;32m/usr/local/lib/python3.7/dist-packages/pandas/core/internals/managers.py\u001b[0m in \u001b[0;36mcreate_block_manager_from_blocks\u001b[0;34m(blocks, axes)\u001b[0m\n\u001b[1;32m   1679\u001b[0m         \u001b[0mblocks\u001b[0m \u001b[0;34m=\u001b[0m \u001b[0;34m[\u001b[0m\u001b[0mgetattr\u001b[0m\u001b[0;34m(\u001b[0m\u001b[0mb\u001b[0m\u001b[0;34m,\u001b[0m \u001b[0;34m\"values\"\u001b[0m\u001b[0;34m,\u001b[0m \u001b[0mb\u001b[0m\u001b[0;34m)\u001b[0m \u001b[0;32mfor\u001b[0m \u001b[0mb\u001b[0m \u001b[0;32min\u001b[0m \u001b[0mblocks\u001b[0m\u001b[0;34m]\u001b[0m\u001b[0;34m\u001b[0m\u001b[0;34m\u001b[0m\u001b[0m\n\u001b[1;32m   1680\u001b[0m         \u001b[0mtot_items\u001b[0m \u001b[0;34m=\u001b[0m \u001b[0msum\u001b[0m\u001b[0;34m(\u001b[0m\u001b[0mb\u001b[0m\u001b[0;34m.\u001b[0m\u001b[0mshape\u001b[0m\u001b[0;34m[\u001b[0m\u001b[0;36m0\u001b[0m\u001b[0;34m]\u001b[0m \u001b[0;32mfor\u001b[0m \u001b[0mb\u001b[0m \u001b[0;32min\u001b[0m \u001b[0mblocks\u001b[0m\u001b[0;34m)\u001b[0m\u001b[0;34m\u001b[0m\u001b[0;34m\u001b[0m\u001b[0m\n\u001b[0;32m-> 1681\u001b[0;31m         \u001b[0;32mraise\u001b[0m \u001b[0mconstruction_error\u001b[0m\u001b[0;34m(\u001b[0m\u001b[0mtot_items\u001b[0m\u001b[0;34m,\u001b[0m \u001b[0mblocks\u001b[0m\u001b[0;34m[\u001b[0m\u001b[0;36m0\u001b[0m\u001b[0;34m]\u001b[0m\u001b[0;34m.\u001b[0m\u001b[0mshape\u001b[0m\u001b[0;34m[\u001b[0m\u001b[0;36m1\u001b[0m\u001b[0;34m:\u001b[0m\u001b[0;34m]\u001b[0m\u001b[0;34m,\u001b[0m \u001b[0maxes\u001b[0m\u001b[0;34m,\u001b[0m \u001b[0me\u001b[0m\u001b[0;34m)\u001b[0m\u001b[0;34m\u001b[0m\u001b[0;34m\u001b[0m\u001b[0m\n\u001b[0m\u001b[1;32m   1682\u001b[0m \u001b[0;34m\u001b[0m\u001b[0m\n\u001b[1;32m   1683\u001b[0m \u001b[0;34m\u001b[0m\u001b[0m\n",
            "\u001b[0;31mValueError\u001b[0m: Shape of passed values is (6, 3), indices imply (6, 6)"
          ]
        }
      ]
    },
    {
      "cell_type": "markdown",
      "metadata": {
        "id": "jAMLGa_xI_3B"
      },
      "source": [
        "### Análise Fatorial Confirmatória"
      ]
    },
    {
      "cell_type": "code",
      "metadata": {
        "id": "e0sMz79oGdHN",
        "colab": {
          "base_uri": "https://localhost:8080/"
        },
        "outputId": "2f02c7c1-fe80-470f-8b2a-6dd079c01ead"
      },
      "source": [
        "model_dict = {\"F1\": [\"V1\", \"V3\"],\n",
        "              \"F2\": [ \"V6\", \"V7\", \"V8\"],\n",
        "              \"F3\": ['V5']}\n",
        "model_spec = ModelSpecificationParser.parse_model_specification_from_dict(df_aux_sc, model_dict)\n",
        "cfa = ConfirmatoryFactorAnalyzer(model_spec, disp=False)\n",
        "cfa.fit(df_aux_sc)\n",
        "cfa.loadings_.round(2)"
      ],
      "execution_count": 73,
      "outputs": [
        {
          "output_type": "execute_result",
          "data": {
            "text/plain": [
              "array([[-0.8 ,  0.  ,  0.  ],\n",
              "       [-0.56,  0.  ,  0.  ],\n",
              "       [ 0.  , -0.03,  0.  ],\n",
              "       [ 0.  ,  0.01,  0.  ],\n",
              "       [ 0.  ,  1.09,  0.  ],\n",
              "       [ 0.  ,  0.  , -0.36]])"
            ]
          },
          "metadata": {
            "tags": []
          },
          "execution_count": 73
        }
      ]
    },
    {
      "cell_type": "code",
      "metadata": {
        "colab": {
          "base_uri": "https://localhost:8080/"
        },
        "id": "M6d7TlvgBLd8",
        "outputId": "362beed4-f606-4095-d28c-537a23a0fefd"
      },
      "source": [
        "# Calculo dos autovalores\n",
        "sum(pd.DataFrame(cfa.loadings_.round(2)).iloc[:,0]**2)+sum(pd.DataFrame(cfa.loadings_.round(2)).iloc[:,1]**2)+sum(pd.DataFrame(cfa.loadings_.round(2)).iloc[:,2]**2)"
      ],
      "execution_count": 100,
      "outputs": [
        {
          "output_type": "execute_result",
          "data": {
            "text/plain": [
              "2.2723000000000004"
            ]
          },
          "metadata": {
            "tags": []
          },
          "execution_count": 100
        }
      ]
    },
    {
      "cell_type": "code",
      "metadata": {
        "id": "BxLHaYqEGdCh"
      },
      "source": [
        "fact_trans = pd.DataFrame(cfa.fit_transform(df_aux_sc))\n",
        "um = (fact_trans.iloc[:,0]-min(fact_trans.iloc[:,0]))/(max(fact_trans.iloc[:,0])-min(fact_trans.iloc[:,0]))\n",
        "dois = (fact_trans.iloc[:,1]-min(fact_trans.iloc[:,1]))/(max(fact_trans.iloc[:,1])-min(fact_trans.iloc[:,1]))\n",
        "tres = (fact_trans.iloc[:,2]-min(fact_trans.iloc[:,2]))/(max(fact_trans.iloc[:,2])-min(fact_trans.iloc[:,2]))"
      ],
      "execution_count": 53,
      "outputs": []
    },
    {
      "cell_type": "code",
      "metadata": {
        "id": "kLc_2UrxGc9X"
      },
      "source": [
        "Indicador_Norm = pd.DataFrame(pd.concat([um,dois,tres],axis=1))"
      ],
      "execution_count": 54,
      "outputs": []
    },
    {
      "cell_type": "code",
      "metadata": {
        "id": "oPxvpRBqGcz8",
        "colab": {
          "base_uri": "https://localhost:8080/"
        },
        "outputId": "a7f3e1b6-85d6-435d-eee8-a58d0e26555a"
      },
      "source": [
        "Indicador_Norm = np.where(Indicador_Norm < 0, 0, Indicador_Norm)\n",
        "Indicador_Norm = np.where(Indicador_Norm > 1, 1, Indicador_Norm)\n",
        "Indicador_Norm \n"
      ],
      "execution_count": 55,
      "outputs": [
        {
          "output_type": "execute_result",
          "data": {
            "text/plain": [
              "array([[0.95741471, 0.06524665, 0.99003479],\n",
              "       [0.95237393, 0.06526987, 0.97654041],\n",
              "       [0.99262831, 0.06528314, 0.99143881],\n",
              "       ...,\n",
              "       [0.99912904, 0.00263485, 0.9472041 ],\n",
              "       [0.99908194, 0.00265206, 0.84472102],\n",
              "       [0.99788895, 0.00265206, 0.72040857]])"
            ]
          },
          "metadata": {
            "tags": []
          },
          "execution_count": 55
        }
      ]
    },
    {
      "cell_type": "code",
      "metadata": {
        "id": "09ZHJj8BGcpS"
      },
      "source": [
        "Indicador_Final = []"
      ],
      "execution_count": null,
      "outputs": []
    },
    {
      "cell_type": "code",
      "metadata": {
        "id": "-0D2aWNMGccy"
      },
      "source": [
        ""
      ],
      "execution_count": null,
      "outputs": []
    },
    {
      "cell_type": "code",
      "metadata": {
        "id": "MP04pQoBvtBf"
      },
      "source": [
        ""
      ],
      "execution_count": null,
      "outputs": []
    },
    {
      "cell_type": "code",
      "metadata": {
        "id": "zrVS6yrpvs6V"
      },
      "source": [
        ""
      ],
      "execution_count": null,
      "outputs": []
    },
    {
      "cell_type": "code",
      "metadata": {
        "id": "pB7K93ufvsyC"
      },
      "source": [
        ""
      ],
      "execution_count": null,
      "outputs": []
    },
    {
      "cell_type": "code",
      "metadata": {
        "id": "hUPDvr_ohLDR"
      },
      "source": [
        " #A list holds the SSE values for each k\n",
        "sse = []\n",
        "for k in range(1, 21):\n",
        "        kmeans = KMeans(n_clusters=k,max_iter=300)\n",
        "        kmeans.fit(df_aux_sc)\n",
        "        sse.append(kmeans.inertia_)\n"
      ],
      "execution_count": null,
      "outputs": []
    },
    {
      "cell_type": "code",
      "metadata": {
        "id": "6a5lIDFXhK4r",
        "colab": {
          "base_uri": "https://localhost:8080/",
          "height": 304
        },
        "outputId": "228edf71-f877-4672-cc35-a68f7d3ee93f"
      },
      "source": [
        "plt.style.use(\"fivethirtyeight\")\n",
        "plt.plot(range(1, 21), sse)\n",
        "plt.xticks(range(1, 21))\n",
        "plt.xlabel(\"Number of Clusters\")\n",
        "plt.ylabel(\"SSE\")\n",
        "plt.show()"
      ],
      "execution_count": null,
      "outputs": [
        {
          "output_type": "display_data",
          "data": {
            "image/png": "[encoded data removed]",
            "text/plain": [
              "<Figure size 432x288 with 1 Axes>"
            ]
          },
          "metadata": {
            "tags": []
          }
        }
      ]
    },
    {
      "cell_type": "markdown",
      "metadata": {
        "id": "-s4FLnV4wiBq"
      },
      "source": [
        "#### Esse resultado abaixo mostra o numero de grupos ótimo igual a 5."
      ]
    },
    {
      "cell_type": "code",
      "metadata": {
        "id": "8M-efM4ahKoE",
        "colab": {
          "base_uri": "https://localhost:8080/"
        },
        "outputId": "ef644cfe-3d7a-44fb-c42f-3616db9fc42e"
      },
      "source": [
        "kl = KneeLocator(\n",
        "        range(1, 21), sse, curve=\"convex\", direction=\"decreasing\"\n",
        "    )\n",
        "kl.elbow"
      ],
      "execution_count": null,
      "outputs": [
        {
          "output_type": "execute_result",
          "data": {
            "text/plain": [
              "2"
            ]
          },
          "metadata": {
            "tags": []
          },
          "execution_count": 190
        }
      ]
    },
    {
      "cell_type": "code",
      "metadata": {
        "id": "2tkvcqA0b7Yy"
      },
      "source": [
        "kmeans = KMeans(\n",
        "   init=\"random\",\n",
        "   n_clusters=2,\n",
        "   n_init=10,\n",
        "   max_iter=400,\n",
        "   random_state=42\n",
        ")"
      ],
      "execution_count": null,
      "outputs": []
    },
    {
      "cell_type": "code",
      "metadata": {
        "id": "RNyKUOP9b7Yz"
      },
      "source": [
        "kresultado = kmeans.fit(df_aux_sc)"
      ],
      "execution_count": null,
      "outputs": []
    },
    {
      "cell_type": "code",
      "metadata": {
        "id": "6feK_-Nc1MYd"
      },
      "source": [
        "df_aux_sc[\"segKmeans\"] = kresultado.labels_"
      ],
      "execution_count": null,
      "outputs": []
    },
    {
      "cell_type": "markdown",
      "metadata": {
        "id": "QPq3uinE2VFZ"
      },
      "source": [
        "#### Visualizando o resultado K-means"
      ]
    },
    {
      "cell_type": "code",
      "metadata": {
        "id": "skWSKc9R17q0"
      },
      "source": [
        "pca = PCA(n_components=2)\n",
        "principalComponents = pca.fit_transform(df_aux_sc)\n",
        "principalDf = pd.DataFrame(data = principalComponents\n",
        "             , columns = ['principal component 1', 'principal component 2'])\n",
        "finalDf = pd.concat([principalDf, df_aux_sc[['segKmeans']]], axis = 1)"
      ],
      "execution_count": null,
      "outputs": []
    },
    {
      "cell_type": "code",
      "metadata": {
        "id": "XrDESMO817Xb",
        "colab": {
          "base_uri": "https://localhost:8080/",
          "height": 555
        },
        "outputId": "6987fc52-68af-4127-ccef-684a6ed77459"
      },
      "source": [
        "fig = plt.figure(figsize = (8,8))\n",
        "ax = fig.add_subplot(1,1,1) \n",
        "ax.set_xlabel('Principal Component 1', fontsize = 15)\n",
        "ax.set_ylabel('Principal Component 2', fontsize = 15)\n",
        "ax.set_title('2 component PCA', fontsize = 20)\n",
        "\n",
        "targets = df_aux_sc.segKmeans.unique()\n",
        "colors = ['r', 'g', 'b', 'black', 'cyan']\n",
        "for target, color in zip(targets,colors):\n",
        "    indicesToKeep = finalDf['segKmeans'] == target\n",
        "    ax.scatter(finalDf.loc[indicesToKeep, 'principal component 1']\n",
        "               , finalDf.loc[indicesToKeep, 'principal component 2']\n",
        "               , c = color\n",
        "               , s = 50)\n",
        "ax.legend(targets)\n",
        "ax.grid()"
      ],
      "execution_count": null,
      "outputs": [
        {
          "output_type": "display_data",
          "data": {
            "image/png": "[encoded data removed]",
            "text/plain": [
              "<Figure size 576x576 with 1 Axes>"
            ]
          },
          "metadata": {
            "tags": []
          }
        }
      ]
    },
    {
      "cell_type": "code",
      "metadata": {
        "id": "OEHZV5qHb7Y6",
        "colab": {
          "base_uri": "https://localhost:8080/",
          "height": 675
        },
        "outputId": "d8724643-16e8-4a7a-fc1b-ef8391d6e933"
      },
      "source": [
        "pd.DataFrame(pca.components_.T * np.sqrt(pca.explained_variance_))#loadings"
      ],
      "execution_count": null,
      "outputs": [
        {
          "output_type": "execute_result",
          "data": {
            "text/html": [
              "<div>\n",
              "<style scoped>\n",
              "    .dataframe tbody tr th:only-of-type {\n",
              "        vertical-align: middle;\n",
              "    }\n",
              "\n",
              "    .dataframe tbody tr th {\n",
              "        vertical-align: top;\n",
              "    }\n",
              "\n",
              "    .dataframe thead th {\n",
              "        text-align: right;\n",
              "    }\n",
              "</style>\n",
              "<table border=\"1\" class=\"dataframe\">\n",
              "  <thead>\n",
              "    <tr style=\"text-align: right;\">\n",
              "      <th></th>\n",
              "      <th>0</th>\n",
              "      <th>1</th>\n",
              "    </tr>\n",
              "  </thead>\n",
              "  <tbody>\n",
              "    <tr>\n",
              "      <th>0</th>\n",
              "      <td>0.000375</td>\n",
              "      <td>0.003666</td>\n",
              "    </tr>\n",
              "    <tr>\n",
              "      <th>1</th>\n",
              "      <td>0.030070</td>\n",
              "      <td>-0.005476</td>\n",
              "    </tr>\n",
              "    <tr>\n",
              "      <th>2</th>\n",
              "      <td>0.030214</td>\n",
              "      <td>-0.005368</td>\n",
              "    </tr>\n",
              "    <tr>\n",
              "      <th>3</th>\n",
              "      <td>0.002437</td>\n",
              "      <td>0.006022</td>\n",
              "    </tr>\n",
              "    <tr>\n",
              "      <th>4</th>\n",
              "      <td>0.002595</td>\n",
              "      <td>0.006323</td>\n",
              "    </tr>\n",
              "    <tr>\n",
              "      <th>5</th>\n",
              "      <td>0.002779</td>\n",
              "      <td>0.006576</td>\n",
              "    </tr>\n",
              "    <tr>\n",
              "      <th>6</th>\n",
              "      <td>0.002457</td>\n",
              "      <td>0.005945</td>\n",
              "    </tr>\n",
              "    <tr>\n",
              "      <th>7</th>\n",
              "      <td>0.002183</td>\n",
              "      <td>0.004901</td>\n",
              "    </tr>\n",
              "    <tr>\n",
              "      <th>8</th>\n",
              "      <td>0.004019</td>\n",
              "      <td>0.010933</td>\n",
              "    </tr>\n",
              "    <tr>\n",
              "      <th>9</th>\n",
              "      <td>0.004214</td>\n",
              "      <td>0.006853</td>\n",
              "    </tr>\n",
              "    <tr>\n",
              "      <th>10</th>\n",
              "      <td>0.002143</td>\n",
              "      <td>0.005702</td>\n",
              "    </tr>\n",
              "    <tr>\n",
              "      <th>11</th>\n",
              "      <td>0.001182</td>\n",
              "      <td>0.005477</td>\n",
              "    </tr>\n",
              "    <tr>\n",
              "      <th>12</th>\n",
              "      <td>-0.000085</td>\n",
              "      <td>-0.000077</td>\n",
              "    </tr>\n",
              "    <tr>\n",
              "      <th>13</th>\n",
              "      <td>0.000434</td>\n",
              "      <td>0.000475</td>\n",
              "    </tr>\n",
              "    <tr>\n",
              "      <th>14</th>\n",
              "      <td>0.005376</td>\n",
              "      <td>0.012335</td>\n",
              "    </tr>\n",
              "    <tr>\n",
              "      <th>15</th>\n",
              "      <td>0.003101</td>\n",
              "      <td>0.007620</td>\n",
              "    </tr>\n",
              "    <tr>\n",
              "      <th>16</th>\n",
              "      <td>0.004193</td>\n",
              "      <td>0.007107</td>\n",
              "    </tr>\n",
              "    <tr>\n",
              "      <th>17</th>\n",
              "      <td>0.004250</td>\n",
              "      <td>0.009114</td>\n",
              "    </tr>\n",
              "    <tr>\n",
              "      <th>18</th>\n",
              "      <td>0.000832</td>\n",
              "      <td>-0.000123</td>\n",
              "    </tr>\n",
              "    <tr>\n",
              "      <th>19</th>\n",
              "      <td>0.000627</td>\n",
              "      <td>0.001166</td>\n",
              "    </tr>\n",
              "  </tbody>\n",
              "</table>\n",
              "</div>"
            ],
            "text/plain": [
              "           0         1\n",
              "0   0.000375  0.003666\n",
              "1   0.030070 -0.005476\n",
              "2   0.030214 -0.005368\n",
              "3   0.002437  0.006022\n",
              "4   0.002595  0.006323\n",
              "5   0.002779  0.006576\n",
              "6   0.002457  0.005945\n",
              "7   0.002183  0.004901\n",
              "8   0.004019  0.010933\n",
              "9   0.004214  0.006853\n",
              "10  0.002143  0.005702\n",
              "11  0.001182  0.005477\n",
              "12 -0.000085 -0.000077\n",
              "13  0.000434  0.000475\n",
              "14  0.005376  0.012335\n",
              "15  0.003101  0.007620\n",
              "16  0.004193  0.007107\n",
              "17  0.004250  0.009114\n",
              "18  0.000832 -0.000123\n",
              "19  0.000627  0.001166"
            ]
          },
          "metadata": {
            "tags": []
          },
          "execution_count": 23
        }
      ]
    },
    {
      "cell_type": "code",
      "metadata": {
        "id": "jG5vfQjv20SW"
      },
      "source": [
        "df_aux_sc[\"SegKmeans\"] = df.segKmeans"
      ],
      "execution_count": null,
      "outputs": []
    },
    {
      "cell_type": "code",
      "metadata": {
        "id": "r6eNrn16b7Y7",
        "colab": {
          "base_uri": "https://localhost:8080/",
          "height": 257
        },
        "outputId": "cea214b2-7725-48e3-e419-80ba8e742680"
      },
      "source": [
        "tabulacao = df_aux_sc.groupby('SegKmeans').mean()\n",
        "tabulacao"
      ],
      "execution_count": null,
      "outputs": [
        {
          "output_type": "execute_result",
          "data": {
            "text/html": [
              "<div>\n",
              "<style scoped>\n",
              "    .dataframe tbody tr th:only-of-type {\n",
              "        vertical-align: middle;\n",
              "    }\n",
              "\n",
              "    .dataframe tbody tr th {\n",
              "        vertical-align: top;\n",
              "    }\n",
              "\n",
              "    .dataframe thead th {\n",
              "        text-align: right;\n",
              "    }\n",
              "</style>\n",
              "<table border=\"1\" class=\"dataframe\">\n",
              "  <thead>\n",
              "    <tr style=\"text-align: right;\">\n",
              "      <th></th>\n",
              "      <th>QtdeVendida</th>\n",
              "      <th>VlVendaLiquido</th>\n",
              "      <th>VlVendaBruto</th>\n",
              "      <th>VlTotalBruto</th>\n",
              "      <th>VlTotalLiquido</th>\n",
              "      <th>VlImpostos</th>\n",
              "      <th>VlReceitaLiquida</th>\n",
              "      <th>VlLogTranspCubico</th>\n",
              "      <th>VlLogArmazenagem</th>\n",
              "      <th>VlLogCustoDistribuicao</th>\n",
              "      <th>CMV</th>\n",
              "      <th>VlFunding</th>\n",
              "      <th>VlDespVenCustoReprFuncionario</th>\n",
              "      <th>VlDespVenCustoVender</th>\n",
              "      <th>VlDespVenCustoComissao</th>\n",
              "      <th>VlMrgContribuicao</th>\n",
              "      <th>VlDescTotal</th>\n",
              "      <th>VlMrgBruta</th>\n",
              "      <th>VlEncargosVendor</th>\n",
              "      <th>VlGapVendor</th>\n",
              "    </tr>\n",
              "    <tr>\n",
              "      <th>SegKmeans</th>\n",
              "      <th></th>\n",
              "      <th></th>\n",
              "      <th></th>\n",
              "      <th></th>\n",
              "      <th></th>\n",
              "      <th></th>\n",
              "      <th></th>\n",
              "      <th></th>\n",
              "      <th></th>\n",
              "      <th></th>\n",
              "      <th></th>\n",
              "      <th></th>\n",
              "      <th></th>\n",
              "      <th></th>\n",
              "      <th></th>\n",
              "      <th></th>\n",
              "      <th></th>\n",
              "      <th></th>\n",
              "      <th></th>\n",
              "      <th></th>\n",
              "    </tr>\n",
              "  </thead>\n",
              "  <tbody>\n",
              "    <tr>\n",
              "      <th>0</th>\n",
              "      <td>0.000094</td>\n",
              "      <td>0.084998</td>\n",
              "      <td>0.085947</td>\n",
              "      <td>0.004196</td>\n",
              "      <td>0.004505</td>\n",
              "      <td>0.005017</td>\n",
              "      <td>0.038638</td>\n",
              "      <td>0.003944</td>\n",
              "      <td>0.008943</td>\n",
              "      <td>0.015623</td>\n",
              "      <td>0.003339</td>\n",
              "      <td>0.000659</td>\n",
              "      <td>0.000372</td>\n",
              "      <td>0.003746</td>\n",
              "      <td>0.011825</td>\n",
              "      <td>0.090332</td>\n",
              "      <td>0.012907</td>\n",
              "      <td>0.076038</td>\n",
              "      <td>0.000896</td>\n",
              "      <td>0.000348</td>\n",
              "    </tr>\n",
              "    <tr>\n",
              "      <th>1</th>\n",
              "      <td>0.000826</td>\n",
              "      <td>0.005512</td>\n",
              "      <td>0.005711</td>\n",
              "      <td>0.000570</td>\n",
              "      <td>0.000597</td>\n",
              "      <td>0.000692</td>\n",
              "      <td>0.034921</td>\n",
              "      <td>0.000788</td>\n",
              "      <td>0.002099</td>\n",
              "      <td>0.005723</td>\n",
              "      <td>0.000448</td>\n",
              "      <td>0.000183</td>\n",
              "      <td>0.000496</td>\n",
              "      <td>0.000493</td>\n",
              "      <td>0.002400</td>\n",
              "      <td>0.085127</td>\n",
              "      <td>0.002662</td>\n",
              "      <td>0.068149</td>\n",
              "      <td>0.000029</td>\n",
              "      <td>0.000032</td>\n",
              "    </tr>\n",
              "    <tr>\n",
              "      <th>2</th>\n",
              "      <td>0.000023</td>\n",
              "      <td>0.325371</td>\n",
              "      <td>0.326086</td>\n",
              "      <td>0.012195</td>\n",
              "      <td>0.013279</td>\n",
              "      <td>0.014555</td>\n",
              "      <td>0.047014</td>\n",
              "      <td>0.012652</td>\n",
              "      <td>0.019749</td>\n",
              "      <td>0.031251</td>\n",
              "      <td>0.010248</td>\n",
              "      <td>0.001796</td>\n",
              "      <td>0.000000</td>\n",
              "      <td>0.000097</td>\n",
              "      <td>0.026095</td>\n",
              "      <td>0.099263</td>\n",
              "      <td>0.023645</td>\n",
              "      <td>0.090145</td>\n",
              "      <td>0.007890</td>\n",
              "      <td>0.003994</td>\n",
              "    </tr>\n",
              "    <tr>\n",
              "      <th>3</th>\n",
              "      <td>0.147326</td>\n",
              "      <td>0.029461</td>\n",
              "      <td>0.030977</td>\n",
              "      <td>0.347681</td>\n",
              "      <td>0.369466</td>\n",
              "      <td>0.392389</td>\n",
              "      <td>0.386385</td>\n",
              "      <td>0.261483</td>\n",
              "      <td>0.590537</td>\n",
              "      <td>0.302528</td>\n",
              "      <td>0.344819</td>\n",
              "      <td>0.356177</td>\n",
              "      <td>0.000000</td>\n",
              "      <td>0.010370</td>\n",
              "      <td>0.610123</td>\n",
              "      <td>0.521336</td>\n",
              "      <td>0.083333</td>\n",
              "      <td>0.583537</td>\n",
              "      <td>0.000070</td>\n",
              "      <td>0.099253</td>\n",
              "    </tr>\n",
              "    <tr>\n",
              "      <th>4</th>\n",
              "      <td>0.055381</td>\n",
              "      <td>0.026072</td>\n",
              "      <td>0.027710</td>\n",
              "      <td>0.043458</td>\n",
              "      <td>0.045252</td>\n",
              "      <td>0.041002</td>\n",
              "      <td>0.073192</td>\n",
              "      <td>0.048027</td>\n",
              "      <td>0.110280</td>\n",
              "      <td>0.089146</td>\n",
              "      <td>0.033811</td>\n",
              "      <td>0.022393</td>\n",
              "      <td>0.000000</td>\n",
              "      <td>0.009470</td>\n",
              "      <td>0.126962</td>\n",
              "      <td>0.138736</td>\n",
              "      <td>0.159947</td>\n",
              "      <td>0.139937</td>\n",
              "      <td>0.001113</td>\n",
              "      <td>0.005269</td>\n",
              "    </tr>\n",
              "  </tbody>\n",
              "</table>\n",
              "</div>"
            ],
            "text/plain": [
              "           QtdeVendida  VlVendaLiquido  ...  VlEncargosVendor  VlGapVendor\n",
              "SegKmeans                               ...                               \n",
              "0             0.000094        0.084998  ...          0.000896     0.000348\n",
              "1             0.000826        0.005512  ...          0.000029     0.000032\n",
              "2             0.000023        0.325371  ...          0.007890     0.003994\n",
              "3             0.147326        0.029461  ...          0.000070     0.099253\n",
              "4             0.055381        0.026072  ...          0.001113     0.005269\n",
              "\n",
              "[5 rows x 20 columns]"
            ]
          },
          "metadata": {
            "tags": []
          },
          "execution_count": 25
        }
      ]
    },
    {
      "cell_type": "code",
      "metadata": {
        "id": "aR2OSHYrb7Y7",
        "colab": {
          "base_uri": "https://localhost:8080/",
          "height": 565
        },
        "outputId": "41b81528-1899-4d8f-c8ae-1b1e130e0fa1"
      },
      "source": [
        "fig, ax=plt.subplots()\n",
        "sns.heatmap(tabulacao, ax=ax, annot = False);\n",
        "ax.set_title(\"Mapa de Calor\");\n",
        "ax.set_ylabel(\"Cluster ID\");\n",
        "ax.set_xlabel(\"Features\")"
      ],
      "execution_count": null,
      "outputs": [
        {
          "output_type": "execute_result",
          "data": {
            "text/plain": [
              "Text(0.5, 6.719999999999981, 'Features')"
            ]
          },
          "metadata": {
            "tags": []
          },
          "execution_count": 26
        },
        {
          "output_type": "display_data",
          "data": {
            "image/png": "[encoded data removed]",
            "text/plain": [
              "<Figure size 576x396 with 2 Axes>"
            ]
          },
          "metadata": {
            "tags": []
          }
        }
      ]
    },
    {
      "cell_type": "code",
      "metadata": {
        "id": "ucHsjXAOb7Y8"
      },
      "source": [
        "df_rfv = df.groupby"
      ],
      "execution_count": null,
      "outputs": []
    },
    {
      "cell_type": "code",
      "metadata": {
        "id": "Z_v1VR9J6TCC"
      },
      "source": [
        ""
      ],
      "execution_count": null,
      "outputs": []
    },
    {
      "cell_type": "code",
      "metadata": {
        "id": "Vm5FHdSm6S60"
      },
      "source": [
        ""
      ],
      "execution_count": null,
      "outputs": []
    },
    {
      "cell_type": "code",
      "metadata": {
        "id": "pUrPSYG06Sy6"
      },
      "source": [
        ""
      ],
      "execution_count": null,
      "outputs": []
    },
    {
      "cell_type": "code",
      "metadata": {
        "id": "IG0UFKz0b7Y9"
      },
      "source": [
        ""
      ],
      "execution_count": null,
      "outputs": []
    }
  ]
}