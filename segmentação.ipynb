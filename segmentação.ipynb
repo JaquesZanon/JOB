{
  "nbformat": 4,
  "nbformat_minor": 0,
  "metadata": {
    "kernelspec": {
      "display_name": "Python 3",
      "language": "python",
      "name": "python3"
    },
    "language_info": {
      "codemirror_mode": {
        "name": "ipython",
        "version": 3
      },
      "file_extension": ".py",
      "mimetype": "text/x-python",
      "name": "python",
      "nbconvert_exporter": "python",
      "pygments_lexer": "ipython3",
      "version": "3.8.3"
    },
    "colab": {
      "name": "segmentação.ipynb",
      "provenance": [],
      "collapsed_sections": [],
      "include_colab_link": true
    }
  },
  "cells": [
    {
      "cell_type": "markdown",
      "metadata": {
        "id": "view-in-github",
        "colab_type": "text"
      },
      "source": [
        "<a href=\"https://colab.research.google.com/github/JaquesZanon/JOB/blob/main/segmenta%C3%A7%C3%A3o.ipynb\" target=\"_parent\"><img src=\"https://colab.research.google.com/assets/colab-badge.svg\" alt=\"Open In Colab\"/></a>"
      ]
    },
    {
      "cell_type": "markdown",
      "metadata": {
        "id": "-giyAU6ab7YA"
      },
      "source": [
        "---\n",
        "### **Martins - Segmentação de Representantes**\n",
        "**Autor:** `Jaques Zanon`\n",
        "\n",
        "**e-mail:** `jaques.zanon@gmail.com`\n",
        "\n",
        "![An image](https://logodownload.org/wp-content/uploads/2015/04/whatsapp-logo-6.png) `(11) 97251 6634`\n",
        "\n",
        "---"
      ]
    },
    {
      "cell_type": "code",
      "metadata": {
        "id": "MRfzXY6tl1jS"
      },
      "source": [
        "\n"
      ],
      "execution_count": 53,
      "outputs": []
    },
    {
      "cell_type": "code",
      "metadata": {
        "id": "n9rcX5eMeBXB",
        "colab": {
          "base_uri": "https://localhost:8080/"
        },
        "collapsed": true,
        "outputId": "b7863b80-1125-49e1-839f-aad20129d00f"
      },
      "source": [
        "!pip install kneed\n",
        "!pip install feature_engine\n",
        "!pip install factor_analyzer\n",
        "!pip install sklearn-som"
      ],
      "execution_count": 1,
      "outputs": [
        {
          "output_type": "stream",
          "text": [
            "Collecting kneed\n",
            "  Using cached kneed-0.7.0-py2.py3-none-any.whl (9.4 kB)\n",
            "Requirement already satisfied: scipy in /usr/local/lib/python3.7/dist-packages (from kneed) (1.4.1)\n",
            "Requirement already satisfied: numpy>=1.14.2 in /usr/local/lib/python3.7/dist-packages (from kneed) (1.19.5)\n",
            "Requirement already satisfied: matplotlib in /usr/local/lib/python3.7/dist-packages (from kneed) (3.2.2)\n",
            "Requirement already satisfied: python-dateutil>=2.1 in /usr/local/lib/python3.7/dist-packages (from matplotlib->kneed) (2.8.1)\n",
            "Requirement already satisfied: kiwisolver>=1.0.1 in /usr/local/lib/python3.7/dist-packages (from matplotlib->kneed) (1.3.1)\n",
            "Requirement already satisfied: cycler>=0.10 in /usr/local/lib/python3.7/dist-packages (from matplotlib->kneed) (0.10.0)\n",
            "Requirement already satisfied: pyparsing!=2.0.4,!=2.1.2,!=2.1.6,>=2.0.1 in /usr/local/lib/python3.7/dist-packages (from matplotlib->kneed) (2.4.7)\n",
            "Requirement already satisfied: six in /usr/local/lib/python3.7/dist-packages (from cycler>=0.10->matplotlib->kneed) (1.15.0)\n",
            "Installing collected packages: kneed\n",
            "Successfully installed kneed-0.7.0\n",
            "Collecting feature_engine\n",
            "  Using cached feature_engine-1.1.0-py2.py3-none-any.whl (176 kB)\n",
            "Requirement already satisfied: scikit-learn>=0.22.2 in /usr/local/lib/python3.7/dist-packages (from feature_engine) (0.22.2.post1)\n",
            "Requirement already satisfied: pandas>=1.0.3 in /usr/local/lib/python3.7/dist-packages (from feature_engine) (1.1.5)\n",
            "Requirement already satisfied: scipy>=1.4.1 in /usr/local/lib/python3.7/dist-packages (from feature_engine) (1.4.1)\n",
            "Requirement already satisfied: numpy>=1.18.2 in /usr/local/lib/python3.7/dist-packages (from feature_engine) (1.19.5)\n",
            "Collecting statsmodels>=0.11.1\n",
            "  Using cached statsmodels-0.12.2-cp37-cp37m-manylinux1_x86_64.whl (9.5 MB)\n",
            "Requirement already satisfied: pytz>=2017.2 in /usr/local/lib/python3.7/dist-packages (from pandas>=1.0.3->feature_engine) (2018.9)\n",
            "Requirement already satisfied: python-dateutil>=2.7.3 in /usr/local/lib/python3.7/dist-packages (from pandas>=1.0.3->feature_engine) (2.8.1)\n",
            "Requirement already satisfied: six>=1.5 in /usr/local/lib/python3.7/dist-packages (from python-dateutil>=2.7.3->pandas>=1.0.3->feature_engine) (1.15.0)\n",
            "Requirement already satisfied: joblib>=0.11 in /usr/local/lib/python3.7/dist-packages (from scikit-learn>=0.22.2->feature_engine) (1.0.1)\n",
            "Requirement already satisfied: patsy>=0.5 in /usr/local/lib/python3.7/dist-packages (from statsmodels>=0.11.1->feature_engine) (0.5.1)\n",
            "Installing collected packages: statsmodels, feature-engine\n",
            "  Attempting uninstall: statsmodels\n",
            "    Found existing installation: statsmodels 0.10.2\n",
            "    Uninstalling statsmodels-0.10.2:\n",
            "      Successfully uninstalled statsmodels-0.10.2\n",
            "Successfully installed feature-engine-1.1.0 statsmodels-0.12.2\n",
            "Requirement already satisfied: factor_analyzer in /usr/local/lib/python3.7/dist-packages (0.3.2)\n",
            "Requirement already satisfied: pandas in /usr/local/lib/python3.7/dist-packages (from factor_analyzer) (1.1.5)\n",
            "Requirement already satisfied: scipy in /usr/local/lib/python3.7/dist-packages (from factor_analyzer) (1.4.1)\n",
            "Requirement already satisfied: scikit-learn in /usr/local/lib/python3.7/dist-packages (from factor_analyzer) (0.22.2.post1)\n",
            "Requirement already satisfied: numpy in /usr/local/lib/python3.7/dist-packages (from factor_analyzer) (1.19.5)\n",
            "Requirement already satisfied: python-dateutil>=2.7.3 in /usr/local/lib/python3.7/dist-packages (from pandas->factor_analyzer) (2.8.1)\n",
            "Requirement already satisfied: pytz>=2017.2 in /usr/local/lib/python3.7/dist-packages (from pandas->factor_analyzer) (2018.9)\n",
            "Requirement already satisfied: six>=1.5 in /usr/local/lib/python3.7/dist-packages (from python-dateutil>=2.7.3->pandas->factor_analyzer) (1.15.0)\n",
            "Requirement already satisfied: joblib>=0.11 in /usr/local/lib/python3.7/dist-packages (from scikit-learn->factor_analyzer) (1.0.1)\n",
            "Requirement already satisfied: sklearn-som in /usr/local/lib/python3.7/dist-packages (1.1.0)\n",
            "Requirement already satisfied: numpy in /usr/local/lib/python3.7/dist-packages (from sklearn-som) (1.19.5)\n"
          ],
          "name": "stdout"
        }
      ]
    },
    {
      "cell_type": "code",
      "metadata": {
        "id": "TBeE9tjib7YP"
      },
      "source": [
        "import os\n",
        "import numpy as np\n",
        "import pandas as pd\n",
        "from sklearn.cluster import KMeans\n",
        "from kneed import KneeLocator\n",
        "#from sklearn.metrics import silhouette_score\n",
        "from sklearn.preprocessing import StandardScaler\n",
        "#from yellowbrick.cluster import KElbowVisualizer\n",
        "from feature_engine.wrappers import SklearnTransformerWrapper\n",
        "from sklearn.preprocessing import MinMaxScaler\n",
        "import seaborn as sns\n",
        "import matplotlib.pyplot as plt\n",
        "#from sklearn.cluster import DBSCAN\n",
        "#from sklearn.cluster import AgglomerativeClustering\n",
        "from sklearn.decomposition import PCA\n",
        "#from scipy.cluster import hierarchy\n",
        "from sklearn.decomposition import FactorAnalysis\n",
        "from factor_analyzer import FactorAnalyzer\n",
        "from factor_analyzer.factor_analyzer import calculate_bartlett_sphericity\n",
        "from factor_analyzer.factor_analyzer import calculate_kmo\n",
        "from factor_analyzer import (ConfirmatoryFactorAnalyzer,\n",
        "                              ModelSpecificationParser)\n",
        "from sklearn_som.som import SOM\n",
        "from io import StringIO"
      ],
      "execution_count": 2,
      "outputs": []
    },
    {
      "cell_type": "code",
      "metadata": {
        "id": "fZT6Y-0qclmV",
        "colab": {
          "base_uri": "https://localhost:8080/"
        },
        "outputId": "35df56f5-137f-482b-ab51-e313431d9299"
      },
      "source": [
        "from google.colab import drive\n",
        "drive.mount('/content/drive')"
      ],
      "execution_count": 3,
      "outputs": [
        {
          "output_type": "stream",
          "text": [
            "Mounted at /content/drive\n"
          ],
          "name": "stdout"
        }
      ]
    },
    {
      "cell_type": "code",
      "metadata": {
        "id": "UednnTqL8SFC"
      },
      "source": [
        "#df = pd.read_csv(StringIO(mystr), header=None, sep='|')\n",
        "df = pd.read_csv('/content/drive/MyDrive/JOB-Martins/segmento.txt', sep='|')\n",
        "df = df.dropna()"
      ],
      "execution_count": 4,
      "outputs": []
    },
    {
      "cell_type": "code",
      "metadata": {
        "colab": {
          "base_uri": "https://localhost:8080/",
          "height": 277
        },
        "id": "Tcj0mPt382PM",
        "outputId": "edc4a4a2-4de1-4839-9deb-ddd143c5043e"
      },
      "source": [
        "df.head()"
      ],
      "execution_count": 5,
      "outputs": [
        {
          "output_type": "execute_result",
          "data": {
            "text/html": [
              "<div>\n",
              "<style scoped>\n",
              "    .dataframe tbody tr th:only-of-type {\n",
              "        vertical-align: middle;\n",
              "    }\n",
              "\n",
              "    .dataframe tbody tr th {\n",
              "        vertical-align: top;\n",
              "    }\n",
              "\n",
              "    .dataframe thead th {\n",
              "        text-align: right;\n",
              "    }\n",
              "</style>\n",
              "<table border=\"1\" class=\"dataframe\">\n",
              "  <thead>\n",
              "    <tr style=\"text-align: right;\">\n",
              "      <th></th>\n",
              "      <th>DtMovimento</th>\n",
              "      <th>NrPedido</th>\n",
              "      <th>IdClienteVenda</th>\n",
              "      <th>IdProduto</th>\n",
              "      <th>QtdeVendida</th>\n",
              "      <th>VlVendaLiquido</th>\n",
              "      <th>VlVendaBruto</th>\n",
              "      <th>VlTotalBruto</th>\n",
              "      <th>VlTotalLiquido</th>\n",
              "      <th>VlImpostos</th>\n",
              "      <th>CdCategoria</th>\n",
              "      <th>DsCategoria</th>\n",
              "      <th>CdSubCategoria</th>\n",
              "      <th>DsSubCategoria</th>\n",
              "      <th>IdRepComercial</th>\n",
              "      <th>DtCadastro</th>\n",
              "      <th>DsTipoPessoaRepresentante</th>\n",
              "      <th>DsTipoRepresentante</th>\n",
              "      <th>DsTerritorioVendas</th>\n",
              "      <th>DtCadastroRCA</th>\n",
              "      <th>DtSubstituicaoRepresentante</th>\n",
              "      <th>Vocaçao_dos_Municipios</th>\n",
              "    </tr>\n",
              "  </thead>\n",
              "  <tbody>\n",
              "    <tr>\n",
              "      <th>0</th>\n",
              "      <td>2021-05-24</td>\n",
              "      <td>2974700.0</td>\n",
              "      <td>4391039.0</td>\n",
              "      <td>193931.0</td>\n",
              "      <td>1.0</td>\n",
              "      <td>74.10</td>\n",
              "      <td>78.41</td>\n",
              "      <td>78.41</td>\n",
              "      <td>74.10</td>\n",
              "      <td>13.96</td>\n",
              "      <td>71.0</td>\n",
              "      <td>SABAO/DETERGENTE PARA ROUPA</td>\n",
              "      <td>1.0</td>\n",
              "      <td>DETERGENTE EM PO</td>\n",
              "      <td>1171850.0</td>\n",
              "      <td>2016-12-08</td>\n",
              "      <td>PESSOA FÍSICA</td>\n",
              "      <td>VAREJO ALIMENTAR</td>\n",
              "      <td>BA_ITAPETINGA3_VAR_ATC</td>\n",
              "      <td>2016-12-08</td>\n",
              "      <td>2017-05-11</td>\n",
              "      <td>Núcleos Regionais</td>\n",
              "    </tr>\n",
              "    <tr>\n",
              "      <th>1</th>\n",
              "      <td>2021-05-24</td>\n",
              "      <td>2974700.0</td>\n",
              "      <td>4391039.0</td>\n",
              "      <td>216241.0</td>\n",
              "      <td>1.0</td>\n",
              "      <td>116.29</td>\n",
              "      <td>128.50</td>\n",
              "      <td>128.50</td>\n",
              "      <td>116.29</td>\n",
              "      <td>21.92</td>\n",
              "      <td>71.0</td>\n",
              "      <td>SABAO/DETERGENTE PARA ROUPA</td>\n",
              "      <td>1.0</td>\n",
              "      <td>DETERGENTE EM PO</td>\n",
              "      <td>1171850.0</td>\n",
              "      <td>2016-12-08</td>\n",
              "      <td>PESSOA FÍSICA</td>\n",
              "      <td>VAREJO ALIMENTAR</td>\n",
              "      <td>BA_ITAPETINGA3_VAR_ATC</td>\n",
              "      <td>2016-12-08</td>\n",
              "      <td>2017-05-11</td>\n",
              "      <td>Núcleos Regionais</td>\n",
              "    </tr>\n",
              "    <tr>\n",
              "      <th>2</th>\n",
              "      <td>2021-05-24</td>\n",
              "      <td>2993905.0</td>\n",
              "      <td>4542353.0</td>\n",
              "      <td>194950.0</td>\n",
              "      <td>3.0</td>\n",
              "      <td>25.99</td>\n",
              "      <td>26.93</td>\n",
              "      <td>80.79</td>\n",
              "      <td>77.97</td>\n",
              "      <td>19.92</td>\n",
              "      <td>14.0</td>\n",
              "      <td>SANDALIA</td>\n",
              "      <td>22.0</td>\n",
              "      <td>CASUAL</td>\n",
              "      <td>1241883.0</td>\n",
              "      <td>2020-02-18</td>\n",
              "      <td>PESSOA FÍSICA</td>\n",
              "      <td>VAREJO ALIMENTAR</td>\n",
              "      <td>BA_SALVADOR60_FAR_CAT</td>\n",
              "      <td>2020-02-18</td>\n",
              "      <td>2020-02-18</td>\n",
              "      <td>Metrópoles Desenvolvidas</td>\n",
              "    </tr>\n",
              "    <tr>\n",
              "      <th>3</th>\n",
              "      <td>2021-05-25</td>\n",
              "      <td>3002010.0</td>\n",
              "      <td>428799.0</td>\n",
              "      <td>215740.0</td>\n",
              "      <td>3.0</td>\n",
              "      <td>25.03</td>\n",
              "      <td>27.36</td>\n",
              "      <td>82.08</td>\n",
              "      <td>75.09</td>\n",
              "      <td>19.20</td>\n",
              "      <td>14.0</td>\n",
              "      <td>SANDALIA</td>\n",
              "      <td>22.0</td>\n",
              "      <td>CASUAL</td>\n",
              "      <td>1075456.0</td>\n",
              "      <td>2007-06-20</td>\n",
              "      <td>PESSOA FÍSICA</td>\n",
              "      <td>VAREJO ALIMENTAR</td>\n",
              "      <td>BA_SALVADOR19_VAR_ATC</td>\n",
              "      <td>2007-06-20</td>\n",
              "      <td>2010-07-16</td>\n",
              "      <td>Metrópoles Desenvolvidas</td>\n",
              "    </tr>\n",
              "    <tr>\n",
              "      <th>4</th>\n",
              "      <td>2021-05-26</td>\n",
              "      <td>3040084.0</td>\n",
              "      <td>6125928.0</td>\n",
              "      <td>209706.0</td>\n",
              "      <td>2.0</td>\n",
              "      <td>100.10</td>\n",
              "      <td>107.63</td>\n",
              "      <td>215.26</td>\n",
              "      <td>200.20</td>\n",
              "      <td>51.21</td>\n",
              "      <td>15.0</td>\n",
              "      <td>UTILIDADES DOMESTICAS</td>\n",
              "      <td>2.0</td>\n",
              "      <td>ESCADA DOMESTICA</td>\n",
              "      <td>1234508.0</td>\n",
              "      <td>2019-11-22</td>\n",
              "      <td>PESSOA FÍSICA</td>\n",
              "      <td>MARTCON</td>\n",
              "      <td>CE_FORTALEZA31_MAT_CAT</td>\n",
              "      <td>2019-11-22</td>\n",
              "      <td>2019-11-22</td>\n",
              "      <td>Metrópoles Desenvolvidas</td>\n",
              "    </tr>\n",
              "  </tbody>\n",
              "</table>\n",
              "</div>"
            ],
            "text/plain": [
              "  DtMovimento   NrPedido  ...  DtSubstituicaoRepresentante    Vocaçao_dos_Municipios\n",
              "0  2021-05-24  2974700.0  ...                   2017-05-11         Núcleos Regionais\n",
              "1  2021-05-24  2974700.0  ...                   2017-05-11         Núcleos Regionais\n",
              "2  2021-05-24  2993905.0  ...                   2020-02-18  Metrópoles Desenvolvidas\n",
              "3  2021-05-25  3002010.0  ...                   2010-07-16  Metrópoles Desenvolvidas\n",
              "4  2021-05-26  3040084.0  ...                   2019-11-22  Metrópoles Desenvolvidas\n",
              "\n",
              "[5 rows x 22 columns]"
            ]
          },
          "metadata": {
            "tags": []
          },
          "execution_count": 5
        }
      ]
    },
    {
      "cell_type": "code",
      "metadata": {
        "scrolled": true,
        "id": "fWvdWUf6b7YT"
      },
      "source": [
        "#df = pd.read_csv(\"/content/drive/MyDrive/JOB-Martins/segmentacao.csv\",parse_dates=True)\n",
        "#df = df[df['DtCadastroRCA'].notna()]\n",
        "#df.head()"
      ],
      "execution_count": 6,
      "outputs": []
    },
    {
      "cell_type": "code",
      "metadata": {
        "id": "eRdNEBDrK3o4"
      },
      "source": [
        "df[\"DsTerritorioVendas\"] = df[\"DsTerritorioVendas\"].str.split(\"_\", n = 1, expand = True).iloc[:,0].copy()"
      ],
      "execution_count": 7,
      "outputs": []
    },
    {
      "cell_type": "code",
      "metadata": {
        "colab": {
          "base_uri": "https://localhost:8080/"
        },
        "id": "FHFJDG0RgV1j",
        "outputId": "568a9689-8ada-4f69-f318-83400a116e53"
      },
      "source": [
        "df[\"DsTerritorioVendas\"]"
      ],
      "execution_count": 8,
      "outputs": [
        {
          "output_type": "execute_result",
          "data": {
            "text/plain": [
              "0          BA\n",
              "1          BA\n",
              "2          BA\n",
              "3          BA\n",
              "4          CE\n",
              "           ..\n",
              "6615545    MG\n",
              "6615546    TO\n",
              "6615547    MG\n",
              "6615548    PR\n",
              "6615549    MG\n",
              "Name: DsTerritorioVendas, Length: 6615550, dtype: object"
            ]
          },
          "metadata": {
            "tags": []
          },
          "execution_count": 8
        }
      ]
    },
    {
      "cell_type": "markdown",
      "metadata": {
        "id": "nW6atktpb7YW"
      },
      "source": [
        "### Para gerar a codificação de estados.\n",
        "\n"
      ]
    },
    {
      "cell_type": "code",
      "metadata": {
        "id": "ZcriSQ_rK6H3"
      },
      "source": [
        "mapping = {'DF': 1, \n",
        "           'GO': 1,\n",
        "           'MS': 1,\n",
        "           'MT': 1, \n",
        "           'AC': 2,\n",
        "           'AM': 2,\n",
        "           'AP': 2, \n",
        "           'PA': 2,\n",
        "           'RO': 2,\n",
        "           'RR': 2, \n",
        "           'TO': 2,\n",
        "           'MA': 3,\n",
        "           'PI': 3, \n",
        "           'CE': 3,\n",
        "           'RN': 3,\n",
        "           'PB': 3, \n",
        "           'PE': 3,\n",
        "           'AL': 3,\n",
        "           'SE': 4, \n",
        "           'BA': 4,\n",
        "           'PR': 5,\n",
        "           'SC': 5, \n",
        "           'RS': 5,\n",
        "           'ES': 6,\n",
        "           'RJ': 6,\n",
        "           'MG': 7,\n",
        "           'SP': 8}"
      ],
      "execution_count": 9,
      "outputs": []
    },
    {
      "cell_type": "code",
      "metadata": {
        "id": "fMxJRj4TN4xi"
      },
      "source": [
        "df = df.replace({'DsTerritorioVendas': mapping})\n",
        "df = df[df['DsTerritorioVendas'].astype(str).str.isdigit()]"
      ],
      "execution_count": 10,
      "outputs": []
    },
    {
      "cell_type": "markdown",
      "metadata": {
        "id": "NxbeLInDKOYP"
      },
      "source": [
        "### Para gerar a codificação da vocação de municípios."
      ]
    },
    {
      "cell_type": "code",
      "metadata": {
        "id": "h4QCGE_RImM6"
      },
      "source": [
        "mapping = {'São Paulo': 1, \n",
        "           'Rio de Janeiro': 1,\n",
        "           'Metrópoles Desenvolvidas': 1,\n",
        "           'Centros Urbanos Consolidados': 2, \n",
        "           'Centros Urbanos Secundários': 2,\n",
        "           'Pólos Industriais': 2,\n",
        "           'Núcleos Regionais': 2,\n",
        "           'Pólos Turísticos': 2,\n",
        "           'Pólos de Agroindústria': 3,\n",
        "           'Rural Desenvolvido': 3,\n",
        "           'Movimento Iminente' : 3,\n",
        "           'Núcleos Agropecuários': 4,\n",
        "           'Em Busca de Oportunidades': 4,\n",
        "           'Carentes de Recursos': 4}\n",
        "df = df.replace({'Vocaçao_dos_Municipios': mapping})"
      ],
      "execution_count": 11,
      "outputs": []
    },
    {
      "cell_type": "markdown",
      "metadata": {
        "id": "LXa5a5zHQIvg"
      },
      "source": [
        "# Calculando variaveis auxiliares"
      ]
    },
    {
      "cell_type": "code",
      "metadata": {
        "id": "2lPx0DuI9D7t"
      },
      "source": [
        "# Tempo_Expo\n",
        "df.DtCadastroRCA = pd.to_datetime(df.DtCadastroRCA).copy()\n",
        "df.DtMovimento = pd.to_datetime(df.DtMovimento).copy()\n"
      ],
      "execution_count": 12,
      "outputs": []
    },
    {
      "cell_type": "code",
      "metadata": {
        "colab": {
          "base_uri": "https://localhost:8080/"
        },
        "id": "ve3JZPHZrynV",
        "outputId": "5e11ee1c-2a91-4404-ab0d-c1e3e6bf1803"
      },
      "source": [
        "(df['DtMovimento'] - df['DtCadastroRCA']).dt.days/30.5"
      ],
      "execution_count": 13,
      "outputs": [
        {
          "output_type": "execute_result",
          "data": {
            "text/plain": [
              "0           53.377049\n",
              "1           53.377049\n",
              "2           15.114754\n",
              "3          166.819672\n",
              "4           18.065574\n",
              "              ...    \n",
              "6615545    134.918033\n",
              "6615546    157.737705\n",
              "6615547      8.786885\n",
              "6615548    186.786885\n",
              "6615549     16.393443\n",
              "Length: 6493405, dtype: float64"
            ]
          },
          "metadata": {
            "tags": []
          },
          "execution_count": 13
        }
      ]
    },
    {
      "cell_type": "markdown",
      "metadata": {
        "id": "H0bmB9UQ6awY"
      },
      "source": [
        "### Calculando tempo de explosição"
      ]
    },
    {
      "cell_type": "code",
      "metadata": {
        "id": "8q80sFIc-h_S",
        "colab": {
          "base_uri": "https://localhost:8080/"
        },
        "outputId": "c0793801-aa29-4204-a0ed-fa57532c9d2f"
      },
      "source": [
        "df['Tempo_Expo'] = (df['DtMovimento'] - df['DtCadastroRCA']).dt.days/30.5\n",
        "#df.assign(Tempo_expo = pd.to_numeric(df.DtMovimento  - df.DtCadastroRCA)).copy()\n",
        "df.Tempo_Expo[df.Tempo_Expo>12]=12\n",
        "df.Tempo_Expo"
      ],
      "execution_count": 14,
      "outputs": [
        {
          "output_type": "stream",
          "text": [
            "/usr/local/lib/python3.7/dist-packages/ipykernel_launcher.py:3: SettingWithCopyWarning: \n",
            "A value is trying to be set on a copy of a slice from a DataFrame\n",
            "\n",
            "See the caveats in the documentation: https://pandas.pydata.org/pandas-docs/stable/user_guide/indexing.html#returning-a-view-versus-a-copy\n",
            "  This is separate from the ipykernel package so we can avoid doing imports until\n"
          ],
          "name": "stderr"
        },
        {
          "output_type": "execute_result",
          "data": {
            "text/plain": [
              "0          12.000000\n",
              "1          12.000000\n",
              "2          12.000000\n",
              "3          12.000000\n",
              "4          12.000000\n",
              "             ...    \n",
              "6615545    12.000000\n",
              "6615546    12.000000\n",
              "6615547     8.786885\n",
              "6615548    12.000000\n",
              "6615549    12.000000\n",
              "Name: Tempo_Expo, Length: 6493405, dtype: float64"
            ]
          },
          "metadata": {
            "tags": []
          },
          "execution_count": 14
        }
      ]
    },
    {
      "cell_type": "code",
      "metadata": {
        "id": "jpewjj_Ub7YX"
      },
      "source": [
        "#Total_VLRecLiq_Reg \n",
        "Total_VLRecLiq_Reg = df.groupby(['DsTerritorioVendas'])[['VlVendaLiquido']].agg('sum')"
      ],
      "execution_count": 15,
      "outputs": []
    },
    {
      "cell_type": "code",
      "metadata": {
        "id": "TBWp9D3vWhp8"
      },
      "source": [
        "mapping = {'VAREJO ALIMENTAR                        ': 4, \n",
        "           'MARTCON                                 ': 3,\n",
        "           'FARMA NACIONAL                          ': 2,\n",
        "           'INFORMATICA                             ': 1, \n",
        "           'ELETRO                                  ': 1,\n",
        "           'VETERINARIO                             ': 3\n",
        "           }"
      ],
      "execution_count": 16,
      "outputs": []
    },
    {
      "cell_type": "code",
      "metadata": {
        "id": "ekPj7ZHYcszy"
      },
      "source": [
        "df = df.replace({'DsTipoRepresentante': mapping})"
      ],
      "execution_count": 17,
      "outputs": []
    },
    {
      "cell_type": "code",
      "metadata": {
        "id": "-4Y3ZSL4KsoW"
      },
      "source": [
        "#Total_VLRecLiq_TipoRepr \n",
        "Total_VLRecLiq_TipoRepr = df.groupby(['DsTipoRepresentante'])[['VlVendaLiquido']].agg('sum')"
      ],
      "execution_count": 18,
      "outputs": []
    },
    {
      "cell_type": "code",
      "metadata": {
        "id": "RlvQIBeZdVTr",
        "colab": {
          "base_uri": "https://localhost:8080/",
          "height": 205
        },
        "outputId": "5f6ba5dd-0ebb-4382-d43b-e3f85c709be2"
      },
      "source": [
        "#Média_QteClientes_TipoRepr\n",
        "Media_QteClientes_TipoRepr = df.groupby(['DsTipoRepresentante'])[['IdClienteVenda']].nunique()\n",
        "#df.groupby(['DsTipoNegocioRepresentanteComercial'])[['IdClienteEntrega']].count()\n",
        "#df.groupby(['DsTipoNegocioRepresentanteComercial'])[['IdRepComercial']].count()\n",
        "Media_QteClientes_TipoRepr\n",
        "\n"
      ],
      "execution_count": 19,
      "outputs": [
        {
          "output_type": "execute_result",
          "data": {
            "text/html": [
              "<div>\n",
              "<style scoped>\n",
              "    .dataframe tbody tr th:only-of-type {\n",
              "        vertical-align: middle;\n",
              "    }\n",
              "\n",
              "    .dataframe tbody tr th {\n",
              "        vertical-align: top;\n",
              "    }\n",
              "\n",
              "    .dataframe thead th {\n",
              "        text-align: right;\n",
              "    }\n",
              "</style>\n",
              "<table border=\"1\" class=\"dataframe\">\n",
              "  <thead>\n",
              "    <tr style=\"text-align: right;\">\n",
              "      <th></th>\n",
              "      <th>IdClienteVenda</th>\n",
              "    </tr>\n",
              "    <tr>\n",
              "      <th>DsTipoRepresentante</th>\n",
              "      <th></th>\n",
              "    </tr>\n",
              "  </thead>\n",
              "  <tbody>\n",
              "    <tr>\n",
              "      <th>1</th>\n",
              "      <td>3494</td>\n",
              "    </tr>\n",
              "    <tr>\n",
              "      <th>2</th>\n",
              "      <td>1984</td>\n",
              "    </tr>\n",
              "    <tr>\n",
              "      <th>3</th>\n",
              "      <td>10432</td>\n",
              "    </tr>\n",
              "    <tr>\n",
              "      <th>4</th>\n",
              "      <td>74767</td>\n",
              "    </tr>\n",
              "  </tbody>\n",
              "</table>\n",
              "</div>"
            ],
            "text/plain": [
              "                     IdClienteVenda\n",
              "DsTipoRepresentante                \n",
              "1                              3494\n",
              "2                              1984\n",
              "3                             10432\n",
              "4                             74767"
            ]
          },
          "metadata": {
            "tags": []
          },
          "execution_count": 19
        }
      ]
    },
    {
      "cell_type": "code",
      "metadata": {
        "id": "9YJ2plZDKse9",
        "colab": {
          "base_uri": "https://localhost:8080/",
          "height": 205
        },
        "outputId": "ce56e389-2e23-410b-a9e2-422d1fd258bf"
      },
      "source": [
        "#Média_QteProduto_TipoRepr\n",
        "Media_QteProduto_TipoRepr = df.groupby(['DsTipoRepresentante','NrPedido'])[['QtdeVendida']].mean().groupby(['DsTipoRepresentante'])[['QtdeVendida']].mean()\n",
        "Media_QteProduto_TipoRepr"
      ],
      "execution_count": 20,
      "outputs": [
        {
          "output_type": "execute_result",
          "data": {
            "text/html": [
              "<div>\n",
              "<style scoped>\n",
              "    .dataframe tbody tr th:only-of-type {\n",
              "        vertical-align: middle;\n",
              "    }\n",
              "\n",
              "    .dataframe tbody tr th {\n",
              "        vertical-align: top;\n",
              "    }\n",
              "\n",
              "    .dataframe thead th {\n",
              "        text-align: right;\n",
              "    }\n",
              "</style>\n",
              "<table border=\"1\" class=\"dataframe\">\n",
              "  <thead>\n",
              "    <tr style=\"text-align: right;\">\n",
              "      <th></th>\n",
              "      <th>QtdeVendida</th>\n",
              "    </tr>\n",
              "    <tr>\n",
              "      <th>DsTipoRepresentante</th>\n",
              "      <th></th>\n",
              "    </tr>\n",
              "  </thead>\n",
              "  <tbody>\n",
              "    <tr>\n",
              "      <th>1</th>\n",
              "      <td>8.663001</td>\n",
              "    </tr>\n",
              "    <tr>\n",
              "      <th>2</th>\n",
              "      <td>21.004208</td>\n",
              "    </tr>\n",
              "    <tr>\n",
              "      <th>3</th>\n",
              "      <td>6.911532</td>\n",
              "    </tr>\n",
              "    <tr>\n",
              "      <th>4</th>\n",
              "      <td>16.376437</td>\n",
              "    </tr>\n",
              "  </tbody>\n",
              "</table>\n",
              "</div>"
            ],
            "text/plain": [
              "                     QtdeVendida\n",
              "DsTipoRepresentante             \n",
              "1                       8.663001\n",
              "2                      21.004208\n",
              "3                       6.911532\n",
              "4                      16.376437"
            ]
          },
          "metadata": {
            "tags": []
          },
          "execution_count": 20
        }
      ]
    },
    {
      "cell_type": "code",
      "metadata": {
        "id": "njbRX7nJKsUz",
        "colab": {
          "base_uri": "https://localhost:8080/",
          "height": 205
        },
        "outputId": "cdab382a-5a11-472e-d82a-0cf718f4a905"
      },
      "source": [
        "#Média_QteCategoria_TipoRepr\n",
        "Media_QteCategoria_TipoRepr = df.groupby(['DsTipoRepresentante'])[['CdCategoria']].nunique()\n",
        "Media_QteCategoria_TipoRepr"
      ],
      "execution_count": 21,
      "outputs": [
        {
          "output_type": "execute_result",
          "data": {
            "text/html": [
              "<div>\n",
              "<style scoped>\n",
              "    .dataframe tbody tr th:only-of-type {\n",
              "        vertical-align: middle;\n",
              "    }\n",
              "\n",
              "    .dataframe tbody tr th {\n",
              "        vertical-align: top;\n",
              "    }\n",
              "\n",
              "    .dataframe thead th {\n",
              "        text-align: right;\n",
              "    }\n",
              "</style>\n",
              "<table border=\"1\" class=\"dataframe\">\n",
              "  <thead>\n",
              "    <tr style=\"text-align: right;\">\n",
              "      <th></th>\n",
              "      <th>CdCategoria</th>\n",
              "    </tr>\n",
              "    <tr>\n",
              "      <th>DsTipoRepresentante</th>\n",
              "      <th></th>\n",
              "    </tr>\n",
              "  </thead>\n",
              "  <tbody>\n",
              "    <tr>\n",
              "      <th>1</th>\n",
              "      <td>78</td>\n",
              "    </tr>\n",
              "    <tr>\n",
              "      <th>2</th>\n",
              "      <td>75</td>\n",
              "    </tr>\n",
              "    <tr>\n",
              "      <th>3</th>\n",
              "      <td>78</td>\n",
              "    </tr>\n",
              "    <tr>\n",
              "      <th>4</th>\n",
              "      <td>80</td>\n",
              "    </tr>\n",
              "  </tbody>\n",
              "</table>\n",
              "</div>"
            ],
            "text/plain": [
              "                     CdCategoria\n",
              "DsTipoRepresentante             \n",
              "1                             78\n",
              "2                             75\n",
              "3                             78\n",
              "4                             80"
            ]
          },
          "metadata": {
            "tags": []
          },
          "execution_count": 21
        }
      ]
    },
    {
      "cell_type": "code",
      "metadata": {
        "id": "u5PFOfasZzYk",
        "colab": {
          "base_uri": "https://localhost:8080/",
          "height": 205
        },
        "outputId": "f6d385cf-f83e-4864-ca1e-053987463acd"
      },
      "source": [
        "#Media_QtePedidos_TipoRepr\n",
        "Media_QtePedidos_TipoRepr = df.groupby(['DsTipoRepresentante','Tempo_Expo'])[['NrPedido']].nunique().groupby(['DsTipoRepresentante'])[['NrPedido']].mean()\n",
        "Media_QtePedidos_TipoRepr"
      ],
      "execution_count": 22,
      "outputs": [
        {
          "output_type": "execute_result",
          "data": {
            "text/html": [
              "<div>\n",
              "<style scoped>\n",
              "    .dataframe tbody tr th:only-of-type {\n",
              "        vertical-align: middle;\n",
              "    }\n",
              "\n",
              "    .dataframe tbody tr th {\n",
              "        vertical-align: top;\n",
              "    }\n",
              "\n",
              "    .dataframe thead th {\n",
              "        text-align: right;\n",
              "    }\n",
              "</style>\n",
              "<table border=\"1\" class=\"dataframe\">\n",
              "  <thead>\n",
              "    <tr style=\"text-align: right;\">\n",
              "      <th></th>\n",
              "      <th>NrPedido</th>\n",
              "    </tr>\n",
              "    <tr>\n",
              "      <th>DsTipoRepresentante</th>\n",
              "      <th></th>\n",
              "    </tr>\n",
              "  </thead>\n",
              "  <tbody>\n",
              "    <tr>\n",
              "      <th>1</th>\n",
              "      <td>135.188073</td>\n",
              "    </tr>\n",
              "    <tr>\n",
              "      <th>2</th>\n",
              "      <td>61.885714</td>\n",
              "    </tr>\n",
              "    <tr>\n",
              "      <th>3</th>\n",
              "      <td>316.909449</td>\n",
              "    </tr>\n",
              "    <tr>\n",
              "      <th>4</th>\n",
              "      <td>2528.527344</td>\n",
              "    </tr>\n",
              "  </tbody>\n",
              "</table>\n",
              "</div>"
            ],
            "text/plain": [
              "                        NrPedido\n",
              "DsTipoRepresentante             \n",
              "1                     135.188073\n",
              "2                      61.885714\n",
              "3                     316.909449\n",
              "4                    2528.527344"
            ]
          },
          "metadata": {
            "tags": []
          },
          "execution_count": 22
        }
      ]
    },
    {
      "cell_type": "code",
      "metadata": {
        "id": "Dxj-hUgXKsKr"
      },
      "source": [
        "#df.DsCategoria.unique()"
      ],
      "execution_count": 23,
      "outputs": []
    },
    {
      "cell_type": "markdown",
      "metadata": {
        "id": "wpdRflrkEpJg"
      },
      "source": [
        "### Variaveis segmentadoras\n"
      ]
    },
    {
      "cell_type": "code",
      "metadata": {
        "id": "wgUSF6G5Eofv",
        "colab": {
          "base_uri": "https://localhost:8080/",
          "height": 422
        },
        "outputId": "8f60723d-73de-4b8a-97e0-65139fa15476"
      },
      "source": [
        "#V1 Valor da Receita Líquida do Vendedor pelo período de exposição:\n",
        "V1 = df.groupby(['IdRepComercial'])[['VlVendaLiquido']].sum().loc[:,'VlVendaLiquido']/df.groupby(['IdRepComercial'])[['Tempo_Expo']].mean().loc[:,'Tempo_Expo']\n",
        "V1 = pd.DataFrame(V1).reset_index()\n",
        "V1"
      ],
      "execution_count": 24,
      "outputs": [
        {
          "output_type": "execute_result",
          "data": {
            "text/html": [
              "<div>\n",
              "<style scoped>\n",
              "    .dataframe tbody tr th:only-of-type {\n",
              "        vertical-align: middle;\n",
              "    }\n",
              "\n",
              "    .dataframe tbody tr th {\n",
              "        vertical-align: top;\n",
              "    }\n",
              "\n",
              "    .dataframe thead th {\n",
              "        text-align: right;\n",
              "    }\n",
              "</style>\n",
              "<table border=\"1\" class=\"dataframe\">\n",
              "  <thead>\n",
              "    <tr style=\"text-align: right;\">\n",
              "      <th></th>\n",
              "      <th>IdRepComercial</th>\n",
              "      <th>0</th>\n",
              "    </tr>\n",
              "  </thead>\n",
              "  <tbody>\n",
              "    <tr>\n",
              "      <th>0</th>\n",
              "      <td>1051912.0</td>\n",
              "      <td>31537.900000</td>\n",
              "    </tr>\n",
              "    <tr>\n",
              "      <th>1</th>\n",
              "      <td>1052190.0</td>\n",
              "      <td>33838.601667</td>\n",
              "    </tr>\n",
              "    <tr>\n",
              "      <th>2</th>\n",
              "      <td>1053746.0</td>\n",
              "      <td>12131.832500</td>\n",
              "    </tr>\n",
              "    <tr>\n",
              "      <th>3</th>\n",
              "      <td>1053821.0</td>\n",
              "      <td>14038.576667</td>\n",
              "    </tr>\n",
              "    <tr>\n",
              "      <th>4</th>\n",
              "      <td>1054692.0</td>\n",
              "      <td>210.893333</td>\n",
              "    </tr>\n",
              "    <tr>\n",
              "      <th>...</th>\n",
              "      <td>...</td>\n",
              "      <td>...</td>\n",
              "    </tr>\n",
              "    <tr>\n",
              "      <th>2036</th>\n",
              "      <td>1278808.0</td>\n",
              "      <td>80439.739222</td>\n",
              "    </tr>\n",
              "    <tr>\n",
              "      <th>2037</th>\n",
              "      <td>1278809.0</td>\n",
              "      <td>22288.091652</td>\n",
              "    </tr>\n",
              "    <tr>\n",
              "      <th>2038</th>\n",
              "      <td>1278811.0</td>\n",
              "      <td>8233.909075</td>\n",
              "    </tr>\n",
              "    <tr>\n",
              "      <th>2039</th>\n",
              "      <td>1278812.0</td>\n",
              "      <td>11201.920689</td>\n",
              "    </tr>\n",
              "    <tr>\n",
              "      <th>2040</th>\n",
              "      <td>1278821.0</td>\n",
              "      <td>28148.601627</td>\n",
              "    </tr>\n",
              "  </tbody>\n",
              "</table>\n",
              "<p>2041 rows × 2 columns</p>\n",
              "</div>"
            ],
            "text/plain": [
              "      IdRepComercial             0\n",
              "0          1051912.0  31537.900000\n",
              "1          1052190.0  33838.601667\n",
              "2          1053746.0  12131.832500\n",
              "3          1053821.0  14038.576667\n",
              "4          1054692.0    210.893333\n",
              "...              ...           ...\n",
              "2036       1278808.0  80439.739222\n",
              "2037       1278809.0  22288.091652\n",
              "2038       1278811.0   8233.909075\n",
              "2039       1278812.0  11201.920689\n",
              "2040       1278821.0  28148.601627\n",
              "\n",
              "[2041 rows x 2 columns]"
            ]
          },
          "metadata": {
            "tags": []
          },
          "execution_count": 24
        }
      ]
    },
    {
      "cell_type": "code",
      "metadata": {
        "id": "InMWqCe583qc"
      },
      "source": [
        "#df[(df.CdEstadoTerritorioVendas == 2) & (df.CdEstadoTerritorioVendas == 1)]\n",
        "#df[\"A\"][(df[\"B\"] > 50) & (df[\"C\"] == 900)]"
      ],
      "execution_count": 25,
      "outputs": []
    },
    {
      "cell_type": "code",
      "metadata": {
        "id": "webNIdIkb7YZ",
        "colab": {
          "base_uri": "https://localhost:8080/",
          "height": 422
        },
        "outputId": "03ef0ebf-2ac0-47b4-8074-4e226df38702"
      },
      "source": [
        "#V2 = Importância da receita líquida do Vendedor na região que ele pertence:\n",
        "rec_reg=df.groupby(['DsTerritorioVendas'])[['VlVendaLiquido']].sum().loc[:,'VlVendaLiquido']\n",
        "V2 = pd.DataFrame(df.groupby(['DsTerritorioVendas','IdRepComercial'])[['VlVendaLiquido']].sum().loc[:,\"VlVendaLiquido\"]/rec_reg.iloc[0]).reset_index().groupby(['IdRepComercial'])[['VlVendaLiquido']].mean()\n",
        "V2 = pd.DataFrame(V2).reset_index()\n",
        "V2"
      ],
      "execution_count": 26,
      "outputs": [
        {
          "output_type": "execute_result",
          "data": {
            "text/html": [
              "<div>\n",
              "<style scoped>\n",
              "    .dataframe tbody tr th:only-of-type {\n",
              "        vertical-align: middle;\n",
              "    }\n",
              "\n",
              "    .dataframe tbody tr th {\n",
              "        vertical-align: top;\n",
              "    }\n",
              "\n",
              "    .dataframe thead th {\n",
              "        text-align: right;\n",
              "    }\n",
              "</style>\n",
              "<table border=\"1\" class=\"dataframe\">\n",
              "  <thead>\n",
              "    <tr style=\"text-align: right;\">\n",
              "      <th></th>\n",
              "      <th>IdRepComercial</th>\n",
              "      <th>VlVendaLiquido</th>\n",
              "    </tr>\n",
              "  </thead>\n",
              "  <tbody>\n",
              "    <tr>\n",
              "      <th>0</th>\n",
              "      <td>1051912.0</td>\n",
              "      <td>0.008200</td>\n",
              "    </tr>\n",
              "    <tr>\n",
              "      <th>1</th>\n",
              "      <td>1052190.0</td>\n",
              "      <td>0.008798</td>\n",
              "    </tr>\n",
              "    <tr>\n",
              "      <th>2</th>\n",
              "      <td>1053746.0</td>\n",
              "      <td>0.003154</td>\n",
              "    </tr>\n",
              "    <tr>\n",
              "      <th>3</th>\n",
              "      <td>1053821.0</td>\n",
              "      <td>0.003650</td>\n",
              "    </tr>\n",
              "    <tr>\n",
              "      <th>4</th>\n",
              "      <td>1054692.0</td>\n",
              "      <td>0.000055</td>\n",
              "    </tr>\n",
              "    <tr>\n",
              "      <th>...</th>\n",
              "      <td>...</td>\n",
              "      <td>...</td>\n",
              "    </tr>\n",
              "    <tr>\n",
              "      <th>2036</th>\n",
              "      <td>1278808.0</td>\n",
              "      <td>0.010925</td>\n",
              "    </tr>\n",
              "    <tr>\n",
              "      <th>2037</th>\n",
              "      <td>1278809.0</td>\n",
              "      <td>0.003041</td>\n",
              "    </tr>\n",
              "    <tr>\n",
              "      <th>2038</th>\n",
              "      <td>1278811.0</td>\n",
              "      <td>0.000930</td>\n",
              "    </tr>\n",
              "    <tr>\n",
              "      <th>2039</th>\n",
              "      <td>1278812.0</td>\n",
              "      <td>0.001145</td>\n",
              "    </tr>\n",
              "    <tr>\n",
              "      <th>2040</th>\n",
              "      <td>1278821.0</td>\n",
              "      <td>0.003711</td>\n",
              "    </tr>\n",
              "  </tbody>\n",
              "</table>\n",
              "<p>2041 rows × 2 columns</p>\n",
              "</div>"
            ],
            "text/plain": [
              "      IdRepComercial  VlVendaLiquido\n",
              "0          1051912.0        0.008200\n",
              "1          1052190.0        0.008798\n",
              "2          1053746.0        0.003154\n",
              "3          1053821.0        0.003650\n",
              "4          1054692.0        0.000055\n",
              "...              ...             ...\n",
              "2036       1278808.0        0.010925\n",
              "2037       1278809.0        0.003041\n",
              "2038       1278811.0        0.000930\n",
              "2039       1278812.0        0.001145\n",
              "2040       1278821.0        0.003711\n",
              "\n",
              "[2041 rows x 2 columns]"
            ]
          },
          "metadata": {
            "tags": []
          },
          "execution_count": 26
        }
      ]
    },
    {
      "cell_type": "code",
      "metadata": {
        "id": "iHb8p2RADtIp",
        "colab": {
          "base_uri": "https://localhost:8080/",
          "height": 422
        },
        "outputId": "85ff85c4-ccee-43ad-d354-1beac5b6ead9"
      },
      "source": [
        "#V3 Importância da receita líquida do Vendedor categoria Tipo de Representante (Negócio)\n",
        "rec_area_negocio=df.groupby(['DsTipoRepresentante'])[['VlVendaLiquido']].sum().loc[:,'VlVendaLiquido']\n",
        "V3 = pd.DataFrame(df[df.DsTipoRepresentante == 1].groupby(['IdRepComercial'])[['VlVendaLiquido']].sum().loc[:,\"VlVendaLiquido\"]/rec_area_negocio.iloc[0]).append([\n",
        "pd.DataFrame(df[df.DsTipoRepresentante == 2].groupby(['IdRepComercial'])[['VlVendaLiquido']].sum().loc[:,\"VlVendaLiquido\"]/rec_area_negocio.iloc[1]),\n",
        "pd.DataFrame(df[df.DsTipoRepresentante == 3].groupby(['IdRepComercial'])[['VlVendaLiquido']].sum().loc[:,\"VlVendaLiquido\"]/rec_area_negocio.iloc[2]),\n",
        "pd.DataFrame(df[df.DsTipoRepresentante == 4].groupby(['IdRepComercial'])[['VlVendaLiquido']].sum().loc[:,'VlVendaLiquido']/rec_area_negocio.iloc[3])]).reset_index()\n",
        "V3 = V3*100\n",
        "V3 "
      ],
      "execution_count": 27,
      "outputs": [
        {
          "output_type": "execute_result",
          "data": {
            "text/html": [
              "<div>\n",
              "<style scoped>\n",
              "    .dataframe tbody tr th:only-of-type {\n",
              "        vertical-align: middle;\n",
              "    }\n",
              "\n",
              "    .dataframe tbody tr th {\n",
              "        vertical-align: top;\n",
              "    }\n",
              "\n",
              "    .dataframe thead th {\n",
              "        text-align: right;\n",
              "    }\n",
              "</style>\n",
              "<table border=\"1\" class=\"dataframe\">\n",
              "  <thead>\n",
              "    <tr style=\"text-align: right;\">\n",
              "      <th></th>\n",
              "      <th>IdRepComercial</th>\n",
              "      <th>VlVendaLiquido</th>\n",
              "    </tr>\n",
              "  </thead>\n",
              "  <tbody>\n",
              "    <tr>\n",
              "      <th>0</th>\n",
              "      <td>106900700.0</td>\n",
              "      <td>0.801952</td>\n",
              "    </tr>\n",
              "    <tr>\n",
              "      <th>1</th>\n",
              "      <td>107167200.0</td>\n",
              "      <td>0.124029</td>\n",
              "    </tr>\n",
              "    <tr>\n",
              "      <th>2</th>\n",
              "      <td>107365000.0</td>\n",
              "      <td>0.032864</td>\n",
              "    </tr>\n",
              "    <tr>\n",
              "      <th>3</th>\n",
              "      <td>108541000.0</td>\n",
              "      <td>1.448659</td>\n",
              "    </tr>\n",
              "    <tr>\n",
              "      <th>4</th>\n",
              "      <td>108543100.0</td>\n",
              "      <td>1.684513</td>\n",
              "    </tr>\n",
              "    <tr>\n",
              "      <th>...</th>\n",
              "      <td>...</td>\n",
              "      <td>...</td>\n",
              "    </tr>\n",
              "    <tr>\n",
              "      <th>2036</th>\n",
              "      <td>127880700.0</td>\n",
              "      <td>0.043880</td>\n",
              "    </tr>\n",
              "    <tr>\n",
              "      <th>2037</th>\n",
              "      <td>127880800.0</td>\n",
              "      <td>0.215401</td>\n",
              "    </tr>\n",
              "    <tr>\n",
              "      <th>2038</th>\n",
              "      <td>127880900.0</td>\n",
              "      <td>0.059950</td>\n",
              "    </tr>\n",
              "    <tr>\n",
              "      <th>2039</th>\n",
              "      <td>127881100.0</td>\n",
              "      <td>0.018344</td>\n",
              "    </tr>\n",
              "    <tr>\n",
              "      <th>2040</th>\n",
              "      <td>127881200.0</td>\n",
              "      <td>0.022586</td>\n",
              "    </tr>\n",
              "  </tbody>\n",
              "</table>\n",
              "<p>2041 rows × 2 columns</p>\n",
              "</div>"
            ],
            "text/plain": [
              "      IdRepComercial  VlVendaLiquido\n",
              "0        106900700.0        0.801952\n",
              "1        107167200.0        0.124029\n",
              "2        107365000.0        0.032864\n",
              "3        108541000.0        1.448659\n",
              "4        108543100.0        1.684513\n",
              "...              ...             ...\n",
              "2036     127880700.0        0.043880\n",
              "2037     127880800.0        0.215401\n",
              "2038     127880900.0        0.059950\n",
              "2039     127881100.0        0.018344\n",
              "2040     127881200.0        0.022586\n",
              "\n",
              "[2041 rows x 2 columns]"
            ]
          },
          "metadata": {
            "tags": []
          },
          "execution_count": 27
        }
      ]
    },
    {
      "cell_type": "code",
      "metadata": {
        "id": "djrOD0mCEnYm",
        "colab": {
          "base_uri": "https://localhost:8080/",
          "height": 422
        },
        "outputId": "24909948-eb38-4c5b-9bd1-1dc1e07254af"
      },
      "source": [
        "# V4 Vocaçao_dos_Municipios\n",
        "rec_vocacao=df.groupby(['Vocaçao_dos_Municipios'])[['VlVendaLiquido']].sum().loc[:,'VlVendaLiquido']\n",
        "V4 = pd.DataFrame(df[df.Vocaçao_dos_Municipios == 1].groupby(['IdRepComercial'])[['VlVendaLiquido']].sum().loc[:,\"VlVendaLiquido\"]/rec_vocacao.iloc[0]).append([\n",
        "pd.DataFrame(df[df.Vocaçao_dos_Municipios == 2].groupby(['IdRepComercial'])[['VlVendaLiquido']].sum().loc[:,\"VlVendaLiquido\"]/rec_vocacao.iloc[1]),\n",
        "pd.DataFrame(df[df.Vocaçao_dos_Municipios == 3].groupby(['IdRepComercial'])[['VlVendaLiquido']].sum().loc[:,\"VlVendaLiquido\"]/rec_vocacao.iloc[2]),\n",
        "pd.DataFrame(df[df.Vocaçao_dos_Municipios == 4].groupby(['IdRepComercial'])[['VlVendaLiquido']].sum().loc[:,'VlVendaLiquido']/rec_vocacao.iloc[3])]).reset_index()\n",
        "V4 = V4.groupby(['IdRepComercial'])[['VlVendaLiquido']].mean()\n",
        "V4 = V4*100\n",
        "V4 = pd.DataFrame(V4).reset_index()\n",
        "V4"
      ],
      "execution_count": 28,
      "outputs": [
        {
          "output_type": "execute_result",
          "data": {
            "text/html": [
              "<div>\n",
              "<style scoped>\n",
              "    .dataframe tbody tr th:only-of-type {\n",
              "        vertical-align: middle;\n",
              "    }\n",
              "\n",
              "    .dataframe tbody tr th {\n",
              "        vertical-align: top;\n",
              "    }\n",
              "\n",
              "    .dataframe thead th {\n",
              "        text-align: right;\n",
              "    }\n",
              "</style>\n",
              "<table border=\"1\" class=\"dataframe\">\n",
              "  <thead>\n",
              "    <tr style=\"text-align: right;\">\n",
              "      <th></th>\n",
              "      <th>IdRepComercial</th>\n",
              "      <th>VlVendaLiquido</th>\n",
              "    </tr>\n",
              "  </thead>\n",
              "  <tbody>\n",
              "    <tr>\n",
              "      <th>0</th>\n",
              "      <td>1051912.0</td>\n",
              "      <td>0.281549</td>\n",
              "    </tr>\n",
              "    <tr>\n",
              "      <th>1</th>\n",
              "      <td>1052190.0</td>\n",
              "      <td>1.767720</td>\n",
              "    </tr>\n",
              "    <tr>\n",
              "      <th>2</th>\n",
              "      <td>1053746.0</td>\n",
              "      <td>0.546954</td>\n",
              "    </tr>\n",
              "    <tr>\n",
              "      <th>3</th>\n",
              "      <td>1053821.0</td>\n",
              "      <td>0.125327</td>\n",
              "    </tr>\n",
              "    <tr>\n",
              "      <th>4</th>\n",
              "      <td>1054692.0</td>\n",
              "      <td>0.002109</td>\n",
              "    </tr>\n",
              "    <tr>\n",
              "      <th>...</th>\n",
              "      <td>...</td>\n",
              "      <td>...</td>\n",
              "    </tr>\n",
              "    <tr>\n",
              "      <th>2036</th>\n",
              "      <td>1278808.0</td>\n",
              "      <td>0.375094</td>\n",
              "    </tr>\n",
              "    <tr>\n",
              "      <th>2037</th>\n",
              "      <td>1278809.0</td>\n",
              "      <td>0.104396</td>\n",
              "    </tr>\n",
              "    <tr>\n",
              "      <th>2038</th>\n",
              "      <td>1278811.0</td>\n",
              "      <td>0.161317</td>\n",
              "    </tr>\n",
              "    <tr>\n",
              "      <th>2039</th>\n",
              "      <td>1278812.0</td>\n",
              "      <td>0.039330</td>\n",
              "    </tr>\n",
              "    <tr>\n",
              "      <th>2040</th>\n",
              "      <td>1278821.0</td>\n",
              "      <td>0.127433</td>\n",
              "    </tr>\n",
              "  </tbody>\n",
              "</table>\n",
              "<p>2041 rows × 2 columns</p>\n",
              "</div>"
            ],
            "text/plain": [
              "      IdRepComercial  VlVendaLiquido\n",
              "0          1051912.0        0.281549\n",
              "1          1052190.0        1.767720\n",
              "2          1053746.0        0.546954\n",
              "3          1053821.0        0.125327\n",
              "4          1054692.0        0.002109\n",
              "...              ...             ...\n",
              "2036       1278808.0        0.375094\n",
              "2037       1278809.0        0.104396\n",
              "2038       1278811.0        0.161317\n",
              "2039       1278812.0        0.039330\n",
              "2040       1278821.0        0.127433\n",
              "\n",
              "[2041 rows x 2 columns]"
            ]
          },
          "metadata": {
            "tags": []
          },
          "execution_count": 28
        }
      ]
    },
    {
      "cell_type": "code",
      "metadata": {
        "id": "f1jzU3siFqoY",
        "colab": {
          "base_uri": "https://localhost:8080/",
          "height": 422
        },
        "outputId": "317d8fa4-f971-40f0-ec77-76d1ed38759c"
      },
      "source": [
        "#V5 Quantidade de clientes atendidos pelo vendedor em relação a sua categoria Tipo de Representante \n",
        "#Média_QteClientes_TipoRepr\n",
        "V5 = pd.DataFrame(df[df.DsTipoRepresentante == 1].groupby(['IdRepComercial'])[['IdClienteVenda']].nunique().loc[:,\"IdClienteVenda\"]/Media_QteClientes_TipoRepr.iloc[0,0]).append([\n",
        "pd.DataFrame(df[df.DsTipoRepresentante == 2].groupby(['IdRepComercial'])[['IdClienteVenda']].nunique().loc[:,\"IdClienteVenda\"]/Media_QteClientes_TipoRepr.iloc[1,0]),\n",
        "pd.DataFrame(df[df.DsTipoRepresentante == 3].groupby(['IdRepComercial'])[['IdClienteVenda']].nunique().loc[:,\"IdClienteVenda\"]/Media_QteClientes_TipoRepr.iloc[2,0]),\n",
        "pd.DataFrame(df[df.DsTipoRepresentante == 4].groupby(['IdRepComercial'])[['IdClienteVenda']].nunique().loc[:,\"IdClienteVenda\"]/Media_QteClientes_TipoRepr.iloc[3,0])]).reset_index()\n",
        "V5"
      ],
      "execution_count": 29,
      "outputs": [
        {
          "output_type": "execute_result",
          "data": {
            "text/html": [
              "<div>\n",
              "<style scoped>\n",
              "    .dataframe tbody tr th:only-of-type {\n",
              "        vertical-align: middle;\n",
              "    }\n",
              "\n",
              "    .dataframe tbody tr th {\n",
              "        vertical-align: top;\n",
              "    }\n",
              "\n",
              "    .dataframe thead th {\n",
              "        text-align: right;\n",
              "    }\n",
              "</style>\n",
              "<table border=\"1\" class=\"dataframe\">\n",
              "  <thead>\n",
              "    <tr style=\"text-align: right;\">\n",
              "      <th></th>\n",
              "      <th>IdRepComercial</th>\n",
              "      <th>IdClienteVenda</th>\n",
              "    </tr>\n",
              "  </thead>\n",
              "  <tbody>\n",
              "    <tr>\n",
              "      <th>0</th>\n",
              "      <td>1069007.0</td>\n",
              "      <td>0.013165</td>\n",
              "    </tr>\n",
              "    <tr>\n",
              "      <th>1</th>\n",
              "      <td>1071672.0</td>\n",
              "      <td>0.004579</td>\n",
              "    </tr>\n",
              "    <tr>\n",
              "      <th>2</th>\n",
              "      <td>1073650.0</td>\n",
              "      <td>0.000572</td>\n",
              "    </tr>\n",
              "    <tr>\n",
              "      <th>3</th>\n",
              "      <td>1085410.0</td>\n",
              "      <td>0.012021</td>\n",
              "    </tr>\n",
              "    <tr>\n",
              "      <th>4</th>\n",
              "      <td>1085431.0</td>\n",
              "      <td>0.013452</td>\n",
              "    </tr>\n",
              "    <tr>\n",
              "      <th>...</th>\n",
              "      <td>...</td>\n",
              "      <td>...</td>\n",
              "    </tr>\n",
              "    <tr>\n",
              "      <th>2036</th>\n",
              "      <td>1278807.0</td>\n",
              "      <td>0.000308</td>\n",
              "    </tr>\n",
              "    <tr>\n",
              "      <th>2037</th>\n",
              "      <td>1278808.0</td>\n",
              "      <td>0.000816</td>\n",
              "    </tr>\n",
              "    <tr>\n",
              "      <th>2038</th>\n",
              "      <td>1278809.0</td>\n",
              "      <td>0.000508</td>\n",
              "    </tr>\n",
              "    <tr>\n",
              "      <th>2039</th>\n",
              "      <td>1278811.0</td>\n",
              "      <td>0.000602</td>\n",
              "    </tr>\n",
              "    <tr>\n",
              "      <th>2040</th>\n",
              "      <td>1278812.0</td>\n",
              "      <td>0.000869</td>\n",
              "    </tr>\n",
              "  </tbody>\n",
              "</table>\n",
              "<p>2041 rows × 2 columns</p>\n",
              "</div>"
            ],
            "text/plain": [
              "      IdRepComercial  IdClienteVenda\n",
              "0          1069007.0        0.013165\n",
              "1          1071672.0        0.004579\n",
              "2          1073650.0        0.000572\n",
              "3          1085410.0        0.012021\n",
              "4          1085431.0        0.013452\n",
              "...              ...             ...\n",
              "2036       1278807.0        0.000308\n",
              "2037       1278808.0        0.000816\n",
              "2038       1278809.0        0.000508\n",
              "2039       1278811.0        0.000602\n",
              "2040       1278812.0        0.000869\n",
              "\n",
              "[2041 rows x 2 columns]"
            ]
          },
          "metadata": {
            "tags": []
          },
          "execution_count": 29
        }
      ]
    },
    {
      "cell_type": "code",
      "metadata": {
        "id": "AtBwm8tcFqeM",
        "colab": {
          "base_uri": "https://localhost:8080/",
          "height": 422
        },
        "outputId": "d062a701-6934-46c2-e125-b002bd3540b6"
      },
      "source": [
        "# V6 Quantidade de itens por quantidade em relação ao Tipo de Representante\n",
        "V6 = pd.DataFrame(df[df.DsTipoRepresentante == 1].groupby(['IdRepComercial'])[['QtdeVendida']].sum().loc[:,\"QtdeVendida\"]/Media_QteProduto_TipoRepr.iloc[0,0]).append([\n",
        "pd.DataFrame(df[df.DsTipoRepresentante == 2].groupby(['IdRepComercial'])[['QtdeVendida']].sum().loc[:,\"QtdeVendida\"]/Media_QteProduto_TipoRepr.iloc[1,0]),\n",
        "pd.DataFrame(df[df.DsTipoRepresentante == 3].groupby(['IdRepComercial'])[['QtdeVendida']].sum().loc[:,\"QtdeVendida\"]/Media_QteProduto_TipoRepr.iloc[2,0]),\n",
        "pd.DataFrame(df[df.DsTipoRepresentante == 4].groupby(['IdRepComercial'])[['QtdeVendida']].sum().loc[:,\"QtdeVendida\"]/Media_QteProduto_TipoRepr.iloc[3,0])]).reset_index()\n",
        "V6 "
      ],
      "execution_count": 30,
      "outputs": [
        {
          "output_type": "execute_result",
          "data": {
            "text/html": [
              "<div>\n",
              "<style scoped>\n",
              "    .dataframe tbody tr th:only-of-type {\n",
              "        vertical-align: middle;\n",
              "    }\n",
              "\n",
              "    .dataframe tbody tr th {\n",
              "        vertical-align: top;\n",
              "    }\n",
              "\n",
              "    .dataframe thead th {\n",
              "        text-align: right;\n",
              "    }\n",
              "</style>\n",
              "<table border=\"1\" class=\"dataframe\">\n",
              "  <thead>\n",
              "    <tr style=\"text-align: right;\">\n",
              "      <th></th>\n",
              "      <th>IdRepComercial</th>\n",
              "      <th>QtdeVendida</th>\n",
              "    </tr>\n",
              "  </thead>\n",
              "  <tbody>\n",
              "    <tr>\n",
              "      <th>0</th>\n",
              "      <td>1069007.0</td>\n",
              "      <td>1817.961135</td>\n",
              "    </tr>\n",
              "    <tr>\n",
              "      <th>1</th>\n",
              "      <td>1071672.0</td>\n",
              "      <td>58.524750</td>\n",
              "    </tr>\n",
              "    <tr>\n",
              "      <th>2</th>\n",
              "      <td>1073650.0</td>\n",
              "      <td>191.042332</td>\n",
              "    </tr>\n",
              "    <tr>\n",
              "      <th>3</th>\n",
              "      <td>1085410.0</td>\n",
              "      <td>358.305376</td>\n",
              "    </tr>\n",
              "    <tr>\n",
              "      <th>4</th>\n",
              "      <td>1085431.0</td>\n",
              "      <td>466.235636</td>\n",
              "    </tr>\n",
              "    <tr>\n",
              "      <th>...</th>\n",
              "      <td>...</td>\n",
              "      <td>...</td>\n",
              "    </tr>\n",
              "    <tr>\n",
              "      <th>2036</th>\n",
              "      <td>1278807.0</td>\n",
              "      <td>1179.377420</td>\n",
              "    </tr>\n",
              "    <tr>\n",
              "      <th>2037</th>\n",
              "      <td>1278808.0</td>\n",
              "      <td>1745.068235</td>\n",
              "    </tr>\n",
              "    <tr>\n",
              "      <th>2038</th>\n",
              "      <td>1278809.0</td>\n",
              "      <td>4775.580918</td>\n",
              "    </tr>\n",
              "    <tr>\n",
              "      <th>2039</th>\n",
              "      <td>1278811.0</td>\n",
              "      <td>600.374795</td>\n",
              "    </tr>\n",
              "    <tr>\n",
              "      <th>2040</th>\n",
              "      <td>1278812.0</td>\n",
              "      <td>457.364444</td>\n",
              "    </tr>\n",
              "  </tbody>\n",
              "</table>\n",
              "<p>2041 rows × 2 columns</p>\n",
              "</div>"
            ],
            "text/plain": [
              "      IdRepComercial  QtdeVendida\n",
              "0          1069007.0  1817.961135\n",
              "1          1071672.0    58.524750\n",
              "2          1073650.0   191.042332\n",
              "3          1085410.0   358.305376\n",
              "4          1085431.0   466.235636\n",
              "...              ...          ...\n",
              "2036       1278807.0  1179.377420\n",
              "2037       1278808.0  1745.068235\n",
              "2038       1278809.0  4775.580918\n",
              "2039       1278811.0   600.374795\n",
              "2040       1278812.0   457.364444\n",
              "\n",
              "[2041 rows x 2 columns]"
            ]
          },
          "metadata": {
            "tags": []
          },
          "execution_count": 30
        }
      ]
    },
    {
      "cell_type": "code",
      "metadata": {
        "id": "-mherIk-EnQ6",
        "colab": {
          "base_uri": "https://localhost:8080/",
          "height": 422
        },
        "outputId": "510a031a-3fbe-4f39-dec3-82c15d850e70"
      },
      "source": [
        "#V7 Quantidade de Categorias diferentes que vendidas pelo vendedor no período, relativo a categoria de Tipo de Representante\n",
        "V7 = pd.DataFrame(df[df.DsTipoRepresentante == 1].groupby(['IdRepComercial'])[['DsCategoria']].nunique().loc[:,\"DsCategoria\"]/Media_QteCategoria_TipoRepr.iloc[0,0]).append([\n",
        "pd.DataFrame(df[df.DsTipoRepresentante == 2].groupby(['IdRepComercial'])[['DsCategoria']].nunique().loc[:,\"DsCategoria\"]/Media_QteCategoria_TipoRepr.iloc[1,0]),\n",
        "pd.DataFrame(df[df.DsTipoRepresentante == 3].groupby(['IdRepComercial'])[['DsCategoria']].nunique().loc[:,\"DsCategoria\"]/Media_QteCategoria_TipoRepr.iloc[2,0]),\n",
        "pd.DataFrame(df[df.DsTipoRepresentante == 4].groupby(['IdRepComercial'])[['DsCategoria']].nunique().loc[:,\"DsCategoria\"]/Media_QteCategoria_TipoRepr.iloc[3,0])]).reset_index()\n",
        "V7 \n"
      ],
      "execution_count": 31,
      "outputs": [
        {
          "output_type": "execute_result",
          "data": {
            "text/html": [
              "<div>\n",
              "<style scoped>\n",
              "    .dataframe tbody tr th:only-of-type {\n",
              "        vertical-align: middle;\n",
              "    }\n",
              "\n",
              "    .dataframe tbody tr th {\n",
              "        vertical-align: top;\n",
              "    }\n",
              "\n",
              "    .dataframe thead th {\n",
              "        text-align: right;\n",
              "    }\n",
              "</style>\n",
              "<table border=\"1\" class=\"dataframe\">\n",
              "  <thead>\n",
              "    <tr style=\"text-align: right;\">\n",
              "      <th></th>\n",
              "      <th>IdRepComercial</th>\n",
              "      <th>DsCategoria</th>\n",
              "    </tr>\n",
              "  </thead>\n",
              "  <tbody>\n",
              "    <tr>\n",
              "      <th>0</th>\n",
              "      <td>1069007.0</td>\n",
              "      <td>1.243590</td>\n",
              "    </tr>\n",
              "    <tr>\n",
              "      <th>1</th>\n",
              "      <td>1071672.0</td>\n",
              "      <td>0.358974</td>\n",
              "    </tr>\n",
              "    <tr>\n",
              "      <th>2</th>\n",
              "      <td>1073650.0</td>\n",
              "      <td>0.064103</td>\n",
              "    </tr>\n",
              "    <tr>\n",
              "      <th>3</th>\n",
              "      <td>1085410.0</td>\n",
              "      <td>0.333333</td>\n",
              "    </tr>\n",
              "    <tr>\n",
              "      <th>4</th>\n",
              "      <td>1085431.0</td>\n",
              "      <td>0.525641</td>\n",
              "    </tr>\n",
              "    <tr>\n",
              "      <th>...</th>\n",
              "      <td>...</td>\n",
              "      <td>...</td>\n",
              "    </tr>\n",
              "    <tr>\n",
              "      <th>2036</th>\n",
              "      <td>1278807.0</td>\n",
              "      <td>1.412500</td>\n",
              "    </tr>\n",
              "    <tr>\n",
              "      <th>2037</th>\n",
              "      <td>1278808.0</td>\n",
              "      <td>1.825000</td>\n",
              "    </tr>\n",
              "    <tr>\n",
              "      <th>2038</th>\n",
              "      <td>1278809.0</td>\n",
              "      <td>1.587500</td>\n",
              "    </tr>\n",
              "    <tr>\n",
              "      <th>2039</th>\n",
              "      <td>1278811.0</td>\n",
              "      <td>0.575000</td>\n",
              "    </tr>\n",
              "    <tr>\n",
              "      <th>2040</th>\n",
              "      <td>1278812.0</td>\n",
              "      <td>0.887500</td>\n",
              "    </tr>\n",
              "  </tbody>\n",
              "</table>\n",
              "<p>2041 rows × 2 columns</p>\n",
              "</div>"
            ],
            "text/plain": [
              "      IdRepComercial  DsCategoria\n",
              "0          1069007.0     1.243590\n",
              "1          1071672.0     0.358974\n",
              "2          1073650.0     0.064103\n",
              "3          1085410.0     0.333333\n",
              "4          1085431.0     0.525641\n",
              "...              ...          ...\n",
              "2036       1278807.0     1.412500\n",
              "2037       1278808.0     1.825000\n",
              "2038       1278809.0     1.587500\n",
              "2039       1278811.0     0.575000\n",
              "2040       1278812.0     0.887500\n",
              "\n",
              "[2041 rows x 2 columns]"
            ]
          },
          "metadata": {
            "tags": []
          },
          "execution_count": 31
        }
      ]
    },
    {
      "cell_type": "code",
      "metadata": {
        "colab": {
          "base_uri": "https://localhost:8080/",
          "height": 422
        },
        "id": "x6_u40JqEnE6",
        "outputId": "efdde040-fd3a-4996-8456-ef9a62377a4c"
      },
      "source": [
        "#V8 \n",
        "V8 = pd.DataFrame((df[df.DsTipoRepresentante == 1].groupby(['IdRepComercial'])[['NrPedido']].nunique().reset_index().loc[:,\"NrPedido\"]/df[df.DsTipoRepresentante == 1].groupby(['IdRepComercial'])[['Tempo_Expo']].mean().reset_index().loc[:,\"Tempo_Expo\"])/Media_QtePedidos_TipoRepr.iloc[0,0]).append([\n",
        "pd.DataFrame((df[df.DsTipoRepresentante == 2].groupby(['IdRepComercial'])[['NrPedido']].nunique().reset_index().loc[:,\"NrPedido\"]/df[df.DsTipoRepresentante == 2].groupby(['IdRepComercial'])[['Tempo_Expo']].mean().reset_index().loc[:,\"Tempo_Expo\"])/Media_QtePedidos_TipoRepr.iloc[1,0]),\n",
        "pd.DataFrame((df[df.DsTipoRepresentante == 3].groupby(['IdRepComercial'])[['NrPedido']].nunique().reset_index().loc[:,\"NrPedido\"]/df[df.DsTipoRepresentante == 3].groupby(['IdRepComercial'])[['Tempo_Expo']].mean().reset_index().loc[:,\"Tempo_Expo\"])/Media_QtePedidos_TipoRepr.iloc[2,0]),\n",
        "pd.DataFrame((df[df.DsTipoRepresentante == 4].groupby(['IdRepComercial'])[['NrPedido']].nunique().reset_index().loc[:,\"NrPedido\"]/df[df.DsTipoRepresentante == 4].groupby(['IdRepComercial'])[['Tempo_Expo']].mean().reset_index().loc[:,\"Tempo_Expo\"])/Media_QtePedidos_TipoRepr.iloc[3,0])])\n",
        "V8 = V8.reset_index()\n",
        "V8.columns = ['index', \"V8\"]\n",
        "V8"
      ],
      "execution_count": 32,
      "outputs": [
        {
          "output_type": "execute_result",
          "data": {
            "text/html": [
              "<div>\n",
              "<style scoped>\n",
              "    .dataframe tbody tr th:only-of-type {\n",
              "        vertical-align: middle;\n",
              "    }\n",
              "\n",
              "    .dataframe tbody tr th {\n",
              "        vertical-align: top;\n",
              "    }\n",
              "\n",
              "    .dataframe thead th {\n",
              "        text-align: right;\n",
              "    }\n",
              "</style>\n",
              "<table border=\"1\" class=\"dataframe\">\n",
              "  <thead>\n",
              "    <tr style=\"text-align: right;\">\n",
              "      <th></th>\n",
              "      <th>index</th>\n",
              "      <th>V8</th>\n",
              "    </tr>\n",
              "  </thead>\n",
              "  <tbody>\n",
              "    <tr>\n",
              "      <th>0</th>\n",
              "      <td>0</td>\n",
              "      <td>0.179380</td>\n",
              "    </tr>\n",
              "    <tr>\n",
              "      <th>1</th>\n",
              "      <td>1</td>\n",
              "      <td>0.016643</td>\n",
              "    </tr>\n",
              "    <tr>\n",
              "      <th>2</th>\n",
              "      <td>2</td>\n",
              "      <td>0.007397</td>\n",
              "    </tr>\n",
              "    <tr>\n",
              "      <th>3</th>\n",
              "      <td>3</td>\n",
              "      <td>0.221297</td>\n",
              "    </tr>\n",
              "    <tr>\n",
              "      <th>4</th>\n",
              "      <td>4</td>\n",
              "      <td>0.272460</td>\n",
              "    </tr>\n",
              "    <tr>\n",
              "      <th>...</th>\n",
              "      <td>...</td>\n",
              "      <td>...</td>\n",
              "    </tr>\n",
              "    <tr>\n",
              "      <th>2036</th>\n",
              "      <td>1685</td>\n",
              "      <td>0.010573</td>\n",
              "    </tr>\n",
              "    <tr>\n",
              "      <th>2037</th>\n",
              "      <td>1686</td>\n",
              "      <td>0.060572</td>\n",
              "    </tr>\n",
              "    <tr>\n",
              "      <th>2038</th>\n",
              "      <td>1687</td>\n",
              "      <td>0.018844</td>\n",
              "    </tr>\n",
              "    <tr>\n",
              "      <th>2039</th>\n",
              "      <td>1688</td>\n",
              "      <td>0.013803</td>\n",
              "    </tr>\n",
              "    <tr>\n",
              "      <th>2040</th>\n",
              "      <td>1689</td>\n",
              "      <td>0.013240</td>\n",
              "    </tr>\n",
              "  </tbody>\n",
              "</table>\n",
              "<p>2041 rows × 2 columns</p>\n",
              "</div>"
            ],
            "text/plain": [
              "      index        V8\n",
              "0         0  0.179380\n",
              "1         1  0.016643\n",
              "2         2  0.007397\n",
              "3         3  0.221297\n",
              "4         4  0.272460\n",
              "...     ...       ...\n",
              "2036   1685  0.010573\n",
              "2037   1686  0.060572\n",
              "2038   1687  0.018844\n",
              "2039   1688  0.013803\n",
              "2040   1689  0.013240\n",
              "\n",
              "[2041 rows x 2 columns]"
            ]
          },
          "metadata": {
            "tags": []
          },
          "execution_count": 32
        }
      ]
    },
    {
      "cell_type": "code",
      "metadata": {
        "id": "_rS-7BfrFcsk"
      },
      "source": [
        "var_seg = pd.concat([V1,V2.loc[:,'VlVendaLiquido'], V3.loc[:,'VlVendaLiquido'],V4.loc[:,'VlVendaLiquido'], V5.loc[:,'IdClienteVenda'],V6.loc[:,'QtdeVendida'],V7.loc[:,'DsCategoria'],V8.loc[:,\"V8\"]], axis=1)\n",
        "var_seg.columns = ['rep_comercial','V1','V2', 'V3', \"V4\", 'V5',\"V6\",\"V7\",\"V8\"]\n",
        "var_seg.index = var_seg['rep_comercial']\n",
        "var_seg = var_seg.drop(\"rep_comercial\", axis=1)"
      ],
      "execution_count": 33,
      "outputs": []
    },
    {
      "cell_type": "code",
      "metadata": {
        "colab": {
          "base_uri": "https://localhost:8080/",
          "height": 454
        },
        "id": "fkmlqodeb1wk",
        "outputId": "a3f77287-1a52-4260-ed83-0ccac2e9a6ca"
      },
      "source": [
        "var_seg"
      ],
      "execution_count": 34,
      "outputs": [
        {
          "output_type": "execute_result",
          "data": {
            "text/html": [
              "<div>\n",
              "<style scoped>\n",
              "    .dataframe tbody tr th:only-of-type {\n",
              "        vertical-align: middle;\n",
              "    }\n",
              "\n",
              "    .dataframe tbody tr th {\n",
              "        vertical-align: top;\n",
              "    }\n",
              "\n",
              "    .dataframe thead th {\n",
              "        text-align: right;\n",
              "    }\n",
              "</style>\n",
              "<table border=\"1\" class=\"dataframe\">\n",
              "  <thead>\n",
              "    <tr style=\"text-align: right;\">\n",
              "      <th></th>\n",
              "      <th>V1</th>\n",
              "      <th>V2</th>\n",
              "      <th>V3</th>\n",
              "      <th>V4</th>\n",
              "      <th>V5</th>\n",
              "      <th>V6</th>\n",
              "      <th>V7</th>\n",
              "      <th>V8</th>\n",
              "    </tr>\n",
              "    <tr>\n",
              "      <th>rep_comercial</th>\n",
              "      <th></th>\n",
              "      <th></th>\n",
              "      <th></th>\n",
              "      <th></th>\n",
              "      <th></th>\n",
              "      <th></th>\n",
              "      <th></th>\n",
              "      <th></th>\n",
              "    </tr>\n",
              "  </thead>\n",
              "  <tbody>\n",
              "    <tr>\n",
              "      <th>1051912.0</th>\n",
              "      <td>31537.900000</td>\n",
              "      <td>0.008200</td>\n",
              "      <td>0.801952</td>\n",
              "      <td>0.281549</td>\n",
              "      <td>0.013165</td>\n",
              "      <td>1817.961135</td>\n",
              "      <td>1.243590</td>\n",
              "      <td>0.179380</td>\n",
              "    </tr>\n",
              "    <tr>\n",
              "      <th>1052190.0</th>\n",
              "      <td>33838.601667</td>\n",
              "      <td>0.008798</td>\n",
              "      <td>0.124029</td>\n",
              "      <td>1.767720</td>\n",
              "      <td>0.004579</td>\n",
              "      <td>58.524750</td>\n",
              "      <td>0.358974</td>\n",
              "      <td>0.016643</td>\n",
              "    </tr>\n",
              "    <tr>\n",
              "      <th>1053746.0</th>\n",
              "      <td>12131.832500</td>\n",
              "      <td>0.003154</td>\n",
              "      <td>0.032864</td>\n",
              "      <td>0.546954</td>\n",
              "      <td>0.000572</td>\n",
              "      <td>191.042332</td>\n",
              "      <td>0.064103</td>\n",
              "      <td>0.007397</td>\n",
              "    </tr>\n",
              "    <tr>\n",
              "      <th>1053821.0</th>\n",
              "      <td>14038.576667</td>\n",
              "      <td>0.003650</td>\n",
              "      <td>1.448659</td>\n",
              "      <td>0.125327</td>\n",
              "      <td>0.012021</td>\n",
              "      <td>358.305376</td>\n",
              "      <td>0.333333</td>\n",
              "      <td>0.221297</td>\n",
              "    </tr>\n",
              "    <tr>\n",
              "      <th>1054692.0</th>\n",
              "      <td>210.893333</td>\n",
              "      <td>0.000055</td>\n",
              "      <td>1.684513</td>\n",
              "      <td>0.002109</td>\n",
              "      <td>0.013452</td>\n",
              "      <td>466.235636</td>\n",
              "      <td>0.525641</td>\n",
              "      <td>0.272460</td>\n",
              "    </tr>\n",
              "    <tr>\n",
              "      <th>...</th>\n",
              "      <td>...</td>\n",
              "      <td>...</td>\n",
              "      <td>...</td>\n",
              "      <td>...</td>\n",
              "      <td>...</td>\n",
              "      <td>...</td>\n",
              "      <td>...</td>\n",
              "      <td>...</td>\n",
              "    </tr>\n",
              "    <tr>\n",
              "      <th>1278808.0</th>\n",
              "      <td>80439.739222</td>\n",
              "      <td>0.010925</td>\n",
              "      <td>0.043880</td>\n",
              "      <td>0.375094</td>\n",
              "      <td>0.000308</td>\n",
              "      <td>1179.377420</td>\n",
              "      <td>1.412500</td>\n",
              "      <td>0.010573</td>\n",
              "    </tr>\n",
              "    <tr>\n",
              "      <th>1278809.0</th>\n",
              "      <td>22288.091652</td>\n",
              "      <td>0.003041</td>\n",
              "      <td>0.215401</td>\n",
              "      <td>0.104396</td>\n",
              "      <td>0.000816</td>\n",
              "      <td>1745.068235</td>\n",
              "      <td>1.825000</td>\n",
              "      <td>0.060572</td>\n",
              "    </tr>\n",
              "    <tr>\n",
              "      <th>1278811.0</th>\n",
              "      <td>8233.909075</td>\n",
              "      <td>0.000930</td>\n",
              "      <td>0.059950</td>\n",
              "      <td>0.161317</td>\n",
              "      <td>0.000508</td>\n",
              "      <td>4775.580918</td>\n",
              "      <td>1.587500</td>\n",
              "      <td>0.018844</td>\n",
              "    </tr>\n",
              "    <tr>\n",
              "      <th>1278812.0</th>\n",
              "      <td>11201.920689</td>\n",
              "      <td>0.001145</td>\n",
              "      <td>0.018344</td>\n",
              "      <td>0.039330</td>\n",
              "      <td>0.000602</td>\n",
              "      <td>600.374795</td>\n",
              "      <td>0.575000</td>\n",
              "      <td>0.013803</td>\n",
              "    </tr>\n",
              "    <tr>\n",
              "      <th>1278821.0</th>\n",
              "      <td>28148.601627</td>\n",
              "      <td>0.003711</td>\n",
              "      <td>0.022586</td>\n",
              "      <td>0.127433</td>\n",
              "      <td>0.000869</td>\n",
              "      <td>457.364444</td>\n",
              "      <td>0.887500</td>\n",
              "      <td>0.013240</td>\n",
              "    </tr>\n",
              "  </tbody>\n",
              "</table>\n",
              "<p>2041 rows × 8 columns</p>\n",
              "</div>"
            ],
            "text/plain": [
              "                         V1        V2  ...        V7        V8\n",
              "rep_comercial                          ...                    \n",
              "1051912.0      31537.900000  0.008200  ...  1.243590  0.179380\n",
              "1052190.0      33838.601667  0.008798  ...  0.358974  0.016643\n",
              "1053746.0      12131.832500  0.003154  ...  0.064103  0.007397\n",
              "1053821.0      14038.576667  0.003650  ...  0.333333  0.221297\n",
              "1054692.0        210.893333  0.000055  ...  0.525641  0.272460\n",
              "...                     ...       ...  ...       ...       ...\n",
              "1278808.0      80439.739222  0.010925  ...  1.412500  0.010573\n",
              "1278809.0      22288.091652  0.003041  ...  1.825000  0.060572\n",
              "1278811.0       8233.909075  0.000930  ...  1.587500  0.018844\n",
              "1278812.0      11201.920689  0.001145  ...  0.575000  0.013803\n",
              "1278821.0      28148.601627  0.003711  ...  0.887500  0.013240\n",
              "\n",
              "[2041 rows x 8 columns]"
            ]
          },
          "metadata": {
            "tags": []
          },
          "execution_count": 34
        }
      ]
    },
    {
      "cell_type": "code",
      "metadata": {
        "id": "Ns-zfWFvFckq",
        "colab": {
          "base_uri": "https://localhost:8080/",
          "height": 299
        },
        "outputId": "a0137683-4964-4b31-adfe-2e89b7ec3512"
      },
      "source": [
        "var_seg.describe().round(5)"
      ],
      "execution_count": 35,
      "outputs": [
        {
          "output_type": "execute_result",
          "data": {
            "text/html": [
              "<div>\n",
              "<style scoped>\n",
              "    .dataframe tbody tr th:only-of-type {\n",
              "        vertical-align: middle;\n",
              "    }\n",
              "\n",
              "    .dataframe tbody tr th {\n",
              "        vertical-align: top;\n",
              "    }\n",
              "\n",
              "    .dataframe thead th {\n",
              "        text-align: right;\n",
              "    }\n",
              "</style>\n",
              "<table border=\"1\" class=\"dataframe\">\n",
              "  <thead>\n",
              "    <tr style=\"text-align: right;\">\n",
              "      <th></th>\n",
              "      <th>V1</th>\n",
              "      <th>V2</th>\n",
              "      <th>V3</th>\n",
              "      <th>V4</th>\n",
              "      <th>V5</th>\n",
              "      <th>V6</th>\n",
              "      <th>V7</th>\n",
              "      <th>V8</th>\n",
              "    </tr>\n",
              "  </thead>\n",
              "  <tbody>\n",
              "    <tr>\n",
              "      <th>count</th>\n",
              "      <td>2041.00000</td>\n",
              "      <td>2041.00000</td>\n",
              "      <td>2041.00000</td>\n",
              "      <td>2041.00000</td>\n",
              "      <td>2041.00000</td>\n",
              "      <td>2041.00000</td>\n",
              "      <td>2041.00000</td>\n",
              "      <td>2041.00000</td>\n",
              "    </tr>\n",
              "    <tr>\n",
              "      <th>mean</th>\n",
              "      <td>12755.75315</td>\n",
              "      <td>0.00320</td>\n",
              "      <td>0.19598</td>\n",
              "      <td>0.19316</td>\n",
              "      <td>0.00196</td>\n",
              "      <td>1726.34031</td>\n",
              "      <td>1.06083</td>\n",
              "      <td>0.03949</td>\n",
              "    </tr>\n",
              "    <tr>\n",
              "      <th>std</th>\n",
              "      <td>10984.51112</td>\n",
              "      <td>0.00277</td>\n",
              "      <td>0.57933</td>\n",
              "      <td>0.27152</td>\n",
              "      <td>0.00475</td>\n",
              "      <td>3294.48839</td>\n",
              "      <td>0.47892</td>\n",
              "      <td>0.10872</td>\n",
              "    </tr>\n",
              "    <tr>\n",
              "      <th>min</th>\n",
              "      <td>3.54833</td>\n",
              "      <td>0.00000</td>\n",
              "      <td>0.00002</td>\n",
              "      <td>0.00004</td>\n",
              "      <td>0.00001</td>\n",
              "      <td>0.12213</td>\n",
              "      <td>0.01250</td>\n",
              "      <td>0.00003</td>\n",
              "    </tr>\n",
              "    <tr>\n",
              "      <th>25%</th>\n",
              "      <td>4441.80250</td>\n",
              "      <td>0.00110</td>\n",
              "      <td>0.02461</td>\n",
              "      <td>0.04848</td>\n",
              "      <td>0.00037</td>\n",
              "      <td>428.72574</td>\n",
              "      <td>0.73077</td>\n",
              "      <td>0.00639</td>\n",
              "    </tr>\n",
              "    <tr>\n",
              "      <th>50%</th>\n",
              "      <td>10589.44854</td>\n",
              "      <td>0.00264</td>\n",
              "      <td>0.05963</td>\n",
              "      <td>0.11223</td>\n",
              "      <td>0.00067</td>\n",
              "      <td>1033.19177</td>\n",
              "      <td>1.13333</td>\n",
              "      <td>0.01368</td>\n",
              "    </tr>\n",
              "    <tr>\n",
              "      <th>75%</th>\n",
              "      <td>18120.49250</td>\n",
              "      <td>0.00455</td>\n",
              "      <td>0.12166</td>\n",
              "      <td>0.21110</td>\n",
              "      <td>0.00106</td>\n",
              "      <td>2041.51544</td>\n",
              "      <td>1.41250</td>\n",
              "      <td>0.02511</td>\n",
              "    </tr>\n",
              "    <tr>\n",
              "      <th>max</th>\n",
              "      <td>94607.88083</td>\n",
              "      <td>0.02460</td>\n",
              "      <td>11.30034</td>\n",
              "      <td>2.64027</td>\n",
              "      <td>0.06250</td>\n",
              "      <td>93899.30183</td>\n",
              "      <td>2.12500</td>\n",
              "      <td>2.62581</td>\n",
              "    </tr>\n",
              "  </tbody>\n",
              "</table>\n",
              "</div>"
            ],
            "text/plain": [
              "                V1          V2          V3  ...           V6          V7          V8\n",
              "count   2041.00000  2041.00000  2041.00000  ...   2041.00000  2041.00000  2041.00000\n",
              "mean   12755.75315     0.00320     0.19598  ...   1726.34031     1.06083     0.03949\n",
              "std    10984.51112     0.00277     0.57933  ...   3294.48839     0.47892     0.10872\n",
              "min        3.54833     0.00000     0.00002  ...      0.12213     0.01250     0.00003\n",
              "25%     4441.80250     0.00110     0.02461  ...    428.72574     0.73077     0.00639\n",
              "50%    10589.44854     0.00264     0.05963  ...   1033.19177     1.13333     0.01368\n",
              "75%    18120.49250     0.00455     0.12166  ...   2041.51544     1.41250     0.02511\n",
              "max    94607.88083     0.02460    11.30034  ...  93899.30183     2.12500     2.62581\n",
              "\n",
              "[8 rows x 8 columns]"
            ]
          },
          "metadata": {
            "tags": []
          },
          "execution_count": 35
        }
      ]
    },
    {
      "cell_type": "code",
      "metadata": {
        "id": "83us1Fhwb7Ya"
      },
      "source": [
        ""
      ],
      "execution_count": 35,
      "outputs": []
    },
    {
      "cell_type": "code",
      "metadata": {
        "id": "JPqpxa1rb7Yl"
      },
      "source": [
        "num_vars = ['V1','V2','V3', 'V4', 'V5', 'V6','V7', 'V8']\n",
        "std_scaler = SklearnTransformerWrapper(transformer=StandardScaler(),\n",
        "                                      variables = num_vars)"
      ],
      "execution_count": 36,
      "outputs": []
    },
    {
      "cell_type": "code",
      "metadata": {
        "id": "TETCYnr-gYuQ"
      },
      "source": [
        "#std_scaler = SklearnTransformerWrapper(transformer=MinMaxScaler(),\n",
        "#                                     variables = num_vars)"
      ],
      "execution_count": 37,
      "outputs": []
    },
    {
      "cell_type": "markdown",
      "metadata": {
        "id": "q7gQqTcCb7Yn"
      },
      "source": [
        "#### Padronizando Variáveis"
      ]
    },
    {
      "cell_type": "code",
      "metadata": {
        "id": "Y4-Sys8_b7Yo"
      },
      "source": [
        "df_aux_sc = std_scaler.fit_transform(var_seg)"
      ],
      "execution_count": 38,
      "outputs": []
    },
    {
      "cell_type": "code",
      "metadata": {
        "colab": {
          "base_uri": "https://localhost:8080/",
          "height": 454
        },
        "id": "AV5UUbmOPqPy",
        "outputId": "93999842-951d-4d1c-a4d5-fc73e4808e9e"
      },
      "source": [
        "df_aux_sc"
      ],
      "execution_count": 39,
      "outputs": [
        {
          "output_type": "execute_result",
          "data": {
            "text/html": [
              "<div>\n",
              "<style scoped>\n",
              "    .dataframe tbody tr th:only-of-type {\n",
              "        vertical-align: middle;\n",
              "    }\n",
              "\n",
              "    .dataframe tbody tr th {\n",
              "        vertical-align: top;\n",
              "    }\n",
              "\n",
              "    .dataframe thead th {\n",
              "        text-align: right;\n",
              "    }\n",
              "</style>\n",
              "<table border=\"1\" class=\"dataframe\">\n",
              "  <thead>\n",
              "    <tr style=\"text-align: right;\">\n",
              "      <th></th>\n",
              "      <th>V1</th>\n",
              "      <th>V2</th>\n",
              "      <th>V3</th>\n",
              "      <th>V4</th>\n",
              "      <th>V5</th>\n",
              "      <th>V6</th>\n",
              "      <th>V7</th>\n",
              "      <th>V8</th>\n",
              "    </tr>\n",
              "    <tr>\n",
              "      <th>rep_comercial</th>\n",
              "      <th></th>\n",
              "      <th></th>\n",
              "      <th></th>\n",
              "      <th></th>\n",
              "      <th></th>\n",
              "      <th></th>\n",
              "      <th></th>\n",
              "      <th></th>\n",
              "    </tr>\n",
              "  </thead>\n",
              "  <tbody>\n",
              "    <tr>\n",
              "      <th>1051912.0</th>\n",
              "      <td>1.710295</td>\n",
              "      <td>1.806787</td>\n",
              "      <td>1.046231</td>\n",
              "      <td>0.325628</td>\n",
              "      <td>2.360096</td>\n",
              "      <td>0.027817</td>\n",
              "      <td>0.381694</td>\n",
              "      <td>1.286956</td>\n",
              "    </tr>\n",
              "    <tr>\n",
              "      <th>1052190.0</th>\n",
              "      <td>1.919796</td>\n",
              "      <td>2.023008</td>\n",
              "      <td>-0.124231</td>\n",
              "      <td>5.800444</td>\n",
              "      <td>0.551699</td>\n",
              "      <td>-0.506368</td>\n",
              "      <td>-1.465859</td>\n",
              "      <td>-0.210207</td>\n",
              "    </tr>\n",
              "    <tr>\n",
              "      <th>1053746.0</th>\n",
              "      <td>-0.056814</td>\n",
              "      <td>-0.017009</td>\n",
              "      <td>-0.281631</td>\n",
              "      <td>1.303336</td>\n",
              "      <td>-0.292220</td>\n",
              "      <td>-0.466134</td>\n",
              "      <td>-2.081710</td>\n",
              "      <td>-0.295273</td>\n",
              "    </tr>\n",
              "    <tr>\n",
              "      <th>1053821.0</th>\n",
              "      <td>0.116813</td>\n",
              "      <td>0.162188</td>\n",
              "      <td>2.162797</td>\n",
              "      <td>-0.249870</td>\n",
              "      <td>2.118977</td>\n",
              "      <td>-0.415351</td>\n",
              "      <td>-1.519411</td>\n",
              "      <td>1.672589</td>\n",
              "    </tr>\n",
              "    <tr>\n",
              "      <th>1054692.0</th>\n",
              "      <td>-1.142330</td>\n",
              "      <td>-1.137348</td>\n",
              "      <td>2.570008</td>\n",
              "      <td>-0.703785</td>\n",
              "      <td>2.420376</td>\n",
              "      <td>-0.382582</td>\n",
              "      <td>-1.117769</td>\n",
              "      <td>2.143288</td>\n",
              "    </tr>\n",
              "    <tr>\n",
              "      <th>...</th>\n",
              "      <td>...</td>\n",
              "      <td>...</td>\n",
              "      <td>...</td>\n",
              "      <td>...</td>\n",
              "      <td>...</td>\n",
              "      <td>...</td>\n",
              "      <td>...</td>\n",
              "      <td>...</td>\n",
              "    </tr>\n",
              "    <tr>\n",
              "      <th>1278808.0</th>\n",
              "      <td>6.163276</td>\n",
              "      <td>2.791560</td>\n",
              "      <td>-0.262611</td>\n",
              "      <td>0.670232</td>\n",
              "      <td>-0.347989</td>\n",
              "      <td>-0.166064</td>\n",
              "      <td>0.734470</td>\n",
              "      <td>-0.266056</td>\n",
              "    </tr>\n",
              "    <tr>\n",
              "      <th>1278809.0</th>\n",
              "      <td>0.868011</td>\n",
              "      <td>-0.058157</td>\n",
              "      <td>0.033527</td>\n",
              "      <td>-0.326976</td>\n",
              "      <td>-0.240943</td>\n",
              "      <td>0.005686</td>\n",
              "      <td>1.595992</td>\n",
              "      <td>0.193936</td>\n",
              "    </tr>\n",
              "    <tr>\n",
              "      <th>1278811.0</th>\n",
              "      <td>-0.411757</td>\n",
              "      <td>-0.820891</td>\n",
              "      <td>-0.234865</td>\n",
              "      <td>-0.117287</td>\n",
              "      <td>-0.305734</td>\n",
              "      <td>0.925785</td>\n",
              "      <td>1.099964</td>\n",
              "      <td>-0.189959</td>\n",
              "    </tr>\n",
              "    <tr>\n",
              "      <th>1278812.0</th>\n",
              "      <td>-0.141491</td>\n",
              "      <td>-0.743127</td>\n",
              "      <td>-0.306700</td>\n",
              "      <td>-0.566669</td>\n",
              "      <td>-0.286015</td>\n",
              "      <td>-0.341856</td>\n",
              "      <td>-1.014681</td>\n",
              "      <td>-0.236340</td>\n",
              "    </tr>\n",
              "    <tr>\n",
              "      <th>1278821.0</th>\n",
              "      <td>1.401666</td>\n",
              "      <td>0.184363</td>\n",
              "      <td>-0.299376</td>\n",
              "      <td>-0.242110</td>\n",
              "      <td>-0.229675</td>\n",
              "      <td>-0.385276</td>\n",
              "      <td>-0.362013</td>\n",
              "      <td>-0.241517</td>\n",
              "    </tr>\n",
              "  </tbody>\n",
              "</table>\n",
              "<p>2041 rows × 8 columns</p>\n",
              "</div>"
            ],
            "text/plain": [
              "                     V1        V2        V3  ...        V6        V7        V8\n",
              "rep_comercial                                ...                              \n",
              "1051912.0      1.710295  1.806787  1.046231  ...  0.027817  0.381694  1.286956\n",
              "1052190.0      1.919796  2.023008 -0.124231  ... -0.506368 -1.465859 -0.210207\n",
              "1053746.0     -0.056814 -0.017009 -0.281631  ... -0.466134 -2.081710 -0.295273\n",
              "1053821.0      0.116813  0.162188  2.162797  ... -0.415351 -1.519411  1.672589\n",
              "1054692.0     -1.142330 -1.137348  2.570008  ... -0.382582 -1.117769  2.143288\n",
              "...                 ...       ...       ...  ...       ...       ...       ...\n",
              "1278808.0      6.163276  2.791560 -0.262611  ... -0.166064  0.734470 -0.266056\n",
              "1278809.0      0.868011 -0.058157  0.033527  ...  0.005686  1.595992  0.193936\n",
              "1278811.0     -0.411757 -0.820891 -0.234865  ...  0.925785  1.099964 -0.189959\n",
              "1278812.0     -0.141491 -0.743127 -0.306700  ... -0.341856 -1.014681 -0.236340\n",
              "1278821.0      1.401666  0.184363 -0.299376  ... -0.385276 -0.362013 -0.241517\n",
              "\n",
              "[2041 rows x 8 columns]"
            ]
          },
          "metadata": {
            "tags": []
          },
          "execution_count": 39
        }
      ]
    },
    {
      "cell_type": "markdown",
      "metadata": {
        "id": "TX5WLt037GIJ"
      },
      "source": [
        "### Testes para verificar a analise fatorial"
      ]
    },
    {
      "cell_type": "markdown",
      "metadata": {
        "id": "wCEn8EpiDCrF"
      },
      "source": [
        "Bartlett’s test of sphericity checks whether or not the observed variables intercorrelate at all using the observed correlation matrix against the identity matrix. If the test found statistically insignificant, you should not employ a factor analysis."
      ]
    },
    {
      "cell_type": "code",
      "metadata": {
        "colab": {
          "base_uri": "https://localhost:8080/"
        },
        "id": "MAa5CWpBE819",
        "outputId": "f022bac4-510c-47fc-ab87-2553c0d6692b"
      },
      "source": [
        "chi_square_value,p_value=calculate_bartlett_sphericity(df_aux_sc)\n",
        "chi_square_value, p_value"
      ],
      "execution_count": 40,
      "outputs": [
        {
          "output_type": "execute_result",
          "data": {
            "text/plain": [
              "(15787.901351260387, 0.0)"
            ]
          },
          "metadata": {
            "tags": []
          },
          "execution_count": 40
        }
      ]
    },
    {
      "cell_type": "markdown",
      "metadata": {
        "id": "aVtS1q7cC2LE"
      },
      "source": [
        "Kaiser-Meyer-Olkin (KMO) Test measures the suitability of data for factor analysis. It determines the adequacy for each observed variable and for the complete model. KMO estimates the proportion of variance among all the observed variable. Lower proportion id more suitable for factor analysis. KMO values range between 0 and 1. Value of KMO less than 0.6 is considered inadequate."
      ]
    },
    {
      "cell_type": "code",
      "metadata": {
        "colab": {
          "base_uri": "https://localhost:8080/"
        },
        "id": "rv-R4VzjFFCy",
        "outputId": "b6c241dc-202c-47be-be5b-3fd08715ebb3"
      },
      "source": [
        "kmo_all,kmo_model=calculate_kmo(df_aux_sc)\n",
        "kmo_model"
      ],
      "execution_count": 41,
      "outputs": [
        {
          "output_type": "execute_result",
          "data": {
            "text/plain": [
              "0.6913348961297054"
            ]
          },
          "metadata": {
            "tags": []
          },
          "execution_count": 41
        }
      ]
    },
    {
      "cell_type": "code",
      "metadata": {
        "id": "Md8SunnRGdxy"
      },
      "source": [
        "#EXPLORATORY FACTOR ANALYSIS\n",
        "#fa = FactorAnalyzer(3, rotation=None)\n",
        "#fa.fit(df_aux_sc)\n",
        "\n",
        "#FactorAnalyzer(bounds=(0.005, 1), impute='median', is_corr_matrix=False,\n",
        "#               method='minres', n_factors=3, rotation=None, rotation_kwargs={},\n",
        "#               use_smc=True)\n",
        "\n"
      ],
      "execution_count": 42,
      "outputs": []
    },
    {
      "cell_type": "code",
      "metadata": {
        "id": "5y19kr2XIbLL"
      },
      "source": [
        "##Variacia explicada dos dados\n",
        "#pd.DataFrame(fa.get_factor_variance())"
      ],
      "execution_count": 43,
      "outputs": []
    },
    {
      "cell_type": "code",
      "metadata": {
        "id": "X7ik1r28GdTr"
      },
      "source": [
        "#fa = FactorAnalyzer(3, rotation=\"Varimax\")\n",
        "#fa.fit(df_aux_sc)\n",
        "#fa.get_factor_variance()\n",
        "#fa.loadings_"
      ],
      "execution_count": 44,
      "outputs": []
    },
    {
      "cell_type": "markdown",
      "metadata": {
        "id": "jAMLGa_xI_3B"
      },
      "source": [
        "### Análise Fatorial Confirmatória"
      ]
    },
    {
      "cell_type": "code",
      "metadata": {
        "id": "e0sMz79oGdHN",
        "colab": {
          "base_uri": "https://localhost:8080/"
        },
        "outputId": "ebd726f4-af38-452d-9c79-c3995c4e0fa8"
      },
      "source": [
        "model_dict = {\"F1\": [\"V1\", \"V2\",\"V3\",\"V4\"],\n",
        "              \"F2\": [\"V6\", \"V7\", \"V8\"],\n",
        "              \"F3\": ['V5']}\n",
        "model_spec = ModelSpecificationParser.parse_model_specification_from_dict(df_aux_sc, model_dict)\n",
        "cfa = ConfirmatoryFactorAnalyzer(model_spec, disp=True)\n",
        "cfa.fit(df_aux_sc)\n",
        "cfa.loadings_.round(2)\n"
      ],
      "execution_count": 45,
      "outputs": [
        {
          "output_type": "stream",
          "text": [
            "/usr/local/lib/python3.7/dist-packages/factor_analyzer/confirmatory_factor_analyzer.py:733: UserWarning: The optimization routine failed to converge: b'ABNORMAL_TERMINATION_IN_LNSRCH'\n",
            "  'to converge: {}'.format(str(res.message)))\n"
          ],
          "name": "stderr"
        },
        {
          "output_type": "execute_result",
          "data": {
            "text/plain": [
              "array([[1.05, 0.  , 0.  ],\n",
              "       [1.05, 0.  , 0.  ],\n",
              "       [0.67, 0.  , 0.  ],\n",
              "       [0.96, 0.  , 0.  ],\n",
              "       [0.  , 0.84, 0.  ],\n",
              "       [0.  , 0.93, 0.  ],\n",
              "       [0.  , 0.89, 0.  ],\n",
              "       [0.  , 0.  , 0.87]])"
            ]
          },
          "metadata": {
            "tags": []
          },
          "execution_count": 45
        }
      ]
    },
    {
      "cell_type": "code",
      "metadata": {
        "colab": {
          "base_uri": "https://localhost:8080/"
        },
        "id": "M6d7TlvgBLd8",
        "outputId": "13a649c2-dc00-4455-a3a2-9cdbc01a8486"
      },
      "source": [
        "# Calculo dos autovalores\n",
        "sum(pd.DataFrame(cfa.loadings_.round(2)).iloc[:,0]**2)+sum(pd.DataFrame(cfa.loadings_.round(2)).iloc[:,1]**2)+sum(pd.DataFrame(cfa.loadings_.round(2)).iloc[:,2]**2)"
      ],
      "execution_count": 46,
      "outputs": [
        {
          "output_type": "execute_result",
          "data": {
            "text/plain": [
              "6.695"
            ]
          },
          "metadata": {
            "tags": []
          },
          "execution_count": 46
        }
      ]
    },
    {
      "cell_type": "code",
      "metadata": {
        "colab": {
          "base_uri": "https://localhost:8080/"
        },
        "id": "deyoaG6tYxFz",
        "outputId": "404956c1-f87f-4243-fd0b-fed0706ceba2"
      },
      "source": [
        "def percentage(part, whole):\n",
        "  return 100 * float(part)/float(whole)\n",
        "\n",
        "percentage(sum(pd.DataFrame(cfa.loadings_.round(2)).iloc[:,2]**2),whole=6.695)"
      ],
      "execution_count": 47,
      "outputs": [
        {
          "output_type": "execute_result",
          "data": {
            "text/plain": [
              "11.305451829723674"
            ]
          },
          "metadata": {
            "tags": []
          },
          "execution_count": 47
        }
      ]
    },
    {
      "cell_type": "code",
      "metadata": {
        "id": "BxLHaYqEGdCh",
        "colab": {
          "base_uri": "https://localhost:8080/"
        },
        "outputId": "1031f2b8-46a7-4912-987c-bc88621511a5"
      },
      "source": [
        "fact_trans = pd.DataFrame(cfa.fit_transform(df_aux_sc))\n",
        "um = (fact_trans.iloc[:,0]-min(fact_trans.iloc[:,0]))/(max(fact_trans.iloc[:,0])-min(fact_trans.iloc[:,0]))\n",
        "dois = (fact_trans.iloc[:,1]-min(fact_trans.iloc[:,1]))/(max(fact_trans.iloc[:,1])-min(fact_trans.iloc[:,1]))\n",
        "tres = (fact_trans.iloc[:,2]-min(fact_trans.iloc[:,2]))/(max(fact_trans.iloc[:,2])-min(fact_trans.iloc[:,2]))"
      ],
      "execution_count": 48,
      "outputs": [
        {
          "output_type": "stream",
          "text": [
            "/usr/local/lib/python3.7/dist-packages/factor_analyzer/confirmatory_factor_analyzer.py:733: UserWarning: The optimization routine failed to converge: b'ABNORMAL_TERMINATION_IN_LNSRCH'\n",
            "  'to converge: {}'.format(str(res.message)))\n"
          ],
          "name": "stderr"
        }
      ]
    },
    {
      "cell_type": "code",
      "metadata": {
        "id": "kLc_2UrxGc9X"
      },
      "source": [
        "Indicador_Norm = pd.DataFrame(pd.concat([um,dois,tres],axis=1))"
      ],
      "execution_count": 49,
      "outputs": []
    },
    {
      "cell_type": "code",
      "metadata": {
        "id": "oPxvpRBqGcz8",
        "colab": {
          "base_uri": "https://localhost:8080/"
        },
        "outputId": "e3a760c4-6858-4c2f-c03a-6a32caffde78"
      },
      "source": [
        "Indicador_Norm = np.where(Indicador_Norm < 0, 0, Indicador_Norm)\n",
        "Indicador_Norm = np.where(Indicador_Norm > 1, 1, Indicador_Norm)\n",
        "Indicador_Norm\n"
      ],
      "execution_count": 50,
      "outputs": [
        {
          "output_type": "execute_result",
          "data": {
            "text/plain": [
              "array([[0.34828715, 0.16482768, 0.06830241],\n",
              "       [0.53083963, 0.04635172, 0.00632595],\n",
              "       [0.17983815, 0.00813478, 0.00280456],\n",
              "       ...,\n",
              "       [0.07547077, 0.1484759 , 0.00716415],\n",
              "       [0.07827451, 0.0438289 , 0.00524416],\n",
              "       [0.21553664, 0.06294068, 0.00502987]])"
            ]
          },
          "metadata": {
            "tags": []
          },
          "execution_count": 50
        }
      ]
    },
    {
      "cell_type": "code",
      "metadata": {
        "id": "-0D2aWNMGccy",
        "colab": {
          "base_uri": "https://localhost:8080/"
        },
        "outputId": "19d81ed3-2419-4ebe-9f3e-d0f0f73c1af2"
      },
      "source": [
        "#Pesos = [0.53,0.31,0.11]\n",
        "um = pd.DataFrame(Indicador_Norm[:,0]*0.53)\n",
        "dois = pd.DataFrame(Indicador_Norm[:,1]*0.31)\n",
        "tres = pd.DataFrame(Indicador_Norm[:,2]*0.11)\n",
        "Indicador_final = pd.DataFrame(pd.concat([um,dois,tres],axis=1))\n",
        "Indicador_final = Indicador_final.sum(axis=1)\n",
        "Indicador_final = 100 * Indicador_final/float(max(Indicador_final))\n",
        "Indicador_final"
      ],
      "execution_count": 51,
      "outputs": [
        {
          "output_type": "execute_result",
          "data": {
            "text/plain": [
              "0       44.624868\n",
              "1       54.387917\n",
              "2       18.008424\n",
              "3       23.767461\n",
              "4       11.553901\n",
              "          ...    \n",
              "2036    66.346741\n",
              "2037    25.234333\n",
              "2038    15.929603\n",
              "2039    10.211029\n",
              "2040    24.642430\n",
              "Length: 2041, dtype: float64"
            ]
          },
          "metadata": {
            "tags": []
          },
          "execution_count": 51
        }
      ]
    },
    {
      "cell_type": "code",
      "metadata": {
        "id": "8S4Z58z_3J5C"
      },
      "source": [
        "Indicador_final = pd.concat([df_aux_sc.reset_index().iloc[:,0],Indicador_final], axis=1)"
      ],
      "execution_count": 52,
      "outputs": []
    },
    {
      "cell_type": "code",
      "metadata": {
        "colab": {
          "base_uri": "https://localhost:8080/",
          "height": 236
        },
        "id": "wtVkkWz63loh",
        "outputId": "111d3dcb-ddf5-4cf2-9356-f69468120021"
      },
      "source": [
        "Indicador_final.index = Indicador_final.rep_comercial\n",
        "Indicador_final.head()"
      ],
      "execution_count": 53,
      "outputs": [
        {
          "output_type": "execute_result",
          "data": {
            "text/html": [
              "<div>\n",
              "<style scoped>\n",
              "    .dataframe tbody tr th:only-of-type {\n",
              "        vertical-align: middle;\n",
              "    }\n",
              "\n",
              "    .dataframe tbody tr th {\n",
              "        vertical-align: top;\n",
              "    }\n",
              "\n",
              "    .dataframe thead th {\n",
              "        text-align: right;\n",
              "    }\n",
              "</style>\n",
              "<table border=\"1\" class=\"dataframe\">\n",
              "  <thead>\n",
              "    <tr style=\"text-align: right;\">\n",
              "      <th></th>\n",
              "      <th>rep_comercial</th>\n",
              "      <th>0</th>\n",
              "    </tr>\n",
              "    <tr>\n",
              "      <th>rep_comercial</th>\n",
              "      <th></th>\n",
              "      <th></th>\n",
              "    </tr>\n",
              "  </thead>\n",
              "  <tbody>\n",
              "    <tr>\n",
              "      <th>1051912.0</th>\n",
              "      <td>1051912.0</td>\n",
              "      <td>44.624868</td>\n",
              "    </tr>\n",
              "    <tr>\n",
              "      <th>1052190.0</th>\n",
              "      <td>1052190.0</td>\n",
              "      <td>54.387917</td>\n",
              "    </tr>\n",
              "    <tr>\n",
              "      <th>1053746.0</th>\n",
              "      <td>1053746.0</td>\n",
              "      <td>18.008424</td>\n",
              "    </tr>\n",
              "    <tr>\n",
              "      <th>1053821.0</th>\n",
              "      <td>1053821.0</td>\n",
              "      <td>23.767461</td>\n",
              "    </tr>\n",
              "    <tr>\n",
              "      <th>1054692.0</th>\n",
              "      <td>1054692.0</td>\n",
              "      <td>11.553901</td>\n",
              "    </tr>\n",
              "  </tbody>\n",
              "</table>\n",
              "</div>"
            ],
            "text/plain": [
              "               rep_comercial          0\n",
              "rep_comercial                          \n",
              "1051912.0          1051912.0  44.624868\n",
              "1052190.0          1052190.0  54.387917\n",
              "1053746.0          1053746.0  18.008424\n",
              "1053821.0          1053821.0  23.767461\n",
              "1054692.0          1054692.0  11.553901"
            ]
          },
          "metadata": {
            "tags": []
          },
          "execution_count": 53
        }
      ]
    },
    {
      "cell_type": "code",
      "metadata": {
        "id": "qmH2qhj5i_dM"
      },
      "source": [
        "df_aux_2 =df[['DsTipoRepresentante','IdRepComercial']]\n",
        "df_aux_2.columns = ['DsTipoRepresentante','rep_comercial']\n",
        "df_aux_2.index = df_aux_2['rep_comercial']\n",
        "df_aux_2 = pd.merge(Indicador_final, df_aux_2, left_index=True, right_index=True, how=\"inner\")\n",
        "df_aux_2.columns = ['rep_comercial_x','um','DsTipoRepresentante','rep_comercial_y']\n",
        "df_aux_2 = df_aux_2[['um','DsTipoRepresentante','rep_comercial_x']]\n",
        "df_aux_2 = df_aux_2.groupby(['DsTipoRepresentante','rep_comercial_x'])[['um']].mean().unstack(level=0,fill_value=0)"
      ],
      "execution_count": 122,
      "outputs": []
    },
    {
      "cell_type": "code",
      "metadata": {
        "id": "AQGdqeSB88ot"
      },
      "source": [
        "df_aux_2.columns = df_aux_2.columns.droplevel()\n",
        "#df_aux_2.reset_index()\n",
        "df_aux_2.columns"
      ],
      "execution_count": 123,
      "outputs": []
    },
    {
      "cell_type": "code",
      "metadata": {
        "id": "u_b9PGiossQZ"
      },
      "source": [
        "df_aux_2.columns=['um','dois','tres','quatro']"
      ],
      "execution_count": 131,
      "outputs": []
    },
    {
      "cell_type": "code",
      "metadata": {
        "colab": {
          "base_uri": "https://localhost:8080/",
          "height": 454
        },
        "id": "px67sgWQsFx_",
        "outputId": "55fd2e34-076d-4144-f672-c59296bb640f"
      },
      "source": [
        "df_aux_2.sort_values(by=['um','dois','tres','quatro'],ascending=False)"
      ],
      "execution_count": 145,
      "outputs": [
        {
          "output_type": "execute_result",
          "data": {
            "text/html": [
              "<div>\n",
              "<style scoped>\n",
              "    .dataframe tbody tr th:only-of-type {\n",
              "        vertical-align: middle;\n",
              "    }\n",
              "\n",
              "    .dataframe tbody tr th {\n",
              "        vertical-align: top;\n",
              "    }\n",
              "\n",
              "    .dataframe thead th {\n",
              "        text-align: right;\n",
              "    }\n",
              "</style>\n",
              "<table border=\"1\" class=\"dataframe\">\n",
              "  <thead>\n",
              "    <tr style=\"text-align: right;\">\n",
              "      <th></th>\n",
              "      <th>um</th>\n",
              "      <th>dois</th>\n",
              "      <th>tres</th>\n",
              "      <th>quatro</th>\n",
              "      <th>segKmeans</th>\n",
              "    </tr>\n",
              "    <tr>\n",
              "      <th>rep_comercial_x</th>\n",
              "      <th></th>\n",
              "      <th></th>\n",
              "      <th></th>\n",
              "      <th></th>\n",
              "      <th></th>\n",
              "    </tr>\n",
              "  </thead>\n",
              "  <tbody>\n",
              "    <tr>\n",
              "      <th>1241944.0</th>\n",
              "      <td>100.000000</td>\n",
              "      <td>0.0</td>\n",
              "      <td>0.0</td>\n",
              "      <td>0.000000</td>\n",
              "      <td>1</td>\n",
              "    </tr>\n",
              "    <tr>\n",
              "      <th>1241949.0</th>\n",
              "      <td>69.988953</td>\n",
              "      <td>0.0</td>\n",
              "      <td>0.0</td>\n",
              "      <td>0.000000</td>\n",
              "      <td>1</td>\n",
              "    </tr>\n",
              "    <tr>\n",
              "      <th>1085545.0</th>\n",
              "      <td>54.853804</td>\n",
              "      <td>0.0</td>\n",
              "      <td>0.0</td>\n",
              "      <td>0.000000</td>\n",
              "      <td>1</td>\n",
              "    </tr>\n",
              "    <tr>\n",
              "      <th>1241967.0</th>\n",
              "      <td>54.190543</td>\n",
              "      <td>0.0</td>\n",
              "      <td>0.0</td>\n",
              "      <td>0.000000</td>\n",
              "      <td>1</td>\n",
              "    </tr>\n",
              "    <tr>\n",
              "      <th>1241950.0</th>\n",
              "      <td>54.082039</td>\n",
              "      <td>0.0</td>\n",
              "      <td>0.0</td>\n",
              "      <td>0.000000</td>\n",
              "      <td>1</td>\n",
              "    </tr>\n",
              "    <tr>\n",
              "      <th>...</th>\n",
              "      <td>...</td>\n",
              "      <td>...</td>\n",
              "      <td>...</td>\n",
              "      <td>...</td>\n",
              "      <td>...</td>\n",
              "    </tr>\n",
              "    <tr>\n",
              "      <th>1214334.0</th>\n",
              "      <td>0.000000</td>\n",
              "      <td>0.0</td>\n",
              "      <td>0.0</td>\n",
              "      <td>0.625022</td>\n",
              "      <td>0</td>\n",
              "    </tr>\n",
              "    <tr>\n",
              "      <th>1223728.0</th>\n",
              "      <td>0.000000</td>\n",
              "      <td>0.0</td>\n",
              "      <td>0.0</td>\n",
              "      <td>0.504493</td>\n",
              "      <td>0</td>\n",
              "    </tr>\n",
              "    <tr>\n",
              "      <th>1215139.0</th>\n",
              "      <td>0.000000</td>\n",
              "      <td>0.0</td>\n",
              "      <td>0.0</td>\n",
              "      <td>0.466934</td>\n",
              "      <td>0</td>\n",
              "    </tr>\n",
              "    <tr>\n",
              "      <th>1172713.0</th>\n",
              "      <td>0.000000</td>\n",
              "      <td>0.0</td>\n",
              "      <td>0.0</td>\n",
              "      <td>0.407057</td>\n",
              "      <td>0</td>\n",
              "    </tr>\n",
              "    <tr>\n",
              "      <th>1199021.0</th>\n",
              "      <td>0.000000</td>\n",
              "      <td>0.0</td>\n",
              "      <td>0.0</td>\n",
              "      <td>0.329728</td>\n",
              "      <td>0</td>\n",
              "    </tr>\n",
              "  </tbody>\n",
              "</table>\n",
              "<p>2041 rows × 5 columns</p>\n",
              "</div>"
            ],
            "text/plain": [
              "                         um  dois  tres    quatro  segKmeans\n",
              "rep_comercial_x                                             \n",
              "1241944.0        100.000000   0.0   0.0  0.000000          1\n",
              "1241949.0         69.988953   0.0   0.0  0.000000          1\n",
              "1085545.0         54.853804   0.0   0.0  0.000000          1\n",
              "1241967.0         54.190543   0.0   0.0  0.000000          1\n",
              "1241950.0         54.082039   0.0   0.0  0.000000          1\n",
              "...                     ...   ...   ...       ...        ...\n",
              "1214334.0          0.000000   0.0   0.0  0.625022          0\n",
              "1223728.0          0.000000   0.0   0.0  0.504493          0\n",
              "1215139.0          0.000000   0.0   0.0  0.466934          0\n",
              "1172713.0          0.000000   0.0   0.0  0.407057          0\n",
              "1199021.0          0.000000   0.0   0.0  0.329728          0\n",
              "\n",
              "[2041 rows x 5 columns]"
            ]
          },
          "metadata": {
            "tags": []
          },
          "execution_count": 145
        }
      ]
    },
    {
      "cell_type": "code",
      "metadata": {
        "colab": {
          "base_uri": "https://localhost:8080/"
        },
        "id": "nK4o4Spt3HSo",
        "outputId": "e4a660f8-74de-4902-8e4d-cd9d8b10a259"
      },
      "source": [
        "print((df_aux_2['um'].max()-df_aux_2['um'].min())/5)\n",
        "print((df_aux_2['dois'].max()-df_aux_2['um'].min())/5)\n",
        "print((df_aux_2['tres'].max()-df_aux_2['um'].min())/5)\n",
        "print((df_aux_2['quatro'].max()-df_aux_2['um'].min())/5)"
      ],
      "execution_count": 179,
      "outputs": [
        {
          "output_type": "stream",
          "text": [
            "20.0\n",
            "9.702040407594092\n",
            "15.683236875815671\n",
            "16.111502933215906\n"
          ],
          "name": "stdout"
        }
      ]
    },
    {
      "cell_type": "code",
      "metadata": {
        "colab": {
          "base_uri": "https://localhost:8080/",
          "height": 81
        },
        "id": "yGYB_umz3HCZ",
        "outputId": "97749836-3086-4e19-83ed-916846408fb6"
      },
      "source": [
        "#df_aux_2.query('um <= 20 & dois <= 9.7 & tres <= 15.68 & quatro <= 16.11')\n",
        "#df_aux_2.query('um > 40 & um <= 60 & dois > 19.4 & dois <= 29.1 & tres > 31.36 & tres <= 47.04 & quatro > 32.22 & quatro <=48.33 ')"
      ],
      "execution_count": 189,
      "outputs": [
        {
          "output_type": "execute_result",
          "data": {
            "text/html": [
              "<div>\n",
              "<style scoped>\n",
              "    .dataframe tbody tr th:only-of-type {\n",
              "        vertical-align: middle;\n",
              "    }\n",
              "\n",
              "    .dataframe tbody tr th {\n",
              "        vertical-align: top;\n",
              "    }\n",
              "\n",
              "    .dataframe thead th {\n",
              "        text-align: right;\n",
              "    }\n",
              "</style>\n",
              "<table border=\"1\" class=\"dataframe\">\n",
              "  <thead>\n",
              "    <tr style=\"text-align: right;\">\n",
              "      <th></th>\n",
              "      <th>um</th>\n",
              "      <th>dois</th>\n",
              "      <th>tres</th>\n",
              "      <th>quatro</th>\n",
              "      <th>segKmeans</th>\n",
              "    </tr>\n",
              "    <tr>\n",
              "      <th>rep_comercial_x</th>\n",
              "      <th></th>\n",
              "      <th></th>\n",
              "      <th></th>\n",
              "      <th></th>\n",
              "      <th></th>\n",
              "    </tr>\n",
              "  </thead>\n",
              "  <tbody>\n",
              "  </tbody>\n",
              "</table>\n",
              "</div>"
            ],
            "text/plain": [
              "Empty DataFrame\n",
              "Columns: [um, dois, tres, quatro, segKmeans]\n",
              "Index: []"
            ]
          },
          "metadata": {
            "tags": []
          },
          "execution_count": 189
        }
      ]
    },
    {
      "cell_type": "code",
      "metadata": {
        "id": "eoDBc5Dd3G9Y"
      },
      "source": [
        ""
      ],
      "execution_count": null,
      "outputs": []
    },
    {
      "cell_type": "code",
      "metadata": {
        "id": "haGwowfp3Gtx"
      },
      "source": [
        ""
      ],
      "execution_count": null,
      "outputs": []
    },
    {
      "cell_type": "code",
      "metadata": {
        "id": "AJNX4Aav3GlK"
      },
      "source": [
        ""
      ],
      "execution_count": null,
      "outputs": []
    },
    {
      "cell_type": "code",
      "metadata": {
        "id": "m0giCmPd3GVw"
      },
      "source": [
        ""
      ],
      "execution_count": null,
      "outputs": []
    },
    {
      "cell_type": "code",
      "metadata": {
        "id": "hUPDvr_ohLDR"
      },
      "source": [
        " #A list holds the SSE values for each k\n",
        "sse = []\n",
        "for k in range(1, 21):\n",
        "        kmeans = KMeans(n_clusters=k,max_iter=300)\n",
        "        kmeans.fit(df_aux_2)\n",
        "        sse.append(kmeans.inertia_)\n"
      ],
      "execution_count": 139,
      "outputs": []
    },
    {
      "cell_type": "code",
      "metadata": {
        "id": "6a5lIDFXhK4r",
        "colab": {
          "base_uri": "https://localhost:8080/",
          "height": 304
        },
        "outputId": "ed9d2d9a-88e9-4197-da9b-869e38e845bd"
      },
      "source": [
        "plt.style.use(\"fivethirtyeight\")\n",
        "plt.plot(range(1, 21), sse)\n",
        "plt.xticks(range(1, 21))\n",
        "plt.xlabel(\"Number of Clusters\")\n",
        "plt.ylabel(\"SSE\")\n",
        "plt.show()"
      ],
      "execution_count": 140,
      "outputs": [
        {
          "output_type": "display_data",
          "data": {
            "image/png": "[encoded data removed]",
            "text/plain": [
              "<Figure size 432x288 with 1 Axes>"
            ]
          },
          "metadata": {
            "tags": []
          }
        }
      ]
    },
    {
      "cell_type": "markdown",
      "metadata": {
        "id": "-s4FLnV4wiBq"
      },
      "source": [
        "#### Esse resultado abaixo mostra o numero de grupos ótimo igual a 5."
      ]
    },
    {
      "cell_type": "code",
      "metadata": {
        "id": "8M-efM4ahKoE",
        "colab": {
          "base_uri": "https://localhost:8080/"
        },
        "outputId": "627e80d1-d750-47a6-ef07-d5b1a033b049"
      },
      "source": [
        "kl = KneeLocator(\n",
        "        range(1, 21), sse, curve=\"convex\", direction=\"decreasing\"\n",
        "    )\n",
        "kl.elbow"
      ],
      "execution_count": 141,
      "outputs": [
        {
          "output_type": "execute_result",
          "data": {
            "text/plain": [
              "5"
            ]
          },
          "metadata": {
            "tags": []
          },
          "execution_count": 141
        }
      ]
    },
    {
      "cell_type": "code",
      "metadata": {
        "id": "2tkvcqA0b7Yy"
      },
      "source": [
        "kmeans = KMeans(\n",
        "   init=\"random\",\n",
        "   n_clusters=5,\n",
        "   n_init=10,\n",
        "   max_iter=400,\n",
        "   random_state=42\n",
        ")"
      ],
      "execution_count": 142,
      "outputs": []
    },
    {
      "cell_type": "code",
      "metadata": {
        "id": "RNyKUOP9b7Yz"
      },
      "source": [
        "kresultado = kmeans.fit(df_aux_2)"
      ],
      "execution_count": 143,
      "outputs": []
    },
    {
      "cell_type": "code",
      "metadata": {
        "id": "6feK_-Nc1MYd"
      },
      "source": [
        "df_aux_2[\"segKmeans\"] = kresultado.labels_"
      ],
      "execution_count": 144,
      "outputs": []
    },
    {
      "cell_type": "code",
      "metadata": {
        "id": "0Z0z6oCVn296"
      },
      "source": [
        "#df_aux_2.sort_values(by=['um','dois','tres','quatro'],ascending=False).boxplot(column =['tres'], grid=False, rot=45, fontsize=15)\n",
        "#df_aux_2.sort_values(by=['um','dois','tres','quatro'],ascending=False).hist(bins=15)\n",
        "df_aux_2 = df_aux_2.sort_values(by=['um','dois','tres','quatro'],ascending=False)"
      ],
      "execution_count": 172,
      "outputs": []
    },
    {
      "cell_type": "markdown",
      "metadata": {
        "id": "QPq3uinE2VFZ"
      },
      "source": [
        "#### Visualizando o resultado K-means"
      ]
    },
    {
      "cell_type": "code",
      "metadata": {
        "id": "skWSKc9R17q0",
        "colab": {
          "base_uri": "https://localhost:8080/"
        },
        "outputId": "06569038-1f59-47b9-ca4c-7864e28efc4f"
      },
      "source": [
        "pca = PCA(n_components=2)\n",
        "principalComponents = pca.fit_transform(df_aux_2.drop(['segKmeans'],axis=1))\n",
        "principalDf = pd.DataFrame(data = principalComponents\n",
        "             , columns = ['principal component 1', 'principal component 2'])\n",
        "finalDf = pd.concat([principalDf, df_aux_2[['segKmeans']].reset_index().iloc[:,1]], axis = 1)\n",
        "finalDf.clumns = ['principal component 1', 'principal component 2','segKmeans']"
      ],
      "execution_count": 173,
      "outputs": [
        {
          "output_type": "stream",
          "text": [
            "/usr/local/lib/python3.7/dist-packages/ipykernel_launcher.py:6: UserWarning: Pandas doesn't allow columns to be created via a new attribute name - see https://pandas.pydata.org/pandas-docs/stable/indexing.html#attribute-access\n",
            "  \n"
          ],
          "name": "stderr"
        }
      ]
    },
    {
      "cell_type": "code",
      "metadata": {
        "id": "XrDESMO817Xb",
        "colab": {
          "base_uri": "https://localhost:8080/",
          "height": 555
        },
        "outputId": "5e8782fb-b591-4b71-9a26-8156fd7933c3"
      },
      "source": [
        "fig = plt.figure(figsize = (8,8))\n",
        "ax = fig.add_subplot(1,1,1) \n",
        "ax.set_xlabel('Principal Component 1', fontsize = 15)\n",
        "ax.set_ylabel('Principal Component 2', fontsize = 15)\n",
        "ax.set_title('2 component PCA', fontsize = 20)\n",
        "\n",
        "targets = df_aux_2.segKmeans.unique()\n",
        "colors = ['r', 'g', 'b','orange','grey']\n",
        "for target, color in zip(targets,colors):\n",
        "    indicesToKeep = finalDf.segKmeans == target\n",
        "    ax.scatter(finalDf.loc[indicesToKeep, 'principal component 1']\n",
        "               , finalDf.loc[indicesToKeep, 'principal component 2']\n",
        "               , c = color\n",
        "               , s = 50)\n",
        "ax.legend(targets)\n",
        "ax.grid()"
      ],
      "execution_count": 174,
      "outputs": [
        {
          "output_type": "display_data",
          "data": {
            "image/png": "[encoded data removed]",
            "text/plain": [
              "<Figure size 576x576 with 1 Axes>"
            ]
          },
          "metadata": {
            "tags": []
          }
        }
      ]
    },
    {
      "cell_type": "code",
      "metadata": {
        "id": "OEHZV5qHb7Y6"
      },
      "source": [
        "pd.DataFrame(pca.components_.T * np.sqrt(pca.explained_variance_))#loadings"
      ],
      "execution_count": null,
      "outputs": []
    },
    {
      "cell_type": "code",
      "metadata": {
        "id": "jG5vfQjv20SW",
        "colab": {
          "base_uri": "https://localhost:8080/",
          "height": 454
        },
        "outputId": "2accabcd-f144-4282-8803-55aea99c2ac5"
      },
      "source": [
        "df_aux_2"
      ],
      "execution_count": 207,
      "outputs": [
        {
          "output_type": "execute_result",
          "data": {
            "text/html": [
              "<div>\n",
              "<style scoped>\n",
              "    .dataframe tbody tr th:only-of-type {\n",
              "        vertical-align: middle;\n",
              "    }\n",
              "\n",
              "    .dataframe tbody tr th {\n",
              "        vertical-align: top;\n",
              "    }\n",
              "\n",
              "    .dataframe thead th {\n",
              "        text-align: right;\n",
              "    }\n",
              "</style>\n",
              "<table border=\"1\" class=\"dataframe\">\n",
              "  <thead>\n",
              "    <tr style=\"text-align: right;\">\n",
              "      <th></th>\n",
              "      <th>um</th>\n",
              "      <th>dois</th>\n",
              "      <th>tres</th>\n",
              "      <th>quatro</th>\n",
              "      <th>segKmeans</th>\n",
              "    </tr>\n",
              "    <tr>\n",
              "      <th>rep_comercial_x</th>\n",
              "      <th></th>\n",
              "      <th></th>\n",
              "      <th></th>\n",
              "      <th></th>\n",
              "      <th></th>\n",
              "    </tr>\n",
              "  </thead>\n",
              "  <tbody>\n",
              "    <tr>\n",
              "      <th>1241944.0</th>\n",
              "      <td>100.000000</td>\n",
              "      <td>0.0</td>\n",
              "      <td>0.0</td>\n",
              "      <td>0.000000</td>\n",
              "      <td>1</td>\n",
              "    </tr>\n",
              "    <tr>\n",
              "      <th>1241949.0</th>\n",
              "      <td>69.988953</td>\n",
              "      <td>0.0</td>\n",
              "      <td>0.0</td>\n",
              "      <td>0.000000</td>\n",
              "      <td>1</td>\n",
              "    </tr>\n",
              "    <tr>\n",
              "      <th>1085545.0</th>\n",
              "      <td>54.853804</td>\n",
              "      <td>0.0</td>\n",
              "      <td>0.0</td>\n",
              "      <td>0.000000</td>\n",
              "      <td>1</td>\n",
              "    </tr>\n",
              "    <tr>\n",
              "      <th>1241967.0</th>\n",
              "      <td>54.190543</td>\n",
              "      <td>0.0</td>\n",
              "      <td>0.0</td>\n",
              "      <td>0.000000</td>\n",
              "      <td>1</td>\n",
              "    </tr>\n",
              "    <tr>\n",
              "      <th>1241950.0</th>\n",
              "      <td>54.082039</td>\n",
              "      <td>0.0</td>\n",
              "      <td>0.0</td>\n",
              "      <td>0.000000</td>\n",
              "      <td>1</td>\n",
              "    </tr>\n",
              "    <tr>\n",
              "      <th>...</th>\n",
              "      <td>...</td>\n",
              "      <td>...</td>\n",
              "      <td>...</td>\n",
              "      <td>...</td>\n",
              "      <td>...</td>\n",
              "    </tr>\n",
              "    <tr>\n",
              "      <th>1214334.0</th>\n",
              "      <td>0.000000</td>\n",
              "      <td>0.0</td>\n",
              "      <td>0.0</td>\n",
              "      <td>0.625022</td>\n",
              "      <td>0</td>\n",
              "    </tr>\n",
              "    <tr>\n",
              "      <th>1223728.0</th>\n",
              "      <td>0.000000</td>\n",
              "      <td>0.0</td>\n",
              "      <td>0.0</td>\n",
              "      <td>0.504493</td>\n",
              "      <td>0</td>\n",
              "    </tr>\n",
              "    <tr>\n",
              "      <th>1215139.0</th>\n",
              "      <td>0.000000</td>\n",
              "      <td>0.0</td>\n",
              "      <td>0.0</td>\n",
              "      <td>0.466934</td>\n",
              "      <td>0</td>\n",
              "    </tr>\n",
              "    <tr>\n",
              "      <th>1172713.0</th>\n",
              "      <td>0.000000</td>\n",
              "      <td>0.0</td>\n",
              "      <td>0.0</td>\n",
              "      <td>0.407057</td>\n",
              "      <td>0</td>\n",
              "    </tr>\n",
              "    <tr>\n",
              "      <th>1199021.0</th>\n",
              "      <td>0.000000</td>\n",
              "      <td>0.0</td>\n",
              "      <td>0.0</td>\n",
              "      <td>0.329728</td>\n",
              "      <td>0</td>\n",
              "    </tr>\n",
              "  </tbody>\n",
              "</table>\n",
              "<p>2041 rows × 5 columns</p>\n",
              "</div>"
            ],
            "text/plain": [
              "                         um  dois  tres    quatro  segKmeans\n",
              "rep_comercial_x                                             \n",
              "1241944.0        100.000000   0.0   0.0  0.000000          1\n",
              "1241949.0         69.988953   0.0   0.0  0.000000          1\n",
              "1085545.0         54.853804   0.0   0.0  0.000000          1\n",
              "1241967.0         54.190543   0.0   0.0  0.000000          1\n",
              "1241950.0         54.082039   0.0   0.0  0.000000          1\n",
              "...                     ...   ...   ...       ...        ...\n",
              "1214334.0          0.000000   0.0   0.0  0.625022          0\n",
              "1223728.0          0.000000   0.0   0.0  0.504493          0\n",
              "1215139.0          0.000000   0.0   0.0  0.466934          0\n",
              "1172713.0          0.000000   0.0   0.0  0.407057          0\n",
              "1199021.0          0.000000   0.0   0.0  0.329728          0\n",
              "\n",
              "[2041 rows x 5 columns]"
            ]
          },
          "metadata": {
            "tags": []
          },
          "execution_count": 207
        }
      ]
    },
    {
      "cell_type": "code",
      "metadata": {
        "id": "r6eNrn16b7Y7"
      },
      "source": [
        "tabulacao = df_aux_2.reset_index().groupby('segKmeans').nunique()\n",
        "tabulacao.to_csv('/content/drive/MyDrive/JOB-Martins/tabela_cunfusin.csv')"
      ],
      "execution_count": 212,
      "outputs": []
    },
    {
      "cell_type": "code",
      "metadata": {
        "id": "aR2OSHYrb7Y7",
        "colab": {
          "base_uri": "https://localhost:8080/",
          "height": 343
        },
        "outputId": "15173328-0ce4-49d8-977d-780db5e57c2b"
      },
      "source": [
        "import matplotlib.pyplot as plt\n",
        "\n",
        "\n",
        "fig, ax=plt.subplots()\n",
        "sns.heatmap(tabulacao, ax=ax, annot = True,linewidths=.5,cmap=\"Blues\");\n",
        "ax.set_title(\"Mapa de Calor\");\n",
        "ax.set_ylabel(\"Cluster ID\");\n",
        "ax.set_xlabel(\"Features\")"
      ],
      "execution_count": 204,
      "outputs": [
        {
          "output_type": "execute_result",
          "data": {
            "text/plain": [
              "Text(0.5, -1.340000000000014, 'Features')"
            ]
          },
          "metadata": {
            "tags": []
          },
          "execution_count": 204
        },
        {
          "output_type": "display_data",
          "data": {
            "image/png": "[encoded data removed]",
            "text/plain": [
              "<Figure size 432x288 with 2 Axes>"
            ]
          },
          "metadata": {
            "tags": []
          }
        }
      ]
    },
    {
      "cell_type": "code",
      "metadata": {
        "id": "ucHsjXAOb7Y8"
      },
      "source": [
        "df_rfv = df.groupby"
      ],
      "execution_count": null,
      "outputs": []
    },
    {
      "cell_type": "code",
      "metadata": {
        "id": "Z_v1VR9J6TCC"
      },
      "source": [
        "df_aux_2[['segKmeans']].to_csv('/content/drive/MyDrive/JOB-Martins/resultado_segmentação.csv')"
      ],
      "execution_count": 213,
      "outputs": []
    },
    {
      "cell_type": "code",
      "metadata": {
        "id": "Vm5FHdSm6S60"
      },
      "source": [
        ""
      ],
      "execution_count": null,
      "outputs": []
    },
    {
      "cell_type": "code",
      "metadata": {
        "id": "pUrPSYG06Sy6"
      },
      "source": [
        ""
      ],
      "execution_count": null,
      "outputs": []
    },
    {
      "cell_type": "code",
      "metadata": {
        "id": "IG0UFKz0b7Y9"
      },
      "source": [
        ""
      ],
      "execution_count": null,
      "outputs": []
    }
  ]
}