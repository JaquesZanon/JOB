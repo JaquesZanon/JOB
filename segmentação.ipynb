{
  "nbformat": 4,
  "nbformat_minor": 0,
  "metadata": {
    "kernelspec": {
      "display_name": "Python 3",
      "language": "python",
      "name": "python3"
    },
    "language_info": {
      "codemirror_mode": {
        "name": "ipython",
        "version": 3
      },
      "file_extension": ".py",
      "mimetype": "text/x-python",
      "name": "python",
      "nbconvert_exporter": "python",
      "pygments_lexer": "ipython3",
      "version": "3.8.3"
    },
    "colab": {
      "name": "segmentação.ipynb",
      "provenance": [],
      "collapsed_sections": [],
      "include_colab_link": true
    }
  },
  "cells": [
    {
      "cell_type": "markdown",
      "metadata": {
        "id": "view-in-github",
        "colab_type": "text"
      },
      "source": [
        "<a href=\"https://colab.research.google.com/github/JaquesZanon/JOB/blob/main/segmenta%C3%A7%C3%A3o.ipynb\" target=\"_parent\"><img src=\"https://colab.research.google.com/assets/colab-badge.svg\" alt=\"Open In Colab\"/></a>"
      ]
    },
    {
      "cell_type": "markdown",
      "metadata": {
        "id": "-giyAU6ab7YA"
      },
      "source": [
        "---\n",
        "### **Martins - Segmentação de Representantes**\n",
        "**Autor:** `Jaques Zanon`\n",
        "\n",
        "**e-mail:** `jaques.zanon@gmail.com`\n",
        "\n",
        "![An image](https://logodownload.org/wp-content/uploads/2015/04/whatsapp-logo-6.png) `(11) 97251 6634`\n",
        "\n",
        "---"
      ]
    },
    {
      "cell_type": "code",
      "metadata": {
        "id": "MRfzXY6tl1jS"
      },
      "source": [
        "\n"
      ],
      "execution_count": null,
      "outputs": []
    },
    {
      "cell_type": "code",
      "metadata": {
        "id": "n9rcX5eMeBXB",
        "colab": {
          "base_uri": "https://localhost:8080/"
        },
        "collapsed": true,
        "outputId": "3ac57475-875f-45f7-81e6-730f20fbb50c"
      },
      "source": [
        "!pip install kneed\n",
        "!pip install feature_engine\n",
        "!pip install factor_analyzer\n",
        "!pip install sklearn-som"
      ],
      "execution_count": null,
      "outputs": [
        {
          "output_type": "stream",
          "text": [
            "Requirement already satisfied: kneed in /usr/local/lib/python3.7/dist-packages (0.7.0)\n",
            "Requirement already satisfied: scipy in /usr/local/lib/python3.7/dist-packages (from kneed) (1.4.1)\n",
            "Requirement already satisfied: matplotlib in /usr/local/lib/python3.7/dist-packages (from kneed) (3.2.2)\n",
            "Requirement already satisfied: numpy>=1.14.2 in /usr/local/lib/python3.7/dist-packages (from kneed) (1.19.5)\n",
            "Requirement already satisfied: cycler>=0.10 in /usr/local/lib/python3.7/dist-packages (from matplotlib->kneed) (0.10.0)\n",
            "Requirement already satisfied: kiwisolver>=1.0.1 in /usr/local/lib/python3.7/dist-packages (from matplotlib->kneed) (1.3.1)\n",
            "Requirement already satisfied: python-dateutil>=2.1 in /usr/local/lib/python3.7/dist-packages (from matplotlib->kneed) (2.8.1)\n",
            "Requirement already satisfied: pyparsing!=2.0.4,!=2.1.2,!=2.1.6,>=2.0.1 in /usr/local/lib/python3.7/dist-packages (from matplotlib->kneed) (2.4.7)\n",
            "Requirement already satisfied: six in /usr/local/lib/python3.7/dist-packages (from cycler>=0.10->matplotlib->kneed) (1.15.0)\n",
            "Requirement already satisfied: feature_engine in /usr/local/lib/python3.7/dist-packages (1.1.0)\n",
            "Requirement already satisfied: pandas>=1.0.3 in /usr/local/lib/python3.7/dist-packages (from feature_engine) (1.1.5)\n",
            "Requirement already satisfied: numpy>=1.18.2 in /usr/local/lib/python3.7/dist-packages (from feature_engine) (1.19.5)\n",
            "Requirement already satisfied: scipy>=1.4.1 in /usr/local/lib/python3.7/dist-packages (from feature_engine) (1.4.1)\n",
            "Requirement already satisfied: scikit-learn>=0.22.2 in /usr/local/lib/python3.7/dist-packages (from feature_engine) (0.22.2.post1)\n",
            "Requirement already satisfied: statsmodels>=0.11.1 in /usr/local/lib/python3.7/dist-packages (from feature_engine) (0.12.2)\n",
            "Requirement already satisfied: python-dateutil>=2.7.3 in /usr/local/lib/python3.7/dist-packages (from pandas>=1.0.3->feature_engine) (2.8.1)\n",
            "Requirement already satisfied: pytz>=2017.2 in /usr/local/lib/python3.7/dist-packages (from pandas>=1.0.3->feature_engine) (2018.9)\n",
            "Requirement already satisfied: six>=1.5 in /usr/local/lib/python3.7/dist-packages (from python-dateutil>=2.7.3->pandas>=1.0.3->feature_engine) (1.15.0)\n",
            "Requirement already satisfied: joblib>=0.11 in /usr/local/lib/python3.7/dist-packages (from scikit-learn>=0.22.2->feature_engine) (1.0.1)\n",
            "Requirement already satisfied: patsy>=0.5 in /usr/local/lib/python3.7/dist-packages (from statsmodels>=0.11.1->feature_engine) (0.5.1)\n",
            "Requirement already satisfied: factor_analyzer in /usr/local/lib/python3.7/dist-packages (0.3.2)\n",
            "Requirement already satisfied: pandas in /usr/local/lib/python3.7/dist-packages (from factor_analyzer) (1.1.5)\n",
            "Requirement already satisfied: scikit-learn in /usr/local/lib/python3.7/dist-packages (from factor_analyzer) (0.22.2.post1)\n",
            "Requirement already satisfied: scipy in /usr/local/lib/python3.7/dist-packages (from factor_analyzer) (1.4.1)\n",
            "Requirement already satisfied: numpy in /usr/local/lib/python3.7/dist-packages (from factor_analyzer) (1.19.5)\n",
            "Requirement already satisfied: pytz>=2017.2 in /usr/local/lib/python3.7/dist-packages (from pandas->factor_analyzer) (2018.9)\n",
            "Requirement already satisfied: python-dateutil>=2.7.3 in /usr/local/lib/python3.7/dist-packages (from pandas->factor_analyzer) (2.8.1)\n",
            "Requirement already satisfied: six>=1.5 in /usr/local/lib/python3.7/dist-packages (from python-dateutil>=2.7.3->pandas->factor_analyzer) (1.15.0)\n",
            "Requirement already satisfied: joblib>=0.11 in /usr/local/lib/python3.7/dist-packages (from scikit-learn->factor_analyzer) (1.0.1)\n",
            "Requirement already satisfied: sklearn-som in /usr/local/lib/python3.7/dist-packages (1.1.0)\n",
            "Requirement already satisfied: numpy in /usr/local/lib/python3.7/dist-packages (from sklearn-som) (1.19.5)\n"
          ],
          "name": "stdout"
        }
      ]
    },
    {
      "cell_type": "code",
      "metadata": {
        "id": "TBeE9tjib7YP"
      },
      "source": [
        "import os\n",
        "import numpy as np\n",
        "import pandas as pd\n",
        "from sklearn.cluster import KMeans\n",
        "from kneed import KneeLocator\n",
        "#from sklearn.metrics import silhouette_score\n",
        "from sklearn.preprocessing import StandardScaler\n",
        "#from yellowbrick.cluster import KElbowVisualizer\n",
        "from feature_engine.wrappers import SklearnTransformerWrapper\n",
        "from sklearn.preprocessing import MinMaxScaler\n",
        "import seaborn as sns\n",
        "import matplotlib.pyplot as plt\n",
        "#from sklearn.cluster import DBSCAN\n",
        "#from sklearn.cluster import AgglomerativeClustering\n",
        "from sklearn.decomposition import PCA\n",
        "#from scipy.cluster import hierarchy\n",
        "from sklearn.decomposition import FactorAnalysis\n",
        "from factor_analyzer import FactorAnalyzer\n",
        "from factor_analyzer.factor_analyzer import calculate_bartlett_sphericity\n",
        "from factor_analyzer.factor_analyzer import calculate_kmo\n",
        "from factor_analyzer import (ConfirmatoryFactorAnalyzer,\n",
        "                              ModelSpecificationParser)\n",
        "from sklearn_som.som import SOM\n",
        "from io import StringIO"
      ],
      "execution_count": null,
      "outputs": []
    },
    {
      "cell_type": "code",
      "metadata": {
        "id": "fZT6Y-0qclmV",
        "colab": {
          "base_uri": "https://localhost:8080/"
        },
        "outputId": "a4cbfce5-9a33-499a-a512-e0c3a3afb47b"
      },
      "source": [
        "from google.colab import drive\n",
        "drive.mount('/content/drive')"
      ],
      "execution_count": null,
      "outputs": [
        {
          "output_type": "stream",
          "text": [
            "Drive already mounted at /content/drive; to attempt to forcibly remount, call drive.mount(\"/content/drive\", force_remount=True).\n"
          ],
          "name": "stdout"
        }
      ]
    },
    {
      "cell_type": "code",
      "metadata": {
        "id": "UednnTqL8SFC"
      },
      "source": [
        "#df = pd.read_csv(StringIO(mystr), header=None, sep='|')\n",
        "df = pd.read_csv('/content/drive/MyDrive/JOB-Martins/segmento.txt', sep='|')\n",
        "df = df.dropna()"
      ],
      "execution_count": null,
      "outputs": []
    },
    {
      "cell_type": "code",
      "metadata": {
        "colab": {
          "base_uri": "https://localhost:8080/",
          "height": 277
        },
        "id": "Tcj0mPt382PM",
        "outputId": "39704af8-2aef-4cd2-adca-9f89e145f9ac"
      },
      "source": [
        "df.head()"
      ],
      "execution_count": null,
      "outputs": [
        {
          "output_type": "execute_result",
          "data": {
            "text/html": [
              "<div>\n",
              "<style scoped>\n",
              "    .dataframe tbody tr th:only-of-type {\n",
              "        vertical-align: middle;\n",
              "    }\n",
              "\n",
              "    .dataframe tbody tr th {\n",
              "        vertical-align: top;\n",
              "    }\n",
              "\n",
              "    .dataframe thead th {\n",
              "        text-align: right;\n",
              "    }\n",
              "</style>\n",
              "<table border=\"1\" class=\"dataframe\">\n",
              "  <thead>\n",
              "    <tr style=\"text-align: right;\">\n",
              "      <th></th>\n",
              "      <th>DtMovimento</th>\n",
              "      <th>NrPedido</th>\n",
              "      <th>IdClienteVenda</th>\n",
              "      <th>IdProduto</th>\n",
              "      <th>QtdeVendida</th>\n",
              "      <th>VlVendaLiquido</th>\n",
              "      <th>VlVendaBruto</th>\n",
              "      <th>VlTotalBruto</th>\n",
              "      <th>VlTotalLiquido</th>\n",
              "      <th>VlImpostos</th>\n",
              "      <th>CdCategoria</th>\n",
              "      <th>DsCategoria</th>\n",
              "      <th>CdSubCategoria</th>\n",
              "      <th>DsSubCategoria</th>\n",
              "      <th>IdRepComercial</th>\n",
              "      <th>DtCadastro</th>\n",
              "      <th>DsTipoPessoaRepresentante</th>\n",
              "      <th>DsTipoRepresentante</th>\n",
              "      <th>DsTerritorioVendas</th>\n",
              "      <th>DtCadastroRCA</th>\n",
              "      <th>DtSubstituicaoRepresentante</th>\n",
              "      <th>Vocaçao_dos_Municipios</th>\n",
              "    </tr>\n",
              "  </thead>\n",
              "  <tbody>\n",
              "    <tr>\n",
              "      <th>0</th>\n",
              "      <td>2021-05-24</td>\n",
              "      <td>2974700.0</td>\n",
              "      <td>4391039.0</td>\n",
              "      <td>193931.0</td>\n",
              "      <td>1.0</td>\n",
              "      <td>74.10</td>\n",
              "      <td>78.41</td>\n",
              "      <td>78.41</td>\n",
              "      <td>74.10</td>\n",
              "      <td>13.96</td>\n",
              "      <td>71.0</td>\n",
              "      <td>SABAO/DETERGENTE PARA ROUPA</td>\n",
              "      <td>1.0</td>\n",
              "      <td>DETERGENTE EM PO</td>\n",
              "      <td>1171850.0</td>\n",
              "      <td>2016-12-08</td>\n",
              "      <td>PESSOA FÍSICA</td>\n",
              "      <td>VAREJO ALIMENTAR</td>\n",
              "      <td>BA_ITAPETINGA3_VAR_ATC</td>\n",
              "      <td>2016-12-08</td>\n",
              "      <td>2017-05-11</td>\n",
              "      <td>Núcleos Regionais</td>\n",
              "    </tr>\n",
              "    <tr>\n",
              "      <th>1</th>\n",
              "      <td>2021-05-24</td>\n",
              "      <td>2974700.0</td>\n",
              "      <td>4391039.0</td>\n",
              "      <td>216241.0</td>\n",
              "      <td>1.0</td>\n",
              "      <td>116.29</td>\n",
              "      <td>128.50</td>\n",
              "      <td>128.50</td>\n",
              "      <td>116.29</td>\n",
              "      <td>21.92</td>\n",
              "      <td>71.0</td>\n",
              "      <td>SABAO/DETERGENTE PARA ROUPA</td>\n",
              "      <td>1.0</td>\n",
              "      <td>DETERGENTE EM PO</td>\n",
              "      <td>1171850.0</td>\n",
              "      <td>2016-12-08</td>\n",
              "      <td>PESSOA FÍSICA</td>\n",
              "      <td>VAREJO ALIMENTAR</td>\n",
              "      <td>BA_ITAPETINGA3_VAR_ATC</td>\n",
              "      <td>2016-12-08</td>\n",
              "      <td>2017-05-11</td>\n",
              "      <td>Núcleos Regionais</td>\n",
              "    </tr>\n",
              "    <tr>\n",
              "      <th>2</th>\n",
              "      <td>2021-05-24</td>\n",
              "      <td>2993905.0</td>\n",
              "      <td>4542353.0</td>\n",
              "      <td>194950.0</td>\n",
              "      <td>3.0</td>\n",
              "      <td>25.99</td>\n",
              "      <td>26.93</td>\n",
              "      <td>80.79</td>\n",
              "      <td>77.97</td>\n",
              "      <td>19.92</td>\n",
              "      <td>14.0</td>\n",
              "      <td>SANDALIA</td>\n",
              "      <td>22.0</td>\n",
              "      <td>CASUAL</td>\n",
              "      <td>1241883.0</td>\n",
              "      <td>2020-02-18</td>\n",
              "      <td>PESSOA FÍSICA</td>\n",
              "      <td>VAREJO ALIMENTAR</td>\n",
              "      <td>BA_SALVADOR60_FAR_CAT</td>\n",
              "      <td>2020-02-18</td>\n",
              "      <td>2020-02-18</td>\n",
              "      <td>Metrópoles Desenvolvidas</td>\n",
              "    </tr>\n",
              "    <tr>\n",
              "      <th>3</th>\n",
              "      <td>2021-05-25</td>\n",
              "      <td>3002010.0</td>\n",
              "      <td>428799.0</td>\n",
              "      <td>215740.0</td>\n",
              "      <td>3.0</td>\n",
              "      <td>25.03</td>\n",
              "      <td>27.36</td>\n",
              "      <td>82.08</td>\n",
              "      <td>75.09</td>\n",
              "      <td>19.20</td>\n",
              "      <td>14.0</td>\n",
              "      <td>SANDALIA</td>\n",
              "      <td>22.0</td>\n",
              "      <td>CASUAL</td>\n",
              "      <td>1075456.0</td>\n",
              "      <td>2007-06-20</td>\n",
              "      <td>PESSOA FÍSICA</td>\n",
              "      <td>VAREJO ALIMENTAR</td>\n",
              "      <td>BA_SALVADOR19_VAR_ATC</td>\n",
              "      <td>2007-06-20</td>\n",
              "      <td>2010-07-16</td>\n",
              "      <td>Metrópoles Desenvolvidas</td>\n",
              "    </tr>\n",
              "    <tr>\n",
              "      <th>4</th>\n",
              "      <td>2021-05-26</td>\n",
              "      <td>3040084.0</td>\n",
              "      <td>6125928.0</td>\n",
              "      <td>209706.0</td>\n",
              "      <td>2.0</td>\n",
              "      <td>100.10</td>\n",
              "      <td>107.63</td>\n",
              "      <td>215.26</td>\n",
              "      <td>200.20</td>\n",
              "      <td>51.21</td>\n",
              "      <td>15.0</td>\n",
              "      <td>UTILIDADES DOMESTICAS</td>\n",
              "      <td>2.0</td>\n",
              "      <td>ESCADA DOMESTICA</td>\n",
              "      <td>1234508.0</td>\n",
              "      <td>2019-11-22</td>\n",
              "      <td>PESSOA FÍSICA</td>\n",
              "      <td>MARTCON</td>\n",
              "      <td>CE_FORTALEZA31_MAT_CAT</td>\n",
              "      <td>2019-11-22</td>\n",
              "      <td>2019-11-22</td>\n",
              "      <td>Metrópoles Desenvolvidas</td>\n",
              "    </tr>\n",
              "  </tbody>\n",
              "</table>\n",
              "</div>"
            ],
            "text/plain": [
              "  DtMovimento   NrPedido  ...  DtSubstituicaoRepresentante    Vocaçao_dos_Municipios\n",
              "0  2021-05-24  2974700.0  ...                   2017-05-11         Núcleos Regionais\n",
              "1  2021-05-24  2974700.0  ...                   2017-05-11         Núcleos Regionais\n",
              "2  2021-05-24  2993905.0  ...                   2020-02-18  Metrópoles Desenvolvidas\n",
              "3  2021-05-25  3002010.0  ...                   2010-07-16  Metrópoles Desenvolvidas\n",
              "4  2021-05-26  3040084.0  ...                   2019-11-22  Metrópoles Desenvolvidas\n",
              "\n",
              "[5 rows x 22 columns]"
            ]
          },
          "metadata": {
            "tags": []
          },
          "execution_count": 5
        }
      ]
    },
    {
      "cell_type": "code",
      "metadata": {
        "scrolled": true,
        "id": "fWvdWUf6b7YT"
      },
      "source": [
        "#df = pd.read_csv(\"/content/drive/MyDrive/JOB-Martins/segmentacao.csv\",parse_dates=True)\n",
        "#df = df[df['DtCadastroRCA'].notna()]\n",
        "#df.head()"
      ],
      "execution_count": null,
      "outputs": []
    },
    {
      "cell_type": "code",
      "metadata": {
        "id": "eRdNEBDrK3o4"
      },
      "source": [
        "df[\"DsTerritorioVendas\"] = df[\"DsTerritorioVendas\"].str.split(\"_\", n = 1, expand = True).iloc[:,0].copy()"
      ],
      "execution_count": null,
      "outputs": []
    },
    {
      "cell_type": "code",
      "metadata": {
        "colab": {
          "base_uri": "https://localhost:8080/"
        },
        "id": "FHFJDG0RgV1j",
        "outputId": "c32f55ec-7471-4e61-96be-1d3a2e74ed5d"
      },
      "source": [
        "df[\"DsTerritorioVendas\"]"
      ],
      "execution_count": 143,
      "outputs": [
        {
          "output_type": "execute_result",
          "data": {
            "text/plain": [
              "0          4\n",
              "1          4\n",
              "2          4\n",
              "3          4\n",
              "4          3\n",
              "          ..\n",
              "6615545    7\n",
              "6615546    2\n",
              "6615547    7\n",
              "6615548    5\n",
              "6615549    7\n",
              "Name: DsTerritorioVendas, Length: 6493405, dtype: object"
            ]
          },
          "metadata": {
            "tags": []
          },
          "execution_count": 143
        }
      ]
    },
    {
      "cell_type": "markdown",
      "metadata": {
        "id": "nW6atktpb7YW"
      },
      "source": [
        "### Para gerar a codificação de estados.\n",
        "\n"
      ]
    },
    {
      "cell_type": "code",
      "metadata": {
        "id": "ZcriSQ_rK6H3"
      },
      "source": [
        "mapping = {'DF': 1, \n",
        "           'GO': 1,\n",
        "           'MS': 1,\n",
        "           'MT': 1, \n",
        "           'AC': 2,\n",
        "           'AM': 2,\n",
        "           'AP': 2, \n",
        "           'PA': 2,\n",
        "           'RO': 2,\n",
        "           'RR': 2, \n",
        "           'TO': 2,\n",
        "           'MA': 3,\n",
        "           'PI': 3, \n",
        "           'CE': 3,\n",
        "           'RN': 3,\n",
        "           'PB': 3, \n",
        "           'PE': 3,\n",
        "           'AL': 3,\n",
        "           'SE': 4, \n",
        "           'BA': 4,\n",
        "           'PR': 5,\n",
        "           'SC': 5, \n",
        "           'RS': 5,\n",
        "           'ES': 6,\n",
        "           'RJ': 6,\n",
        "           'MG': 7,\n",
        "           'SP': 8}"
      ],
      "execution_count": null,
      "outputs": []
    },
    {
      "cell_type": "code",
      "metadata": {
        "id": "fMxJRj4TN4xi"
      },
      "source": [
        "df = df.replace({'DsTerritorioVendas': mapping})\n",
        "df = df[df['DsTerritorioVendas'].astype(str).str.isdigit()]"
      ],
      "execution_count": null,
      "outputs": []
    },
    {
      "cell_type": "markdown",
      "metadata": {
        "id": "NxbeLInDKOYP"
      },
      "source": [
        "### Para gerar a codificação da vocação de municípios."
      ]
    },
    {
      "cell_type": "code",
      "metadata": {
        "id": "h4QCGE_RImM6"
      },
      "source": [
        "mapping = {'São Paulo': 1, \n",
        "           'Rio de Janeiro': 1,\n",
        "           'Metrópoles Desenvolvidas': 1,\n",
        "           'Centros Urbanos Consolidados': 2, \n",
        "           'Centros Urbanos Secundários': 2,\n",
        "           'Pólos Industriais': 2,\n",
        "           'Núcleos Regionais': 2,\n",
        "           'Pólos Turísticos': 2,\n",
        "           'Pólos de Agroindústria': 3,\n",
        "           'Rural Desenvolvido': 3,\n",
        "           'Movimento Iminente' : 3,\n",
        "           'Núcleos Agropecuários': 4,\n",
        "           'Em Busca de Oportunidades': 4,\n",
        "           'Carentes de Recursos': 4}\n",
        "df = df.replace({'Vocaçao_dos_Municipios': mapping})"
      ],
      "execution_count": null,
      "outputs": []
    },
    {
      "cell_type": "markdown",
      "metadata": {
        "id": "LXa5a5zHQIvg"
      },
      "source": [
        "# Calculando variaveis auxiliares"
      ]
    },
    {
      "cell_type": "code",
      "metadata": {
        "id": "2lPx0DuI9D7t"
      },
      "source": [
        "# Tempo_Expo\n",
        "df.DtCadastroRCA = pd.to_datetime(df.DtCadastroRCA).copy()\n",
        "df.DtMovimento = pd.to_datetime(df.DtMovimento).copy()\n"
      ],
      "execution_count": null,
      "outputs": []
    },
    {
      "cell_type": "code",
      "metadata": {
        "colab": {
          "base_uri": "https://localhost:8080/"
        },
        "id": "ve3JZPHZrynV",
        "outputId": "1467c8dc-9801-417b-acd7-5bd87c25f7ec"
      },
      "source": [
        "(df['DtMovimento'] - df['DtCadastroRCA']).dt.days/30.5"
      ],
      "execution_count": 211,
      "outputs": [
        {
          "output_type": "execute_result",
          "data": {
            "text/plain": [
              "0           53.377049\n",
              "1           53.377049\n",
              "2           15.114754\n",
              "3          166.819672\n",
              "4           18.065574\n",
              "              ...    \n",
              "6615545    134.918033\n",
              "6615546    157.737705\n",
              "6615547      8.786885\n",
              "6615548    186.786885\n",
              "6615549     16.393443\n",
              "Length: 6493405, dtype: float64"
            ]
          },
          "metadata": {
            "tags": []
          },
          "execution_count": 211
        }
      ]
    },
    {
      "cell_type": "markdown",
      "metadata": {
        "id": "H0bmB9UQ6awY"
      },
      "source": [
        "### Calculando tempo de explosição"
      ]
    },
    {
      "cell_type": "code",
      "metadata": {
        "id": "8q80sFIc-h_S"
      },
      "source": [
        "df['Tempo_Expo'] = (df['DtMovimento'] - df['DtCadastroRCA']).dt.days/30.5\n",
        "#df.assign(Tempo_expo = pd.to_numeric(df.DtMovimento  - df.DtCadastroRCA)).copy()\n",
        "df.Tempo_Expo[df.Tempo_Expo>12]=12\n",
        "df.Tempo_Expo"
      ],
      "execution_count": 212,
      "outputs": []
    },
    {
      "cell_type": "code",
      "metadata": {
        "colab": {
          "base_uri": "https://localhost:8080/"
        },
        "id": "Cr9z2G09tu8K",
        "outputId": "3e7e9887-95d6-45d2-f73b-83ef531e8c9a"
      },
      "source": [
        ""
      ],
      "execution_count": 229,
      "outputs": [
        {
          "output_type": "stream",
          "text": [
            "/usr/local/lib/python3.7/dist-packages/ipykernel_launcher.py:1: SettingWithCopyWarning: \n",
            "A value is trying to be set on a copy of a slice from a DataFrame\n",
            "\n",
            "See the caveats in the documentation: https://pandas.pydata.org/pandas-docs/stable/user_guide/indexing.html#returning-a-view-versus-a-copy\n",
            "  \"\"\"Entry point for launching an IPython kernel.\n"
          ],
          "name": "stderr"
        },
        {
          "output_type": "execute_result",
          "data": {
            "text/plain": [
              "0          12.000000\n",
              "1          12.000000\n",
              "2          12.000000\n",
              "3          12.000000\n",
              "4          12.000000\n",
              "             ...    \n",
              "6615545    12.000000\n",
              "6615546    12.000000\n",
              "6615547     8.786885\n",
              "6615548    12.000000\n",
              "6615549    12.000000\n",
              "Name: Tempo_Expo, Length: 6493405, dtype: float64"
            ]
          },
          "metadata": {
            "tags": []
          },
          "execution_count": 229
        }
      ]
    },
    {
      "cell_type": "code",
      "metadata": {
        "colab": {
          "base_uri": "https://localhost:8080/",
          "height": 171
        },
        "id": "2MHWMh-cuGkS",
        "outputId": "fa5fa70c-609c-4723-8462-dd6eeb64a776"
      },
      "source": [
        "12 if list(df.Tempo_Expo)>12 else list(df.Tempo_Expo)"
      ],
      "execution_count": 221,
      "outputs": [
        {
          "output_type": "error",
          "ename": "TypeError",
          "evalue": "ignored",
          "traceback": [
            "\u001b[0;31m---------------------------------------------------------------------------\u001b[0m",
            "\u001b[0;31mTypeError\u001b[0m                                 Traceback (most recent call last)",
            "\u001b[0;32m<ipython-input-221-b4f64f5d43c2>\u001b[0m in \u001b[0;36m<module>\u001b[0;34m()\u001b[0m\n\u001b[0;32m----> 1\u001b[0;31m \u001b[0;36m12\u001b[0m \u001b[0;32mif\u001b[0m \u001b[0mlist\u001b[0m\u001b[0;34m(\u001b[0m\u001b[0mdf\u001b[0m\u001b[0;34m.\u001b[0m\u001b[0mTempo_Expo\u001b[0m\u001b[0;34m)\u001b[0m\u001b[0;34m>\u001b[0m\u001b[0;36m12\u001b[0m \u001b[0;32melse\u001b[0m \u001b[0mlist\u001b[0m\u001b[0;34m(\u001b[0m\u001b[0mdf\u001b[0m\u001b[0;34m.\u001b[0m\u001b[0mTempo_Expo\u001b[0m\u001b[0;34m)\u001b[0m\u001b[0;34m\u001b[0m\u001b[0;34m\u001b[0m\u001b[0m\n\u001b[0m",
            "\u001b[0;31mTypeError\u001b[0m: '>' not supported between instances of 'list' and 'int'"
          ]
        }
      ]
    },
    {
      "cell_type": "code",
      "metadata": {
        "id": "jpewjj_Ub7YX"
      },
      "source": [
        "#Total_VLRecLiq_Reg \n",
        "Total_VLRecLiq_Reg = df.groupby(['DsTerritorioVendas'])[['VlVendaLiquido']].agg('sum')"
      ],
      "execution_count": null,
      "outputs": []
    },
    {
      "cell_type": "code",
      "metadata": {
        "id": "TBWp9D3vWhp8"
      },
      "source": [
        "mapping = {'VAREJO ALIMENTAR                        ': 4, \n",
        "           'MARTCON                                 ': 3,\n",
        "           'FARMA NACIONAL                          ': 2,\n",
        "           'INFORMATICA                             ': 1, \n",
        "           'ELETRO                                  ': 1,\n",
        "           'VETERINARIO                             ': 3\n",
        "           }"
      ],
      "execution_count": null,
      "outputs": []
    },
    {
      "cell_type": "code",
      "metadata": {
        "id": "ekPj7ZHYcszy"
      },
      "source": [
        "df = df.replace({'DsTipoRepresentante': mapping})"
      ],
      "execution_count": null,
      "outputs": []
    },
    {
      "cell_type": "code",
      "metadata": {
        "id": "-4Y3ZSL4KsoW"
      },
      "source": [
        "#Total_VLRecLiq_TipoRepr \n",
        "Total_VLRecLiq_TipoRepr = df.groupby(['DsTipoRepresentante'])[['VlVendaLiquido']].agg('sum')"
      ],
      "execution_count": null,
      "outputs": []
    },
    {
      "cell_type": "code",
      "metadata": {
        "id": "RlvQIBeZdVTr",
        "colab": {
          "base_uri": "https://localhost:8080/",
          "height": 205
        },
        "outputId": "b65e43a3-a6f0-414c-9a32-06c9cbdbed71"
      },
      "source": [
        "#Média_QteClientes_TipoRepr\n",
        "Media_QteClientes_TipoRepr = df.groupby(['DsTipoRepresentante'])[['IdClienteVenda']].nunique()\n",
        "#df.groupby(['DsTipoNegocioRepresentanteComercial'])[['IdClienteEntrega']].count()\n",
        "#df.groupby(['DsTipoNegocioRepresentanteComercial'])[['IdRepComercial']].count()\n",
        "Media_QteClientes_TipoRepr\n",
        "\n"
      ],
      "execution_count": null,
      "outputs": [
        {
          "output_type": "execute_result",
          "data": {
            "text/html": [
              "<div>\n",
              "<style scoped>\n",
              "    .dataframe tbody tr th:only-of-type {\n",
              "        vertical-align: middle;\n",
              "    }\n",
              "\n",
              "    .dataframe tbody tr th {\n",
              "        vertical-align: top;\n",
              "    }\n",
              "\n",
              "    .dataframe thead th {\n",
              "        text-align: right;\n",
              "    }\n",
              "</style>\n",
              "<table border=\"1\" class=\"dataframe\">\n",
              "  <thead>\n",
              "    <tr style=\"text-align: right;\">\n",
              "      <th></th>\n",
              "      <th>IdClienteVenda</th>\n",
              "    </tr>\n",
              "    <tr>\n",
              "      <th>DsTipoRepresentante</th>\n",
              "      <th></th>\n",
              "    </tr>\n",
              "  </thead>\n",
              "  <tbody>\n",
              "    <tr>\n",
              "      <th>1</th>\n",
              "      <td>3494</td>\n",
              "    </tr>\n",
              "    <tr>\n",
              "      <th>2</th>\n",
              "      <td>1984</td>\n",
              "    </tr>\n",
              "    <tr>\n",
              "      <th>3</th>\n",
              "      <td>10432</td>\n",
              "    </tr>\n",
              "    <tr>\n",
              "      <th>4</th>\n",
              "      <td>74767</td>\n",
              "    </tr>\n",
              "  </tbody>\n",
              "</table>\n",
              "</div>"
            ],
            "text/plain": [
              "                     IdClienteVenda\n",
              "DsTipoRepresentante                \n",
              "1                              3494\n",
              "2                              1984\n",
              "3                             10432\n",
              "4                             74767"
            ]
          },
          "metadata": {
            "tags": []
          },
          "execution_count": 21
        }
      ]
    },
    {
      "cell_type": "code",
      "metadata": {
        "id": "9YJ2plZDKse9",
        "colab": {
          "base_uri": "https://localhost:8080/",
          "height": 205
        },
        "outputId": "e2ee00f2-cb28-42dd-937f-c3f5f7b3429e"
      },
      "source": [
        "#Média_QteProduto_TipoRepr\n",
        "Media_QteProduto_TipoRepr = df.groupby(['DsTipoRepresentante','NrPedido'])[['QtdeVendida']].mean().groupby(['DsTipoRepresentante'])[['QtdeVendida']].mean()\n",
        "Media_QteProduto_TipoRepr"
      ],
      "execution_count": null,
      "outputs": [
        {
          "output_type": "execute_result",
          "data": {
            "text/html": [
              "<div>\n",
              "<style scoped>\n",
              "    .dataframe tbody tr th:only-of-type {\n",
              "        vertical-align: middle;\n",
              "    }\n",
              "\n",
              "    .dataframe tbody tr th {\n",
              "        vertical-align: top;\n",
              "    }\n",
              "\n",
              "    .dataframe thead th {\n",
              "        text-align: right;\n",
              "    }\n",
              "</style>\n",
              "<table border=\"1\" class=\"dataframe\">\n",
              "  <thead>\n",
              "    <tr style=\"text-align: right;\">\n",
              "      <th></th>\n",
              "      <th>QtdeVendida</th>\n",
              "    </tr>\n",
              "    <tr>\n",
              "      <th>DsTipoRepresentante</th>\n",
              "      <th></th>\n",
              "    </tr>\n",
              "  </thead>\n",
              "  <tbody>\n",
              "    <tr>\n",
              "      <th>1</th>\n",
              "      <td>8.663001</td>\n",
              "    </tr>\n",
              "    <tr>\n",
              "      <th>2</th>\n",
              "      <td>21.004208</td>\n",
              "    </tr>\n",
              "    <tr>\n",
              "      <th>3</th>\n",
              "      <td>6.911532</td>\n",
              "    </tr>\n",
              "    <tr>\n",
              "      <th>4</th>\n",
              "      <td>16.376437</td>\n",
              "    </tr>\n",
              "  </tbody>\n",
              "</table>\n",
              "</div>"
            ],
            "text/plain": [
              "                     QtdeVendida\n",
              "DsTipoRepresentante             \n",
              "1                       8.663001\n",
              "2                      21.004208\n",
              "3                       6.911532\n",
              "4                      16.376437"
            ]
          },
          "metadata": {
            "tags": []
          },
          "execution_count": 22
        }
      ]
    },
    {
      "cell_type": "code",
      "metadata": {
        "id": "njbRX7nJKsUz",
        "colab": {
          "base_uri": "https://localhost:8080/",
          "height": 205
        },
        "outputId": "35ccb332-6168-4529-826f-f5e7235e9030"
      },
      "source": [
        "#Média_QteCategoria_TipoRepr\n",
        "Media_QteCategoria_TipoRepr = df.groupby(['DsTipoRepresentante'])[['CdCategoria']].nunique()\n",
        "Media_QteCategoria_TipoRepr"
      ],
      "execution_count": null,
      "outputs": [
        {
          "output_type": "execute_result",
          "data": {
            "text/html": [
              "<div>\n",
              "<style scoped>\n",
              "    .dataframe tbody tr th:only-of-type {\n",
              "        vertical-align: middle;\n",
              "    }\n",
              "\n",
              "    .dataframe tbody tr th {\n",
              "        vertical-align: top;\n",
              "    }\n",
              "\n",
              "    .dataframe thead th {\n",
              "        text-align: right;\n",
              "    }\n",
              "</style>\n",
              "<table border=\"1\" class=\"dataframe\">\n",
              "  <thead>\n",
              "    <tr style=\"text-align: right;\">\n",
              "      <th></th>\n",
              "      <th>CdCategoria</th>\n",
              "    </tr>\n",
              "    <tr>\n",
              "      <th>DsTipoRepresentante</th>\n",
              "      <th></th>\n",
              "    </tr>\n",
              "  </thead>\n",
              "  <tbody>\n",
              "    <tr>\n",
              "      <th>1</th>\n",
              "      <td>78</td>\n",
              "    </tr>\n",
              "    <tr>\n",
              "      <th>2</th>\n",
              "      <td>75</td>\n",
              "    </tr>\n",
              "    <tr>\n",
              "      <th>3</th>\n",
              "      <td>78</td>\n",
              "    </tr>\n",
              "    <tr>\n",
              "      <th>4</th>\n",
              "      <td>80</td>\n",
              "    </tr>\n",
              "  </tbody>\n",
              "</table>\n",
              "</div>"
            ],
            "text/plain": [
              "                     CdCategoria\n",
              "DsTipoRepresentante             \n",
              "1                             78\n",
              "2                             75\n",
              "3                             78\n",
              "4                             80"
            ]
          },
          "metadata": {
            "tags": []
          },
          "execution_count": 23
        }
      ]
    },
    {
      "cell_type": "code",
      "metadata": {
        "id": "u5PFOfasZzYk",
        "colab": {
          "base_uri": "https://localhost:8080/",
          "height": 205
        },
        "outputId": "011994a0-19c1-472e-9982-b3ff17a27141"
      },
      "source": [
        "#Media_QtePedidos_TipoRepr\n",
        "Media_QtePedidos_TipoRepr = df.groupby(['DsTipoRepresentante','Tempo_Expo'])[['NrPedido']].nunique().groupby(['DsTipoRepresentante'])[['NrPedido']].mean()\n",
        "Media_QtePedidos_TipoRepr"
      ],
      "execution_count": null,
      "outputs": [
        {
          "output_type": "execute_result",
          "data": {
            "text/html": [
              "<div>\n",
              "<style scoped>\n",
              "    .dataframe tbody tr th:only-of-type {\n",
              "        vertical-align: middle;\n",
              "    }\n",
              "\n",
              "    .dataframe tbody tr th {\n",
              "        vertical-align: top;\n",
              "    }\n",
              "\n",
              "    .dataframe thead th {\n",
              "        text-align: right;\n",
              "    }\n",
              "</style>\n",
              "<table border=\"1\" class=\"dataframe\">\n",
              "  <thead>\n",
              "    <tr style=\"text-align: right;\">\n",
              "      <th></th>\n",
              "      <th>NrPedido</th>\n",
              "    </tr>\n",
              "    <tr>\n",
              "      <th>DsTipoRepresentante</th>\n",
              "      <th></th>\n",
              "    </tr>\n",
              "  </thead>\n",
              "  <tbody>\n",
              "    <tr>\n",
              "      <th>1</th>\n",
              "      <td>6.312058</td>\n",
              "    </tr>\n",
              "    <tr>\n",
              "      <th>2</th>\n",
              "      <td>7.342373</td>\n",
              "    </tr>\n",
              "    <tr>\n",
              "      <th>3</th>\n",
              "      <td>13.061009</td>\n",
              "    </tr>\n",
              "    <tr>\n",
              "      <th>4</th>\n",
              "      <td>54.740211</td>\n",
              "    </tr>\n",
              "  </tbody>\n",
              "</table>\n",
              "</div>"
            ],
            "text/plain": [
              "                      NrPedido\n",
              "DsTipoRepresentante           \n",
              "1                     6.312058\n",
              "2                     7.342373\n",
              "3                    13.061009\n",
              "4                    54.740211"
            ]
          },
          "metadata": {
            "tags": []
          },
          "execution_count": 24
        }
      ]
    },
    {
      "cell_type": "code",
      "metadata": {
        "id": "Dxj-hUgXKsKr"
      },
      "source": [
        "#df.DsCategoria.unique()"
      ],
      "execution_count": null,
      "outputs": []
    },
    {
      "cell_type": "markdown",
      "metadata": {
        "id": "wpdRflrkEpJg"
      },
      "source": [
        "### Variaveis segmentadoras\n"
      ]
    },
    {
      "cell_type": "code",
      "metadata": {
        "id": "wgUSF6G5Eofv",
        "colab": {
          "base_uri": "https://localhost:8080/",
          "height": 422
        },
        "outputId": "e4e376a7-5a28-40f2-e2dd-0d7d5d13f3cb"
      },
      "source": [
        "#V1 Valor da Receita Líquida do Vendedor pelo período de exposição:\n",
        "V1 = df.groupby(['IdRepComercial'])[['VlVendaLiquido']].sum().loc[:,'VlVendaLiquido']/df.groupby(['IdRepComercial'])[['Tempo_Expo']].mean().loc[:,'Tempo_Expo']\n",
        "V1 = pd.DataFrame(V1).reset_index()\n",
        "V1"
      ],
      "execution_count": null,
      "outputs": [
        {
          "output_type": "execute_result",
          "data": {
            "text/html": [
              "<div>\n",
              "<style scoped>\n",
              "    .dataframe tbody tr th:only-of-type {\n",
              "        vertical-align: middle;\n",
              "    }\n",
              "\n",
              "    .dataframe tbody tr th {\n",
              "        vertical-align: top;\n",
              "    }\n",
              "\n",
              "    .dataframe thead th {\n",
              "        text-align: right;\n",
              "    }\n",
              "</style>\n",
              "<table border=\"1\" class=\"dataframe\">\n",
              "  <thead>\n",
              "    <tr style=\"text-align: right;\">\n",
              "      <th></th>\n",
              "      <th>IdRepComercial</th>\n",
              "      <th>0</th>\n",
              "    </tr>\n",
              "  </thead>\n",
              "  <tbody>\n",
              "    <tr>\n",
              "      <th>0</th>\n",
              "      <td>1051912.0</td>\n",
              "      <td>4.596334e-13</td>\n",
              "    </tr>\n",
              "    <tr>\n",
              "      <th>1</th>\n",
              "      <td>1052190.0</td>\n",
              "      <td>5.026031e-13</td>\n",
              "    </tr>\n",
              "    <tr>\n",
              "      <th>2</th>\n",
              "      <td>1053746.0</td>\n",
              "      <td>1.850112e-13</td>\n",
              "    </tr>\n",
              "    <tr>\n",
              "      <th>3</th>\n",
              "      <td>1053821.0</td>\n",
              "      <td>2.143411e-13</td>\n",
              "    </tr>\n",
              "    <tr>\n",
              "      <th>4</th>\n",
              "      <td>1054692.0</td>\n",
              "      <td>3.313165e-15</td>\n",
              "    </tr>\n",
              "    <tr>\n",
              "      <th>...</th>\n",
              "      <td>...</td>\n",
              "      <td>...</td>\n",
              "    </tr>\n",
              "    <tr>\n",
              "      <th>2036</th>\n",
              "      <td>1278808.0</td>\n",
              "      <td>3.052510e-11</td>\n",
              "    </tr>\n",
              "    <tr>\n",
              "      <th>2037</th>\n",
              "      <td>1278809.0</td>\n",
              "      <td>8.457837e-12</td>\n",
              "    </tr>\n",
              "    <tr>\n",
              "      <th>2038</th>\n",
              "      <td>1278811.0</td>\n",
              "      <td>3.124586e-12</td>\n",
              "    </tr>\n",
              "    <tr>\n",
              "      <th>2039</th>\n",
              "      <td>1278812.0</td>\n",
              "      <td>4.250881e-12</td>\n",
              "    </tr>\n",
              "    <tr>\n",
              "      <th>2040</th>\n",
              "      <td>1278821.0</td>\n",
              "      <td>1.068177e-11</td>\n",
              "    </tr>\n",
              "  </tbody>\n",
              "</table>\n",
              "<p>2041 rows × 2 columns</p>\n",
              "</div>"
            ],
            "text/plain": [
              "      IdRepComercial             0\n",
              "0          1051912.0  4.596334e-13\n",
              "1          1052190.0  5.026031e-13\n",
              "2          1053746.0  1.850112e-13\n",
              "3          1053821.0  2.143411e-13\n",
              "4          1054692.0  3.313165e-15\n",
              "...              ...           ...\n",
              "2036       1278808.0  3.052510e-11\n",
              "2037       1278809.0  8.457837e-12\n",
              "2038       1278811.0  3.124586e-12\n",
              "2039       1278812.0  4.250881e-12\n",
              "2040       1278821.0  1.068177e-11\n",
              "\n",
              "[2041 rows x 2 columns]"
            ]
          },
          "metadata": {
            "tags": []
          },
          "execution_count": 25
        }
      ]
    },
    {
      "cell_type": "code",
      "metadata": {
        "id": "InMWqCe583qc"
      },
      "source": [
        "#df[(df.CdEstadoTerritorioVendas == 2) & (df.CdEstadoTerritorioVendas == 1)]\n",
        "#df[\"A\"][(df[\"B\"] > 50) & (df[\"C\"] == 900)]"
      ],
      "execution_count": null,
      "outputs": []
    },
    {
      "cell_type": "code",
      "metadata": {
        "id": "webNIdIkb7YZ",
        "colab": {
          "base_uri": "https://localhost:8080/",
          "height": 422
        },
        "outputId": "60f07c9e-6c86-4502-85c3-61e556f1a7fa"
      },
      "source": [
        "#V2 = Importância da receita líquida do Vendedor na região que ele pertence:\n",
        "rec_reg=df.groupby(['DsTerritorioVendas'])[['VlVendaLiquido']].sum().loc[:,'VlVendaLiquido']\n",
        "V2 = pd.DataFrame(df.groupby(['DsTerritorioVendas','IdRepComercial'])[['VlVendaLiquido']].sum().loc[:,\"VlVendaLiquido\"]/rec_reg.iloc[0]).reset_index().groupby(['IdRepComercial'])[['VlVendaLiquido']].mean()\n",
        "V2 = pd.DataFrame(V2).reset_index()\n",
        "V2"
      ],
      "execution_count": null,
      "outputs": [
        {
          "output_type": "execute_result",
          "data": {
            "text/html": [
              "<div>\n",
              "<style scoped>\n",
              "    .dataframe tbody tr th:only-of-type {\n",
              "        vertical-align: middle;\n",
              "    }\n",
              "\n",
              "    .dataframe tbody tr th {\n",
              "        vertical-align: top;\n",
              "    }\n",
              "\n",
              "    .dataframe thead th {\n",
              "        text-align: right;\n",
              "    }\n",
              "</style>\n",
              "<table border=\"1\" class=\"dataframe\">\n",
              "  <thead>\n",
              "    <tr style=\"text-align: right;\">\n",
              "      <th></th>\n",
              "      <th>IdRepComercial</th>\n",
              "      <th>VlVendaLiquido</th>\n",
              "    </tr>\n",
              "  </thead>\n",
              "  <tbody>\n",
              "    <tr>\n",
              "      <th>0</th>\n",
              "      <td>1051912.0</td>\n",
              "      <td>0.008200</td>\n",
              "    </tr>\n",
              "    <tr>\n",
              "      <th>1</th>\n",
              "      <td>1052190.0</td>\n",
              "      <td>0.008798</td>\n",
              "    </tr>\n",
              "    <tr>\n",
              "      <th>2</th>\n",
              "      <td>1053746.0</td>\n",
              "      <td>0.003154</td>\n",
              "    </tr>\n",
              "    <tr>\n",
              "      <th>3</th>\n",
              "      <td>1053821.0</td>\n",
              "      <td>0.003650</td>\n",
              "    </tr>\n",
              "    <tr>\n",
              "      <th>4</th>\n",
              "      <td>1054692.0</td>\n",
              "      <td>0.000055</td>\n",
              "    </tr>\n",
              "    <tr>\n",
              "      <th>...</th>\n",
              "      <td>...</td>\n",
              "      <td>...</td>\n",
              "    </tr>\n",
              "    <tr>\n",
              "      <th>2036</th>\n",
              "      <td>1278808.0</td>\n",
              "      <td>0.010925</td>\n",
              "    </tr>\n",
              "    <tr>\n",
              "      <th>2037</th>\n",
              "      <td>1278809.0</td>\n",
              "      <td>0.003041</td>\n",
              "    </tr>\n",
              "    <tr>\n",
              "      <th>2038</th>\n",
              "      <td>1278811.0</td>\n",
              "      <td>0.000930</td>\n",
              "    </tr>\n",
              "    <tr>\n",
              "      <th>2039</th>\n",
              "      <td>1278812.0</td>\n",
              "      <td>0.001145</td>\n",
              "    </tr>\n",
              "    <tr>\n",
              "      <th>2040</th>\n",
              "      <td>1278821.0</td>\n",
              "      <td>0.003711</td>\n",
              "    </tr>\n",
              "  </tbody>\n",
              "</table>\n",
              "<p>2041 rows × 2 columns</p>\n",
              "</div>"
            ],
            "text/plain": [
              "      IdRepComercial  VlVendaLiquido\n",
              "0          1051912.0        0.008200\n",
              "1          1052190.0        0.008798\n",
              "2          1053746.0        0.003154\n",
              "3          1053821.0        0.003650\n",
              "4          1054692.0        0.000055\n",
              "...              ...             ...\n",
              "2036       1278808.0        0.010925\n",
              "2037       1278809.0        0.003041\n",
              "2038       1278811.0        0.000930\n",
              "2039       1278812.0        0.001145\n",
              "2040       1278821.0        0.003711\n",
              "\n",
              "[2041 rows x 2 columns]"
            ]
          },
          "metadata": {
            "tags": []
          },
          "execution_count": 97
        }
      ]
    },
    {
      "cell_type": "code",
      "metadata": {
        "id": "iHb8p2RADtIp",
        "colab": {
          "base_uri": "https://localhost:8080/",
          "height": 422
        },
        "outputId": "5c406a55-15d5-4f86-e2a5-e769a2239bbf"
      },
      "source": [
        "#V3 Importância da receita líquida do Vendedor categoria Tipo de Representante (Negócio)\n",
        "rec_area_negocio=df.groupby(['DsTipoRepresentante'])[['VlVendaLiquido']].sum().loc[:,'VlVendaLiquido']\n",
        "V3 = pd.DataFrame(df[df.DsTipoRepresentante == 1].groupby(['IdRepComercial'])[['VlVendaLiquido']].sum().loc[:,\"VlVendaLiquido\"]/rec_area_negocio.iloc[0]).append([\n",
        "pd.DataFrame(df[df.DsTipoRepresentante == 2].groupby(['IdRepComercial'])[['VlVendaLiquido']].sum().loc[:,\"VlVendaLiquido\"]/rec_area_negocio.iloc[1]),\n",
        "pd.DataFrame(df[df.DsTipoRepresentante == 3].groupby(['IdRepComercial'])[['VlVendaLiquido']].sum().loc[:,\"VlVendaLiquido\"]/rec_area_negocio.iloc[2]),\n",
        "pd.DataFrame(df[df.DsTipoRepresentante == 4].groupby(['IdRepComercial'])[['VlVendaLiquido']].sum().loc[:,'VlVendaLiquido']/rec_area_negocio.iloc[3])]).reset_index()\n",
        "V3 = V3*100\n",
        "V3 "
      ],
      "execution_count": null,
      "outputs": [
        {
          "output_type": "execute_result",
          "data": {
            "text/html": [
              "<div>\n",
              "<style scoped>\n",
              "    .dataframe tbody tr th:only-of-type {\n",
              "        vertical-align: middle;\n",
              "    }\n",
              "\n",
              "    .dataframe tbody tr th {\n",
              "        vertical-align: top;\n",
              "    }\n",
              "\n",
              "    .dataframe thead th {\n",
              "        text-align: right;\n",
              "    }\n",
              "</style>\n",
              "<table border=\"1\" class=\"dataframe\">\n",
              "  <thead>\n",
              "    <tr style=\"text-align: right;\">\n",
              "      <th></th>\n",
              "      <th>IdRepComercial</th>\n",
              "      <th>VlVendaLiquido</th>\n",
              "    </tr>\n",
              "  </thead>\n",
              "  <tbody>\n",
              "    <tr>\n",
              "      <th>0</th>\n",
              "      <td>106900700.0</td>\n",
              "      <td>0.801952</td>\n",
              "    </tr>\n",
              "    <tr>\n",
              "      <th>1</th>\n",
              "      <td>107167200.0</td>\n",
              "      <td>0.124029</td>\n",
              "    </tr>\n",
              "    <tr>\n",
              "      <th>2</th>\n",
              "      <td>107365000.0</td>\n",
              "      <td>0.032864</td>\n",
              "    </tr>\n",
              "    <tr>\n",
              "      <th>3</th>\n",
              "      <td>108541000.0</td>\n",
              "      <td>1.448659</td>\n",
              "    </tr>\n",
              "    <tr>\n",
              "      <th>4</th>\n",
              "      <td>108543100.0</td>\n",
              "      <td>1.684513</td>\n",
              "    </tr>\n",
              "    <tr>\n",
              "      <th>...</th>\n",
              "      <td>...</td>\n",
              "      <td>...</td>\n",
              "    </tr>\n",
              "    <tr>\n",
              "      <th>2036</th>\n",
              "      <td>127880700.0</td>\n",
              "      <td>0.043880</td>\n",
              "    </tr>\n",
              "    <tr>\n",
              "      <th>2037</th>\n",
              "      <td>127880800.0</td>\n",
              "      <td>0.215401</td>\n",
              "    </tr>\n",
              "    <tr>\n",
              "      <th>2038</th>\n",
              "      <td>127880900.0</td>\n",
              "      <td>0.059950</td>\n",
              "    </tr>\n",
              "    <tr>\n",
              "      <th>2039</th>\n",
              "      <td>127881100.0</td>\n",
              "      <td>0.018344</td>\n",
              "    </tr>\n",
              "    <tr>\n",
              "      <th>2040</th>\n",
              "      <td>127881200.0</td>\n",
              "      <td>0.022586</td>\n",
              "    </tr>\n",
              "  </tbody>\n",
              "</table>\n",
              "<p>2041 rows × 2 columns</p>\n",
              "</div>"
            ],
            "text/plain": [
              "      IdRepComercial  VlVendaLiquido\n",
              "0        106900700.0        0.801952\n",
              "1        107167200.0        0.124029\n",
              "2        107365000.0        0.032864\n",
              "3        108541000.0        1.448659\n",
              "4        108543100.0        1.684513\n",
              "...              ...             ...\n",
              "2036     127880700.0        0.043880\n",
              "2037     127880800.0        0.215401\n",
              "2038     127880900.0        0.059950\n",
              "2039     127881100.0        0.018344\n",
              "2040     127881200.0        0.022586\n",
              "\n",
              "[2041 rows x 2 columns]"
            ]
          },
          "metadata": {
            "tags": []
          },
          "execution_count": 99
        }
      ]
    },
    {
      "cell_type": "code",
      "metadata": {
        "id": "djrOD0mCEnYm",
        "colab": {
          "base_uri": "https://localhost:8080/",
          "height": 422
        },
        "outputId": "f69db984-1519-45d3-a460-e93c1f78baed"
      },
      "source": [
        "# V4 Vocaçao_dos_Municipios\n",
        "rec_vocacao=df.groupby(['Vocaçao_dos_Municipios'])[['VlVendaLiquido']].sum().loc[:,'VlVendaLiquido']\n",
        "V4 = pd.DataFrame(df[df.Vocaçao_dos_Municipios == 1].groupby(['IdRepComercial'])[['VlVendaLiquido']].sum().loc[:,\"VlVendaLiquido\"]/rec_vocacao.iloc[0]).append([\n",
        "pd.DataFrame(df[df.Vocaçao_dos_Municipios == 2].groupby(['IdRepComercial'])[['VlVendaLiquido']].sum().loc[:,\"VlVendaLiquido\"]/rec_vocacao.iloc[1]),\n",
        "pd.DataFrame(df[df.Vocaçao_dos_Municipios == 3].groupby(['IdRepComercial'])[['VlVendaLiquido']].sum().loc[:,\"VlVendaLiquido\"]/rec_vocacao.iloc[2]),\n",
        "pd.DataFrame(df[df.Vocaçao_dos_Municipios == 4].groupby(['IdRepComercial'])[['VlVendaLiquido']].sum().loc[:,'VlVendaLiquido']/rec_vocacao.iloc[3])]).reset_index()\n",
        "V4 = V4.groupby(['IdRepComercial'])[['VlVendaLiquido']].mean()\n",
        "V4 = V4*100\n",
        "V4 = pd.DataFrame(V4).reset_index()\n",
        "V4"
      ],
      "execution_count": null,
      "outputs": [
        {
          "output_type": "execute_result",
          "data": {
            "text/html": [
              "<div>\n",
              "<style scoped>\n",
              "    .dataframe tbody tr th:only-of-type {\n",
              "        vertical-align: middle;\n",
              "    }\n",
              "\n",
              "    .dataframe tbody tr th {\n",
              "        vertical-align: top;\n",
              "    }\n",
              "\n",
              "    .dataframe thead th {\n",
              "        text-align: right;\n",
              "    }\n",
              "</style>\n",
              "<table border=\"1\" class=\"dataframe\">\n",
              "  <thead>\n",
              "    <tr style=\"text-align: right;\">\n",
              "      <th></th>\n",
              "      <th>IdRepComercial</th>\n",
              "      <th>VlVendaLiquido</th>\n",
              "    </tr>\n",
              "  </thead>\n",
              "  <tbody>\n",
              "    <tr>\n",
              "      <th>0</th>\n",
              "      <td>1051912.0</td>\n",
              "      <td>0.281549</td>\n",
              "    </tr>\n",
              "    <tr>\n",
              "      <th>1</th>\n",
              "      <td>1052190.0</td>\n",
              "      <td>1.767720</td>\n",
              "    </tr>\n",
              "    <tr>\n",
              "      <th>2</th>\n",
              "      <td>1053746.0</td>\n",
              "      <td>0.546954</td>\n",
              "    </tr>\n",
              "    <tr>\n",
              "      <th>3</th>\n",
              "      <td>1053821.0</td>\n",
              "      <td>0.125327</td>\n",
              "    </tr>\n",
              "    <tr>\n",
              "      <th>4</th>\n",
              "      <td>1054692.0</td>\n",
              "      <td>0.002109</td>\n",
              "    </tr>\n",
              "    <tr>\n",
              "      <th>...</th>\n",
              "      <td>...</td>\n",
              "      <td>...</td>\n",
              "    </tr>\n",
              "    <tr>\n",
              "      <th>2036</th>\n",
              "      <td>1278808.0</td>\n",
              "      <td>0.375094</td>\n",
              "    </tr>\n",
              "    <tr>\n",
              "      <th>2037</th>\n",
              "      <td>1278809.0</td>\n",
              "      <td>0.104396</td>\n",
              "    </tr>\n",
              "    <tr>\n",
              "      <th>2038</th>\n",
              "      <td>1278811.0</td>\n",
              "      <td>0.161317</td>\n",
              "    </tr>\n",
              "    <tr>\n",
              "      <th>2039</th>\n",
              "      <td>1278812.0</td>\n",
              "      <td>0.039330</td>\n",
              "    </tr>\n",
              "    <tr>\n",
              "      <th>2040</th>\n",
              "      <td>1278821.0</td>\n",
              "      <td>0.127433</td>\n",
              "    </tr>\n",
              "  </tbody>\n",
              "</table>\n",
              "<p>2041 rows × 2 columns</p>\n",
              "</div>"
            ],
            "text/plain": [
              "      IdRepComercial  VlVendaLiquido\n",
              "0          1051912.0        0.281549\n",
              "1          1052190.0        1.767720\n",
              "2          1053746.0        0.546954\n",
              "3          1053821.0        0.125327\n",
              "4          1054692.0        0.002109\n",
              "...              ...             ...\n",
              "2036       1278808.0        0.375094\n",
              "2037       1278809.0        0.104396\n",
              "2038       1278811.0        0.161317\n",
              "2039       1278812.0        0.039330\n",
              "2040       1278821.0        0.127433\n",
              "\n",
              "[2041 rows x 2 columns]"
            ]
          },
          "metadata": {
            "tags": []
          },
          "execution_count": 100
        }
      ]
    },
    {
      "cell_type": "code",
      "metadata": {
        "id": "f1jzU3siFqoY",
        "colab": {
          "base_uri": "https://localhost:8080/",
          "height": 422
        },
        "outputId": "0547dd5f-cb59-417e-aab5-fa3d9bd97660"
      },
      "source": [
        "#V5 Quantidade de clientes atendidos pelo vendedor em relação a sua categoria Tipo de Representante \n",
        "#Média_QteClientes_TipoRepr\n",
        "V5 = pd.DataFrame(df[df.DsTipoRepresentante == 1].groupby(['IdRepComercial'])[['IdClienteVenda']].nunique().loc[:,\"IdClienteVenda\"]/Media_QteClientes_TipoRepr.iloc[0,0]).append([\n",
        "pd.DataFrame(df[df.DsTipoRepresentante == 2].groupby(['IdRepComercial'])[['IdClienteVenda']].nunique().loc[:,\"IdClienteVenda\"]/Media_QteClientes_TipoRepr.iloc[1,0]),\n",
        "pd.DataFrame(df[df.DsTipoRepresentante == 3].groupby(['IdRepComercial'])[['IdClienteVenda']].nunique().loc[:,\"IdClienteVenda\"]/Media_QteClientes_TipoRepr.iloc[2,0]),\n",
        "pd.DataFrame(df[df.DsTipoRepresentante == 4].groupby(['IdRepComercial'])[['IdClienteVenda']].nunique().loc[:,\"IdClienteVenda\"]/Media_QteClientes_TipoRepr.iloc[3,0])]).reset_index()\n",
        "V5"
      ],
      "execution_count": null,
      "outputs": [
        {
          "output_type": "execute_result",
          "data": {
            "text/html": [
              "<div>\n",
              "<style scoped>\n",
              "    .dataframe tbody tr th:only-of-type {\n",
              "        vertical-align: middle;\n",
              "    }\n",
              "\n",
              "    .dataframe tbody tr th {\n",
              "        vertical-align: top;\n",
              "    }\n",
              "\n",
              "    .dataframe thead th {\n",
              "        text-align: right;\n",
              "    }\n",
              "</style>\n",
              "<table border=\"1\" class=\"dataframe\">\n",
              "  <thead>\n",
              "    <tr style=\"text-align: right;\">\n",
              "      <th></th>\n",
              "      <th>IdRepComercial</th>\n",
              "      <th>IdClienteVenda</th>\n",
              "    </tr>\n",
              "  </thead>\n",
              "  <tbody>\n",
              "    <tr>\n",
              "      <th>0</th>\n",
              "      <td>1069007.0</td>\n",
              "      <td>0.013165</td>\n",
              "    </tr>\n",
              "    <tr>\n",
              "      <th>1</th>\n",
              "      <td>1071672.0</td>\n",
              "      <td>0.004579</td>\n",
              "    </tr>\n",
              "    <tr>\n",
              "      <th>2</th>\n",
              "      <td>1073650.0</td>\n",
              "      <td>0.000572</td>\n",
              "    </tr>\n",
              "    <tr>\n",
              "      <th>3</th>\n",
              "      <td>1085410.0</td>\n",
              "      <td>0.012021</td>\n",
              "    </tr>\n",
              "    <tr>\n",
              "      <th>4</th>\n",
              "      <td>1085431.0</td>\n",
              "      <td>0.013452</td>\n",
              "    </tr>\n",
              "    <tr>\n",
              "      <th>...</th>\n",
              "      <td>...</td>\n",
              "      <td>...</td>\n",
              "    </tr>\n",
              "    <tr>\n",
              "      <th>2036</th>\n",
              "      <td>1278807.0</td>\n",
              "      <td>0.000308</td>\n",
              "    </tr>\n",
              "    <tr>\n",
              "      <th>2037</th>\n",
              "      <td>1278808.0</td>\n",
              "      <td>0.000816</td>\n",
              "    </tr>\n",
              "    <tr>\n",
              "      <th>2038</th>\n",
              "      <td>1278809.0</td>\n",
              "      <td>0.000508</td>\n",
              "    </tr>\n",
              "    <tr>\n",
              "      <th>2039</th>\n",
              "      <td>1278811.0</td>\n",
              "      <td>0.000602</td>\n",
              "    </tr>\n",
              "    <tr>\n",
              "      <th>2040</th>\n",
              "      <td>1278812.0</td>\n",
              "      <td>0.000869</td>\n",
              "    </tr>\n",
              "  </tbody>\n",
              "</table>\n",
              "<p>2041 rows × 2 columns</p>\n",
              "</div>"
            ],
            "text/plain": [
              "      IdRepComercial  IdClienteVenda\n",
              "0          1069007.0        0.013165\n",
              "1          1071672.0        0.004579\n",
              "2          1073650.0        0.000572\n",
              "3          1085410.0        0.012021\n",
              "4          1085431.0        0.013452\n",
              "...              ...             ...\n",
              "2036       1278807.0        0.000308\n",
              "2037       1278808.0        0.000816\n",
              "2038       1278809.0        0.000508\n",
              "2039       1278811.0        0.000602\n",
              "2040       1278812.0        0.000869\n",
              "\n",
              "[2041 rows x 2 columns]"
            ]
          },
          "metadata": {
            "tags": []
          },
          "execution_count": 53
        }
      ]
    },
    {
      "cell_type": "code",
      "metadata": {
        "id": "AtBwm8tcFqeM",
        "colab": {
          "base_uri": "https://localhost:8080/",
          "height": 422
        },
        "outputId": "7295a66c-dda5-42e6-d80c-16f6267337af"
      },
      "source": [
        "# V6 Quantidade de itens por quantidade em relação ao Tipo de Representante\n",
        "V6 = pd.DataFrame(df[df.DsTipoRepresentante == 1].groupby(['IdRepComercial'])[['QtdeVendida']].sum().loc[:,\"QtdeVendida\"]/Media_QteProduto_TipoRepr.iloc[0,0]).append([\n",
        "pd.DataFrame(df[df.DsTipoRepresentante == 2].groupby(['IdRepComercial'])[['QtdeVendida']].sum().loc[:,\"QtdeVendida\"]/Media_QteProduto_TipoRepr.iloc[1,0]),\n",
        "pd.DataFrame(df[df.DsTipoRepresentante == 3].groupby(['IdRepComercial'])[['QtdeVendida']].sum().loc[:,\"QtdeVendida\"]/Media_QteProduto_TipoRepr.iloc[2,0]),\n",
        "pd.DataFrame(df[df.DsTipoRepresentante == 4].groupby(['IdRepComercial'])[['QtdeVendida']].sum().loc[:,\"QtdeVendida\"]/Media_QteProduto_TipoRepr.iloc[3,0])]).reset_index()\n",
        "V6 "
      ],
      "execution_count": null,
      "outputs": [
        {
          "output_type": "execute_result",
          "data": {
            "text/html": [
              "<div>\n",
              "<style scoped>\n",
              "    .dataframe tbody tr th:only-of-type {\n",
              "        vertical-align: middle;\n",
              "    }\n",
              "\n",
              "    .dataframe tbody tr th {\n",
              "        vertical-align: top;\n",
              "    }\n",
              "\n",
              "    .dataframe thead th {\n",
              "        text-align: right;\n",
              "    }\n",
              "</style>\n",
              "<table border=\"1\" class=\"dataframe\">\n",
              "  <thead>\n",
              "    <tr style=\"text-align: right;\">\n",
              "      <th></th>\n",
              "      <th>IdRepComercial</th>\n",
              "      <th>QtdeVendida</th>\n",
              "    </tr>\n",
              "  </thead>\n",
              "  <tbody>\n",
              "    <tr>\n",
              "      <th>0</th>\n",
              "      <td>1069007.0</td>\n",
              "      <td>1817.961135</td>\n",
              "    </tr>\n",
              "    <tr>\n",
              "      <th>1</th>\n",
              "      <td>1071672.0</td>\n",
              "      <td>58.524750</td>\n",
              "    </tr>\n",
              "    <tr>\n",
              "      <th>2</th>\n",
              "      <td>1073650.0</td>\n",
              "      <td>191.042332</td>\n",
              "    </tr>\n",
              "    <tr>\n",
              "      <th>3</th>\n",
              "      <td>1085410.0</td>\n",
              "      <td>358.305376</td>\n",
              "    </tr>\n",
              "    <tr>\n",
              "      <th>4</th>\n",
              "      <td>1085431.0</td>\n",
              "      <td>466.235636</td>\n",
              "    </tr>\n",
              "    <tr>\n",
              "      <th>...</th>\n",
              "      <td>...</td>\n",
              "      <td>...</td>\n",
              "    </tr>\n",
              "    <tr>\n",
              "      <th>2036</th>\n",
              "      <td>1278807.0</td>\n",
              "      <td>1179.377420</td>\n",
              "    </tr>\n",
              "    <tr>\n",
              "      <th>2037</th>\n",
              "      <td>1278808.0</td>\n",
              "      <td>1745.068235</td>\n",
              "    </tr>\n",
              "    <tr>\n",
              "      <th>2038</th>\n",
              "      <td>1278809.0</td>\n",
              "      <td>4775.580918</td>\n",
              "    </tr>\n",
              "    <tr>\n",
              "      <th>2039</th>\n",
              "      <td>1278811.0</td>\n",
              "      <td>600.374795</td>\n",
              "    </tr>\n",
              "    <tr>\n",
              "      <th>2040</th>\n",
              "      <td>1278812.0</td>\n",
              "      <td>457.364444</td>\n",
              "    </tr>\n",
              "  </tbody>\n",
              "</table>\n",
              "<p>2041 rows × 2 columns</p>\n",
              "</div>"
            ],
            "text/plain": [
              "      IdRepComercial  QtdeVendida\n",
              "0          1069007.0  1817.961135\n",
              "1          1071672.0    58.524750\n",
              "2          1073650.0   191.042332\n",
              "3          1085410.0   358.305376\n",
              "4          1085431.0   466.235636\n",
              "...              ...          ...\n",
              "2036       1278807.0  1179.377420\n",
              "2037       1278808.0  1745.068235\n",
              "2038       1278809.0  4775.580918\n",
              "2039       1278811.0   600.374795\n",
              "2040       1278812.0   457.364444\n",
              "\n",
              "[2041 rows x 2 columns]"
            ]
          },
          "metadata": {
            "tags": []
          },
          "execution_count": 55
        }
      ]
    },
    {
      "cell_type": "code",
      "metadata": {
        "id": "-mherIk-EnQ6",
        "colab": {
          "base_uri": "https://localhost:8080/",
          "height": 422
        },
        "outputId": "24188eaf-6db2-4b6d-8c9f-69d19adde0e8"
      },
      "source": [
        "#V7 Quantidade de Categorias diferentes que vendidas pelo vendedor no período, relativo a categoria de Tipo de Representante\n",
        "V7 = pd.DataFrame(df[df.DsTipoRepresentante == 1].groupby(['IdRepComercial'])[['DsCategoria']].nunique().loc[:,\"DsCategoria\"]/Media_QteCategoria_TipoRepr.iloc[0,0]).append([\n",
        "pd.DataFrame(df[df.DsTipoRepresentante == 2].groupby(['IdRepComercial'])[['DsCategoria']].nunique().loc[:,\"DsCategoria\"]/Media_QteCategoria_TipoRepr.iloc[1,0]),\n",
        "pd.DataFrame(df[df.DsTipoRepresentante == 3].groupby(['IdRepComercial'])[['DsCategoria']].nunique().loc[:,\"DsCategoria\"]/Media_QteCategoria_TipoRepr.iloc[2,0]),\n",
        "pd.DataFrame(df[df.DsTipoRepresentante == 4].groupby(['IdRepComercial'])[['DsCategoria']].nunique().loc[:,\"DsCategoria\"]/Media_QteCategoria_TipoRepr.iloc[3,0])]).reset_index()\n",
        "V7 \n"
      ],
      "execution_count": null,
      "outputs": [
        {
          "output_type": "execute_result",
          "data": {
            "text/html": [
              "<div>\n",
              "<style scoped>\n",
              "    .dataframe tbody tr th:only-of-type {\n",
              "        vertical-align: middle;\n",
              "    }\n",
              "\n",
              "    .dataframe tbody tr th {\n",
              "        vertical-align: top;\n",
              "    }\n",
              "\n",
              "    .dataframe thead th {\n",
              "        text-align: right;\n",
              "    }\n",
              "</style>\n",
              "<table border=\"1\" class=\"dataframe\">\n",
              "  <thead>\n",
              "    <tr style=\"text-align: right;\">\n",
              "      <th></th>\n",
              "      <th>IdRepComercial</th>\n",
              "      <th>DsCategoria</th>\n",
              "    </tr>\n",
              "  </thead>\n",
              "  <tbody>\n",
              "    <tr>\n",
              "      <th>0</th>\n",
              "      <td>1069007.0</td>\n",
              "      <td>1.243590</td>\n",
              "    </tr>\n",
              "    <tr>\n",
              "      <th>1</th>\n",
              "      <td>1071672.0</td>\n",
              "      <td>0.358974</td>\n",
              "    </tr>\n",
              "    <tr>\n",
              "      <th>2</th>\n",
              "      <td>1073650.0</td>\n",
              "      <td>0.064103</td>\n",
              "    </tr>\n",
              "    <tr>\n",
              "      <th>3</th>\n",
              "      <td>1085410.0</td>\n",
              "      <td>0.333333</td>\n",
              "    </tr>\n",
              "    <tr>\n",
              "      <th>4</th>\n",
              "      <td>1085431.0</td>\n",
              "      <td>0.525641</td>\n",
              "    </tr>\n",
              "    <tr>\n",
              "      <th>...</th>\n",
              "      <td>...</td>\n",
              "      <td>...</td>\n",
              "    </tr>\n",
              "    <tr>\n",
              "      <th>2036</th>\n",
              "      <td>1278807.0</td>\n",
              "      <td>1.412500</td>\n",
              "    </tr>\n",
              "    <tr>\n",
              "      <th>2037</th>\n",
              "      <td>1278808.0</td>\n",
              "      <td>1.825000</td>\n",
              "    </tr>\n",
              "    <tr>\n",
              "      <th>2038</th>\n",
              "      <td>1278809.0</td>\n",
              "      <td>1.587500</td>\n",
              "    </tr>\n",
              "    <tr>\n",
              "      <th>2039</th>\n",
              "      <td>1278811.0</td>\n",
              "      <td>0.575000</td>\n",
              "    </tr>\n",
              "    <tr>\n",
              "      <th>2040</th>\n",
              "      <td>1278812.0</td>\n",
              "      <td>0.887500</td>\n",
              "    </tr>\n",
              "  </tbody>\n",
              "</table>\n",
              "<p>2041 rows × 2 columns</p>\n",
              "</div>"
            ],
            "text/plain": [
              "      IdRepComercial  DsCategoria\n",
              "0          1069007.0     1.243590\n",
              "1          1071672.0     0.358974\n",
              "2          1073650.0     0.064103\n",
              "3          1085410.0     0.333333\n",
              "4          1085431.0     0.525641\n",
              "...              ...          ...\n",
              "2036       1278807.0     1.412500\n",
              "2037       1278808.0     1.825000\n",
              "2038       1278809.0     1.587500\n",
              "2039       1278811.0     0.575000\n",
              "2040       1278812.0     0.887500\n",
              "\n",
              "[2041 rows x 2 columns]"
            ]
          },
          "metadata": {
            "tags": []
          },
          "execution_count": 56
        }
      ]
    },
    {
      "cell_type": "code",
      "metadata": {
        "colab": {
          "base_uri": "https://localhost:8080/",
          "height": 422
        },
        "id": "x6_u40JqEnE6",
        "outputId": "ae3653ce-a51a-481f-9a73-de215adb6ae8"
      },
      "source": [
        "#V8 \n",
        "V8 = pd.DataFrame((df[df.DsTipoRepresentante == 1].groupby(['IdRepComercial'])[['NrPedido']].nunique().reset_index().loc[:,\"NrPedido\"]/df[df.DsTipoRepresentante == 1].groupby(['IdRepComercial'])[['Tempo_Expo']].mean().reset_index().loc[:,\"Tempo_Expo\"])/Media_QtePedidos_TipoRepr.iloc[0,0]).append([\n",
        "pd.DataFrame((df[df.DsTipoRepresentante == 2].groupby(['IdRepComercial'])[['NrPedido']].nunique().reset_index().loc[:,\"NrPedido\"]/df[df.DsTipoRepresentante == 2].groupby(['IdRepComercial'])[['Tempo_Expo']].mean().reset_index().loc[:,\"Tempo_Expo\"])/Media_QtePedidos_TipoRepr.iloc[1,0]),\n",
        "pd.DataFrame((df[df.DsTipoRepresentante == 3].groupby(['IdRepComercial'])[['NrPedido']].nunique().reset_index().loc[:,\"NrPedido\"]/df[df.DsTipoRepresentante == 3].groupby(['IdRepComercial'])[['Tempo_Expo']].mean().reset_index().loc[:,\"Tempo_Expo\"])/Media_QtePedidos_TipoRepr.iloc[2,0]),\n",
        "pd.DataFrame((df[df.DsTipoRepresentante == 4].groupby(['IdRepComercial'])[['NrPedido']].nunique().reset_index().loc[:,\"NrPedido\"]/df[df.DsTipoRepresentante == 4].groupby(['IdRepComercial'])[['Tempo_Expo']].mean().reset_index().loc[:,\"Tempo_Expo\"])/Media_QtePedidos_TipoRepr.iloc[3,0])])\n",
        "V8 = V8.reset_index()\n",
        "V8.columns = ['index', \"V8\"]\n",
        "V8"
      ],
      "execution_count": null,
      "outputs": [
        {
          "output_type": "execute_result",
          "data": {
            "text/html": [
              "<div>\n",
              "<style scoped>\n",
              "    .dataframe tbody tr th:only-of-type {\n",
              "        vertical-align: middle;\n",
              "    }\n",
              "\n",
              "    .dataframe tbody tr th {\n",
              "        vertical-align: top;\n",
              "    }\n",
              "\n",
              "    .dataframe thead th {\n",
              "        text-align: right;\n",
              "    }\n",
              "</style>\n",
              "<table border=\"1\" class=\"dataframe\">\n",
              "  <thead>\n",
              "    <tr style=\"text-align: right;\">\n",
              "      <th></th>\n",
              "      <th>index</th>\n",
              "      <th>V8</th>\n",
              "    </tr>\n",
              "  </thead>\n",
              "  <tbody>\n",
              "    <tr>\n",
              "      <th>0</th>\n",
              "      <td>0</td>\n",
              "      <td>0.081559</td>\n",
              "    </tr>\n",
              "    <tr>\n",
              "      <th>1</th>\n",
              "      <td>1</td>\n",
              "      <td>0.007892</td>\n",
              "    </tr>\n",
              "    <tr>\n",
              "      <th>2</th>\n",
              "      <td>2</td>\n",
              "      <td>0.003660</td>\n",
              "    </tr>\n",
              "    <tr>\n",
              "      <th>3</th>\n",
              "      <td>3</td>\n",
              "      <td>0.171007</td>\n",
              "    </tr>\n",
              "    <tr>\n",
              "      <th>4</th>\n",
              "      <td>4</td>\n",
              "      <td>0.210868</td>\n",
              "    </tr>\n",
              "    <tr>\n",
              "      <th>...</th>\n",
              "      <td>...</td>\n",
              "      <td>...</td>\n",
              "    </tr>\n",
              "    <tr>\n",
              "      <th>2036</th>\n",
              "      <td>1685</td>\n",
              "      <td>0.190095</td>\n",
              "    </tr>\n",
              "    <tr>\n",
              "      <th>2037</th>\n",
              "      <td>1686</td>\n",
              "      <td>1.095022</td>\n",
              "    </tr>\n",
              "    <tr>\n",
              "      <th>2038</th>\n",
              "      <td>1687</td>\n",
              "      <td>0.340848</td>\n",
              "    </tr>\n",
              "    <tr>\n",
              "      <th>2039</th>\n",
              "      <td>1688</td>\n",
              "      <td>0.251799</td>\n",
              "    </tr>\n",
              "    <tr>\n",
              "      <th>2040</th>\n",
              "      <td>1689</td>\n",
              "      <td>0.241891</td>\n",
              "    </tr>\n",
              "  </tbody>\n",
              "</table>\n",
              "<p>2041 rows × 2 columns</p>\n",
              "</div>"
            ],
            "text/plain": [
              "      index        V8\n",
              "0         0  0.081559\n",
              "1         1  0.007892\n",
              "2         2  0.003660\n",
              "3         3  0.171007\n",
              "4         4  0.210868\n",
              "...     ...       ...\n",
              "2036   1685  0.190095\n",
              "2037   1686  1.095022\n",
              "2038   1687  0.340848\n",
              "2039   1688  0.251799\n",
              "2040   1689  0.241891\n",
              "\n",
              "[2041 rows x 2 columns]"
            ]
          },
          "metadata": {
            "tags": []
          },
          "execution_count": 63
        }
      ]
    },
    {
      "cell_type": "code",
      "metadata": {
        "id": "_rS-7BfrFcsk",
        "colab": {
          "base_uri": "https://localhost:8080/",
          "height": 431
        },
        "outputId": "fd398ac3-c26a-44ed-d6f0-62a3638aed67"
      },
      "source": [
        "var_seg = pd.concat([V2.loc[:,'VlVendaLiquido'], V3.loc[:,'VlVendaLiquido'],V4.loc[:,'VlVendaLiquido'], V5.loc[:,'IdClienteVenda'],V6.loc[:,'QtdeVendida'],V7.loc[:,'DsCategoria'],V8.loc[:,\"V8\"]], axis=1)\n",
        "var_seg.columns = ['rep_comercial','V2', 'V3', \"V4\", 'V5',\"V6\",\"V7\",\"V8\"]\n",
        "var_seg.index = var_seg['rep_comercial']\n",
        "var_seg = var_seg.drop(\"rep_comercial\", axis=1)"
      ],
      "execution_count": 178,
      "outputs": [
        {
          "output_type": "error",
          "ename": "ValueError",
          "evalue": "ignored",
          "traceback": [
            "\u001b[0;31m---------------------------------------------------------------------------\u001b[0m",
            "\u001b[0;31mValueError\u001b[0m                                Traceback (most recent call last)",
            "\u001b[0;32m<ipython-input-178-dc020dc2eac4>\u001b[0m in \u001b[0;36m<module>\u001b[0;34m()\u001b[0m\n\u001b[1;32m      1\u001b[0m \u001b[0mvar_seg\u001b[0m \u001b[0;34m=\u001b[0m \u001b[0mpd\u001b[0m\u001b[0;34m.\u001b[0m\u001b[0mconcat\u001b[0m\u001b[0;34m(\u001b[0m\u001b[0;34m[\u001b[0m\u001b[0mV2\u001b[0m\u001b[0;34m.\u001b[0m\u001b[0mloc\u001b[0m\u001b[0;34m[\u001b[0m\u001b[0;34m:\u001b[0m\u001b[0;34m,\u001b[0m\u001b[0;34m'VlVendaLiquido'\u001b[0m\u001b[0;34m]\u001b[0m\u001b[0;34m,\u001b[0m \u001b[0mV3\u001b[0m\u001b[0;34m.\u001b[0m\u001b[0mloc\u001b[0m\u001b[0;34m[\u001b[0m\u001b[0;34m:\u001b[0m\u001b[0;34m,\u001b[0m\u001b[0;34m'VlVendaLiquido'\u001b[0m\u001b[0;34m]\u001b[0m\u001b[0;34m,\u001b[0m\u001b[0mV4\u001b[0m\u001b[0;34m.\u001b[0m\u001b[0mloc\u001b[0m\u001b[0;34m[\u001b[0m\u001b[0;34m:\u001b[0m\u001b[0;34m,\u001b[0m\u001b[0;34m'VlVendaLiquido'\u001b[0m\u001b[0;34m]\u001b[0m\u001b[0;34m,\u001b[0m \u001b[0mV5\u001b[0m\u001b[0;34m.\u001b[0m\u001b[0mloc\u001b[0m\u001b[0;34m[\u001b[0m\u001b[0;34m:\u001b[0m\u001b[0;34m,\u001b[0m\u001b[0;34m'IdClienteVenda'\u001b[0m\u001b[0;34m]\u001b[0m\u001b[0;34m,\u001b[0m\u001b[0mV6\u001b[0m\u001b[0;34m.\u001b[0m\u001b[0mloc\u001b[0m\u001b[0;34m[\u001b[0m\u001b[0;34m:\u001b[0m\u001b[0;34m,\u001b[0m\u001b[0;34m'QtdeVendida'\u001b[0m\u001b[0;34m]\u001b[0m\u001b[0;34m,\u001b[0m\u001b[0mV7\u001b[0m\u001b[0;34m.\u001b[0m\u001b[0mloc\u001b[0m\u001b[0;34m[\u001b[0m\u001b[0;34m:\u001b[0m\u001b[0;34m,\u001b[0m\u001b[0;34m'DsCategoria'\u001b[0m\u001b[0;34m]\u001b[0m\u001b[0;34m,\u001b[0m\u001b[0mV8\u001b[0m\u001b[0;34m.\u001b[0m\u001b[0mloc\u001b[0m\u001b[0;34m[\u001b[0m\u001b[0;34m:\u001b[0m\u001b[0;34m,\u001b[0m\u001b[0;34m\"V8\"\u001b[0m\u001b[0;34m]\u001b[0m\u001b[0;34m]\u001b[0m\u001b[0;34m,\u001b[0m \u001b[0maxis\u001b[0m\u001b[0;34m=\u001b[0m\u001b[0;36m1\u001b[0m\u001b[0;34m)\u001b[0m\u001b[0;34m\u001b[0m\u001b[0;34m\u001b[0m\u001b[0m\n\u001b[0;32m----> 2\u001b[0;31m \u001b[0mvar_seg\u001b[0m\u001b[0;34m.\u001b[0m\u001b[0mcolumns\u001b[0m \u001b[0;34m=\u001b[0m \u001b[0;34m[\u001b[0m\u001b[0;34m'rep_comercial'\u001b[0m\u001b[0;34m,\u001b[0m\u001b[0;34m'V2'\u001b[0m\u001b[0;34m,\u001b[0m \u001b[0;34m'V3'\u001b[0m\u001b[0;34m,\u001b[0m \u001b[0;34m\"V4\"\u001b[0m\u001b[0;34m,\u001b[0m \u001b[0;34m'V5'\u001b[0m\u001b[0;34m,\u001b[0m\u001b[0;34m\"V6\"\u001b[0m\u001b[0;34m,\u001b[0m\u001b[0;34m\"V7\"\u001b[0m\u001b[0;34m,\u001b[0m\u001b[0;34m\"V8\"\u001b[0m\u001b[0;34m]\u001b[0m\u001b[0;34m\u001b[0m\u001b[0;34m\u001b[0m\u001b[0m\n\u001b[0m\u001b[1;32m      3\u001b[0m \u001b[0mvar_seg\u001b[0m\u001b[0;34m.\u001b[0m\u001b[0mindex\u001b[0m \u001b[0;34m=\u001b[0m \u001b[0mvar_seg\u001b[0m\u001b[0;34m[\u001b[0m\u001b[0;34m'rep_comercial'\u001b[0m\u001b[0;34m]\u001b[0m\u001b[0;34m\u001b[0m\u001b[0;34m\u001b[0m\u001b[0m\n\u001b[1;32m      4\u001b[0m \u001b[0mvar_seg\u001b[0m \u001b[0;34m=\u001b[0m \u001b[0mvar_seg\u001b[0m\u001b[0;34m.\u001b[0m\u001b[0mdrop\u001b[0m\u001b[0;34m(\u001b[0m\u001b[0;34m\"rep_comercial\"\u001b[0m\u001b[0;34m,\u001b[0m \u001b[0maxis\u001b[0m\u001b[0;34m=\u001b[0m\u001b[0;36m1\u001b[0m\u001b[0;34m)\u001b[0m\u001b[0;34m\u001b[0m\u001b[0;34m\u001b[0m\u001b[0m\n",
            "\u001b[0;32m/usr/local/lib/python3.7/dist-packages/pandas/core/generic.py\u001b[0m in \u001b[0;36m__setattr__\u001b[0;34m(self, name, value)\u001b[0m\n\u001b[1;32m   5152\u001b[0m         \u001b[0;32mtry\u001b[0m\u001b[0;34m:\u001b[0m\u001b[0;34m\u001b[0m\u001b[0;34m\u001b[0m\u001b[0m\n\u001b[1;32m   5153\u001b[0m             \u001b[0mobject\u001b[0m\u001b[0;34m.\u001b[0m\u001b[0m__getattribute__\u001b[0m\u001b[0;34m(\u001b[0m\u001b[0mself\u001b[0m\u001b[0;34m,\u001b[0m \u001b[0mname\u001b[0m\u001b[0;34m)\u001b[0m\u001b[0;34m\u001b[0m\u001b[0;34m\u001b[0m\u001b[0m\n\u001b[0;32m-> 5154\u001b[0;31m             \u001b[0;32mreturn\u001b[0m \u001b[0mobject\u001b[0m\u001b[0;34m.\u001b[0m\u001b[0m__setattr__\u001b[0m\u001b[0;34m(\u001b[0m\u001b[0mself\u001b[0m\u001b[0;34m,\u001b[0m \u001b[0mname\u001b[0m\u001b[0;34m,\u001b[0m \u001b[0mvalue\u001b[0m\u001b[0;34m)\u001b[0m\u001b[0;34m\u001b[0m\u001b[0;34m\u001b[0m\u001b[0m\n\u001b[0m\u001b[1;32m   5155\u001b[0m         \u001b[0;32mexcept\u001b[0m \u001b[0mAttributeError\u001b[0m\u001b[0;34m:\u001b[0m\u001b[0;34m\u001b[0m\u001b[0;34m\u001b[0m\u001b[0m\n\u001b[1;32m   5156\u001b[0m             \u001b[0;32mpass\u001b[0m\u001b[0;34m\u001b[0m\u001b[0;34m\u001b[0m\u001b[0m\n",
            "\u001b[0;32mpandas/_libs/properties.pyx\u001b[0m in \u001b[0;36mpandas._libs.properties.AxisProperty.__set__\u001b[0;34m()\u001b[0m\n",
            "\u001b[0;32m/usr/local/lib/python3.7/dist-packages/pandas/core/generic.py\u001b[0m in \u001b[0;36m_set_axis\u001b[0;34m(self, axis, labels)\u001b[0m\n\u001b[1;32m    562\u001b[0m     \u001b[0;32mdef\u001b[0m \u001b[0m_set_axis\u001b[0m\u001b[0;34m(\u001b[0m\u001b[0mself\u001b[0m\u001b[0;34m,\u001b[0m \u001b[0maxis\u001b[0m\u001b[0;34m:\u001b[0m \u001b[0mint\u001b[0m\u001b[0;34m,\u001b[0m \u001b[0mlabels\u001b[0m\u001b[0;34m:\u001b[0m \u001b[0mIndex\u001b[0m\u001b[0;34m)\u001b[0m \u001b[0;34m->\u001b[0m \u001b[0;32mNone\u001b[0m\u001b[0;34m:\u001b[0m\u001b[0;34m\u001b[0m\u001b[0;34m\u001b[0m\u001b[0m\n\u001b[1;32m    563\u001b[0m         \u001b[0mlabels\u001b[0m \u001b[0;34m=\u001b[0m \u001b[0mensure_index\u001b[0m\u001b[0;34m(\u001b[0m\u001b[0mlabels\u001b[0m\u001b[0;34m)\u001b[0m\u001b[0;34m\u001b[0m\u001b[0;34m\u001b[0m\u001b[0m\n\u001b[0;32m--> 564\u001b[0;31m         \u001b[0mself\u001b[0m\u001b[0;34m.\u001b[0m\u001b[0m_mgr\u001b[0m\u001b[0;34m.\u001b[0m\u001b[0mset_axis\u001b[0m\u001b[0;34m(\u001b[0m\u001b[0maxis\u001b[0m\u001b[0;34m,\u001b[0m \u001b[0mlabels\u001b[0m\u001b[0;34m)\u001b[0m\u001b[0;34m\u001b[0m\u001b[0;34m\u001b[0m\u001b[0m\n\u001b[0m\u001b[1;32m    565\u001b[0m         \u001b[0mself\u001b[0m\u001b[0;34m.\u001b[0m\u001b[0m_clear_item_cache\u001b[0m\u001b[0;34m(\u001b[0m\u001b[0;34m)\u001b[0m\u001b[0;34m\u001b[0m\u001b[0;34m\u001b[0m\u001b[0m\n\u001b[1;32m    566\u001b[0m \u001b[0;34m\u001b[0m\u001b[0m\n",
            "\u001b[0;32m/usr/local/lib/python3.7/dist-packages/pandas/core/internals/managers.py\u001b[0m in \u001b[0;36mset_axis\u001b[0;34m(self, axis, new_labels)\u001b[0m\n\u001b[1;32m    225\u001b[0m         \u001b[0;32mif\u001b[0m \u001b[0mnew_len\u001b[0m \u001b[0;34m!=\u001b[0m \u001b[0mold_len\u001b[0m\u001b[0;34m:\u001b[0m\u001b[0;34m\u001b[0m\u001b[0;34m\u001b[0m\u001b[0m\n\u001b[1;32m    226\u001b[0m             raise ValueError(\n\u001b[0;32m--> 227\u001b[0;31m                 \u001b[0;34mf\"Length mismatch: Expected axis has {old_len} elements, new \"\u001b[0m\u001b[0;34m\u001b[0m\u001b[0;34m\u001b[0m\u001b[0m\n\u001b[0m\u001b[1;32m    228\u001b[0m                 \u001b[0;34mf\"values have {new_len} elements\"\u001b[0m\u001b[0;34m\u001b[0m\u001b[0;34m\u001b[0m\u001b[0m\n\u001b[1;32m    229\u001b[0m             )\n",
            "\u001b[0;31mValueError\u001b[0m: Length mismatch: Expected axis has 7 elements, new values have 8 elements"
          ]
        }
      ]
    },
    {
      "cell_type": "code",
      "metadata": {
        "id": "Ns-zfWFvFckq",
        "colab": {
          "base_uri": "https://localhost:8080/",
          "height": 299
        },
        "outputId": "1d9d270b-bb0c-4ab7-c929-ae83c058c7e0"
      },
      "source": [
        "var_seg.describe().round(5)"
      ],
      "execution_count": null,
      "outputs": [
        {
          "output_type": "execute_result",
          "data": {
            "text/html": [
              "<div>\n",
              "<style scoped>\n",
              "    .dataframe tbody tr th:only-of-type {\n",
              "        vertical-align: middle;\n",
              "    }\n",
              "\n",
              "    .dataframe tbody tr th {\n",
              "        vertical-align: top;\n",
              "    }\n",
              "\n",
              "    .dataframe thead th {\n",
              "        text-align: right;\n",
              "    }\n",
              "</style>\n",
              "<table border=\"1\" class=\"dataframe\">\n",
              "  <thead>\n",
              "    <tr style=\"text-align: right;\">\n",
              "      <th></th>\n",
              "      <th>V1</th>\n",
              "      <th>V2</th>\n",
              "      <th>V3</th>\n",
              "      <th>V4</th>\n",
              "      <th>V5</th>\n",
              "      <th>V6</th>\n",
              "      <th>V7</th>\n",
              "      <th>V8</th>\n",
              "    </tr>\n",
              "  </thead>\n",
              "  <tbody>\n",
              "    <tr>\n",
              "      <th>count</th>\n",
              "      <td>2041.0</td>\n",
              "      <td>2041.00000</td>\n",
              "      <td>2041.00000</td>\n",
              "      <td>2041.00000</td>\n",
              "      <td>2041.00000</td>\n",
              "      <td>2041.00000</td>\n",
              "      <td>2041.00000</td>\n",
              "      <td>2041.00000</td>\n",
              "    </tr>\n",
              "    <tr>\n",
              "      <th>mean</th>\n",
              "      <td>0.0</td>\n",
              "      <td>0.00320</td>\n",
              "      <td>0.19598</td>\n",
              "      <td>0.19316</td>\n",
              "      <td>0.00196</td>\n",
              "      <td>1726.34031</td>\n",
              "      <td>1.06083</td>\n",
              "      <td>0.11117</td>\n",
              "    </tr>\n",
              "    <tr>\n",
              "      <th>std</th>\n",
              "      <td>0.0</td>\n",
              "      <td>0.00277</td>\n",
              "      <td>0.57933</td>\n",
              "      <td>0.27152</td>\n",
              "      <td>0.00475</td>\n",
              "      <td>3294.48839</td>\n",
              "      <td>0.47892</td>\n",
              "      <td>0.24171</td>\n",
              "    </tr>\n",
              "    <tr>\n",
              "      <th>min</th>\n",
              "      <td>0.0</td>\n",
              "      <td>0.00000</td>\n",
              "      <td>0.00002</td>\n",
              "      <td>0.00004</td>\n",
              "      <td>0.00001</td>\n",
              "      <td>0.12213</td>\n",
              "      <td>0.01250</td>\n",
              "      <td>0.00003</td>\n",
              "    </tr>\n",
              "    <tr>\n",
              "      <th>25%</th>\n",
              "      <td>0.0</td>\n",
              "      <td>0.00110</td>\n",
              "      <td>0.02461</td>\n",
              "      <td>0.04848</td>\n",
              "      <td>0.00037</td>\n",
              "      <td>428.72574</td>\n",
              "      <td>0.73077</td>\n",
              "      <td>0.01047</td>\n",
              "    </tr>\n",
              "    <tr>\n",
              "      <th>50%</th>\n",
              "      <td>0.0</td>\n",
              "      <td>0.00264</td>\n",
              "      <td>0.05963</td>\n",
              "      <td>0.11223</td>\n",
              "      <td>0.00067</td>\n",
              "      <td>1033.19177</td>\n",
              "      <td>1.13333</td>\n",
              "      <td>0.03189</td>\n",
              "    </tr>\n",
              "    <tr>\n",
              "      <th>75%</th>\n",
              "      <td>0.0</td>\n",
              "      <td>0.00455</td>\n",
              "      <td>0.12166</td>\n",
              "      <td>0.21110</td>\n",
              "      <td>0.00106</td>\n",
              "      <td>2041.51544</td>\n",
              "      <td>1.41250</td>\n",
              "      <td>0.10983</td>\n",
              "    </tr>\n",
              "    <tr>\n",
              "      <th>max</th>\n",
              "      <td>0.0</td>\n",
              "      <td>0.02460</td>\n",
              "      <td>11.30034</td>\n",
              "      <td>2.64027</td>\n",
              "      <td>0.06250</td>\n",
              "      <td>93899.30183</td>\n",
              "      <td>2.12500</td>\n",
              "      <td>3.60846</td>\n",
              "    </tr>\n",
              "  </tbody>\n",
              "</table>\n",
              "</div>"
            ],
            "text/plain": [
              "           V1          V2          V3  ...           V6          V7          V8\n",
              "count  2041.0  2041.00000  2041.00000  ...   2041.00000  2041.00000  2041.00000\n",
              "mean      0.0     0.00320     0.19598  ...   1726.34031     1.06083     0.11117\n",
              "std       0.0     0.00277     0.57933  ...   3294.48839     0.47892     0.24171\n",
              "min       0.0     0.00000     0.00002  ...      0.12213     0.01250     0.00003\n",
              "25%       0.0     0.00110     0.02461  ...    428.72574     0.73077     0.01047\n",
              "50%       0.0     0.00264     0.05963  ...   1033.19177     1.13333     0.03189\n",
              "75%       0.0     0.00455     0.12166  ...   2041.51544     1.41250     0.10983\n",
              "max       0.0     0.02460    11.30034  ...  93899.30183     2.12500     3.60846\n",
              "\n",
              "[8 rows x 8 columns]"
            ]
          },
          "metadata": {
            "tags": []
          },
          "execution_count": 102
        }
      ]
    },
    {
      "cell_type": "code",
      "metadata": {
        "id": "83us1Fhwb7Ya"
      },
      "source": [
        ""
      ],
      "execution_count": null,
      "outputs": []
    },
    {
      "cell_type": "code",
      "metadata": {
        "id": "JPqpxa1rb7Yl"
      },
      "source": [
        "num_vars = ['V1','V2','V3', 'V4', 'V5', 'V6','V7', 'V8']\n",
        "std_scaler = SklearnTransformerWrapper(transformer=StandardScaler(),\n",
        "                                      variables = num_vars)"
      ],
      "execution_count": null,
      "outputs": []
    },
    {
      "cell_type": "code",
      "metadata": {
        "id": "TETCYnr-gYuQ"
      },
      "source": [
        "#std_scaler = SklearnTransformerWrapper(transformer=MinMaxScaler(),\n",
        "#                                     variables = num_vars)"
      ],
      "execution_count": null,
      "outputs": []
    },
    {
      "cell_type": "markdown",
      "metadata": {
        "id": "q7gQqTcCb7Yn"
      },
      "source": [
        "#### Padronizando Variáveis"
      ]
    },
    {
      "cell_type": "code",
      "metadata": {
        "id": "Y4-Sys8_b7Yo"
      },
      "source": [
        "df_aux_sc = std_scaler.fit_transform(var_seg)"
      ],
      "execution_count": 176,
      "outputs": []
    },
    {
      "cell_type": "code",
      "metadata": {
        "colab": {
          "base_uri": "https://localhost:8080/",
          "height": 454
        },
        "id": "AV5UUbmOPqPy",
        "outputId": "9842535b-8640-4e62-a7c8-3612a80b07fe"
      },
      "source": [
        "df_aux_sc"
      ],
      "execution_count": 177,
      "outputs": [
        {
          "output_type": "execute_result",
          "data": {
            "text/html": [
              "<div>\n",
              "<style scoped>\n",
              "    .dataframe tbody tr th:only-of-type {\n",
              "        vertical-align: middle;\n",
              "    }\n",
              "\n",
              "    .dataframe tbody tr th {\n",
              "        vertical-align: top;\n",
              "    }\n",
              "\n",
              "    .dataframe thead th {\n",
              "        text-align: right;\n",
              "    }\n",
              "</style>\n",
              "<table border=\"1\" class=\"dataframe\">\n",
              "  <thead>\n",
              "    <tr style=\"text-align: right;\">\n",
              "      <th></th>\n",
              "      <th>V1</th>\n",
              "      <th>V2</th>\n",
              "      <th>V3</th>\n",
              "      <th>V4</th>\n",
              "      <th>V5</th>\n",
              "      <th>V6</th>\n",
              "      <th>V7</th>\n",
              "      <th>V8</th>\n",
              "    </tr>\n",
              "    <tr>\n",
              "      <th>rep_comercial</th>\n",
              "      <th></th>\n",
              "      <th></th>\n",
              "      <th></th>\n",
              "      <th></th>\n",
              "      <th></th>\n",
              "      <th></th>\n",
              "      <th></th>\n",
              "      <th></th>\n",
              "    </tr>\n",
              "  </thead>\n",
              "  <tbody>\n",
              "    <tr>\n",
              "      <th>1051912.0</th>\n",
              "      <td>-0.407686</td>\n",
              "      <td>1.806787</td>\n",
              "      <td>1.046231</td>\n",
              "      <td>0.325628</td>\n",
              "      <td>2.360096</td>\n",
              "      <td>0.027817</td>\n",
              "      <td>0.381694</td>\n",
              "      <td>-0.122547</td>\n",
              "    </tr>\n",
              "    <tr>\n",
              "      <th>1052190.0</th>\n",
              "      <td>-0.387156</td>\n",
              "      <td>2.023008</td>\n",
              "      <td>-0.124231</td>\n",
              "      <td>5.800444</td>\n",
              "      <td>0.551699</td>\n",
              "      <td>-0.506368</td>\n",
              "      <td>-1.465859</td>\n",
              "      <td>-0.427393</td>\n",
              "    </tr>\n",
              "    <tr>\n",
              "      <th>1053746.0</th>\n",
              "      <td>-0.538901</td>\n",
              "      <td>-0.017009</td>\n",
              "      <td>-0.281631</td>\n",
              "      <td>1.303336</td>\n",
              "      <td>-0.292220</td>\n",
              "      <td>-0.466134</td>\n",
              "      <td>-2.081710</td>\n",
              "      <td>-0.444905</td>\n",
              "    </tr>\n",
              "    <tr>\n",
              "      <th>1053821.0</th>\n",
              "      <td>-0.524887</td>\n",
              "      <td>0.162188</td>\n",
              "      <td>2.162797</td>\n",
              "      <td>-0.249870</td>\n",
              "      <td>2.118977</td>\n",
              "      <td>-0.415351</td>\n",
              "      <td>-1.519411</td>\n",
              "      <td>0.247605</td>\n",
              "    </tr>\n",
              "    <tr>\n",
              "      <th>1054692.0</th>\n",
              "      <td>-0.625716</td>\n",
              "      <td>-1.137348</td>\n",
              "      <td>2.570008</td>\n",
              "      <td>-0.703785</td>\n",
              "      <td>2.420376</td>\n",
              "      <td>-0.382582</td>\n",
              "      <td>-1.117769</td>\n",
              "      <td>0.412558</td>\n",
              "    </tr>\n",
              "    <tr>\n",
              "      <th>...</th>\n",
              "      <td>...</td>\n",
              "      <td>...</td>\n",
              "      <td>...</td>\n",
              "      <td>...</td>\n",
              "      <td>...</td>\n",
              "      <td>...</td>\n",
              "      <td>...</td>\n",
              "      <td>...</td>\n",
              "    </tr>\n",
              "    <tr>\n",
              "      <th>1278808.0</th>\n",
              "      <td>13.957558</td>\n",
              "      <td>2.791560</td>\n",
              "      <td>-0.262611</td>\n",
              "      <td>0.670232</td>\n",
              "      <td>-0.347989</td>\n",
              "      <td>-0.166064</td>\n",
              "      <td>0.734470</td>\n",
              "      <td>0.326594</td>\n",
              "    </tr>\n",
              "    <tr>\n",
              "      <th>1278809.0</th>\n",
              "      <td>3.413846</td>\n",
              "      <td>-0.058157</td>\n",
              "      <td>0.033527</td>\n",
              "      <td>-0.326976</td>\n",
              "      <td>-0.240943</td>\n",
              "      <td>0.005686</td>\n",
              "      <td>1.595992</td>\n",
              "      <td>4.071342</td>\n",
              "    </tr>\n",
              "    <tr>\n",
              "      <th>1278811.0</th>\n",
              "      <td>0.865625</td>\n",
              "      <td>-0.820891</td>\n",
              "      <td>-0.234865</td>\n",
              "      <td>-0.117287</td>\n",
              "      <td>-0.305734</td>\n",
              "      <td>0.925785</td>\n",
              "      <td>1.099964</td>\n",
              "      <td>0.950436</td>\n",
              "    </tr>\n",
              "    <tr>\n",
              "      <th>1278812.0</th>\n",
              "      <td>1.403767</td>\n",
              "      <td>-0.743127</td>\n",
              "      <td>-0.306700</td>\n",
              "      <td>-0.566669</td>\n",
              "      <td>-0.286015</td>\n",
              "      <td>-0.341856</td>\n",
              "      <td>-1.014681</td>\n",
              "      <td>0.581935</td>\n",
              "    </tr>\n",
              "    <tr>\n",
              "      <th>1278821.0</th>\n",
              "      <td>4.476439</td>\n",
              "      <td>0.184363</td>\n",
              "      <td>-0.299376</td>\n",
              "      <td>-0.242110</td>\n",
              "      <td>-0.229675</td>\n",
              "      <td>-0.385276</td>\n",
              "      <td>-0.362013</td>\n",
              "      <td>0.540934</td>\n",
              "    </tr>\n",
              "  </tbody>\n",
              "</table>\n",
              "<p>2041 rows × 8 columns</p>\n",
              "</div>"
            ],
            "text/plain": [
              "                      V1        V2        V3  ...        V6        V7        V8\n",
              "rep_comercial                                 ...                              \n",
              "1051912.0      -0.407686  1.806787  1.046231  ...  0.027817  0.381694 -0.122547\n",
              "1052190.0      -0.387156  2.023008 -0.124231  ... -0.506368 -1.465859 -0.427393\n",
              "1053746.0      -0.538901 -0.017009 -0.281631  ... -0.466134 -2.081710 -0.444905\n",
              "1053821.0      -0.524887  0.162188  2.162797  ... -0.415351 -1.519411  0.247605\n",
              "1054692.0      -0.625716 -1.137348  2.570008  ... -0.382582 -1.117769  0.412558\n",
              "...                  ...       ...       ...  ...       ...       ...       ...\n",
              "1278808.0      13.957558  2.791560 -0.262611  ... -0.166064  0.734470  0.326594\n",
              "1278809.0       3.413846 -0.058157  0.033527  ...  0.005686  1.595992  4.071342\n",
              "1278811.0       0.865625 -0.820891 -0.234865  ...  0.925785  1.099964  0.950436\n",
              "1278812.0       1.403767 -0.743127 -0.306700  ... -0.341856 -1.014681  0.581935\n",
              "1278821.0       4.476439  0.184363 -0.299376  ... -0.385276 -0.362013  0.540934\n",
              "\n",
              "[2041 rows x 8 columns]"
            ]
          },
          "metadata": {
            "tags": []
          },
          "execution_count": 177
        }
      ]
    },
    {
      "cell_type": "markdown",
      "metadata": {
        "id": "TX5WLt037GIJ"
      },
      "source": [
        "### Testes para verificar a analise fatorial"
      ]
    },
    {
      "cell_type": "markdown",
      "metadata": {
        "id": "wCEn8EpiDCrF"
      },
      "source": [
        "Bartlett’s test of sphericity checks whether or not the observed variables intercorrelate at all using the observed correlation matrix against the identity matrix. If the test found statistically insignificant, you should not employ a factor analysis."
      ]
    },
    {
      "cell_type": "code",
      "metadata": {
        "colab": {
          "base_uri": "https://localhost:8080/"
        },
        "id": "MAa5CWpBE819",
        "outputId": "bbc947c3-4eff-4343-d8cb-3b3fb0d97d5e"
      },
      "source": [
        "chi_square_value,p_value=calculate_bartlett_sphericity(df_aux_sc)\n",
        "chi_square_value, p_value"
      ],
      "execution_count": 160,
      "outputs": [
        {
          "output_type": "execute_result",
          "data": {
            "text/plain": [
              "(7051.776443374906, 0.0)"
            ]
          },
          "metadata": {
            "tags": []
          },
          "execution_count": 160
        }
      ]
    },
    {
      "cell_type": "markdown",
      "metadata": {
        "id": "aVtS1q7cC2LE"
      },
      "source": [
        "Kaiser-Meyer-Olkin (KMO) Test measures the suitability of data for factor analysis. It determines the adequacy for each observed variable and for the complete model. KMO estimates the proportion of variance among all the observed variable. Lower proportion id more suitable for factor analysis. KMO values range between 0 and 1. Value of KMO less than 0.6 is considered inadequate."
      ]
    },
    {
      "cell_type": "code",
      "metadata": {
        "colab": {
          "base_uri": "https://localhost:8080/"
        },
        "id": "rv-R4VzjFFCy",
        "outputId": "99ded35f-f026-4973-e46c-8e3ab0410b1f"
      },
      "source": [
        "kmo_all,kmo_model=calculate_kmo(df_aux_sc)\n",
        "kmo_model"
      ],
      "execution_count": 161,
      "outputs": [
        {
          "output_type": "stream",
          "text": [
            "/usr/local/lib/python3.7/dist-packages/factor_analyzer/utils.py:248: UserWarning: The inverse of the variance-covariance matrix was calculated using the Moore-Penrose generalized matrix inversion, due to its determinant being at or very close to zero.\n",
            "  warnings.warn('The inverse of the variance-covariance matrix '\n"
          ],
          "name": "stderr"
        },
        {
          "output_type": "execute_result",
          "data": {
            "text/plain": [
              "0.4448561960251944"
            ]
          },
          "metadata": {
            "tags": []
          },
          "execution_count": 161
        }
      ]
    },
    {
      "cell_type": "code",
      "metadata": {
        "colab": {
          "base_uri": "https://localhost:8080/"
        },
        "id": "Md8SunnRGdxy",
        "outputId": "727430fb-6e2f-4e41-ced7-2ad38ae4b6e8"
      },
      "source": [
        "#EXPLORATORY FACTOR ANALYSIS\n",
        "fa = FactorAnalyzer(3, rotation=None)\n",
        "fa.fit(df_aux_sc)\n",
        "\n",
        "#FactorAnalyzer(bounds=(0.005, 1), impute='median', is_corr_matrix=False,\n",
        "#               method='minres', n_factors=3, rotation=None, rotation_kwargs={},\n",
        "#               use_smc=True)\n",
        "\n"
      ],
      "execution_count": 162,
      "outputs": [
        {
          "output_type": "execute_result",
          "data": {
            "text/plain": [
              "FactorAnalyzer(bounds=(0.005, 1), impute='median', is_corr_matrix=False,\n",
              "               method='minres', n_factors=3, rotation=None, rotation_kwargs={},\n",
              "               use_smc=True)"
            ]
          },
          "metadata": {
            "tags": []
          },
          "execution_count": 162
        }
      ]
    },
    {
      "cell_type": "code",
      "metadata": {
        "colab": {
          "base_uri": "https://localhost:8080/",
          "height": 143
        },
        "id": "5y19kr2XIbLL",
        "outputId": "2ee1032a-8874-4a5c-9f26-f8941ababab1"
      },
      "source": [
        "#Variacia explicada dos dados\n",
        "pd.DataFrame(fa.get_factor_variance())"
      ],
      "execution_count": 163,
      "outputs": [
        {
          "output_type": "execute_result",
          "data": {
            "text/html": [
              "<div>\n",
              "<style scoped>\n",
              "    .dataframe tbody tr th:only-of-type {\n",
              "        vertical-align: middle;\n",
              "    }\n",
              "\n",
              "    .dataframe tbody tr th {\n",
              "        vertical-align: top;\n",
              "    }\n",
              "\n",
              "    .dataframe thead th {\n",
              "        text-align: right;\n",
              "    }\n",
              "</style>\n",
              "<table border=\"1\" class=\"dataframe\">\n",
              "  <thead>\n",
              "    <tr style=\"text-align: right;\">\n",
              "      <th></th>\n",
              "      <th>0</th>\n",
              "      <th>1</th>\n",
              "      <th>2</th>\n",
              "    </tr>\n",
              "  </thead>\n",
              "  <tbody>\n",
              "    <tr>\n",
              "      <th>0</th>\n",
              "      <td>2.167402</td>\n",
              "      <td>1.504042</td>\n",
              "      <td>1.390516</td>\n",
              "    </tr>\n",
              "    <tr>\n",
              "      <th>1</th>\n",
              "      <td>0.270925</td>\n",
              "      <td>0.188005</td>\n",
              "      <td>0.173815</td>\n",
              "    </tr>\n",
              "    <tr>\n",
              "      <th>2</th>\n",
              "      <td>0.270925</td>\n",
              "      <td>0.458930</td>\n",
              "      <td>0.632745</td>\n",
              "    </tr>\n",
              "  </tbody>\n",
              "</table>\n",
              "</div>"
            ],
            "text/plain": [
              "          0         1         2\n",
              "0  2.167402  1.504042  1.390516\n",
              "1  0.270925  0.188005  0.173815\n",
              "2  0.270925  0.458930  0.632745"
            ]
          },
          "metadata": {
            "tags": []
          },
          "execution_count": 163
        }
      ]
    },
    {
      "cell_type": "code",
      "metadata": {
        "id": "Jq06URKPGdfF"
      },
      "source": [
        "#GET EIGENVALUES\n",
        "ev, v = fa.get_eigenvalues()"
      ],
      "execution_count": 150,
      "outputs": []
    },
    {
      "cell_type": "code",
      "metadata": {
        "id": "NG4eTNSPGdYU",
        "colab": {
          "base_uri": "https://localhost:8080/",
          "height": 295
        },
        "outputId": "308f7968-e10b-44ab-9f64-bc032701c149"
      },
      "source": [
        "# SCREEPLOT (need pyplot)\n",
        "plt.scatter(range(1,df_aux_sc.shape[1]+1),ev)\n",
        "plt.plot(range(1,df_aux_sc.shape[1]+1),ev)\n",
        "plt.title('Scree Plot')\n",
        "plt.xlabel('Factors')\n",
        "plt.ylabel('Eigenvalue')\n",
        "plt.grid()\n",
        "plt.show()"
      ],
      "execution_count": 151,
      "outputs": [
        {
          "output_type": "display_data",
          "data": {
            "image/png": "[encoded data removed]",
            "text/plain": [
              "<Figure size 432x288 with 1 Axes>"
            ]
          },
          "metadata": {
            "tags": [],
            "needs_background": "light"
          }
        }
      ]
    },
    {
      "cell_type": "code",
      "metadata": {
        "id": "X7ik1r28GdTr",
        "colab": {
          "base_uri": "https://localhost:8080/"
        },
        "outputId": "77df7bef-0997-4c1e-bab8-428b3b9836a5"
      },
      "source": [
        "fa = FactorAnalyzer(3, rotation=\"Varimax\")\n",
        "fa.fit(df_aux_sc)\n",
        "fa.get_factor_variance()\n",
        "fa.loadings_"
      ],
      "execution_count": 164,
      "outputs": [
        {
          "output_type": "execute_result",
          "data": {
            "text/plain": [
              "array([[-0.09765054,  0.03563914,  0.3461792 ],\n",
              "       [ 0.02921651,  0.00295412,  0.9416245 ],\n",
              "       [ 0.95224143,  0.02930398, -0.04528181],\n",
              "       [ 0.06697074, -0.01289168,  0.66158092],\n",
              "       [ 0.9413444 , -0.06541175, -0.04524626],\n",
              "       [ 0.15629178,  0.85595153,  0.00349184],\n",
              "       [-0.03187346,  0.84764248,  0.04329939],\n",
              "       [ 0.54994559,  0.1356584 ,  0.00159061]])"
            ]
          },
          "metadata": {
            "tags": []
          },
          "execution_count": 164
        }
      ]
    },
    {
      "cell_type": "code",
      "metadata": {
        "id": "mXCC98aOGdPY",
        "colab": {
          "base_uri": "https://localhost:8080/"
        },
        "outputId": "c770f691-e84e-4c3a-abfa-4d2375ea10da"
      },
      "source": [
        "fa.get_factor_variance()"
      ],
      "execution_count": 165,
      "outputs": [
        {
          "output_type": "execute_result",
          "data": {
            "text/plain": [
              "(array([2.13565053, 1.47613648, 1.45017329]),\n",
              " array([0.26695632, 0.18451706, 0.18127166]),\n",
              " array([0.26695632, 0.45147338, 0.63274504]))"
            ]
          },
          "metadata": {
            "tags": []
          },
          "execution_count": 165
        }
      ]
    },
    {
      "cell_type": "markdown",
      "metadata": {
        "id": "jAMLGa_xI_3B"
      },
      "source": [
        "### Análise Fatorial Confirmatória"
      ]
    },
    {
      "cell_type": "code",
      "metadata": {
        "id": "e0sMz79oGdHN",
        "colab": {
          "base_uri": "https://localhost:8080/"
        },
        "outputId": "57b48245-0409-4b76-89cd-b1018cf2ffab"
      },
      "source": [
        "model_dict = {\"F1\": [\"V1\", \"V2\",\"V3\",\"V4\"],\n",
        "              \"F2\": [\"V6\", \"V7\", \"V8\"],\n",
        "              \"F3\": ['V5']}\n",
        "model_spec = ModelSpecificationParser.parse_model_specification_from_dict(df_aux_sc, model_dict)\n",
        "cfa = ConfirmatoryFactorAnalyzer(model_spec, disp=True)\n",
        "cfa.fit(df_aux_sc)\n",
        "cfa.loadings_.round(2)\n"
      ],
      "execution_count": 166,
      "outputs": [
        {
          "output_type": "execute_result",
          "data": {
            "text/plain": [
              "array([[ -6.67,   0.  ,   0.  ],\n",
              "       [ -6.67,   0.  ,   0.  ],\n",
              "       [ -5.78,   0.  ,   0.  ],\n",
              "       [ -6.18,   0.  ,   0.  ],\n",
              "       [  0.  , -24.12,   0.  ],\n",
              "       [  0.  ,  24.21,   0.  ],\n",
              "       [  0.  , -17.63,   0.  ],\n",
              "       [  0.  ,   0.  , -20.72]])"
            ]
          },
          "metadata": {
            "tags": []
          },
          "execution_count": 166
        }
      ]
    },
    {
      "cell_type": "code",
      "metadata": {
        "id": "TTEKeHMMfB2R"
      },
      "source": [
        ""
      ],
      "execution_count": null,
      "outputs": []
    },
    {
      "cell_type": "code",
      "metadata": {
        "id": "OmjhzT3MdFWm"
      },
      "source": [
        ""
      ],
      "execution_count": null,
      "outputs": []
    },
    {
      "cell_type": "code",
      "metadata": {
        "id": "LHx6W7ShdFHj"
      },
      "source": [
        ""
      ],
      "execution_count": null,
      "outputs": []
    },
    {
      "cell_type": "code",
      "metadata": {
        "colab": {
          "base_uri": "https://localhost:8080/"
        },
        "id": "2U_QZfqpcZIk",
        "outputId": "65e3aba5-dd3d-447b-ae54-f28b74cddc31"
      },
      "source": [
        "cfa.factor_varcovs_"
      ],
      "execution_count": 167,
      "outputs": [
        {
          "output_type": "execute_result",
          "data": {
            "text/plain": [
              "array([[1.        , 1.11216026, 1.12657273],\n",
              "       [1.11216026, 1.        , 1.06206829],\n",
              "       [1.12657273, 1.06206829, 1.        ]])"
            ]
          },
          "metadata": {
            "tags": []
          },
          "execution_count": 167
        }
      ]
    },
    {
      "cell_type": "code",
      "metadata": {
        "colab": {
          "base_uri": "https://localhost:8080/"
        },
        "id": "M6d7TlvgBLd8",
        "outputId": "80579ef4-bd28-48bc-e6ac-fa324275ec1d"
      },
      "source": [
        "# Calculo dos autovalores\n",
        "sum(pd.DataFrame(cfa.loadings_.round(2)).iloc[:,0]**2)+sum(pd.DataFrame(cfa.loadings_.round(2)).iloc[:,1]**2)+sum(pd.DataFrame(cfa.loadings_.round(2)).iloc[:,2]**2)"
      ],
      "execution_count": 168,
      "outputs": [
        {
          "output_type": "execute_result",
          "data": {
            "text/plain": [
              "2068.6124"
            ]
          },
          "metadata": {
            "tags": []
          },
          "execution_count": 168
        }
      ]
    },
    {
      "cell_type": "code",
      "metadata": {
        "colab": {
          "base_uri": "https://localhost:8080/"
        },
        "id": "deyoaG6tYxFz",
        "outputId": "a1d7dbf8-4f76-4d44-c8cb-df458c118f9f"
      },
      "source": [
        "def percentage(part, whole):\n",
        "  return 100 * float(part)/float(whole)\n",
        "\n",
        "percentage(sum(pd.DataFrame(cfa.loadings_.round(2)).iloc[:,2]**2),whole=20.193300000000004)"
      ],
      "execution_count": 172,
      "outputs": [
        {
          "output_type": "execute_result",
          "data": {
            "text/plain": [
              "2126.043786800572"
            ]
          },
          "metadata": {
            "tags": []
          },
          "execution_count": 172
        }
      ]
    },
    {
      "cell_type": "code",
      "metadata": {
        "id": "BxLHaYqEGdCh"
      },
      "source": [
        "fact_trans = pd.DataFrame(cfa.fit_transform(df_aux_sc))\n",
        "um = (fact_trans.iloc[:,0]-min(fact_trans.iloc[:,0]))/(max(fact_trans.iloc[:,0])-min(fact_trans.iloc[:,0]))\n",
        "dois = (fact_trans.iloc[:,1]-min(fact_trans.iloc[:,1]))/(max(fact_trans.iloc[:,1])-min(fact_trans.iloc[:,1]))\n",
        "tres = (fact_trans.iloc[:,2]-min(fact_trans.iloc[:,2]))/(max(fact_trans.iloc[:,2])-min(fact_trans.iloc[:,2]))"
      ],
      "execution_count": 173,
      "outputs": []
    },
    {
      "cell_type": "code",
      "metadata": {
        "id": "kLc_2UrxGc9X"
      },
      "source": [
        "Indicador_Norm = pd.DataFrame(pd.concat([um,dois,tres],axis=1))"
      ],
      "execution_count": 174,
      "outputs": []
    },
    {
      "cell_type": "code",
      "metadata": {
        "id": "oPxvpRBqGcz8",
        "colab": {
          "base_uri": "https://localhost:8080/"
        },
        "outputId": "c80f5e64-da20-44dc-fba9-b7f8ea4183a3"
      },
      "source": [
        "Indicador_Norm = np.where(Indicador_Norm < 0, 0, Indicador_Norm)\n",
        "Indicador_Norm = np.where(Indicador_Norm > 1, 1, Indicador_Norm)\n",
        "Indicador_Norm \n"
      ],
      "execution_count": 175,
      "outputs": [
        {
          "output_type": "execute_result",
          "data": {
            "text/plain": [
              "array([[0.70250143, 0.248369  , 0.9487019 ],\n",
              "       [0.59123126, 0.62036033, 0.99487233],\n",
              "       [0.83147999, 0.56824061, 0.99762629],\n",
              "       ...,\n",
              "       [0.92606347, 0.15075063, 0.80804905],\n",
              "       [0.9797822 , 0.40673034, 0.85302725],\n",
              "       [0.9482067 , 0.39771369, 0.85822837]])"
            ]
          },
          "metadata": {
            "tags": []
          },
          "execution_count": 175
        }
      ]
    },
    {
      "cell_type": "code",
      "metadata": {
        "id": "09ZHJj8BGcpS"
      },
      "source": [
        "Indicador_Final = []"
      ],
      "execution_count": null,
      "outputs": []
    },
    {
      "cell_type": "code",
      "metadata": {
        "id": "-0D2aWNMGccy"
      },
      "source": [
        ""
      ],
      "execution_count": null,
      "outputs": []
    },
    {
      "cell_type": "code",
      "metadata": {
        "id": "MP04pQoBvtBf"
      },
      "source": [
        ""
      ],
      "execution_count": null,
      "outputs": []
    },
    {
      "cell_type": "code",
      "metadata": {
        "id": "zrVS6yrpvs6V"
      },
      "source": [
        ""
      ],
      "execution_count": null,
      "outputs": []
    },
    {
      "cell_type": "code",
      "metadata": {
        "id": "pB7K93ufvsyC"
      },
      "source": [
        ""
      ],
      "execution_count": null,
      "outputs": []
    },
    {
      "cell_type": "code",
      "metadata": {
        "id": "hUPDvr_ohLDR"
      },
      "source": [
        " #A list holds the SSE values for each k\n",
        "sse = []\n",
        "for k in range(1, 21):\n",
        "        kmeans = KMeans(n_clusters=k,max_iter=300)\n",
        "        kmeans.fit(df_aux_sc)\n",
        "        sse.append(kmeans.inertia_)\n"
      ],
      "execution_count": null,
      "outputs": []
    },
    {
      "cell_type": "code",
      "metadata": {
        "id": "6a5lIDFXhK4r",
        "colab": {
          "base_uri": "https://localhost:8080/",
          "height": 304
        },
        "outputId": "228edf71-f877-4672-cc35-a68f7d3ee93f"
      },
      "source": [
        "plt.style.use(\"fivethirtyeight\")\n",
        "plt.plot(range(1, 21), sse)\n",
        "plt.xticks(range(1, 21))\n",
        "plt.xlabel(\"Number of Clusters\")\n",
        "plt.ylabel(\"SSE\")\n",
        "plt.show()"
      ],
      "execution_count": null,
      "outputs": [
        {
          "output_type": "display_data",
          "data": {
            "image/png": "[encoded data removed]",
            "text/plain": [
              "<Figure size 432x288 with 1 Axes>"
            ]
          },
          "metadata": {
            "tags": []
          }
        }
      ]
    },
    {
      "cell_type": "markdown",
      "metadata": {
        "id": "-s4FLnV4wiBq"
      },
      "source": [
        "#### Esse resultado abaixo mostra o numero de grupos ótimo igual a 5."
      ]
    },
    {
      "cell_type": "code",
      "metadata": {
        "id": "8M-efM4ahKoE",
        "colab": {
          "base_uri": "https://localhost:8080/"
        },
        "outputId": "ef644cfe-3d7a-44fb-c42f-3616db9fc42e"
      },
      "source": [
        "kl = KneeLocator(\n",
        "        range(1, 21), sse, curve=\"convex\", direction=\"decreasing\"\n",
        "    )\n",
        "kl.elbow"
      ],
      "execution_count": null,
      "outputs": [
        {
          "output_type": "execute_result",
          "data": {
            "text/plain": [
              "2"
            ]
          },
          "metadata": {
            "tags": []
          },
          "execution_count": 190
        }
      ]
    },
    {
      "cell_type": "code",
      "metadata": {
        "id": "2tkvcqA0b7Yy"
      },
      "source": [
        "kmeans = KMeans(\n",
        "   init=\"random\",\n",
        "   n_clusters=2,\n",
        "   n_init=10,\n",
        "   max_iter=400,\n",
        "   random_state=42\n",
        ")"
      ],
      "execution_count": null,
      "outputs": []
    },
    {
      "cell_type": "code",
      "metadata": {
        "id": "RNyKUOP9b7Yz"
      },
      "source": [
        "kresultado = kmeans.fit(df_aux_sc)"
      ],
      "execution_count": null,
      "outputs": []
    },
    {
      "cell_type": "code",
      "metadata": {
        "id": "6feK_-Nc1MYd"
      },
      "source": [
        "df_aux_sc[\"segKmeans\"] = kresultado.labels_"
      ],
      "execution_count": null,
      "outputs": []
    },
    {
      "cell_type": "markdown",
      "metadata": {
        "id": "QPq3uinE2VFZ"
      },
      "source": [
        "#### Visualizando o resultado K-means"
      ]
    },
    {
      "cell_type": "code",
      "metadata": {
        "id": "skWSKc9R17q0"
      },
      "source": [
        "pca = PCA(n_components=2)\n",
        "principalComponents = pca.fit_transform(df_aux_sc)\n",
        "principalDf = pd.DataFrame(data = principalComponents\n",
        "             , columns = ['principal component 1', 'principal component 2'])\n",
        "finalDf = pd.concat([principalDf, df_aux_sc[['segKmeans']]], axis = 1)"
      ],
      "execution_count": null,
      "outputs": []
    },
    {
      "cell_type": "code",
      "metadata": {
        "id": "XrDESMO817Xb",
        "colab": {
          "base_uri": "https://localhost:8080/",
          "height": 555
        },
        "outputId": "6987fc52-68af-4127-ccef-684a6ed77459"
      },
      "source": [
        "fig = plt.figure(figsize = (8,8))\n",
        "ax = fig.add_subplot(1,1,1) \n",
        "ax.set_xlabel('Principal Component 1', fontsize = 15)\n",
        "ax.set_ylabel('Principal Component 2', fontsize = 15)\n",
        "ax.set_title('2 component PCA', fontsize = 20)\n",
        "\n",
        "targets = df_aux_sc.segKmeans.unique()\n",
        "colors = ['r', 'g', 'b', 'black', 'cyan']\n",
        "for target, color in zip(targets,colors):\n",
        "    indicesToKeep = finalDf['segKmeans'] == target\n",
        "    ax.scatter(finalDf.loc[indicesToKeep, 'principal component 1']\n",
        "               , finalDf.loc[indicesToKeep, 'principal component 2']\n",
        "               , c = color\n",
        "               , s = 50)\n",
        "ax.legend(targets)\n",
        "ax.grid()"
      ],
      "execution_count": null,
      "outputs": [
        {
          "output_type": "display_data",
          "data": {
            "image/png": "[encoded data removed]",
            "text/plain": [
              "<Figure size 576x576 with 1 Axes>"
            ]
          },
          "metadata": {
            "tags": []
          }
        }
      ]
    },
    {
      "cell_type": "code",
      "metadata": {
        "id": "OEHZV5qHb7Y6",
        "colab": {
          "base_uri": "https://localhost:8080/",
          "height": 675
        },
        "outputId": "d8724643-16e8-4a7a-fc1b-ef8391d6e933"
      },
      "source": [
        "pd.DataFrame(pca.components_.T * np.sqrt(pca.explained_variance_))#loadings"
      ],
      "execution_count": null,
      "outputs": [
        {
          "output_type": "execute_result",
          "data": {
            "text/html": [
              "<div>\n",
              "<style scoped>\n",
              "    .dataframe tbody tr th:only-of-type {\n",
              "        vertical-align: middle;\n",
              "    }\n",
              "\n",
              "    .dataframe tbody tr th {\n",
              "        vertical-align: top;\n",
              "    }\n",
              "\n",
              "    .dataframe thead th {\n",
              "        text-align: right;\n",
              "    }\n",
              "</style>\n",
              "<table border=\"1\" class=\"dataframe\">\n",
              "  <thead>\n",
              "    <tr style=\"text-align: right;\">\n",
              "      <th></th>\n",
              "      <th>0</th>\n",
              "      <th>1</th>\n",
              "    </tr>\n",
              "  </thead>\n",
              "  <tbody>\n",
              "    <tr>\n",
              "      <th>0</th>\n",
              "      <td>0.000375</td>\n",
              "      <td>0.003666</td>\n",
              "    </tr>\n",
              "    <tr>\n",
              "      <th>1</th>\n",
              "      <td>0.030070</td>\n",
              "      <td>-0.005476</td>\n",
              "    </tr>\n",
              "    <tr>\n",
              "      <th>2</th>\n",
              "      <td>0.030214</td>\n",
              "      <td>-0.005368</td>\n",
              "    </tr>\n",
              "    <tr>\n",
              "      <th>3</th>\n",
              "      <td>0.002437</td>\n",
              "      <td>0.006022</td>\n",
              "    </tr>\n",
              "    <tr>\n",
              "      <th>4</th>\n",
              "      <td>0.002595</td>\n",
              "      <td>0.006323</td>\n",
              "    </tr>\n",
              "    <tr>\n",
              "      <th>5</th>\n",
              "      <td>0.002779</td>\n",
              "      <td>0.006576</td>\n",
              "    </tr>\n",
              "    <tr>\n",
              "      <th>6</th>\n",
              "      <td>0.002457</td>\n",
              "      <td>0.005945</td>\n",
              "    </tr>\n",
              "    <tr>\n",
              "      <th>7</th>\n",
              "      <td>0.002183</td>\n",
              "      <td>0.004901</td>\n",
              "    </tr>\n",
              "    <tr>\n",
              "      <th>8</th>\n",
              "      <td>0.004019</td>\n",
              "      <td>0.010933</td>\n",
              "    </tr>\n",
              "    <tr>\n",
              "      <th>9</th>\n",
              "      <td>0.004214</td>\n",
              "      <td>0.006853</td>\n",
              "    </tr>\n",
              "    <tr>\n",
              "      <th>10</th>\n",
              "      <td>0.002143</td>\n",
              "      <td>0.005702</td>\n",
              "    </tr>\n",
              "    <tr>\n",
              "      <th>11</th>\n",
              "      <td>0.001182</td>\n",
              "      <td>0.005477</td>\n",
              "    </tr>\n",
              "    <tr>\n",
              "      <th>12</th>\n",
              "      <td>-0.000085</td>\n",
              "      <td>-0.000077</td>\n",
              "    </tr>\n",
              "    <tr>\n",
              "      <th>13</th>\n",
              "      <td>0.000434</td>\n",
              "      <td>0.000475</td>\n",
              "    </tr>\n",
              "    <tr>\n",
              "      <th>14</th>\n",
              "      <td>0.005376</td>\n",
              "      <td>0.012335</td>\n",
              "    </tr>\n",
              "    <tr>\n",
              "      <th>15</th>\n",
              "      <td>0.003101</td>\n",
              "      <td>0.007620</td>\n",
              "    </tr>\n",
              "    <tr>\n",
              "      <th>16</th>\n",
              "      <td>0.004193</td>\n",
              "      <td>0.007107</td>\n",
              "    </tr>\n",
              "    <tr>\n",
              "      <th>17</th>\n",
              "      <td>0.004250</td>\n",
              "      <td>0.009114</td>\n",
              "    </tr>\n",
              "    <tr>\n",
              "      <th>18</th>\n",
              "      <td>0.000832</td>\n",
              "      <td>-0.000123</td>\n",
              "    </tr>\n",
              "    <tr>\n",
              "      <th>19</th>\n",
              "      <td>0.000627</td>\n",
              "      <td>0.001166</td>\n",
              "    </tr>\n",
              "  </tbody>\n",
              "</table>\n",
              "</div>"
            ],
            "text/plain": [
              "           0         1\n",
              "0   0.000375  0.003666\n",
              "1   0.030070 -0.005476\n",
              "2   0.030214 -0.005368\n",
              "3   0.002437  0.006022\n",
              "4   0.002595  0.006323\n",
              "5   0.002779  0.006576\n",
              "6   0.002457  0.005945\n",
              "7   0.002183  0.004901\n",
              "8   0.004019  0.010933\n",
              "9   0.004214  0.006853\n",
              "10  0.002143  0.005702\n",
              "11  0.001182  0.005477\n",
              "12 -0.000085 -0.000077\n",
              "13  0.000434  0.000475\n",
              "14  0.005376  0.012335\n",
              "15  0.003101  0.007620\n",
              "16  0.004193  0.007107\n",
              "17  0.004250  0.009114\n",
              "18  0.000832 -0.000123\n",
              "19  0.000627  0.001166"
            ]
          },
          "metadata": {
            "tags": []
          },
          "execution_count": 23
        }
      ]
    },
    {
      "cell_type": "code",
      "metadata": {
        "id": "jG5vfQjv20SW"
      },
      "source": [
        "df_aux_sc[\"SegKmeans\"] = df.segKmeans"
      ],
      "execution_count": null,
      "outputs": []
    },
    {
      "cell_type": "code",
      "metadata": {
        "id": "r6eNrn16b7Y7",
        "colab": {
          "base_uri": "https://localhost:8080/",
          "height": 257
        },
        "outputId": "cea214b2-7725-48e3-e419-80ba8e742680"
      },
      "source": [
        "tabulacao = df_aux_sc.groupby('SegKmeans').mean()\n",
        "tabulacao"
      ],
      "execution_count": null,
      "outputs": [
        {
          "output_type": "execute_result",
          "data": {
            "text/html": [
              "<div>\n",
              "<style scoped>\n",
              "    .dataframe tbody tr th:only-of-type {\n",
              "        vertical-align: middle;\n",
              "    }\n",
              "\n",
              "    .dataframe tbody tr th {\n",
              "        vertical-align: top;\n",
              "    }\n",
              "\n",
              "    .dataframe thead th {\n",
              "        text-align: right;\n",
              "    }\n",
              "</style>\n",
              "<table border=\"1\" class=\"dataframe\">\n",
              "  <thead>\n",
              "    <tr style=\"text-align: right;\">\n",
              "      <th></th>\n",
              "      <th>QtdeVendida</th>\n",
              "      <th>VlVendaLiquido</th>\n",
              "      <th>VlVendaBruto</th>\n",
              "      <th>VlTotalBruto</th>\n",
              "      <th>VlTotalLiquido</th>\n",
              "      <th>VlImpostos</th>\n",
              "      <th>VlReceitaLiquida</th>\n",
              "      <th>VlLogTranspCubico</th>\n",
              "      <th>VlLogArmazenagem</th>\n",
              "      <th>VlLogCustoDistribuicao</th>\n",
              "      <th>CMV</th>\n",
              "      <th>VlFunding</th>\n",
              "      <th>VlDespVenCustoReprFuncionario</th>\n",
              "      <th>VlDespVenCustoVender</th>\n",
              "      <th>VlDespVenCustoComissao</th>\n",
              "      <th>VlMrgContribuicao</th>\n",
              "      <th>VlDescTotal</th>\n",
              "      <th>VlMrgBruta</th>\n",
              "      <th>VlEncargosVendor</th>\n",
              "      <th>VlGapVendor</th>\n",
              "    </tr>\n",
              "    <tr>\n",
              "      <th>SegKmeans</th>\n",
              "      <th></th>\n",
              "      <th></th>\n",
              "      <th></th>\n",
              "      <th></th>\n",
              "      <th></th>\n",
              "      <th></th>\n",
              "      <th></th>\n",
              "      <th></th>\n",
              "      <th></th>\n",
              "      <th></th>\n",
              "      <th></th>\n",
              "      <th></th>\n",
              "      <th></th>\n",
              "      <th></th>\n",
              "      <th></th>\n",
              "      <th></th>\n",
              "      <th></th>\n",
              "      <th></th>\n",
              "      <th></th>\n",
              "      <th></th>\n",
              "    </tr>\n",
              "  </thead>\n",
              "  <tbody>\n",
              "    <tr>\n",
              "      <th>0</th>\n",
              "      <td>0.000094</td>\n",
              "      <td>0.084998</td>\n",
              "      <td>0.085947</td>\n",
              "      <td>0.004196</td>\n",
              "      <td>0.004505</td>\n",
              "      <td>0.005017</td>\n",
              "      <td>0.038638</td>\n",
              "      <td>0.003944</td>\n",
              "      <td>0.008943</td>\n",
              "      <td>0.015623</td>\n",
              "      <td>0.003339</td>\n",
              "      <td>0.000659</td>\n",
              "      <td>0.000372</td>\n",
              "      <td>0.003746</td>\n",
              "      <td>0.011825</td>\n",
              "      <td>0.090332</td>\n",
              "      <td>0.012907</td>\n",
              "      <td>0.076038</td>\n",
              "      <td>0.000896</td>\n",
              "      <td>0.000348</td>\n",
              "    </tr>\n",
              "    <tr>\n",
              "      <th>1</th>\n",
              "      <td>0.000826</td>\n",
              "      <td>0.005512</td>\n",
              "      <td>0.005711</td>\n",
              "      <td>0.000570</td>\n",
              "      <td>0.000597</td>\n",
              "      <td>0.000692</td>\n",
              "      <td>0.034921</td>\n",
              "      <td>0.000788</td>\n",
              "      <td>0.002099</td>\n",
              "      <td>0.005723</td>\n",
              "      <td>0.000448</td>\n",
              "      <td>0.000183</td>\n",
              "      <td>0.000496</td>\n",
              "      <td>0.000493</td>\n",
              "      <td>0.002400</td>\n",
              "      <td>0.085127</td>\n",
              "      <td>0.002662</td>\n",
              "      <td>0.068149</td>\n",
              "      <td>0.000029</td>\n",
              "      <td>0.000032</td>\n",
              "    </tr>\n",
              "    <tr>\n",
              "      <th>2</th>\n",
              "      <td>0.000023</td>\n",
              "      <td>0.325371</td>\n",
              "      <td>0.326086</td>\n",
              "      <td>0.012195</td>\n",
              "      <td>0.013279</td>\n",
              "      <td>0.014555</td>\n",
              "      <td>0.047014</td>\n",
              "      <td>0.012652</td>\n",
              "      <td>0.019749</td>\n",
              "      <td>0.031251</td>\n",
              "      <td>0.010248</td>\n",
              "      <td>0.001796</td>\n",
              "      <td>0.000000</td>\n",
              "      <td>0.000097</td>\n",
              "      <td>0.026095</td>\n",
              "      <td>0.099263</td>\n",
              "      <td>0.023645</td>\n",
              "      <td>0.090145</td>\n",
              "      <td>0.007890</td>\n",
              "      <td>0.003994</td>\n",
              "    </tr>\n",
              "    <tr>\n",
              "      <th>3</th>\n",
              "      <td>0.147326</td>\n",
              "      <td>0.029461</td>\n",
              "      <td>0.030977</td>\n",
              "      <td>0.347681</td>\n",
              "      <td>0.369466</td>\n",
              "      <td>0.392389</td>\n",
              "      <td>0.386385</td>\n",
              "      <td>0.261483</td>\n",
              "      <td>0.590537</td>\n",
              "      <td>0.302528</td>\n",
              "      <td>0.344819</td>\n",
              "      <td>0.356177</td>\n",
              "      <td>0.000000</td>\n",
              "      <td>0.010370</td>\n",
              "      <td>0.610123</td>\n",
              "      <td>0.521336</td>\n",
              "      <td>0.083333</td>\n",
              "      <td>0.583537</td>\n",
              "      <td>0.000070</td>\n",
              "      <td>0.099253</td>\n",
              "    </tr>\n",
              "    <tr>\n",
              "      <th>4</th>\n",
              "      <td>0.055381</td>\n",
              "      <td>0.026072</td>\n",
              "      <td>0.027710</td>\n",
              "      <td>0.043458</td>\n",
              "      <td>0.045252</td>\n",
              "      <td>0.041002</td>\n",
              "      <td>0.073192</td>\n",
              "      <td>0.048027</td>\n",
              "      <td>0.110280</td>\n",
              "      <td>0.089146</td>\n",
              "      <td>0.033811</td>\n",
              "      <td>0.022393</td>\n",
              "      <td>0.000000</td>\n",
              "      <td>0.009470</td>\n",
              "      <td>0.126962</td>\n",
              "      <td>0.138736</td>\n",
              "      <td>0.159947</td>\n",
              "      <td>0.139937</td>\n",
              "      <td>0.001113</td>\n",
              "      <td>0.005269</td>\n",
              "    </tr>\n",
              "  </tbody>\n",
              "</table>\n",
              "</div>"
            ],
            "text/plain": [
              "           QtdeVendida  VlVendaLiquido  ...  VlEncargosVendor  VlGapVendor\n",
              "SegKmeans                               ...                               \n",
              "0             0.000094        0.084998  ...          0.000896     0.000348\n",
              "1             0.000826        0.005512  ...          0.000029     0.000032\n",
              "2             0.000023        0.325371  ...          0.007890     0.003994\n",
              "3             0.147326        0.029461  ...          0.000070     0.099253\n",
              "4             0.055381        0.026072  ...          0.001113     0.005269\n",
              "\n",
              "[5 rows x 20 columns]"
            ]
          },
          "metadata": {
            "tags": []
          },
          "execution_count": 25
        }
      ]
    },
    {
      "cell_type": "code",
      "metadata": {
        "id": "aR2OSHYrb7Y7",
        "colab": {
          "base_uri": "https://localhost:8080/",
          "height": 565
        },
        "outputId": "41b81528-1899-4d8f-c8ae-1b1e130e0fa1"
      },
      "source": [
        "fig, ax=plt.subplots()\n",
        "sns.heatmap(tabulacao, ax=ax, annot = False);\n",
        "ax.set_title(\"Mapa de Calor\");\n",
        "ax.set_ylabel(\"Cluster ID\");\n",
        "ax.set_xlabel(\"Features\")"
      ],
      "execution_count": null,
      "outputs": [
        {
          "output_type": "execute_result",
          "data": {
            "text/plain": [
              "Text(0.5, 6.719999999999981, 'Features')"
            ]
          },
          "metadata": {
            "tags": []
          },
          "execution_count": 26
        },
        {
          "output_type": "display_data",
          "data": {
            "image/png": "[encoded data removed]",
            "text/plain": [
              "<Figure size 576x396 with 2 Axes>"
            ]
          },
          "metadata": {
            "tags": []
          }
        }
      ]
    },
    {
      "cell_type": "code",
      "metadata": {
        "id": "ucHsjXAOb7Y8"
      },
      "source": [
        "df_rfv = df.groupby"
      ],
      "execution_count": null,
      "outputs": []
    },
    {
      "cell_type": "code",
      "metadata": {
        "id": "Z_v1VR9J6TCC"
      },
      "source": [
        ""
      ],
      "execution_count": null,
      "outputs": []
    },
    {
      "cell_type": "code",
      "metadata": {
        "id": "Vm5FHdSm6S60"
      },
      "source": [
        ""
      ],
      "execution_count": null,
      "outputs": []
    },
    {
      "cell_type": "code",
      "metadata": {
        "id": "pUrPSYG06Sy6"
      },
      "source": [
        ""
      ],
      "execution_count": null,
      "outputs": []
    },
    {
      "cell_type": "code",
      "metadata": {
        "id": "IG0UFKz0b7Y9"
      },
      "source": [
        ""
      ],
      "execution_count": null,
      "outputs": []
    }
  ]
}