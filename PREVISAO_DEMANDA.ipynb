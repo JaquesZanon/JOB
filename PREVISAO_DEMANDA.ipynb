{
  "nbformat": 4,
  "nbformat_minor": 0,
  "metadata": {
    "colab": {
      "name": "PREVISAO_DEMANDA.ipynb",
      "provenance": [],
      "collapsed_sections": [],
      "authorship_tag": "ABX9TyNyHAS9Fp2Y7HqVsREuyo4U",
      "include_colab_link": true
    },
    "kernelspec": {
      "name": "python3",
      "display_name": "Python 3"
    },
    "language_info": {
      "name": "python"
    }
  },
  "cells": [
    {
      "cell_type": "markdown",
      "metadata": {
        "id": "view-in-github",
        "colab_type": "text"
      },
      "source": [
        "<a href=\"https://colab.research.google.com/github/JaquesZanon/JOB/blob/main/PREVISAO_DEMANDA.ipynb\" target=\"_parent\"><img src=\"https://colab.research.google.com/assets/colab-badge.svg\" alt=\"Open In Colab\"/></a>"
      ]
    },
    {
      "cell_type": "code",
      "metadata": {
        "id": "mp8dlMxIA_9M"
      },
      "source": [
        ""
      ],
      "execution_count": null,
      "outputs": []
    },
    {
      "cell_type": "code",
      "metadata": {
        "id": "507eA-6eBAq4"
      },
      "source": [
        ""
      ],
      "execution_count": null,
      "outputs": []
    },
    {
      "cell_type": "code",
      "metadata": {
        "id": "hnkQ6br0BAoo",
        "colab": {
          "base_uri": "https://localhost:8080/"
        },
        "outputId": "17de4764-6dd0-4d16-bab8-c0db6451a14b"
      },
      "source": [
        "from google.colab import drive\n",
        "drive.mount('/content/drive')"
      ],
      "execution_count": 2,
      "outputs": [
        {
          "output_type": "stream",
          "text": [
            "Go to this URL in a browser: https://accounts.google.com/o/oauth2/auth?client_id=947318989803-6bn6qk8qdgf4n4g3pfee6491hc0brc4i.apps.googleusercontent.com&redirect_uri=urn%3aietf%3awg%3aoauth%3a2.0%3aoob&scope=email%20https%3a%2f%2fwww.googleapis.com%2fauth%2fdocs.test%20https%3a%2f%2fwww.googleapis.com%2fauth%2fdrive%20https%3a%2f%2fwww.googleapis.com%2fauth%2fdrive.photos.readonly%20https%3a%2f%2fwww.googleapis.com%2fauth%2fpeopleapi.readonly%20https%3a%2f%2fwww.googleapis.com%2fauth%2fdrive.activity.readonly%20https%3a%2f%2fwww.googleapis.com%2fauth%2fexperimentsandconfigs%20https%3a%2f%2fwww.googleapis.com%2fauth%2fphotos.native&response_type=code\n",
            "\n",
            "Enter your authorization code:\n",
            "4/1AX4XfWgnYvJd6q0YFJ2yq8uXM7CtvJ2IXMITQJBoj8jEe7CnEi3A2IG1HxY\n",
            "Mounted at /content/drive\n"
          ],
          "name": "stdout"
        }
      ]
    },
    {
      "cell_type": "code",
      "metadata": {
        "id": "ODyX1ONjBAlz",
        "colab": {
          "base_uri": "https://localhost:8080/",
          "height": 309
        },
        "outputId": "686a88bd-509a-4802-ec11-252e8d54e894"
      },
      "source": [
        "# Importa aquivo de texto (.txt)\n",
        "import pandas as pd\n",
        "df_original = pd.read_csv('/content/drive/MyDrive/JOB-Martins/DadosPrevisaoDemanda.csv',sep=';', decimal=',', engine='python')\n",
        "\n",
        "df_original['PrimeiraDataSemana'] = pd.to_datetime(df_original['PrimeiraDataSemana'])\n",
        "df_original['UltimaDataSemana'] = pd.to_datetime(df_original['UltimaDataSemana'])\n",
        "df_original = df_original.sort_values(by=['PrimeiraDataSemana'])\n",
        "df_original.head()\n"
      ],
      "execution_count": 1,
      "outputs": [
        {
          "output_type": "execute_result",
          "data": {
            "text/html": [
              "<div>\n",
              "<style scoped>\n",
              "    .dataframe tbody tr th:only-of-type {\n",
              "        vertical-align: middle;\n",
              "    }\n",
              "\n",
              "    .dataframe tbody tr th {\n",
              "        vertical-align: top;\n",
              "    }\n",
              "\n",
              "    .dataframe thead th {\n",
              "        text-align: right;\n",
              "    }\n",
              "</style>\n",
              "<table border=\"1\" class=\"dataframe\">\n",
              "  <thead>\n",
              "    <tr style=\"text-align: right;\">\n",
              "      <th></th>\n",
              "      <th>SiglaUF</th>\n",
              "      <th>DsCategoria</th>\n",
              "      <th>DsSubCategoria</th>\n",
              "      <th>CdGrupoProdutoSimilar</th>\n",
              "      <th>DsGrupoProdutoSimilar</th>\n",
              "      <th>DsMarca</th>\n",
              "      <th>DsDivisaoFornecedor</th>\n",
              "      <th>ANO</th>\n",
              "      <th>PrimeiraDataSemana</th>\n",
              "      <th>UltimaDataSemana</th>\n",
              "      <th>SemanaAno</th>\n",
              "      <th>QtdeVendida</th>\n",
              "      <th>VlTotalBruto</th>\n",
              "      <th>VlTotalLiquido</th>\n",
              "      <th>VlReceitaLiquida</th>\n",
              "      <th>Semanas</th>\n",
              "    </tr>\n",
              "  </thead>\n",
              "  <tbody>\n",
              "    <tr>\n",
              "      <th>0</th>\n",
              "      <td>BA</td>\n",
              "      <td>ACESSORIO ELETRICO</td>\n",
              "      <td>CAIXA DE LUZ</td>\n",
              "      <td>4200765</td>\n",
              "      <td>CXA.LUZ EMB.KRONA 4X2 AM.24X1</td>\n",
              "      <td>Krona</td>\n",
              "      <td>KRONA TUBOS E CONEXOES LTDA.</td>\n",
              "      <td>2020</td>\n",
              "      <td>2020-01-05</td>\n",
              "      <td>2020-01-05</td>\n",
              "      <td>18</td>\n",
              "      <td>1</td>\n",
              "      <td>23.25</td>\n",
              "      <td>23.25</td>\n",
              "      <td>21.10</td>\n",
              "      <td>1</td>\n",
              "    </tr>\n",
              "    <tr>\n",
              "      <th>850</th>\n",
              "      <td>BA</td>\n",
              "      <td>SABONETE</td>\n",
              "      <td>SABONETE EM BARRA</td>\n",
              "      <td>205138</td>\n",
              "      <td>SAB.GRANADO 12X90G GLIC.BENJO.</td>\n",
              "      <td>Granado</td>\n",
              "      <td>PONTELAND DISTRIBUICAO SA</td>\n",
              "      <td>2020</td>\n",
              "      <td>2020-01-05</td>\n",
              "      <td>2020-01-05</td>\n",
              "      <td>18</td>\n",
              "      <td>3</td>\n",
              "      <td>129.06</td>\n",
              "      <td>124.92</td>\n",
              "      <td>111.72</td>\n",
              "      <td>1</td>\n",
              "    </tr>\n",
              "    <tr>\n",
              "      <th>849</th>\n",
              "      <td>BA</td>\n",
              "      <td>SABONETE</td>\n",
              "      <td>SABONETE EM BARRA</td>\n",
              "      <td>205137</td>\n",
              "      <td>SAB.GRANADO 12X90G GLIC.AMEND.</td>\n",
              "      <td>Granado</td>\n",
              "      <td>PONTELAND DISTRIBUICAO SA</td>\n",
              "      <td>2020</td>\n",
              "      <td>2020-01-05</td>\n",
              "      <td>2020-01-05</td>\n",
              "      <td>18</td>\n",
              "      <td>3</td>\n",
              "      <td>144.30</td>\n",
              "      <td>139.68</td>\n",
              "      <td>124.92</td>\n",
              "      <td>1</td>\n",
              "    </tr>\n",
              "    <tr>\n",
              "      <th>848</th>\n",
              "      <td>BA</td>\n",
              "      <td>SABONETE</td>\n",
              "      <td>SABONETE EM BARRA</td>\n",
              "      <td>203130</td>\n",
              "      <td>SAB.GRANADO 12X90G GLIC.MEL</td>\n",
              "      <td>Granado</td>\n",
              "      <td>PONTELAND DISTRIBUICAO SA</td>\n",
              "      <td>2020</td>\n",
              "      <td>2020-01-05</td>\n",
              "      <td>2020-01-05</td>\n",
              "      <td>18</td>\n",
              "      <td>3</td>\n",
              "      <td>144.30</td>\n",
              "      <td>139.68</td>\n",
              "      <td>124.92</td>\n",
              "      <td>1</td>\n",
              "    </tr>\n",
              "    <tr>\n",
              "      <th>847</th>\n",
              "      <td>BA</td>\n",
              "      <td>SABONETE</td>\n",
              "      <td>SABONETE EM BARRA</td>\n",
              "      <td>201588</td>\n",
              "      <td>SAB.GRANADO 12X90G GLIC.CALE.</td>\n",
              "      <td>Granado</td>\n",
              "      <td>PONTELAND DISTRIBUICAO SA</td>\n",
              "      <td>2020</td>\n",
              "      <td>2020-01-05</td>\n",
              "      <td>2020-02-05</td>\n",
              "      <td>18</td>\n",
              "      <td>4</td>\n",
              "      <td>164.79</td>\n",
              "      <td>154.57</td>\n",
              "      <td>138.24</td>\n",
              "      <td>1</td>\n",
              "    </tr>\n",
              "  </tbody>\n",
              "</table>\n",
              "</div>"
            ],
            "text/plain": [
              "    SiglaUF         DsCategoria  ... VlReceitaLiquida  Semanas\n",
              "0        BA  ACESSORIO ELETRICO  ...            21.10        1\n",
              "850      BA            SABONETE  ...           111.72        1\n",
              "849      BA            SABONETE  ...           124.92        1\n",
              "848      BA            SABONETE  ...           124.92        1\n",
              "847      BA            SABONETE  ...           138.24        1\n",
              "\n",
              "[5 rows x 16 columns]"
            ]
          },
          "metadata": {
            "tags": []
          },
          "execution_count": 1
        }
      ]
    },
    {
      "cell_type": "code",
      "metadata": {
        "id": "djIafrr7BVfU",
        "colab": {
          "base_uri": "https://localhost:8080/",
          "height": 450
        },
        "outputId": "74dc1869-7481-492a-b293-46e40c0ee8a8"
      },
      "source": [
        "#dat_aux = pd.DataFrame(df_reduzido.groupby(['DsDivisaoFornecedor'])['CdGrupoProdutoSimilar'].unique())\n",
        "dat_aux = pd.DataFrame(df_original.groupby(['DsDivisaoFornecedor'])['CdGrupoProdutoSimilar'].unique())\n",
        "dat_aux"
      ],
      "execution_count": 2,
      "outputs": [
        {
          "output_type": "execute_result",
          "data": {
            "text/html": [
              "<div>\n",
              "<style scoped>\n",
              "    .dataframe tbody tr th:only-of-type {\n",
              "        vertical-align: middle;\n",
              "    }\n",
              "\n",
              "    .dataframe tbody tr th {\n",
              "        vertical-align: top;\n",
              "    }\n",
              "\n",
              "    .dataframe thead th {\n",
              "        text-align: right;\n",
              "    }\n",
              "</style>\n",
              "<table border=\"1\" class=\"dataframe\">\n",
              "  <thead>\n",
              "    <tr style=\"text-align: right;\">\n",
              "      <th></th>\n",
              "      <th>CdGrupoProdutoSimilar</th>\n",
              "    </tr>\n",
              "    <tr>\n",
              "      <th>DsDivisaoFornecedor</th>\n",
              "      <th></th>\n",
              "    </tr>\n",
              "  </thead>\n",
              "  <tbody>\n",
              "    <tr>\n",
              "      <th>3M DO BRASIL LTDA</th>\n",
              "      <td>[805, 97145, 803, 88, 818, 97147, 406632, 9714...</td>\n",
              "    </tr>\n",
              "    <tr>\n",
              "      <th>3M DO BRASIL LTDA - DIV. FITAS</th>\n",
              "      <td>[406207, 400433, 229, 406675, 406674, 400434, ...</td>\n",
              "    </tr>\n",
              "    <tr>\n",
              "      <th>3M DO BRASIL LTDA - EPI</th>\n",
              "      <td>[9000524, 9000527, 9000531]</td>\n",
              "    </tr>\n",
              "    <tr>\n",
              "      <th>3M DO BRASIL LTDA - LIMPEZA</th>\n",
              "      <td>[1700717, 1704060, 1702339, 200755, 203136, 20...</td>\n",
              "    </tr>\n",
              "    <tr>\n",
              "      <th>3M DO BRASIL LTDA LIMPEZA &amp;&amp;MP</th>\n",
              "      <td>[1702629, 1701347, 1701348, 1701261, 1701262, ...</td>\n",
              "    </tr>\n",
              "    <tr>\n",
              "      <th>...</th>\n",
              "      <td>...</td>\n",
              "    </tr>\n",
              "    <tr>\n",
              "      <th>WHIRLPOOL S.A - L.BCA</th>\n",
              "      <td>[636, 1041, 191, 2217224, 1793, 1794, 2213230,...</td>\n",
              "    </tr>\n",
              "    <tr>\n",
              "      <th>WORLD COM IND MED VET COSM LIM</th>\n",
              "      <td>[701869, 701761, 701768, 701767, 701762, 70176...</td>\n",
              "    </tr>\n",
              "    <tr>\n",
              "      <th>WOW INDUSTRIA E COMERCIO LTDA</th>\n",
              "      <td>[1600715, 1600716, 1600609, 1600455, 1600390, ...</td>\n",
              "    </tr>\n",
              "    <tr>\n",
              "      <th>XERYUS IMP.E DIST.ARTIGOS VEST.LTDA</th>\n",
              "      <td>[804284, 804051, 804057, 804061]</td>\n",
              "    </tr>\n",
              "    <tr>\n",
              "      <th>ZOETIS IND.PROD.VETERINARIOS LTDA</th>\n",
              "      <td>[704590, 704400, 701445, 703310, 702020, 70039...</td>\n",
              "    </tr>\n",
              "  </tbody>\n",
              "</table>\n",
              "<p>441 rows × 1 columns</p>\n",
              "</div>"
            ],
            "text/plain": [
              "                                                                 CdGrupoProdutoSimilar\n",
              "DsDivisaoFornecedor                                                                   \n",
              "3M DO BRASIL LTDA                    [805, 97145, 803, 88, 818, 97147, 406632, 9714...\n",
              "3M DO BRASIL LTDA - DIV. FITAS       [406207, 400433, 229, 406675, 406674, 400434, ...\n",
              "3M DO BRASIL LTDA - EPI                                    [9000524, 9000527, 9000531]\n",
              "3M DO BRASIL LTDA - LIMPEZA          [1700717, 1704060, 1702339, 200755, 203136, 20...\n",
              "3M DO BRASIL LTDA LIMPEZA &&MP       [1702629, 1701347, 1701348, 1701261, 1701262, ...\n",
              "...                                                                                ...\n",
              "WHIRLPOOL S.A - L.BCA                [636, 1041, 191, 2217224, 1793, 1794, 2213230,...\n",
              "WORLD COM IND MED VET COSM LIM       [701869, 701761, 701768, 701767, 701762, 70176...\n",
              "WOW INDUSTRIA E COMERCIO LTDA        [1600715, 1600716, 1600609, 1600455, 1600390, ...\n",
              "XERYUS IMP.E DIST.ARTIGOS VEST.LTDA                   [804284, 804051, 804057, 804061]\n",
              "ZOETIS IND.PROD.VETERINARIOS LTDA    [704590, 704400, 701445, 703310, 702020, 70039...\n",
              "\n",
              "[441 rows x 1 columns]"
            ]
          },
          "metadata": {
            "tags": []
          },
          "execution_count": 2
        }
      ]
    },
    {
      "cell_type": "code",
      "metadata": {
        "id": "XjAFSVZqBAi4"
      },
      "source": [
        "# Precisamos instalar algumas Bibliotecas\n",
        "!pip install utils\n",
        "!pip install pmdarima # para autoARIMA\n",
        "!pip install pyEDM # Para Empirical Dynamic Modeling\n",
        "!pip install croston\n",
        "!pip install gluonts # PAra DeepAR\n",
        "!pip install mxnet # PAra Deep AR\n",
        "!pip install prophet\n",
        "!pip install tqdm\n",
        "!pip install sklearn\n",
        "!pip install --upgrade mxnet~=1.7 gluonts\n",
        "!pip install darts\n",
        "!pip install 'u8darts[all]'\n",
        "!pip install skedm"
      ],
      "execution_count": null,
      "outputs": []
    },
    {
      "cell_type": "code",
      "metadata": {
        "id": "v72jIGxFESKY"
      },
      "source": [
        "def smape(a, f):\n",
        "    return 1/len(a) * np.sum(2 * np.abs(f-a) / (np.abs(a) + np.abs(f))*100)"
      ],
      "execution_count": 3,
      "outputs": []
    },
    {
      "cell_type": "code",
      "metadata": {
        "id": "Ni1fZBPsBZi2"
      },
      "source": [
        "#def percentage_error(actual, predicted):\n",
        "#   res = np.empty(actual.shape)\n",
        "#    for j in range(actual.shape[0]):\n",
        "#        if actual[j] != 0:\n",
        "#            res[j] = (actual[j] - predicted[j]) / actual[j]\n",
        "#        else:\n",
        "#            res[j] = predicted[j] / np.mean(actual)\n",
        "#    return res\n",
        "#\n",
        "#def mean_absolute_percentage_error(y_true, y_pred): \n",
        "#    return np.mean(np.abs(percentage_error(np.asarray(y_true), np.asarray(y_pred)))) * 100"
      ],
      "execution_count": 7,
      "outputs": []
    },
    {
      "cell_type": "code",
      "metadata": {
        "id": "HxR78BYMBAgG"
      },
      "source": [
        "from scipy import stats\n",
        "import numpy as np\n",
        "import pmdarima as pm\n",
        "#from sklearn.metrics import mean_absolute_error\n",
        "from sklearn.metrics import mean_absolute_percentage_error\n",
        "from sklearn.metrics import r2_score\n",
        "from croston import croston\n",
        "from prophet import Prophet\n",
        "from tqdm import tqdm\n",
        "import time\n",
        "import pyEDM\n",
        "from darts import TimeSeries\n",
        "from darts.metrics import mape\n",
        "from darts.models import (\n",
        "    NaiveSeasonal,\n",
        "    NaiveDrift,\n",
        "    ExponentialSmoothing,\n",
        "    ARIMA,\n",
        "    AutoARIMA,\n",
        "    RegressionEnsembleModel,\n",
        "    RegressionModel,\n",
        "    Theta,\n",
        "    FFT\n",
        ")\n",
        "import skedm as edm"
      ],
      "execution_count": 4,
      "outputs": []
    },
    {
      "cell_type": "code",
      "metadata": {
        "id": "tBnFqB6LBAdI"
      },
      "source": [
        "par={}\n",
        "erro_arima={}\n",
        "par_croston={}\n",
        "erro_croston={}\n",
        "erro_prophet={}\n",
        "erro_EDM = {}\n",
        "erro_naive = {}\n",
        "erro_ExponentialSmoothing = {}\n",
        "erro_Theta = {}\n",
        "erro_FFT = {}\n",
        "\n",
        "pred_arima ={}\n",
        "pred_croston = {}\n",
        "pred_prophet = {}\n",
        "pred_EDM = {}\n",
        "pred_Naive ={}\n",
        "pred_ExponentialSmoothing={}\n",
        "pred_Theta = {}\n",
        "Pred_FFT = {}\n",
        "\n",
        "\n",
        "#for j, i in zip(tqdm (range(0, 7),desc=\"Processando Fornecedor\", ascii=False, ncols=75), tqdm (range(0,len(dat_aux.iloc[j,0])),desc=\"Processando Id Oriduto\", ascii=False, ncols=75)):\n",
        "\n",
        "for j in tqdm (range(0, 441),desc=\"Processando Fornecedor\", ascii=False, ncols=75):\n",
        "  \n",
        "    try:\n",
        "   # Selecionando os dados para ajustar os modelos\n",
        "         filter1 = df_original[\"DsDivisaoFornecedor\"]==dat_aux.index[j]\n",
        "         #filter1 = df_original[\"DsDivisaoFornecedor\"]=='SAINT GOBAIN DO BRASIL PRODUTOS IND'\n",
        "         df_0 = df_original[filter1]\n",
        "         df = df_0.groupby(['Semanas'])[['VlTotalBruto']].sum()\n",
        "         we = pd.DataFrame(list(range(1,65,1)))\n",
        "         we.columns=['Semanas']\n",
        "         we.index=we.Semanas\n",
        "         df = pd.concat([df, we], axis=1)\n",
        "         df=df['VlTotalBruto']\n",
        "         df.index = pd.DataFrame(pd.date_range('2020-01-05', freq='7D', periods=64), columns=['date']).iloc[:,0]\n",
        "         df = pd.DataFrame(df).fillna(0)\n",
        "\n",
        "      # Substituindo outliers\n",
        "         z = np.abs(stats.zscore(df.VlTotalBruto))\n",
        "         median=df.VlTotalBruto.median()\n",
        "         df[\"VlTotalBruto\"] = np.where(z>3, median, df[\"VlTotalBruto\"])\n",
        "\n",
        "      # Sets de treino e teste\n",
        "         train_len = int(df.shape[0] * 1)\n",
        "         train_data, test_data = df[:train_len], df[train_len:]\n",
        "         test_data = train_data\n",
        "\n",
        "      # Ajustando AutoArima\n",
        "         stepwise_fit = pm.auto_arima(train_data, start_p=1, start_q=1, max_p=3, max_q=3, m=12,\n",
        "                             start_P=0, seasonal=True, d=1, D=1, trace=False,\n",
        "                             error_action='ignore',  # don't want to know if an order does not work\n",
        "                             suppress_warnings=True,  # don't want convergence warnings\n",
        "                             stepwise=True)  # set to stepwise\n",
        "   \n",
        "      # Armazenando resultados AutoArima\n",
        "         sentence = [str(dat_aux.index[j])]\n",
        "         sentence = '-'.join(sentence)\n",
        "         aux = stepwise_fit.get_params()\n",
        "         par[sentence]=aux\n",
        "         forecasts = stepwise_fit.predict(test_data.shape[0])\n",
        "         #mmae = mean_absolute_percentage_error(list(list(test_data.VlTotalBruto)), list(forecasts))\n",
        "         mmae = smape(test_data.VlTotalBruto, forecasts)\n",
        "         erro_arima[sentence]=mmae\n",
        "         \n",
        "  \n",
        "      # Ajustando modelo Croston\n",
        "         croston_pred = croston.fit_croston(df+0.000001,test_data.shape[0],'original')\n",
        "\n",
        "      # Armazenando resultados Croston\n",
        "         par_croston[sentence] = croston_pred\n",
        "         #erro_croston[sentence] = mean_absolute_percentage_error(list(test_data.VlTotalBruto), croston_pred['croston_forecast'])\n",
        "         erro_croston[sentence] = smape(test_data.VlTotalBruto, pd.DataFrame(croston_pred['croston_forecast']).iloc[:,0])\n",
        "\n",
        "      # O modelo profet só funciona com duas colunas\n",
        "         y = df.reset_index(drop=False)\n",
        "         y.columns = ['ds', 'y']\n",
        "         #y['floor'] = 0\n",
        "         #y['cap'] = 200000\n",
        "         train = y.iloc[:train_data.shape[0],:]\n",
        "         test = y.iloc[train_data.shape[0]:,:]\n",
        "         test=train\n",
        "\n",
        "      #Ajustando modelo Prophet\n",
        "         m = Prophet(weekly_seasonality = True,\n",
        "                     yearly_seasonality = False,\n",
        "                     daily_seasonality = False)\n",
        "         m.fit(train,verbose=0)\n",
        "         future = m.make_future_dataframe(periods=len(test))\n",
        "         future['ds'] = pd.to_datetime(future['ds']).dt.date\n",
        "         forecast = m.predict(future)\n",
        "         one=test['y']\n",
        "         twi=list(forecast.loc[:test_data.shape[0]-1,'yhat'])\n",
        "         #erro_prophet[sentence] = mean_absolute_percentage_error(list(one),list(twi)) Assimetrico\n",
        "         erro_prophet[sentence] = smape(one, twi) # simmetrico\n",
        "         \n",
        "\n",
        "         # O EDM agora, preparando o imput\n",
        "         y = y[[\"ds\",\"y\"]]\n",
        "         y.columns = [\"Time\", \"Revenue\"]\n",
        "         y.Time = list(range(1,df.shape[0]+1,1))\n",
        "         aaa=pyEDM.EmbedDimension(dataFrame = y, lib=\"1 64\", pred=\"1 64\", columns=\"Revenue\",target = \"Revenue\",showPlot=False)\n",
        "         maxE = aaa.rho.max()\n",
        "         selectedE=aaa[aaa.rho==maxE]['E']\n",
        "         X = y.Revenue+0.000001\n",
        "         E = edm.Embed(X) #initiate the class\n",
        "         max_lag = 20\n",
        "         mi = E.mutual_information(max_lag)\n",
        "         mi = pd.DataFrame(mi)\n",
        "         mi['lag'] = range(0,20,1)\n",
        "         mi.columns = [\"mi\", \"lag\"]\n",
        "         maxMI = mi.mi.max()\n",
        "         selectedMI=mi[mi.mi==maxMI]['lag']\n",
        "         lag = int(selectedMI)\n",
        "         embed = int(selectedE)\n",
        "         predict = 20 #predicting out to double to lag\n",
        "         X,y = E.embed_vectors_1d(1 if lag==0 else lag,3 if embed>5 else embed,predict)\n",
        "\n",
        "         #split it into training and testing sets\n",
        "         train_len = int(1*len(X))\n",
        "         Xtrain = X[0:train_len]\n",
        "         ytrain = y[0:train_len]\n",
        "         Xtest = X[train_len:]\n",
        "         ytest = y[train_len:]\n",
        "         Xtest = Xtrain\n",
        "         ytest = ytrain\n",
        "\n",
        "         \n",
        "         weights = 'distance' #use a distance weighting for the near neighbors\n",
        "         M = edm.Regression(weights) # initiate the nonlinear forecasting class\n",
        "         M.fit(Xtrain, ytrain) #fit the data (rebuilding the attractor)\n",
        "\n",
        "         nn_list = [20]\n",
        "         ypred = M.predict(Xtest,nn_list)\n",
        "         ypred = pd.DataFrame(ypred[0])\n",
        "         ypred.mean(axis=0)\n",
        "         ypred = ypred.mean(axis=0)\n",
        "         #erro_EDM[sentence] = mean_absolute_percentage_error(list(df.VlTotalBruto[:40]),list(ypred))\n",
        "         erro_EDM[sentence] = smape(df.VlTotalBruto[:20],ypred)\n",
        "\n",
        "         # PAra Naive, Prophet, exponential smothing, theta, FFT\n",
        "         series = TimeSeries.from_dataframe(df.reset_index(), 'date', 'VlTotalBruto')\n",
        "         train2, val = series.split_after(0.7)\n",
        "         trains2=val=series\n",
        "         model1 = NaiveDrift()\n",
        "         model1.fit(train2+0.00000001)\n",
        "         \n",
        "         pred_val1 = model1.predict(len(val))\n",
        "         erro_naive[sentence] = str(smape(series.values(),pred_val1.values()))\n",
        "\n",
        "         model2 = ExponentialSmoothing()\n",
        "         model2.fit(train2+0.00000001)\n",
        "\n",
        "         pred_val2 = model2.predict(len(val))\n",
        "         erro_ExponentialSmoothing[sentence] = str(smape(series.values(),pred_val2.values()))\n",
        "\n",
        "         model3 = Theta()\n",
        "         model3.fit(train2+0.00000001)\n",
        "\n",
        "         pred_val3 = model3.predict(len(val))\n",
        "         erro_Theta[sentence] = str(smape(series.values(),pred_val3.values()))\n",
        "\n",
        "         model4 = FFT(trend='poly',trend_poly_degree = 1)\n",
        "         model4.fit(train2+0.00000001)\n",
        "\n",
        "         pred_val4 = model4.predict(len(val))\n",
        "         erro_FFT[sentence] = str(smape(series.values(),pred_val4.values()))\n",
        "\n",
        "    except:\n",
        "      pass  \n",
        "\n",
        "resultado_final = pd.concat([pd.DataFrame.from_dict(erro_arima,orient='index'),\n",
        "           pd.DataFrame.from_dict(erro_croston,orient='index'),\n",
        "           pd.DataFrame.from_dict(erro_prophet,orient='index'),\n",
        "           pd.DataFrame.from_dict(erro_EDM,orient='index'),\n",
        "           pd.DataFrame.from_dict(erro_naive,orient='index'),\n",
        "           pd.DataFrame.from_dict(erro_ExponentialSmoothing,orient='index'),\n",
        "           pd.DataFrame.from_dict(erro_Theta,orient='index'),\n",
        "           pd.DataFrame.from_dict(erro_FFT,orient='index')   \n",
        "           ], axis=1)\n",
        "resultado_final.columns=[\"arima\",\"croston\", \"prophet\",\"EDM\",\"naive\",\"ExpSmooth\",\"theta\",\"fft\"]\n",
        "#resultado_final.to_csv('/content/drive/MyDrive/JOB-Martins/rfesultado_final.csv')\n",
        "#pd.DataFrame.from_dict(erro_prophet,orient='index').to_csv('/content/drive/MyDrive/JOB-Martins/prophet.csv')\n",
        "#pd.DataFrame.from_dict(erro_croston,orient='index').to_csv('/content/drive/MyDrive/JOB-Martins/croston.csv')\n",
        "#pd.DataFrame.from_dict(erro,orient='index').to_csv('/content/drive/MyDrive/JOB-Martins/arima.csv')\n",
        "#pd.DataFrame.from_dict(erro_EDM,orient='index').to_csv('/content/drive/MyDrive/JOB-Martins/EDM.csv')\n",
        "print('Cmplete')"
      ],
      "execution_count": null,
      "outputs": []
    },
    {
      "cell_type": "code",
      "metadata": {
        "colab": {
          "base_uri": "https://localhost:8080/"
        },
        "id": "YtjUhZui4qcT",
        "outputId": "e141a2ff-d1f7-4b37-a2b1-70b4667c92f5"
      },
      "source": [
        "smape(df.VlTotalBruto[:40,],pd.DataFrame(ypred).iloc[:,0])"
      ],
      "execution_count": 46,
      "outputs": [
        {
          "output_type": "execute_result",
          "data": {
            "text/plain": [
              "0.0"
            ]
          },
          "metadata": {
            "tags": []
          },
          "execution_count": 46
        }
      ]
    },
    {
      "cell_type": "code",
      "metadata": {
        "colab": {
          "base_uri": "https://localhost:8080/",
          "height": 1000
        },
        "id": "MIm-p-eh4qSC",
        "outputId": "66c6b941-d606-472c-9741-ea3570e01f9f"
      },
      "source": [
        "pd.DataFrame(ypred)"
      ],
      "execution_count": 43,
      "outputs": [
        {
          "output_type": "execute_result",
          "data": {
            "text/html": [
              "<div>\n",
              "<style scoped>\n",
              "    .dataframe tbody tr th:only-of-type {\n",
              "        vertical-align: middle;\n",
              "    }\n",
              "\n",
              "    .dataframe tbody tr th {\n",
              "        vertical-align: top;\n",
              "    }\n",
              "\n",
              "    .dataframe thead th {\n",
              "        text-align: right;\n",
              "    }\n",
              "</style>\n",
              "<table border=\"1\" class=\"dataframe\">\n",
              "  <thead>\n",
              "    <tr style=\"text-align: right;\">\n",
              "      <th></th>\n",
              "      <th>0</th>\n",
              "    </tr>\n",
              "  </thead>\n",
              "  <tbody>\n",
              "    <tr>\n",
              "      <th>0</th>\n",
              "      <td>4317.397504</td>\n",
              "    </tr>\n",
              "    <tr>\n",
              "      <th>1</th>\n",
              "      <td>4550.882913</td>\n",
              "    </tr>\n",
              "    <tr>\n",
              "      <th>2</th>\n",
              "      <td>4502.693751</td>\n",
              "    </tr>\n",
              "    <tr>\n",
              "      <th>3</th>\n",
              "      <td>4562.722922</td>\n",
              "    </tr>\n",
              "    <tr>\n",
              "      <th>4</th>\n",
              "      <td>4690.619997</td>\n",
              "    </tr>\n",
              "    <tr>\n",
              "      <th>5</th>\n",
              "      <td>4665.350835</td>\n",
              "    </tr>\n",
              "    <tr>\n",
              "      <th>6</th>\n",
              "      <td>4677.538751</td>\n",
              "    </tr>\n",
              "    <tr>\n",
              "      <th>7</th>\n",
              "      <td>4929.776248</td>\n",
              "    </tr>\n",
              "    <tr>\n",
              "      <th>8</th>\n",
              "      <td>5098.862920</td>\n",
              "    </tr>\n",
              "    <tr>\n",
              "      <th>9</th>\n",
              "      <td>5044.627504</td>\n",
              "    </tr>\n",
              "    <tr>\n",
              "      <th>10</th>\n",
              "      <td>4849.263337</td>\n",
              "    </tr>\n",
              "    <tr>\n",
              "      <th>11</th>\n",
              "      <td>4751.781667</td>\n",
              "    </tr>\n",
              "    <tr>\n",
              "      <th>12</th>\n",
              "      <td>4634.569167</td>\n",
              "    </tr>\n",
              "    <tr>\n",
              "      <th>13</th>\n",
              "      <td>4544.667077</td>\n",
              "    </tr>\n",
              "    <tr>\n",
              "      <th>14</th>\n",
              "      <td>4577.199173</td>\n",
              "    </tr>\n",
              "    <tr>\n",
              "      <th>15</th>\n",
              "      <td>4742.322916</td>\n",
              "    </tr>\n",
              "    <tr>\n",
              "      <th>16</th>\n",
              "      <td>4515.550011</td>\n",
              "    </tr>\n",
              "    <tr>\n",
              "      <th>17</th>\n",
              "      <td>4569.932929</td>\n",
              "    </tr>\n",
              "    <tr>\n",
              "      <th>18</th>\n",
              "      <td>4546.508760</td>\n",
              "    </tr>\n",
              "    <tr>\n",
              "      <th>19</th>\n",
              "      <td>4475.624175</td>\n",
              "    </tr>\n",
              "    <tr>\n",
              "      <th>20</th>\n",
              "      <td>4312.686244</td>\n",
              "    </tr>\n",
              "    <tr>\n",
              "      <th>21</th>\n",
              "      <td>4157.456662</td>\n",
              "    </tr>\n",
              "    <tr>\n",
              "      <th>22</th>\n",
              "      <td>4246.602076</td>\n",
              "    </tr>\n",
              "    <tr>\n",
              "      <th>23</th>\n",
              "      <td>4187.520412</td>\n",
              "    </tr>\n",
              "    <tr>\n",
              "      <th>24</th>\n",
              "      <td>4013.092500</td>\n",
              "    </tr>\n",
              "    <tr>\n",
              "      <th>25</th>\n",
              "      <td>3743.992078</td>\n",
              "    </tr>\n",
              "    <tr>\n",
              "      <th>26</th>\n",
              "      <td>3689.784999</td>\n",
              "    </tr>\n",
              "    <tr>\n",
              "      <th>27</th>\n",
              "      <td>3813.971251</td>\n",
              "    </tr>\n",
              "    <tr>\n",
              "      <th>28</th>\n",
              "      <td>3761.803748</td>\n",
              "    </tr>\n",
              "    <tr>\n",
              "      <th>29</th>\n",
              "      <td>3765.656665</td>\n",
              "    </tr>\n",
              "    <tr>\n",
              "      <th>30</th>\n",
              "      <td>3793.095830</td>\n",
              "    </tr>\n",
              "    <tr>\n",
              "      <th>31</th>\n",
              "      <td>3538.407926</td>\n",
              "    </tr>\n",
              "    <tr>\n",
              "      <th>32</th>\n",
              "      <td>3353.814582</td>\n",
              "    </tr>\n",
              "    <tr>\n",
              "      <th>33</th>\n",
              "      <td>3433.183333</td>\n",
              "    </tr>\n",
              "    <tr>\n",
              "      <th>34</th>\n",
              "      <td>3764.484166</td>\n",
              "    </tr>\n",
              "    <tr>\n",
              "      <th>35</th>\n",
              "      <td>3901.969386</td>\n",
              "    </tr>\n",
              "    <tr>\n",
              "      <th>36</th>\n",
              "      <td>4405.656463</td>\n",
              "    </tr>\n",
              "    <tr>\n",
              "      <th>37</th>\n",
              "      <td>4658.107293</td>\n",
              "    </tr>\n",
              "    <tr>\n",
              "      <th>38</th>\n",
              "      <td>4888.391471</td>\n",
              "    </tr>\n",
              "    <tr>\n",
              "      <th>39</th>\n",
              "      <td>4810.393535</td>\n",
              "    </tr>\n",
              "  </tbody>\n",
              "</table>\n",
              "</div>"
            ],
            "text/plain": [
              "              0\n",
              "0   4317.397504\n",
              "1   4550.882913\n",
              "2   4502.693751\n",
              "3   4562.722922\n",
              "4   4690.619997\n",
              "5   4665.350835\n",
              "6   4677.538751\n",
              "7   4929.776248\n",
              "8   5098.862920\n",
              "9   5044.627504\n",
              "10  4849.263337\n",
              "11  4751.781667\n",
              "12  4634.569167\n",
              "13  4544.667077\n",
              "14  4577.199173\n",
              "15  4742.322916\n",
              "16  4515.550011\n",
              "17  4569.932929\n",
              "18  4546.508760\n",
              "19  4475.624175\n",
              "20  4312.686244\n",
              "21  4157.456662\n",
              "22  4246.602076\n",
              "23  4187.520412\n",
              "24  4013.092500\n",
              "25  3743.992078\n",
              "26  3689.784999\n",
              "27  3813.971251\n",
              "28  3761.803748\n",
              "29  3765.656665\n",
              "30  3793.095830\n",
              "31  3538.407926\n",
              "32  3353.814582\n",
              "33  3433.183333\n",
              "34  3764.484166\n",
              "35  3901.969386\n",
              "36  4405.656463\n",
              "37  4658.107293\n",
              "38  4888.391471\n",
              "39  4810.393535"
            ]
          },
          "metadata": {
            "tags": []
          },
          "execution_count": 43
        }
      ]
    },
    {
      "cell_type": "code",
      "metadata": {
        "id": "kVwI2ruUUVzY"
      },
      "source": [
        "resultado_final.to_csv('/content/drive/MyDrive/JOB-Martins/rfesultado_final.csv')"
      ],
      "execution_count": 52,
      "outputs": []
    },
    {
      "cell_type": "code",
      "metadata": {
        "id": "iG3WS5hvUoAT"
      },
      "source": [
        "resultado_final.to_excel('/content/drive/MyDrive/JOB-Martins/rfesultado_final.xlsx')"
      ],
      "execution_count": null,
      "outputs": []
    },
    {
      "cell_type": "code",
      "metadata": {
        "id": "n7sTFtiJ23xt"
      },
      "source": [
        ""
      ],
      "execution_count": null,
      "outputs": []
    },
    {
      "cell_type": "code",
      "metadata": {
        "id": "7CwHL5Lt93Ch"
      },
      "source": [
        ""
      ],
      "execution_count": null,
      "outputs": []
    },
    {
      "cell_type": "code",
      "metadata": {
        "colab": {
          "base_uri": "https://localhost:8080/"
        },
        "id": "sLhsLHvq6bJX",
        "outputId": "057271bd-c4e7-4ea0-9c55-8ab3e9ebbc44"
      },
      "source": [
        ""
      ],
      "execution_count": null,
      "outputs": [
        {
          "output_type": "execute_result",
          "data": {
            "text/plain": [
              "<statsmodels.tsa.arima_model.ARMA at 0x7fe08828bc50>"
            ]
          },
          "metadata": {
            "tags": []
          },
          "execution_count": 52
        }
      ]
    },
    {
      "cell_type": "code",
      "metadata": {
        "id": "VoekK8S16bDR",
        "colab": {
          "base_uri": "https://localhost:8080/"
        },
        "outputId": "01d7a5a2-6431-4795-8359-c4d5a7c4e60a"
      },
      "source": [
        "df_original.columns"
      ],
      "execution_count": null,
      "outputs": [
        {
          "output_type": "execute_result",
          "data": {
            "text/plain": [
              "Index(['SiglaUF', 'DsCategoria', 'DsSubCategoria', 'CdGrupoProdutoSimilar',\n",
              "       'DsGrupoProdutoSimilar', 'DsMarca', 'DsDivisaoFornecedor', 'ANO',\n",
              "       'PrimeiraDataSemana', 'UltimaDataSemana', 'SemanaAno', 'QtdeVendida',\n",
              "       'VlTotalBruto', 'VlTotalLiquido', 'VlReceitaLiquida', 'Semanas'],\n",
              "      dtype='object')"
            ]
          },
          "metadata": {
            "tags": []
          },
          "execution_count": 96
        }
      ]
    },
    {
      "cell_type": "code",
      "metadata": {
        "id": "jqo_bb99HaJi"
      },
      "source": [
        "resultado = {}\n",
        "df_2 = df\n",
        "for j in range(0, 441):\n",
        "   filter1 = df_original[\"DsDivisaoFornecedor\"]==dat_aux.index[440]\n",
        "   df_0 = df_original[filter1]\n",
        "   df = df_0.groupby(['Semanas'])[['QtdeVendida']].sum()\n",
        "   we = pd.DataFrame(list(range(1,65,1)))\n",
        "   we.columns=['Semanas']\n",
        "   we.index=we.Semanas\n",
        "   df = pd.concat([df, we], axis=1)\n",
        "   df=df['QtdeVendida']\n",
        "   df.index = pd.DataFrame(pd.date_range('2020-01-05', freq='7D', periods=64), columns=['date']).iloc[:,0]\n",
        "   df = pd.DataFrame(df).fillna(0)\n",
        "   df.columns = [dat_aux.index[j]]\n",
        "   df_2[dat_aux.index[j]]=df\n",
        "   #resultado[dat_aux.index[j]] = df.reset_index()\n"
      ],
      "execution_count": null,
      "outputs": []
    },
    {
      "cell_type": "code",
      "metadata": {
        "id": "2X0YZ1Niyceb",
        "colab": {
          "base_uri": "https://localhost:8080/",
          "height": 450
        },
        "outputId": "4cb54857-f19c-488f-e0c2-731957493bfb"
      },
      "source": [
        "df"
      ],
      "execution_count": null,
      "outputs": [
        {
          "output_type": "execute_result",
          "data": {
            "text/html": [
              "<div>\n",
              "<style scoped>\n",
              "    .dataframe tbody tr th:only-of-type {\n",
              "        vertical-align: middle;\n",
              "    }\n",
              "\n",
              "    .dataframe tbody tr th {\n",
              "        vertical-align: top;\n",
              "    }\n",
              "\n",
              "    .dataframe thead th {\n",
              "        text-align: right;\n",
              "    }\n",
              "</style>\n",
              "<table border=\"1\" class=\"dataframe\">\n",
              "  <thead>\n",
              "    <tr style=\"text-align: right;\">\n",
              "      <th></th>\n",
              "      <th>QtdeVendida</th>\n",
              "    </tr>\n",
              "    <tr>\n",
              "      <th>Semanas</th>\n",
              "      <th></th>\n",
              "    </tr>\n",
              "  </thead>\n",
              "  <tbody>\n",
              "    <tr>\n",
              "      <th>1</th>\n",
              "      <td>246</td>\n",
              "    </tr>\n",
              "    <tr>\n",
              "      <th>2</th>\n",
              "      <td>750</td>\n",
              "    </tr>\n",
              "    <tr>\n",
              "      <th>3</th>\n",
              "      <td>1300</td>\n",
              "    </tr>\n",
              "    <tr>\n",
              "      <th>4</th>\n",
              "      <td>872</td>\n",
              "    </tr>\n",
              "    <tr>\n",
              "      <th>5</th>\n",
              "      <td>974</td>\n",
              "    </tr>\n",
              "    <tr>\n",
              "      <th>...</th>\n",
              "      <td>...</td>\n",
              "    </tr>\n",
              "    <tr>\n",
              "      <th>60</th>\n",
              "      <td>2962</td>\n",
              "    </tr>\n",
              "    <tr>\n",
              "      <th>61</th>\n",
              "      <td>1388</td>\n",
              "    </tr>\n",
              "    <tr>\n",
              "      <th>62</th>\n",
              "      <td>1383</td>\n",
              "    </tr>\n",
              "    <tr>\n",
              "      <th>63</th>\n",
              "      <td>3524</td>\n",
              "    </tr>\n",
              "    <tr>\n",
              "      <th>64</th>\n",
              "      <td>940</td>\n",
              "    </tr>\n",
              "  </tbody>\n",
              "</table>\n",
              "<p>64 rows × 1 columns</p>\n",
              "</div>"
            ],
            "text/plain": [
              "         QtdeVendida\n",
              "Semanas             \n",
              "1                246\n",
              "2                750\n",
              "3               1300\n",
              "4                872\n",
              "5                974\n",
              "...              ...\n",
              "60              2962\n",
              "61              1388\n",
              "62              1383\n",
              "63              3524\n",
              "64               940\n",
              "\n",
              "[64 rows x 1 columns]"
            ]
          },
          "metadata": {
            "tags": []
          },
          "execution_count": 103
        }
      ]
    },
    {
      "cell_type": "code",
      "metadata": {
        "id": "GS47ymnYdZNT"
      },
      "source": [
        "\n",
        "df_2.to_excel('/content/drive/MyDrive/JOB-Martins/quantidade_vendida_Series.xlsx')"
      ],
      "execution_count": null,
      "outputs": []
    }
  ]
}