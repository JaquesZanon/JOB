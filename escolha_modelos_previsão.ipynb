{
  "nbformat": 4,
  "nbformat_minor": 0,
  "metadata": {
    "colab": {
      "name": "escolha_modelos_previsão.ipynb",
      "provenance": [],
      "collapsed_sections": [],
      "mount_file_id": "1NX8qhYDDtxrLD2GhISN5gOiWW9QSxrJZ",
      "authorship_tag": "ABX9TyNQm2DRv/mXqZSBCXQ1dhp4",
      "include_colab_link": true
    },
    "kernelspec": {
      "display_name": "Python 3",
      "name": "python3"
    },
    "language_info": {
      "name": "python"
    }
  },
  "cells": [
    {
      "cell_type": "markdown",
      "metadata": {
        "id": "view-in-github",
        "colab_type": "text"
      },
      "source": [
        "<a href=\"https://colab.research.google.com/github/JaquesZanon/JOB/blob/main/escolha_modelos_previs%C3%A3o.ipynb\" target=\"_parent\"><img src=\"https://colab.research.google.com/assets/colab-badge.svg\" alt=\"Open In Colab\"/></a>"
      ]
    },
    {
      "cell_type": "markdown",
      "metadata": {
        "id": "rKfWbJ52YeJa"
      },
      "source": [
        ""
      ]
    },
    {
      "cell_type": "markdown",
      "metadata": {
        "id": "9UGUFJVIYc4F"
      },
      "source": [
        "### Importando os dados"
      ]
    },
    {
      "cell_type": "code",
      "metadata": {
        "id": "gKlRCZP4g3i_"
      },
      "source": [
        "# Precisamos instalar algumas Bibliotecas\n",
        "!pip install utils\n",
        "!pip install pmdarima # para autoARIMA\n",
        "!pip install pyEDM # Para Empirical Dynamic Modeling\n",
        "!pip install croston\n",
        "!pip install gluonts # PAra DeepAR\n",
        "!pip install mxnet # PAra Deep AR\n",
        "!pip install prophet"
      ],
      "execution_count": null,
      "outputs": []
    },
    {
      "cell_type": "code",
      "metadata": {
        "colab": {
          "base_uri": "https://localhost:8080/"
        },
        "id": "ViuOsNVEYL1K",
        "outputId": "91d9bee8-903f-494b-dcf3-0cc6e03de743"
      },
      "source": [
        "# Monta o Drive\n",
        "from google.colab import drive\n",
        "drive.mount('/content/drive')"
      ],
      "execution_count": 4,
      "outputs": [
        {
          "output_type": "stream",
          "text": [
            "Drive already mounted at /content/drive; to attempt to forcibly remount, call drive.mount(\"/content/drive\", force_remount=True).\n"
          ],
          "name": "stdout"
        }
      ]
    },
    {
      "cell_type": "code",
      "metadata": {
        "id": "CMp8y2fmYQXu",
        "colab": {
          "base_uri": "https://localhost:8080/",
          "height": 312
        },
        "outputId": "63323d60-4b23-497b-f4fc-049dea141c9b"
      },
      "source": [
        "# Importa aquivo de texto (.txt)\n",
        "import pandas as pd\n",
        "df_original = pd.read_csv('/content/drive/MyDrive/JOB-Martins/DadosPrevisaoDemanda.csv',sep=';', decimal=',', engine='python')\n",
        "\n",
        "df_original['PrimeiraDataSemana'] = pd.to_datetime(df_original['PrimeiraDataSemana'])\n",
        "df_original['UltimaDataSemana'] = pd.to_datetime(df_original['UltimaDataSemana'])\n",
        "df_original = df_original.sort_values(by=['PrimeiraDataSemana'])\n",
        "df_original.head()\n"
      ],
      "execution_count": 5,
      "outputs": [
        {
          "output_type": "execute_result",
          "data": {
            "text/html": [
              "<div>\n",
              "<style scoped>\n",
              "    .dataframe tbody tr th:only-of-type {\n",
              "        vertical-align: middle;\n",
              "    }\n",
              "\n",
              "    .dataframe tbody tr th {\n",
              "        vertical-align: top;\n",
              "    }\n",
              "\n",
              "    .dataframe thead th {\n",
              "        text-align: right;\n",
              "    }\n",
              "</style>\n",
              "<table border=\"1\" class=\"dataframe\">\n",
              "  <thead>\n",
              "    <tr style=\"text-align: right;\">\n",
              "      <th></th>\n",
              "      <th>SiglaUF</th>\n",
              "      <th>DsCategoria</th>\n",
              "      <th>DsSubCategoria</th>\n",
              "      <th>CdGrupoProdutoSimilar</th>\n",
              "      <th>DsGrupoProdutoSimilar</th>\n",
              "      <th>DsMarca</th>\n",
              "      <th>DsDivisaoFornecedor</th>\n",
              "      <th>ANO</th>\n",
              "      <th>PrimeiraDataSemana</th>\n",
              "      <th>UltimaDataSemana</th>\n",
              "      <th>SemanaAno</th>\n",
              "      <th>QtdeVendida</th>\n",
              "      <th>VlTotalBruto</th>\n",
              "      <th>VlTotalLiquido</th>\n",
              "      <th>VlReceitaLiquida</th>\n",
              "      <th>Semanas</th>\n",
              "    </tr>\n",
              "  </thead>\n",
              "  <tbody>\n",
              "    <tr>\n",
              "      <th>0</th>\n",
              "      <td>BA</td>\n",
              "      <td>ACESSORIO ELETRICO</td>\n",
              "      <td>CAIXA DE LUZ</td>\n",
              "      <td>4200765</td>\n",
              "      <td>CXA.LUZ EMB.KRONA 4X2 AM.24X1</td>\n",
              "      <td>Krona</td>\n",
              "      <td>KRONA TUBOS E CONEXOES LTDA.</td>\n",
              "      <td>2020</td>\n",
              "      <td>2020-01-05</td>\n",
              "      <td>2020-01-05</td>\n",
              "      <td>18</td>\n",
              "      <td>1</td>\n",
              "      <td>23.25</td>\n",
              "      <td>23.25</td>\n",
              "      <td>21.10</td>\n",
              "      <td>1</td>\n",
              "    </tr>\n",
              "    <tr>\n",
              "      <th>850</th>\n",
              "      <td>BA</td>\n",
              "      <td>SABONETE</td>\n",
              "      <td>SABONETE EM BARRA</td>\n",
              "      <td>205138</td>\n",
              "      <td>SAB.GRANADO 12X90G GLIC.BENJO.</td>\n",
              "      <td>Granado</td>\n",
              "      <td>PONTELAND DISTRIBUICAO SA</td>\n",
              "      <td>2020</td>\n",
              "      <td>2020-01-05</td>\n",
              "      <td>2020-01-05</td>\n",
              "      <td>18</td>\n",
              "      <td>3</td>\n",
              "      <td>129.06</td>\n",
              "      <td>124.92</td>\n",
              "      <td>111.72</td>\n",
              "      <td>1</td>\n",
              "    </tr>\n",
              "    <tr>\n",
              "      <th>849</th>\n",
              "      <td>BA</td>\n",
              "      <td>SABONETE</td>\n",
              "      <td>SABONETE EM BARRA</td>\n",
              "      <td>205137</td>\n",
              "      <td>SAB.GRANADO 12X90G GLIC.AMEND.</td>\n",
              "      <td>Granado</td>\n",
              "      <td>PONTELAND DISTRIBUICAO SA</td>\n",
              "      <td>2020</td>\n",
              "      <td>2020-01-05</td>\n",
              "      <td>2020-01-05</td>\n",
              "      <td>18</td>\n",
              "      <td>3</td>\n",
              "      <td>144.30</td>\n",
              "      <td>139.68</td>\n",
              "      <td>124.92</td>\n",
              "      <td>1</td>\n",
              "    </tr>\n",
              "    <tr>\n",
              "      <th>848</th>\n",
              "      <td>BA</td>\n",
              "      <td>SABONETE</td>\n",
              "      <td>SABONETE EM BARRA</td>\n",
              "      <td>203130</td>\n",
              "      <td>SAB.GRANADO 12X90G GLIC.MEL</td>\n",
              "      <td>Granado</td>\n",
              "      <td>PONTELAND DISTRIBUICAO SA</td>\n",
              "      <td>2020</td>\n",
              "      <td>2020-01-05</td>\n",
              "      <td>2020-01-05</td>\n",
              "      <td>18</td>\n",
              "      <td>3</td>\n",
              "      <td>144.30</td>\n",
              "      <td>139.68</td>\n",
              "      <td>124.92</td>\n",
              "      <td>1</td>\n",
              "    </tr>\n",
              "    <tr>\n",
              "      <th>847</th>\n",
              "      <td>BA</td>\n",
              "      <td>SABONETE</td>\n",
              "      <td>SABONETE EM BARRA</td>\n",
              "      <td>201588</td>\n",
              "      <td>SAB.GRANADO 12X90G GLIC.CALE.</td>\n",
              "      <td>Granado</td>\n",
              "      <td>PONTELAND DISTRIBUICAO SA</td>\n",
              "      <td>2020</td>\n",
              "      <td>2020-01-05</td>\n",
              "      <td>2020-02-05</td>\n",
              "      <td>18</td>\n",
              "      <td>4</td>\n",
              "      <td>164.79</td>\n",
              "      <td>154.57</td>\n",
              "      <td>138.24</td>\n",
              "      <td>1</td>\n",
              "    </tr>\n",
              "  </tbody>\n",
              "</table>\n",
              "</div>"
            ],
            "text/plain": [
              "    SiglaUF         DsCategoria  ... VlReceitaLiquida  Semanas\n",
              "0        BA  ACESSORIO ELETRICO  ...            21.10        1\n",
              "850      BA            SABONETE  ...           111.72        1\n",
              "849      BA            SABONETE  ...           124.92        1\n",
              "848      BA            SABONETE  ...           124.92        1\n",
              "847      BA            SABONETE  ...           138.24        1\n",
              "\n",
              "[5 rows x 16 columns]"
            ]
          },
          "metadata": {
            "tags": []
          },
          "execution_count": 5
        }
      ]
    },
    {
      "cell_type": "markdown",
      "metadata": {
        "id": "TNEeGeFbju0a"
      },
      "source": [
        "### Nº"
      ]
    },
    {
      "cell_type": "code",
      "metadata": {
        "colab": {
          "base_uri": "https://localhost:8080/"
        },
        "id": "N2eUYC3tUBq2",
        "outputId": "2360e18a-bec9-460e-df63-b8bea9ddb5be"
      },
      "source": [
        "df_original.groupby(['DsDivisaoFornecedor'])[['CdGrupoProdutoSimilar']].nunique().mean()"
      ],
      "execution_count": 3,
      "outputs": [
        {
          "output_type": "execute_result",
          "data": {
            "text/plain": [
              "CdGrupoProdutoSimilar    22.804989\n",
              "dtype: float64"
            ]
          },
          "metadata": {
            "tags": []
          },
          "execution_count": 3
        }
      ]
    },
    {
      "cell_type": "markdown",
      "metadata": {
        "id": "8jxmC4ZVknnB"
      },
      "source": [
        "### Selecionando um distribuidor e um produto similar"
      ]
    },
    {
      "cell_type": "code",
      "metadata": {
        "colab": {
          "base_uri": "https://localhost:8080/"
        },
        "id": "3tDS9BqylYC6",
        "outputId": "f1036eb6-2c52-4bde-e7c4-e222c3944f91"
      },
      "source": [
        "dez_mais = df_original.groupby(['DsDivisaoFornecedor'])['QtdeVendida'].sum().sort_values(ascending=False)[:10]\n",
        "dez_mais"
      ],
      "execution_count": 7,
      "outputs": [
        {
          "output_type": "execute_result",
          "data": {
            "text/plain": [
              "DsDivisaoFornecedor\n",
              "COTY COSMETICOS                      5794703\n",
              "ALPARGATAS S/A                       3334742\n",
              "UNILEVER - CORPO                     2409772\n",
              "MONDELEZ BRASIL LTDA                 1874003\n",
              "COLGATE-PALMOLIVE COM.HIG ORAL       1628524\n",
              "CERAS JOHNSON LTDA - LIMPEZA         1236982\n",
              "COLGATE PALMOLIVE COM.HIG PESSOAL    1071088\n",
              "PEPSICO BRASIL LTDA                   973231\n",
              "KIMBERLY CLARK BRASIL IND COM.        873687\n",
              "UNILEVER - CABELO                     838758\n",
              "Name: QtdeVendida, dtype: int64"
            ]
          },
          "metadata": {
            "tags": []
          },
          "execution_count": 7
        }
      ]
    },
    {
      "cell_type": "code",
      "metadata": {
        "id": "z-kAwKzCm0SF"
      },
      "source": [
        "df_reduzido = df_original[(df_original.DsDivisaoFornecedor==dez_mais.index[0]) | \n",
        "            (df_original.DsDivisaoFornecedor==dez_mais.index[1]) |\n",
        "            (df_original.DsDivisaoFornecedor==dez_mais.index[2]) | \n",
        "            (df_original.DsDivisaoFornecedor==dez_mais.index[3]) |\n",
        "            (df_original.DsDivisaoFornecedor==dez_mais.index[4]) | \n",
        "            (df_original.DsDivisaoFornecedor==dez_mais.index[5]) |\n",
        "            (df_original.DsDivisaoFornecedor==dez_mais.index[6]) | \n",
        "            (df_original.DsDivisaoFornecedor==dez_mais.index[7])]"
      ],
      "execution_count": 8,
      "outputs": []
    },
    {
      "cell_type": "code",
      "metadata": {
        "colab": {
          "base_uri": "https://localhost:8080/",
          "height": 331
        },
        "id": "wI02YVBsxPga",
        "outputId": "e617f724-b360-4303-f939-1afc010d8405"
      },
      "source": [
        "dat_aux = pd.DataFrame(df_original.groupby(['DsDivisaoFornecedor'])['CdGrupoProdutoSimilar'].unique())\n",
        "dat_aux = pd.DataFrame(df_reduzido.groupby(['DsDivisaoFornecedor'])['CdGrupoProdutoSimilar'].unique())\n",
        "dat_aux"
      ],
      "execution_count": 9,
      "outputs": [
        {
          "output_type": "execute_result",
          "data": {
            "text/html": [
              "<div>\n",
              "<style scoped>\n",
              "    .dataframe tbody tr th:only-of-type {\n",
              "        vertical-align: middle;\n",
              "    }\n",
              "\n",
              "    .dataframe tbody tr th {\n",
              "        vertical-align: top;\n",
              "    }\n",
              "\n",
              "    .dataframe thead th {\n",
              "        text-align: right;\n",
              "    }\n",
              "</style>\n",
              "<table border=\"1\" class=\"dataframe\">\n",
              "  <thead>\n",
              "    <tr style=\"text-align: right;\">\n",
              "      <th></th>\n",
              "      <th>CdGrupoProdutoSimilar</th>\n",
              "    </tr>\n",
              "    <tr>\n",
              "      <th>DsDivisaoFornecedor</th>\n",
              "      <th></th>\n",
              "    </tr>\n",
              "  </thead>\n",
              "  <tbody>\n",
              "    <tr>\n",
              "      <th>ALPARGATAS S/A</th>\n",
              "      <td>[98813, 399, 1218142, 1218136, 1218134, 121812...</td>\n",
              "    </tr>\n",
              "    <tr>\n",
              "      <th>CERAS JOHNSON LTDA - LIMPEZA</th>\n",
              "      <td>[2100232, 1535, 963, 1700697, 1702263, 97341, ...</td>\n",
              "    </tr>\n",
              "    <tr>\n",
              "      <th>COLGATE PALMOLIVE COM.HIG PESSOAL</th>\n",
              "      <td>[1336, 106, 205024, 476, 98419, 97251, 97954, ...</td>\n",
              "    </tr>\n",
              "    <tr>\n",
              "      <th>COLGATE-PALMOLIVE COM.HIG ORAL</th>\n",
              "      <td>[217820, 203780, 202872, 202863, 202862, 20526...</td>\n",
              "    </tr>\n",
              "    <tr>\n",
              "      <th>COTY COSMETICOS</th>\n",
              "      <td>[773, 98739, 99351, 98744, 1292, 1288, 709, 8,...</td>\n",
              "    </tr>\n",
              "    <tr>\n",
              "      <th>MONDELEZ BRASIL LTDA</th>\n",
              "      <td>[50, 4300370, 4300369, 579, 97198, 4300067, 10...</td>\n",
              "    </tr>\n",
              "    <tr>\n",
              "      <th>PEPSICO BRASIL LTDA</th>\n",
              "      <td>[4301422, 4301423, 1665090, 1614900, 4300201, ...</td>\n",
              "    </tr>\n",
              "    <tr>\n",
              "      <th>UNILEVER - CORPO</th>\n",
              "      <td>[98823, 1011, 97985, 97755, 80059, 10, 1075, 4...</td>\n",
              "    </tr>\n",
              "  </tbody>\n",
              "</table>\n",
              "</div>"
            ],
            "text/plain": [
              "                                                               CdGrupoProdutoSimilar\n",
              "DsDivisaoFornecedor                                                                 \n",
              "ALPARGATAS S/A                     [98813, 399, 1218142, 1218136, 1218134, 121812...\n",
              "CERAS JOHNSON LTDA - LIMPEZA       [2100232, 1535, 963, 1700697, 1702263, 97341, ...\n",
              "COLGATE PALMOLIVE COM.HIG PESSOAL  [1336, 106, 205024, 476, 98419, 97251, 97954, ...\n",
              "COLGATE-PALMOLIVE COM.HIG ORAL     [217820, 203780, 202872, 202863, 202862, 20526...\n",
              "COTY COSMETICOS                    [773, 98739, 99351, 98744, 1292, 1288, 709, 8,...\n",
              "MONDELEZ BRASIL LTDA               [50, 4300370, 4300369, 579, 97198, 4300067, 10...\n",
              "PEPSICO BRASIL LTDA                [4301422, 4301423, 1665090, 1614900, 4300201, ...\n",
              "UNILEVER - CORPO                   [98823, 1011, 97985, 97755, 80059, 10, 1075, 4..."
            ]
          },
          "metadata": {
            "tags": []
          },
          "execution_count": 9
        }
      ]
    },
    {
      "cell_type": "code",
      "metadata": {
        "id": "mB4GnLT7UCSy"
      },
      "source": [
        "filter1 = df_original[\"DsDivisaoFornecedor\"]==dat_aux.indexiloc[0,0]\n",
        "filter2 = df_original['CdGrupoProdutoSimilar']==dat_aux.iloc[0,0][0]\n",
        "df_0 = df_original[filter1 & filter2]\n",
        "df = df_0.groupby(['Semanas'])[['QtdeVendida']].sum()\n",
        "we = pd.DataFrame(list(range(1,65,1)))\n",
        "we.columns=['Semanas']\n",
        "we.index=we.Semanas\n",
        "df = pd.concat([df, we], axis=1)\n",
        "df=df['QtdeVendida']\n",
        "df.index = pd.DataFrame(pd.date_range('2020-01-05', freq='7D', periods=64), columns=['date']).iloc[:,0]\n",
        "df = pd.DataFrame(df).fillna(0)"
      ],
      "execution_count": 6,
      "outputs": []
    },
    {
      "cell_type": "code",
      "metadata": {
        "colab": {
          "base_uri": "https://localhost:8080/",
          "height": 454
        },
        "id": "95BODXZjIlZM",
        "outputId": "889ca773-ed08-408b-d68a-fe9c722bf2ca"
      },
      "source": [
        "df"
      ],
      "execution_count": 7,
      "outputs": [
        {
          "output_type": "execute_result",
          "data": {
            "text/html": [
              "<div>\n",
              "<style scoped>\n",
              "    .dataframe tbody tr th:only-of-type {\n",
              "        vertical-align: middle;\n",
              "    }\n",
              "\n",
              "    .dataframe tbody tr th {\n",
              "        vertical-align: top;\n",
              "    }\n",
              "\n",
              "    .dataframe thead th {\n",
              "        text-align: right;\n",
              "    }\n",
              "</style>\n",
              "<table border=\"1\" class=\"dataframe\">\n",
              "  <thead>\n",
              "    <tr style=\"text-align: right;\">\n",
              "      <th></th>\n",
              "      <th>QtdeVendida</th>\n",
              "    </tr>\n",
              "    <tr>\n",
              "      <th>date</th>\n",
              "      <th></th>\n",
              "    </tr>\n",
              "  </thead>\n",
              "  <tbody>\n",
              "    <tr>\n",
              "      <th>2020-01-05</th>\n",
              "      <td>0.0</td>\n",
              "    </tr>\n",
              "    <tr>\n",
              "      <th>2020-01-12</th>\n",
              "      <td>0.0</td>\n",
              "    </tr>\n",
              "    <tr>\n",
              "      <th>2020-01-19</th>\n",
              "      <td>0.0</td>\n",
              "    </tr>\n",
              "    <tr>\n",
              "      <th>2020-01-26</th>\n",
              "      <td>0.0</td>\n",
              "    </tr>\n",
              "    <tr>\n",
              "      <th>2020-02-02</th>\n",
              "      <td>0.0</td>\n",
              "    </tr>\n",
              "    <tr>\n",
              "      <th>...</th>\n",
              "      <td>...</td>\n",
              "    </tr>\n",
              "    <tr>\n",
              "      <th>2021-02-21</th>\n",
              "      <td>0.0</td>\n",
              "    </tr>\n",
              "    <tr>\n",
              "      <th>2021-02-28</th>\n",
              "      <td>32.0</td>\n",
              "    </tr>\n",
              "    <tr>\n",
              "      <th>2021-03-07</th>\n",
              "      <td>0.0</td>\n",
              "    </tr>\n",
              "    <tr>\n",
              "      <th>2021-03-14</th>\n",
              "      <td>4.0</td>\n",
              "    </tr>\n",
              "    <tr>\n",
              "      <th>2021-03-21</th>\n",
              "      <td>3.0</td>\n",
              "    </tr>\n",
              "  </tbody>\n",
              "</table>\n",
              "<p>64 rows × 1 columns</p>\n",
              "</div>"
            ],
            "text/plain": [
              "            QtdeVendida\n",
              "date                   \n",
              "2020-01-05          0.0\n",
              "2020-01-12          0.0\n",
              "2020-01-19          0.0\n",
              "2020-01-26          0.0\n",
              "2020-02-02          0.0\n",
              "...                 ...\n",
              "2021-02-21          0.0\n",
              "2021-02-28         32.0\n",
              "2021-03-07          0.0\n",
              "2021-03-14          4.0\n",
              "2021-03-21          3.0\n",
              "\n",
              "[64 rows x 1 columns]"
            ]
          },
          "metadata": {
            "tags": []
          },
          "execution_count": 7
        }
      ]
    },
    {
      "cell_type": "code",
      "metadata": {
        "id": "-GLHrd9UStFM"
      },
      "source": [
        "from scipy import stats\n",
        "import numpy as np\n",
        "import pmdarima as pm\n",
        "from sklearn.metrics import mean_absolute_error\n",
        "from croston import croston\n",
        "from prophet import Prophet\n"
      ],
      "execution_count": 10,
      "outputs": []
    },
    {
      "cell_type": "code",
      "metadata": {
        "colab": {
          "base_uri": "https://localhost:8080/",
          "height": 442
        },
        "id": "-chBPFPAQgJ_",
        "outputId": "2f0b30f6-451c-4b88-f676-3043b0b70b4e"
      },
      "source": [
        "filter1 = df_reduzido[\"DsDivisaoFornecedor\"]==dat_aux.index[0]\n",
        "filter2 = df_reduzido['CdGrupoProdutoSimilar']==dat_aux.iloc[0,0][0]\n",
        "df_0 = df_reduzido[filter1 & filter2]\n",
        "df_0"
      ],
      "execution_count": 312,
      "outputs": [
        {
          "output_type": "execute_result",
          "data": {
            "text/html": [
              "<div>\n",
              "<style scoped>\n",
              "    .dataframe tbody tr th:only-of-type {\n",
              "        vertical-align: middle;\n",
              "    }\n",
              "\n",
              "    .dataframe tbody tr th {\n",
              "        vertical-align: top;\n",
              "    }\n",
              "\n",
              "    .dataframe thead th {\n",
              "        text-align: right;\n",
              "    }\n",
              "</style>\n",
              "<table border=\"1\" class=\"dataframe\">\n",
              "  <thead>\n",
              "    <tr style=\"text-align: right;\">\n",
              "      <th></th>\n",
              "      <th>SiglaUF</th>\n",
              "      <th>DsCategoria</th>\n",
              "      <th>DsSubCategoria</th>\n",
              "      <th>CdGrupoProdutoSimilar</th>\n",
              "      <th>DsGrupoProdutoSimilar</th>\n",
              "      <th>DsMarca</th>\n",
              "      <th>DsDivisaoFornecedor</th>\n",
              "      <th>ANO</th>\n",
              "      <th>PrimeiraDataSemana</th>\n",
              "      <th>UltimaDataSemana</th>\n",
              "      <th>SemanaAno</th>\n",
              "      <th>QtdeVendida</th>\n",
              "      <th>VlTotalBruto</th>\n",
              "      <th>VlTotalLiquido</th>\n",
              "      <th>VlReceitaLiquida</th>\n",
              "      <th>Semanas</th>\n",
              "    </tr>\n",
              "  </thead>\n",
              "  <tbody>\n",
              "    <tr>\n",
              "      <th>870</th>\n",
              "      <td>BA</td>\n",
              "      <td>SANDALIA</td>\n",
              "      <td>ALOHA</td>\n",
              "      <td>98813</td>\n",
              "      <td>SAND.HAV.ALOHA</td>\n",
              "      <td>Havaianas</td>\n",
              "      <td>ALPARGATAS S/A</td>\n",
              "      <td>2020</td>\n",
              "      <td>2020-01-05</td>\n",
              "      <td>2020-02-05</td>\n",
              "      <td>18</td>\n",
              "      <td>829</td>\n",
              "      <td>14428.95</td>\n",
              "      <td>13867.85</td>\n",
              "      <td>10286.74</td>\n",
              "      <td>1</td>\n",
              "    </tr>\n",
              "    <tr>\n",
              "      <th>80033</th>\n",
              "      <td>BA</td>\n",
              "      <td>SANDALIA</td>\n",
              "      <td>ALOHA</td>\n",
              "      <td>98813</td>\n",
              "      <td>SAND.HAV.ALOHA</td>\n",
              "      <td>Havaianas</td>\n",
              "      <td>ALPARGATAS S/A</td>\n",
              "      <td>2020</td>\n",
              "      <td>2020-02-11</td>\n",
              "      <td>2020-07-11</td>\n",
              "      <td>45</td>\n",
              "      <td>1439</td>\n",
              "      <td>25779.11</td>\n",
              "      <td>24633.13</td>\n",
              "      <td>18320.28</td>\n",
              "      <td>28</td>\n",
              "    </tr>\n",
              "    <tr>\n",
              "      <th>1980</th>\n",
              "      <td>BA</td>\n",
              "      <td>SANDALIA</td>\n",
              "      <td>ALOHA</td>\n",
              "      <td>98813</td>\n",
              "      <td>SAND.HAV.ALOHA</td>\n",
              "      <td>Havaianas</td>\n",
              "      <td>ALPARGATAS S/A</td>\n",
              "      <td>2020</td>\n",
              "      <td>2020-03-05</td>\n",
              "      <td>2020-09-05</td>\n",
              "      <td>19</td>\n",
              "      <td>3585</td>\n",
              "      <td>62482.92</td>\n",
              "      <td>60201.84</td>\n",
              "      <td>44753.99</td>\n",
              "      <td>2</td>\n",
              "    </tr>\n",
              "    <tr>\n",
              "      <th>43861</th>\n",
              "      <td>BA</td>\n",
              "      <td>SANDALIA</td>\n",
              "      <td>ALOHA</td>\n",
              "      <td>98813</td>\n",
              "      <td>SAND.HAV.ALOHA</td>\n",
              "      <td>Havaianas</td>\n",
              "      <td>ALPARGATAS S/A</td>\n",
              "      <td>2020</td>\n",
              "      <td>2020-03-08</td>\n",
              "      <td>2020-08-08</td>\n",
              "      <td>32</td>\n",
              "      <td>2597</td>\n",
              "      <td>46486.75</td>\n",
              "      <td>44884.31</td>\n",
              "      <td>33336.95</td>\n",
              "      <td>15</td>\n",
              "    </tr>\n",
              "    <tr>\n",
              "      <th>69635</th>\n",
              "      <td>BA</td>\n",
              "      <td>SANDALIA</td>\n",
              "      <td>ALOHA</td>\n",
              "      <td>98813</td>\n",
              "      <td>SAND.HAV.ALOHA</td>\n",
              "      <td>Havaianas</td>\n",
              "      <td>ALPARGATAS S/A</td>\n",
              "      <td>2020</td>\n",
              "      <td>2020-05-10</td>\n",
              "      <td>2020-10-10</td>\n",
              "      <td>41</td>\n",
              "      <td>2307</td>\n",
              "      <td>41751.04</td>\n",
              "      <td>39800.67</td>\n",
              "      <td>29585.28</td>\n",
              "      <td>24</td>\n",
              "    </tr>\n",
              "    <tr>\n",
              "      <th>...</th>\n",
              "      <td>...</td>\n",
              "      <td>...</td>\n",
              "      <td>...</td>\n",
              "      <td>...</td>\n",
              "      <td>...</td>\n",
              "      <td>...</td>\n",
              "      <td>...</td>\n",
              "      <td>...</td>\n",
              "      <td>...</td>\n",
              "      <td>...</td>\n",
              "      <td>...</td>\n",
              "      <td>...</td>\n",
              "      <td>...</td>\n",
              "      <td>...</td>\n",
              "      <td>...</td>\n",
              "      <td>...</td>\n",
              "    </tr>\n",
              "    <tr>\n",
              "      <th>129921</th>\n",
              "      <td>BA</td>\n",
              "      <td>SANDALIA</td>\n",
              "      <td>ALOHA</td>\n",
              "      <td>98813</td>\n",
              "      <td>SAND.HAV.ALOHA</td>\n",
              "      <td>Havaianas</td>\n",
              "      <td>ALPARGATAS S/A</td>\n",
              "      <td>2021</td>\n",
              "      <td>2021-07-03</td>\n",
              "      <td>2021-03-13</td>\n",
              "      <td>11</td>\n",
              "      <td>1325</td>\n",
              "      <td>24558.69</td>\n",
              "      <td>22759.73</td>\n",
              "      <td>16934.36</td>\n",
              "      <td>47</td>\n",
              "    </tr>\n",
              "    <tr>\n",
              "      <th>170131</th>\n",
              "      <td>BA</td>\n",
              "      <td>SANDALIA</td>\n",
              "      <td>ALOHA</td>\n",
              "      <td>98813</td>\n",
              "      <td>SAND.HAV.ALOHA</td>\n",
              "      <td>Havaianas</td>\n",
              "      <td>ALPARGATAS S/A</td>\n",
              "      <td>2021</td>\n",
              "      <td>2021-07-06</td>\n",
              "      <td>2021-12-06</td>\n",
              "      <td>24</td>\n",
              "      <td>8983</td>\n",
              "      <td>174723.63</td>\n",
              "      <td>163779.99</td>\n",
              "      <td>121572.13</td>\n",
              "      <td>60</td>\n",
              "    </tr>\n",
              "    <tr>\n",
              "      <th>158233</th>\n",
              "      <td>BA</td>\n",
              "      <td>SANDALIA</td>\n",
              "      <td>ALOHA</td>\n",
              "      <td>98813</td>\n",
              "      <td>SAND.HAV.ALOHA</td>\n",
              "      <td>Havaianas</td>\n",
              "      <td>ALPARGATAS S/A</td>\n",
              "      <td>2021</td>\n",
              "      <td>2021-10-05</td>\n",
              "      <td>2021-05-15</td>\n",
              "      <td>20</td>\n",
              "      <td>2556</td>\n",
              "      <td>40616.69</td>\n",
              "      <td>37037.38</td>\n",
              "      <td>25463.20</td>\n",
              "      <td>56</td>\n",
              "    </tr>\n",
              "    <tr>\n",
              "      <th>108104</th>\n",
              "      <td>BA</td>\n",
              "      <td>SANDALIA</td>\n",
              "      <td>ALOHA</td>\n",
              "      <td>98813</td>\n",
              "      <td>SAND.HAV.ALOHA</td>\n",
              "      <td>Havaianas</td>\n",
              "      <td>ALPARGATAS S/A</td>\n",
              "      <td>2021</td>\n",
              "      <td>2021-11-01</td>\n",
              "      <td>2021-01-16</td>\n",
              "      <td>3</td>\n",
              "      <td>1437</td>\n",
              "      <td>26146.68</td>\n",
              "      <td>24730.24</td>\n",
              "      <td>18390.01</td>\n",
              "      <td>39</td>\n",
              "    </tr>\n",
              "    <tr>\n",
              "      <th>144710</th>\n",
              "      <td>BA</td>\n",
              "      <td>SANDALIA</td>\n",
              "      <td>ALOHA</td>\n",
              "      <td>98813</td>\n",
              "      <td>SAND.HAV.ALOHA</td>\n",
              "      <td>Havaianas</td>\n",
              "      <td>ALPARGATAS S/A</td>\n",
              "      <td>2021</td>\n",
              "      <td>2021-11-04</td>\n",
              "      <td>2021-04-17</td>\n",
              "      <td>16</td>\n",
              "      <td>3028</td>\n",
              "      <td>55155.13</td>\n",
              "      <td>46695.75</td>\n",
              "      <td>34729.97</td>\n",
              "      <td>52</td>\n",
              "    </tr>\n",
              "  </tbody>\n",
              "</table>\n",
              "<p>64 rows × 16 columns</p>\n",
              "</div>"
            ],
            "text/plain": [
              "       SiglaUF DsCategoria  ... VlReceitaLiquida  Semanas\n",
              "870         BA    SANDALIA  ...         10286.74        1\n",
              "80033       BA    SANDALIA  ...         18320.28       28\n",
              "1980        BA    SANDALIA  ...         44753.99        2\n",
              "43861       BA    SANDALIA  ...         33336.95       15\n",
              "69635       BA    SANDALIA  ...         29585.28       24\n",
              "...        ...         ...  ...              ...      ...\n",
              "129921      BA    SANDALIA  ...         16934.36       47\n",
              "170131      BA    SANDALIA  ...        121572.13       60\n",
              "158233      BA    SANDALIA  ...         25463.20       56\n",
              "108104      BA    SANDALIA  ...         18390.01       39\n",
              "144710      BA    SANDALIA  ...         34729.97       52\n",
              "\n",
              "[64 rows x 16 columns]"
            ]
          },
          "metadata": {
            "tags": []
          },
          "execution_count": 312
        }
      ]
    },
    {
      "cell_type": "code",
      "metadata": {
        "colab": {
          "base_uri": "https://localhost:8080/"
        },
        "id": "NXOAeltGK6S1",
        "outputId": "251b2ee3-414b-4e2e-cacc-2e1f45f631cc"
      },
      "source": [
        "len(dat_aux.iloc[0,0])"
      ],
      "execution_count": 316,
      "outputs": [
        {
          "output_type": "execute_result",
          "data": {
            "text/plain": [
              "946"
            ]
          },
          "metadata": {
            "tags": []
          },
          "execution_count": 316
        }
      ]
    },
    {
      "cell_type": "code",
      "metadata": {
        "id": "ZfhJmTi9UCbm"
      },
      "source": [
        "par={}\n",
        "erro={}\n",
        "par_croston={}\n",
        "erro_croston={}\n",
        "erro_prophet={}\n",
        "\n",
        "\n",
        "\n",
        "for j in range(0, 7):\n",
        "   for i in range(0,len(dat_aux.iloc[j,0])):\n",
        "   # Selecionando os dados para ajustar os modelos\n",
        "      filter1 = df_reduzido[\"DsDivisaoFornecedor\"]==dat_aux.index[j]\n",
        "      filter2 = df_reduzido['CdGrupoProdutoSimilar']==dat_aux.iloc[j,0][i]\n",
        "      df_0 = df_reduzido[filter1 & filter2]\n",
        "      df = df_0.groupby(['Semanas'])[['QtdeVendida']].sum()\n",
        "      we = pd.DataFrame(list(range(1,65,1)))\n",
        "      we.columns=['Semanas']\n",
        "      we.index=we.Semanas\n",
        "      df = pd.concat([df, we], axis=1)\n",
        "      df=df['QtdeVendida']\n",
        "      df.index = pd.DataFrame(pd.date_range('2020-01-05', freq='7D', periods=64), columns=['date']).iloc[:,0]\n",
        "      df = pd.DataFrame(df).fillna(0)\n",
        "\n",
        "      # Substituindo outliers\n",
        "      z = np.abs(stats.zscore(df.QtdeVendida))\n",
        "      median=df.QtdeVendida.median()\n",
        "      df[\"QtdeVendida\"] = np.where(z>3, median, df[\"QtdeVendida\"])\n",
        "\n",
        "      # Sets de treino e teste\n",
        "      train_len = int(df.shape[0] * 0.7)\n",
        "      train_data, test_data = df[:train_len], df[train_len:]\n",
        "\n",
        "      # Ajustando AutoArima\n",
        "      stepwise_fit = pm.auto_arima(train_data, start_p=1, start_q=1, max_p=3, max_q=3, m=12,\n",
        "                             start_P=0, seasonal=True, d=1, D=1, trace=True,\n",
        "                             error_action='ignore',  # don't want to know if an order does not work\n",
        "                             suppress_warnings=True,  # don't want convergence warnings\n",
        "                             stepwise=True)  # set to stepwise\n",
        "   \n",
        "      # Armazenando resultados AutoArima\n",
        "      sentence = [str(dat_aux.index[j]) , str(dat_aux.iloc[j,0][i])]\n",
        "      sentence = '-'.join(sentence)\n",
        "      #aux = stepwise_fit.get_params()\n",
        "      #par[sentence]=aux\n",
        "      #forecasts = stepwise_fit.predict(test_data.shape[0])  # predict N steps into the future\n",
        "      #mmae = mean_absolute_error(test_data, forecasts)\n",
        "      #erro[sentence]=mmae\n",
        "  \n",
        "      # Ajustando modelo Croston\n",
        "      croston_pred = croston.fit_croston(df+0.000001,test_data.shape[0],'original')\n",
        "\n",
        "      # Armazenando resultados Croston\n",
        "      par_croston[sentence]=croston_pred\n",
        "      erro_croston[sentence] = mean_absolute_error(test_data, croston_pred['croston_forecast'])\n",
        "\n",
        "      # O modelo profet só funciona com duas colunas\n",
        "      y = df.reset_index(drop=False)\n",
        "      y.columns = ['ds', 'y']\n",
        "      y['floor'] = 0\n",
        "      y['cap'] = 2000\n",
        "      train = y.iloc[:train_data.shape[0],:]\n",
        "      test = y.iloc[train_data.shape[0]:,:]\n",
        "\n",
        "      #Ajustando modelo Prophet\n",
        "      m = Prophet()\n",
        "      m.fit(train)\n",
        "      future = m.make_future_dataframe(periods=len(test))\n",
        "      future['ds'] = pd.to_datetime(future['ds']).dt.date\n",
        "      forecast = m.predict(future)\n",
        "      erro_prophet[sentence] = mean_absolute_error(list(test['y']),list(forecast.loc[:test_data.shape[0]-1,'yhat'] ))\n",
        "\n",
        "pd.DataFrame.from_dict(erro_prophet,orient='index').to_csv('/content/drive/MyDrive/JOB-Martins/prophet.csv')\n",
        "pd.DataFrame.from_dict(erro_croston,orient='index').to_csv('/content/drive/MyDrive/JOB-Martins/croston.csv')\n",
        "pd.DataFrame.from_dict(erro,orient='index').to_csv('/content/drive/MyDrive/JOB-Martins/arima.csv')"
      ],
      "execution_count": null,
      "outputs": []
    },
    {
      "cell_type": "code",
      "metadata": {
        "id": "TBpizwGEQDwu"
      },
      "source": [
        "pd.DataFrame.from_dict(erro_prophet,orient='index').to_csv('/content/drive/MyDrive/JOB-Martins/prophet.csv')\n"
      ],
      "execution_count": 14,
      "outputs": []
    },
    {
      "cell_type": "code",
      "metadata": {
        "id": "dUgmOot5VWPS"
      },
      "source": [
        "erro_prophet"
      ],
      "execution_count": null,
      "outputs": []
    },
    {
      "cell_type": "code",
      "metadata": {
        "id": "rMZvn0K8QDld"
      },
      "source": [
        "# O modelo profet só funciona com duas colunas\n",
        "y = df.reset_index(drop=False)\n",
        "y.columns = ['ds', 'y']\n",
        "y['floor'] = 0\n",
        "y['cap'] = 2000\n",
        "train = y.iloc[:train_data.shape[0],:]\n",
        "test = y.iloc[train_data.shape[0]:,:]"
      ],
      "execution_count": 215,
      "outputs": []
    },
    {
      "cell_type": "code",
      "metadata": {
        "id": "eUferuM3QDcu"
      },
      "source": [
        "m = Prophet()\n",
        "m.fit(train)\n",
        "future = m.make_future_dataframe(periods=len(test))\n",
        "future['ds'] = pd.to_datetime(future['ds']).dt.date\n",
        "forecast = m.predict(future)\n",
        "mean_absolute_error(list(test['y']),list(forecast.loc[:test_data.shape[0]-1,'yhat'] ))"
      ],
      "execution_count": 227,
      "outputs": []
    },
    {
      "cell_type": "code",
      "metadata": {
        "colab": {
          "base_uri": "https://localhost:8080/"
        },
        "id": "BhY7Zv2HibbG",
        "outputId": "798f2289-52c4-47c5-eba5-568c244c03d9"
      },
      "source": [
        "m.fit(train)\n"
      ],
      "execution_count": 228,
      "outputs": [
        {
          "output_type": "stream",
          "text": [
            "INFO:prophet:Disabling yearly seasonality. Run prophet with yearly_seasonality=True to override this.\n",
            "INFO:prophet:Disabling weekly seasonality. Run prophet with weekly_seasonality=True to override this.\n",
            "INFO:prophet:Disabling daily seasonality. Run prophet with daily_seasonality=True to override this.\n"
          ],
          "name": "stderr"
        },
        {
          "output_type": "execute_result",
          "data": {
            "text/plain": [
              "<prophet.forecaster.Prophet at 0x7faff8f5a1d0>"
            ]
          },
          "metadata": {
            "tags": []
          },
          "execution_count": 228
        }
      ]
    },
    {
      "cell_type": "code",
      "metadata": {
        "colab": {
          "base_uri": "https://localhost:8080/"
        },
        "id": "N3u4YaJ9jicL",
        "outputId": "2d817bc7-651b-4baf-eef0-0ae1930b5fcb"
      },
      "source": [
        "future = m.make_future_dataframe(periods=len(test))\n",
        "future['ds'] = pd.to_datetime(future['ds']).dt.date\n",
        "forecast = m.predict(future)\n",
        "mean_absolute_error(list(test['y']),list(forecast.loc[:test_data.shape[0]-1,'yhat'] ))"
      ],
      "execution_count": 233,
      "outputs": [
        {
          "output_type": "execute_result",
          "data": {
            "text/plain": [
              "1.9036096749922158"
            ]
          },
          "metadata": {
            "tags": []
          },
          "execution_count": 233
        }
      ]
    },
    {
      "cell_type": "markdown",
      "metadata": {
        "id": "WY_TMT0HzjVJ"
      },
      "source": [
        "### Instalando algumas Biblioecas"
      ]
    },
    {
      "cell_type": "code",
      "metadata": {
        "id": "NEYuIaLLYQc4"
      },
      "source": [
        "# Precisamos instalar algumas Bibliotecas\n",
        "!pip install utils\n",
        "!pip install pmdarima # para autoARIMA\n",
        "!pip install pyEDM # Para Empirical Dynamic Modeling\n",
        "!pip install croston\n",
        "!pip install gluonts # PAra DeepAR\n",
        "!pip install mxnet # PAra Deep AR"
      ],
      "execution_count": null,
      "outputs": []
    },
    {
      "cell_type": "markdown",
      "metadata": {
        "id": "O6aSg-vP-2K6"
      },
      "source": [
        "### Ralace Outliers with median"
      ]
    },
    {
      "cell_type": "code",
      "metadata": {
        "colab": {
          "base_uri": "https://localhost:8080/",
          "height": 454
        },
        "id": "oJo5oHPfMpEA",
        "outputId": "69c48190-ff8f-4812-f049-7b89dadcd2b1"
      },
      "source": [
        "df"
      ],
      "execution_count": null,
      "outputs": [
        {
          "output_type": "execute_result",
          "data": {
            "text/html": [
              "<div>\n",
              "<style scoped>\n",
              "    .dataframe tbody tr th:only-of-type {\n",
              "        vertical-align: middle;\n",
              "    }\n",
              "\n",
              "    .dataframe tbody tr th {\n",
              "        vertical-align: top;\n",
              "    }\n",
              "\n",
              "    .dataframe thead th {\n",
              "        text-align: right;\n",
              "    }\n",
              "</style>\n",
              "<table border=\"1\" class=\"dataframe\">\n",
              "  <thead>\n",
              "    <tr style=\"text-align: right;\">\n",
              "      <th></th>\n",
              "      <th>QtdeVendida</th>\n",
              "    </tr>\n",
              "    <tr>\n",
              "      <th>date</th>\n",
              "      <th></th>\n",
              "    </tr>\n",
              "  </thead>\n",
              "  <tbody>\n",
              "    <tr>\n",
              "      <th>2020-01-05</th>\n",
              "      <td>0.0</td>\n",
              "    </tr>\n",
              "    <tr>\n",
              "      <th>2020-01-12</th>\n",
              "      <td>0.0</td>\n",
              "    </tr>\n",
              "    <tr>\n",
              "      <th>2020-01-19</th>\n",
              "      <td>0.0</td>\n",
              "    </tr>\n",
              "    <tr>\n",
              "      <th>2020-01-26</th>\n",
              "      <td>0.0</td>\n",
              "    </tr>\n",
              "    <tr>\n",
              "      <th>2020-02-02</th>\n",
              "      <td>0.0</td>\n",
              "    </tr>\n",
              "    <tr>\n",
              "      <th>...</th>\n",
              "      <td>...</td>\n",
              "    </tr>\n",
              "    <tr>\n",
              "      <th>2021-02-21</th>\n",
              "      <td>0.0</td>\n",
              "    </tr>\n",
              "    <tr>\n",
              "      <th>2021-02-28</th>\n",
              "      <td>32.0</td>\n",
              "    </tr>\n",
              "    <tr>\n",
              "      <th>2021-03-07</th>\n",
              "      <td>0.0</td>\n",
              "    </tr>\n",
              "    <tr>\n",
              "      <th>2021-03-14</th>\n",
              "      <td>4.0</td>\n",
              "    </tr>\n",
              "    <tr>\n",
              "      <th>2021-03-21</th>\n",
              "      <td>3.0</td>\n",
              "    </tr>\n",
              "  </tbody>\n",
              "</table>\n",
              "<p>64 rows × 1 columns</p>\n",
              "</div>"
            ],
            "text/plain": [
              "            QtdeVendida\n",
              "date                   \n",
              "2020-01-05          0.0\n",
              "2020-01-12          0.0\n",
              "2020-01-19          0.0\n",
              "2020-01-26          0.0\n",
              "2020-02-02          0.0\n",
              "...                 ...\n",
              "2021-02-21          0.0\n",
              "2021-02-28         32.0\n",
              "2021-03-07          0.0\n",
              "2021-03-14          4.0\n",
              "2021-03-21          3.0\n",
              "\n",
              "[64 rows x 1 columns]"
            ]
          },
          "metadata": {
            "tags": []
          },
          "execution_count": 9
        }
      ]
    },
    {
      "cell_type": "code",
      "metadata": {
        "colab": {
          "base_uri": "https://localhost:8080/"
        },
        "id": "h4N7_ZJm84nm",
        "outputId": "3d5d2da3-fa1d-47fb-f0c5-52da560814cc"
      },
      "source": [
        "from scipy import stats\n",
        "import numpy as np\n",
        "z = np.abs(stats.zscore(df.QtdeVendida))\n",
        "#threshold = 3\n",
        "print(np.where(z > 3))\n",
        "median=df.QtdeVendida.median()\n",
        "df[\"QtdeVendida\"] = np.where(z>3, median, df[\"QtdeVendida\"])\n"
      ],
      "execution_count": 9,
      "outputs": [
        {
          "output_type": "stream",
          "text": [
            "(array([60]),)\n"
          ],
          "name": "stdout"
        }
      ]
    },
    {
      "cell_type": "code",
      "metadata": {
        "colab": {
          "base_uri": "https://localhost:8080/",
          "height": 171
        },
        "id": "Kv57-HTbYQyk",
        "outputId": "553735c6-e2f1-4339-ad07-704cd879bda9"
      },
      "source": [
        "# Figura Geral\n",
        "from matplotlib.pyplot import figure\n",
        "from matplotlib import pyplot as plt\n",
        "\n",
        "figure(figsize=(14, 2), dpi=80)\n",
        "plt.plot(df)\n",
        "plt.show()"
      ],
      "execution_count": 10,
      "outputs": [
        {
          "output_type": "display_data",
          "data": {
            "image/png": "[encoded data removed]",
            "text/plain": [
              "<Figure size 1120x160 with 1 Axes>"
            ]
          },
          "metadata": {
            "tags": [],
            "needs_background": "light"
          }
        }
      ]
    },
    {
      "cell_type": "markdown",
      "metadata": {
        "id": "tlq8o5uR5D_f"
      },
      "source": [
        "### Separando Treino e Teste"
      ]
    },
    {
      "cell_type": "code",
      "metadata": {
        "colab": {
          "base_uri": "https://localhost:8080/"
        },
        "id": "6lfg-RKUYQ2k",
        "outputId": "db9e04eb-ed59-4c50-d552-2503d371fe2b"
      },
      "source": [
        "train_len = int(df.shape[0] * 0.7)\n",
        "train_data, test_data = df[:train_len], df[train_len:]\n",
        "print(f\"{train_len} train samples\")\n",
        "print(f\"{df.shape[0] - train_len} test samples\")"
      ],
      "execution_count": 11,
      "outputs": [
        {
          "output_type": "stream",
          "text": [
            "44 train samples\n",
            "20 test samples\n"
          ],
          "name": "stdout"
        }
      ]
    },
    {
      "cell_type": "code",
      "metadata": {
        "id": "RP-z6bUaVaNp"
      },
      "source": [
        "#stepwise_fit.summary()\n",
        "par = stepwise_fit.get_params()\n",
        "par = pd.DataFrame.from_dict(par,orient='index')\n",
        "par.columns = [dat_aux.iloc[0,0][0]]\n",
        "par.insert(1, dat_aux.iloc[0,0][1], par)"
      ],
      "execution_count": 77,
      "outputs": []
    },
    {
      "cell_type": "code",
      "metadata": {
        "id": "FWN5_0s8aa0H"
      },
      "source": [
        ""
      ],
      "execution_count": 78,
      "outputs": []
    },
    {
      "cell_type": "code",
      "metadata": {
        "colab": {
          "base_uri": "https://localhost:8080/",
          "height": 393
        },
        "id": "HteQCJLiZiLQ",
        "outputId": "72a5a3c8-a11c-43cf-8f46-401b0549617e"
      },
      "source": [
        ""
      ],
      "execution_count": 79,
      "outputs": [
        {
          "output_type": "execute_result",
          "data": {
            "text/html": [
              "<div>\n",
              "<style scoped>\n",
              "    .dataframe tbody tr th:only-of-type {\n",
              "        vertical-align: middle;\n",
              "    }\n",
              "\n",
              "    .dataframe tbody tr th {\n",
              "        vertical-align: top;\n",
              "    }\n",
              "\n",
              "    .dataframe thead th {\n",
              "        text-align: right;\n",
              "    }\n",
              "</style>\n",
              "<table border=\"1\" class=\"dataframe\">\n",
              "  <thead>\n",
              "    <tr style=\"text-align: right;\">\n",
              "      <th></th>\n",
              "      <th>805</th>\n",
              "      <th>97145</th>\n",
              "    </tr>\n",
              "  </thead>\n",
              "  <tbody>\n",
              "    <tr>\n",
              "      <th>maxiter</th>\n",
              "      <td>50</td>\n",
              "      <td>50</td>\n",
              "    </tr>\n",
              "    <tr>\n",
              "      <th>method</th>\n",
              "      <td>lbfgs</td>\n",
              "      <td>lbfgs</td>\n",
              "    </tr>\n",
              "    <tr>\n",
              "      <th>order</th>\n",
              "      <td>(1, 1, 1)</td>\n",
              "      <td>(1, 1, 1)</td>\n",
              "    </tr>\n",
              "    <tr>\n",
              "      <th>out_of_sample_size</th>\n",
              "      <td>0</td>\n",
              "      <td>0</td>\n",
              "    </tr>\n",
              "    <tr>\n",
              "      <th>scoring</th>\n",
              "      <td>mse</td>\n",
              "      <td>mse</td>\n",
              "    </tr>\n",
              "    <tr>\n",
              "      <th>scoring_args</th>\n",
              "      <td>{}</td>\n",
              "      <td>{}</td>\n",
              "    </tr>\n",
              "    <tr>\n",
              "      <th>seasonal_order</th>\n",
              "      <td>(2, 1, 1, 12)</td>\n",
              "      <td>(2, 1, 1, 12)</td>\n",
              "    </tr>\n",
              "    <tr>\n",
              "      <th>start_params</th>\n",
              "      <td>None</td>\n",
              "      <td>None</td>\n",
              "    </tr>\n",
              "    <tr>\n",
              "      <th>suppress_warnings</th>\n",
              "      <td>True</td>\n",
              "      <td>True</td>\n",
              "    </tr>\n",
              "    <tr>\n",
              "      <th>trend</th>\n",
              "      <td>None</td>\n",
              "      <td>None</td>\n",
              "    </tr>\n",
              "    <tr>\n",
              "      <th>with_intercept</th>\n",
              "      <td>False</td>\n",
              "      <td>False</td>\n",
              "    </tr>\n",
              "  </tbody>\n",
              "</table>\n",
              "</div>"
            ],
            "text/plain": [
              "                            805            97145\n",
              "maxiter                        50             50\n",
              "method                      lbfgs          lbfgs\n",
              "order                   (1, 1, 1)      (1, 1, 1)\n",
              "out_of_sample_size              0              0\n",
              "scoring                       mse            mse\n",
              "scoring_args                   {}             {}\n",
              "seasonal_order      (2, 1, 1, 12)  (2, 1, 1, 12)\n",
              "start_params                 None           None\n",
              "suppress_warnings            True           True\n",
              "trend                        None           None\n",
              "with_intercept              False          False"
            ]
          },
          "metadata": {
            "tags": []
          },
          "execution_count": 79
        }
      ]
    },
    {
      "cell_type": "code",
      "metadata": {
        "id": "KL7G8hA8f65Q"
      },
      "source": [
        ""
      ],
      "execution_count": null,
      "outputs": []
    },
    {
      "cell_type": "code",
      "metadata": {
        "colab": {
          "base_uri": "https://localhost:8080/"
        },
        "id": "TJp3VlcTYQ5y",
        "outputId": "94ef07a9-5285-49f0-d536-a1da5f184cc2"
      },
      "source": [
        "import pmdarima as pm\n",
        "#fitting a stepwise model:\n",
        "stepwise_fit = pm.auto_arima(train_data, start_p=1, start_q=1, max_p=3, max_q=3, m=12,\n",
        "                             start_P=0, seasonal=True, d=1, D=1, trace=True,\n",
        "                             error_action='ignore',  # don't want to know if an order does not work\n",
        "                             suppress_warnings=True,  # don't want convergence warnings\n",
        "                             stepwise=True)  # set to stepwise"
      ],
      "execution_count": 12,
      "outputs": [
        {
          "output_type": "stream",
          "text": [
            "Performing stepwise search to minimize aic\n",
            " ARIMA(1,1,1)(0,1,1)[12]             : AIC=inf, Time=0.46 sec\n",
            " ARIMA(0,1,0)(0,1,0)[12]             : AIC=140.066, Time=0.03 sec\n",
            " ARIMA(1,1,0)(1,1,0)[12]             : AIC=117.245, Time=0.12 sec\n",
            " ARIMA(0,1,1)(0,1,1)[12]             : AIC=inf, Time=0.39 sec\n",
            " ARIMA(1,1,0)(0,1,0)[12]             : AIC=120.299, Time=0.03 sec\n",
            " ARIMA(1,1,0)(2,1,0)[12]             : AIC=inf, Time=0.42 sec\n",
            " ARIMA(1,1,0)(1,1,1)[12]             : AIC=inf, Time=0.39 sec\n",
            " ARIMA(1,1,0)(0,1,1)[12]             : AIC=inf, Time=0.27 sec\n",
            " ARIMA(1,1,0)(2,1,1)[12]             : AIC=108.716, Time=0.53 sec\n",
            " ARIMA(1,1,0)(2,1,2)[12]             : AIC=inf, Time=0.72 sec\n",
            " ARIMA(1,1,0)(1,1,2)[12]             : AIC=inf, Time=0.75 sec\n",
            " ARIMA(0,1,0)(2,1,1)[12]             : AIC=inf, Time=0.53 sec\n",
            " ARIMA(2,1,0)(2,1,1)[12]             : AIC=106.664, Time=0.62 sec\n",
            " ARIMA(2,1,0)(1,1,1)[12]             : AIC=inf, Time=0.49 sec\n",
            " ARIMA(2,1,0)(2,1,0)[12]             : AIC=inf, Time=0.51 sec\n",
            " ARIMA(2,1,0)(2,1,2)[12]             : AIC=inf, Time=0.71 sec\n",
            " ARIMA(2,1,0)(1,1,0)[12]             : AIC=115.446, Time=0.12 sec\n",
            " ARIMA(2,1,0)(1,1,2)[12]             : AIC=inf, Time=1.61 sec\n",
            " ARIMA(3,1,0)(2,1,1)[12]             : AIC=107.507, Time=0.92 sec\n",
            " ARIMA(2,1,1)(2,1,1)[12]             : AIC=inf, Time=1.65 sec\n",
            " ARIMA(1,1,1)(2,1,1)[12]             : AIC=102.306, Time=1.49 sec\n",
            " ARIMA(1,1,1)(1,1,1)[12]             : AIC=inf, Time=0.54 sec\n",
            " ARIMA(1,1,1)(2,1,0)[12]             : AIC=inf, Time=1.06 sec\n",
            " ARIMA(1,1,1)(2,1,2)[12]             : AIC=inf, Time=1.97 sec\n",
            " ARIMA(1,1,1)(1,1,0)[12]             : AIC=112.896, Time=0.16 sec\n",
            " ARIMA(1,1,1)(1,1,2)[12]             : AIC=inf, Time=1.61 sec\n",
            " ARIMA(0,1,1)(2,1,1)[12]             : AIC=inf, Time=1.28 sec\n",
            " ARIMA(1,1,2)(2,1,1)[12]             : AIC=inf, Time=1.73 sec\n",
            " ARIMA(0,1,2)(2,1,1)[12]             : AIC=inf, Time=1.60 sec\n",
            " ARIMA(2,1,2)(2,1,1)[12]             : AIC=inf, Time=2.16 sec\n",
            " ARIMA(1,1,1)(2,1,1)[12] intercept   : AIC=inf, Time=1.57 sec\n",
            "\n",
            "Best model:  ARIMA(1,1,1)(2,1,1)[12]          \n",
            "Total fit time: 26.476 seconds\n"
          ],
          "name": "stdout"
        }
      ]
    },
    {
      "cell_type": "code",
      "metadata": {
        "colab": {
          "base_uri": "https://localhost:8080/",
          "height": 229
        },
        "id": "he8X4qjXYRBq",
        "outputId": "371a22de-8951-43bb-f529-005caaf068f9"
      },
      "source": [
        "from sklearn.metrics import mean_absolute_error\n",
        "# make your forecasts to test data\n",
        "forecasts = stepwise_fit.predict(test_data.shape[0])  # predict N steps into the future\n",
        "\n",
        "x = np.arange(df.shape[0])\n",
        "plt.figure(figsize=(17,3))\n",
        "plt.plot(x[:train_data.shape[0]], train_data, c='blue')\n",
        "plt.plot(x[train_data.shape[0]:], forecasts, c='green')\n",
        "plt.plot(x[train_data.shape[0]:], test_data, c='lightblue')\n",
        "plt.show()\n",
        "print(mean_absolute_error(test_data, forecasts))"
      ],
      "execution_count": null,
      "outputs": [
        {
          "output_type": "display_data",
          "data": {
            "image/png": "[encoded data removed]",
            "text/plain": [
              "<Figure size 1224x216 with 1 Axes>"
            ]
          },
          "metadata": {
            "tags": [],
            "needs_background": "light"
          }
        },
        {
          "output_type": "stream",
          "text": [
            "0.9413967601176487\n"
          ],
          "name": "stdout"
        }
      ]
    },
    {
      "cell_type": "markdown",
      "metadata": {
        "id": "RgBk0PZwAO-E"
      },
      "source": [
        "### Modelo Croston"
      ]
    },
    {
      "cell_type": "code",
      "metadata": {
        "id": "0aRN6X3RYRGK"
      },
      "source": [
        "from croston import croston"
      ],
      "execution_count": null,
      "outputs": []
    },
    {
      "cell_type": "code",
      "metadata": {
        "colab": {
          "base_uri": "https://localhost:8080/",
          "height": 229
        },
        "id": "QoPUF2t_YRK5",
        "outputId": "5383aa7a-cc48-4333-bc91-69cdfcd84cee"
      },
      "source": [
        "fit_pred = croston.fit_croston(df,test_data.shape[0],'original')\n",
        "\n",
        "x = np.arange(df.shape[0])\n",
        "plt.figure(figsize=(17,3))\n",
        "plt.plot(x[:train_data.shape[0]], train_data, c='blue')\n",
        "plt.plot(x[train_data.shape[0]:], fit_pred['croston_forecast'], c='green')\n",
        "plt.plot(x[train_data.shape[0]:], test_data, c='lightblue')\n",
        "plt.show()\n",
        "print(mean_absolute_error(test_data, fit_pred['croston_forecast']))"
      ],
      "execution_count": null,
      "outputs": [
        {
          "output_type": "display_data",
          "data": {
            "image/png": "[encoded data removed]",
            "text/plain": [
              "<Figure size 1224x216 with 1 Axes>"
            ]
          },
          "metadata": {
            "tags": [],
            "needs_background": "light"
          }
        },
        {
          "output_type": "stream",
          "text": [
            "0.9989402050266951\n"
          ],
          "name": "stdout"
        }
      ]
    },
    {
      "cell_type": "markdown",
      "metadata": {
        "id": "4kFy0ZevCCIe"
      },
      "source": [
        "### Modelo Prophet"
      ]
    },
    {
      "cell_type": "code",
      "metadata": {
        "colab": {
          "base_uri": "https://localhost:8080/",
          "height": 454
        },
        "id": "4oS7XQ43Ox29",
        "outputId": "aea7924a-6e90-4122-9c6e-28d55799fce3"
      },
      "source": [
        "df"
      ],
      "execution_count": null,
      "outputs": [
        {
          "output_type": "execute_result",
          "data": {
            "text/html": [
              "<div>\n",
              "<style scoped>\n",
              "    .dataframe tbody tr th:only-of-type {\n",
              "        vertical-align: middle;\n",
              "    }\n",
              "\n",
              "    .dataframe tbody tr th {\n",
              "        vertical-align: top;\n",
              "    }\n",
              "\n",
              "    .dataframe thead th {\n",
              "        text-align: right;\n",
              "    }\n",
              "</style>\n",
              "<table border=\"1\" class=\"dataframe\">\n",
              "  <thead>\n",
              "    <tr style=\"text-align: right;\">\n",
              "      <th></th>\n",
              "      <th>QtdeVendida</th>\n",
              "    </tr>\n",
              "    <tr>\n",
              "      <th>date</th>\n",
              "      <th></th>\n",
              "    </tr>\n",
              "  </thead>\n",
              "  <tbody>\n",
              "    <tr>\n",
              "      <th>2020-01-05</th>\n",
              "      <td>0.0</td>\n",
              "    </tr>\n",
              "    <tr>\n",
              "      <th>2020-01-12</th>\n",
              "      <td>0.0</td>\n",
              "    </tr>\n",
              "    <tr>\n",
              "      <th>2020-01-19</th>\n",
              "      <td>0.0</td>\n",
              "    </tr>\n",
              "    <tr>\n",
              "      <th>2020-01-26</th>\n",
              "      <td>0.0</td>\n",
              "    </tr>\n",
              "    <tr>\n",
              "      <th>2020-02-02</th>\n",
              "      <td>0.0</td>\n",
              "    </tr>\n",
              "    <tr>\n",
              "      <th>...</th>\n",
              "      <td>...</td>\n",
              "    </tr>\n",
              "    <tr>\n",
              "      <th>2021-02-21</th>\n",
              "      <td>0.0</td>\n",
              "    </tr>\n",
              "    <tr>\n",
              "      <th>2021-02-28</th>\n",
              "      <td>0.0</td>\n",
              "    </tr>\n",
              "    <tr>\n",
              "      <th>2021-03-07</th>\n",
              "      <td>0.0</td>\n",
              "    </tr>\n",
              "    <tr>\n",
              "      <th>2021-03-14</th>\n",
              "      <td>4.0</td>\n",
              "    </tr>\n",
              "    <tr>\n",
              "      <th>2021-03-21</th>\n",
              "      <td>3.0</td>\n",
              "    </tr>\n",
              "  </tbody>\n",
              "</table>\n",
              "<p>64 rows × 1 columns</p>\n",
              "</div>"
            ],
            "text/plain": [
              "            QtdeVendida\n",
              "date                   \n",
              "2020-01-05          0.0\n",
              "2020-01-12          0.0\n",
              "2020-01-19          0.0\n",
              "2020-01-26          0.0\n",
              "2020-02-02          0.0\n",
              "...                 ...\n",
              "2021-02-21          0.0\n",
              "2021-02-28          0.0\n",
              "2021-03-07          0.0\n",
              "2021-03-14          4.0\n",
              "2021-03-21          3.0\n",
              "\n",
              "[64 rows x 1 columns]"
            ]
          },
          "metadata": {
            "tags": []
          },
          "execution_count": 17
        }
      ]
    },
    {
      "cell_type": "code",
      "metadata": {
        "id": "XQqEBTJnYRPh"
      },
      "source": [
        "# O modelo profet só funciona com duas colunas\n",
        "y = df.reset_index(drop=False)\n",
        "y.columns = ['ds', 'y']\n",
        "y['floor'] = 0\n",
        "y['cap'] = 2000\n",
        "train = y.iloc[:train_data.shape[0],:]\n",
        "test = y.iloc[train_data.shape[0]:,:]"
      ],
      "execution_count": null,
      "outputs": []
    },
    {
      "cell_type": "code",
      "metadata": {
        "id": "c0jdX4ZpYRTE"
      },
      "source": [
        "# Função para o grid search\n",
        "def model_test(holidays, weekly_seasonality,yearly_seasonality, add_monthly, add_reserve, changepoint_prior_scale, holidays_prior_scale, month_fourier):\n",
        "    m = Prophet(\n",
        "            yearly_seasonality=yearly_seasonality,\n",
        "            weekly_seasonality=weekly_seasonality,\n",
        "            holidays=holidays,\n",
        "            changepoint_prior_scale=changepoint_prior_scale,\n",
        "            holidays_prior_scale=holidays_prior_scale)\n",
        "    if add_monthly:\n",
        "        m.add_seasonality(\n",
        "            name='monthly',\n",
        "            period=7,\n",
        "            fourier_order=month_fourier)\n",
        "    if add_reserve:\n",
        "        m.add_regressor('reserve_visitors')\n",
        "    m.fit(train)\n",
        "    future = m.make_future_dataframe(periods=len(test))\n",
        "    future['ds'] = pd.to_datetime(future['ds']).dt.date\n",
        "    if add_reserve:\n",
        "        future = future.merge(\n",
        "            X_reservations,\n",
        "            left_on = 'ds',\n",
        "            right_on = 'visit_date',\n",
        "            how = 'left')\n",
        "        future = future[['ds', 'reserve_visitors']]\n",
        "        future = future.fillna(0)\n",
        "    forecast = m.predict(future)\n",
        "\n",
        "    return mean_absolute_error(list(test['y']),list(forecast.loc[:test_data.shape[0]-1,'yhat'] ))"
      ],
      "execution_count": null,
      "outputs": []
    },
    {
      "cell_type": "code",
      "metadata": {
        "id": "ASAo7SZODPfU"
      },
      "source": [
        "# Setting the grid\n",
        "growth = ['logistic']\n",
        "holidays_opt = [None]\n",
        "weekly_seas = [\"auto\"]\n",
        "yearly_seas = [\"auto\"]\n",
        "add_monthly = [False]\n",
        "add_reserve = [False]\n",
        "changepoint_prior_scale = [ 0.3, 0.5]\n",
        "holidays_prior_scale = [0.3, 0.5]\n",
        "month_fourier = [10]"
      ],
      "execution_count": null,
      "outputs": []
    },
    {
      "cell_type": "code",
      "metadata": {
        "colab": {
          "base_uri": "https://localhost:8080/"
        },
        "id": "ZBqMptIuEiFg",
        "outputId": "5e0f23e3-365f-4233-fb41-a2a0094aaaab"
      },
      "source": [
        "# Looping through the grid\n",
        "from fbprophet import Prophet\n",
        "from sklearn.metrics import r2_score\n",
        "grid_results = []\n",
        "\n",
        "for h in holidays_opt:\n",
        "  for w in weekly_seas:\n",
        "    for ys in yearly_seas:\n",
        "      for m in add_monthly:\n",
        "        for r in add_reserve:\n",
        "          for c in changepoint_prior_scale:\n",
        "            for hp in holidays_prior_scale:\n",
        "              for mf in month_fourier:\n",
        "                r2=model_test(h,w,ys,m,r,c,hp,mf)\n",
        "                print([h,w,ys,m,r,c,hp,mf,r2])\n",
        "                grid_results.append([h,w,ys,m,r,c,hp,mf,r2])\n",
        "# adding it all to a dataframe and extract the best model\n",
        "benchmark = pd.DataFrame(grid_results)\n",
        "benchmark = benchmark.sort_values(8, ascending=False)\n",
        "h, w,ys, m, r, c,hp,mf,r2 = list(benchmark.iloc[0,:])"
      ],
      "execution_count": null,
      "outputs": [
        {
          "output_type": "stream",
          "text": [
            "INFO:fbprophet:Disabling yearly seasonality. Run prophet with yearly_seasonality=True to override this.\n",
            "INFO:fbprophet:Disabling weekly seasonality. Run prophet with weekly_seasonality=True to override this.\n",
            "INFO:fbprophet:Disabling daily seasonality. Run prophet with daily_seasonality=True to override this.\n",
            "INFO:fbprophet:Disabling yearly seasonality. Run prophet with yearly_seasonality=True to override this.\n",
            "INFO:fbprophet:Disabling weekly seasonality. Run prophet with weekly_seasonality=True to override this.\n",
            "INFO:fbprophet:Disabling daily seasonality. Run prophet with daily_seasonality=True to override this.\n"
          ],
          "name": "stderr"
        },
        {
          "output_type": "stream",
          "text": [
            "[None, 'auto', 'auto', False, False, 0.3, 0.3, 10, 0.9280640532677952]\n"
          ],
          "name": "stdout"
        },
        {
          "output_type": "stream",
          "text": [
            "INFO:fbprophet:Disabling yearly seasonality. Run prophet with yearly_seasonality=True to override this.\n",
            "INFO:fbprophet:Disabling weekly seasonality. Run prophet with weekly_seasonality=True to override this.\n",
            "INFO:fbprophet:Disabling daily seasonality. Run prophet with daily_seasonality=True to override this.\n"
          ],
          "name": "stderr"
        },
        {
          "output_type": "stream",
          "text": [
            "[None, 'auto', 'auto', False, False, 0.3, 0.5, 10, 0.9280640532677952]\n"
          ],
          "name": "stdout"
        },
        {
          "output_type": "stream",
          "text": [
            "INFO:fbprophet:Disabling yearly seasonality. Run prophet with yearly_seasonality=True to override this.\n",
            "INFO:fbprophet:Disabling weekly seasonality. Run prophet with weekly_seasonality=True to override this.\n",
            "INFO:fbprophet:Disabling daily seasonality. Run prophet with daily_seasonality=True to override this.\n"
          ],
          "name": "stderr"
        },
        {
          "output_type": "stream",
          "text": [
            "[None, 'auto', 'auto', False, False, 0.5, 0.3, 10, 0.926632490406585]\n",
            "[None, 'auto', 'auto', False, False, 0.5, 0.5, 10, 0.926632490406585]\n"
          ],
          "name": "stdout"
        }
      ]
    },
    {
      "cell_type": "code",
      "metadata": {
        "id": "EIgXp-odkRC0",
        "colab": {
          "base_uri": "https://localhost:8080/"
        },
        "outputId": "3ea5e9ce-e31d-41fa-8d8d-c78e6c859191"
      },
      "source": [
        "m = Prophet(\n",
        "            yearly_seasonality=ys,\n",
        "            weekly_seasonality=w,\n",
        "            holidays=h,\n",
        "            changepoint_prior_scale=c,\n",
        "            holidays_prior_scale=hp)\n",
        "if m:\n",
        "    m.add_seasonality(\n",
        "            name='monthly',\n",
        "            period=7,\n",
        "            fourier_order=mf)\n",
        "if r:\n",
        "    m.add_regressor('reserve_visitors')\n",
        "m.fit(train)\n",
        "future = m.make_future_dataframe(periods=len(test))\n",
        "future['ds'] = pd.to_datetime(future['ds']).dt.date\n",
        "if r:\n",
        "    future = future.merge(\n",
        "            X_reservations,\n",
        "            left_on = 'ds',\n",
        "            right_on = 'visit_date',\n",
        "            how = 'left')\n",
        "    future = future[['ds', 'reserve_visitors']]\n",
        "    future = future.fillna(0)\n",
        "forecast = m.predict(future)"
      ],
      "execution_count": null,
      "outputs": [
        {
          "output_type": "stream",
          "text": [
            "INFO:fbprophet:Disabling yearly seasonality. Run prophet with yearly_seasonality=True to override this.\n",
            "INFO:fbprophet:Disabling weekly seasonality. Run prophet with weekly_seasonality=True to override this.\n",
            "INFO:fbprophet:Disabling daily seasonality. Run prophet with daily_seasonality=True to override this.\n"
          ],
          "name": "stderr"
        }
      ]
    },
    {
      "cell_type": "code",
      "metadata": {
        "colab": {
          "base_uri": "https://localhost:8080/",
          "height": 707
        },
        "id": "JgcBvsNUMj2e",
        "outputId": "e93ead59-2aa4-4e86-dcf3-a9a6302eb3ee"
      },
      "source": [
        "print(r2_score(list(test['y']), list(forecast.loc[train_data.shape[0]:,'yhat'] )))\n",
        "plt.plot(list(test['y']))\n",
        "plt.plot(list(forecast.loc[train_data.shape[0]:,'yhat'] ))\n",
        "fig2 = m.plot_components(forecast)\n",
        "plt.show()"
      ],
      "execution_count": null,
      "outputs": [
        {
          "output_type": "stream",
          "text": [
            "-0.3063485157230177\n"
          ],
          "name": "stdout"
        },
        {
          "output_type": "display_data",
          "data": {
            "image/png": "[encoded data removed]",
            "text/plain": [
              "<Figure size 432x288 with 1 Axes>"
            ]
          },
          "metadata": {
            "tags": [],
            "needs_background": "light"
          }
        },
        {
          "output_type": "display_data",
          "data": {
            "image/png": "[encoded data removed]",
            "text/plain": [
              "<Figure size 648x432 with 2 Axes>"
            ]
          },
          "metadata": {
            "tags": []
          }
        }
      ]
    },
    {
      "cell_type": "markdown",
      "metadata": {
        "id": "boYcg9rGMeSt"
      },
      "source": [
        "### DeepAR"
      ]
    },
    {
      "cell_type": "code",
      "metadata": {
        "colab": {
          "base_uri": "https://localhost:8080/"
        },
        "id": "4Qvv09UvTAgV",
        "outputId": "8c577558-a4fd-4060-e81b-245a8f893827"
      },
      "source": [
        "test_ds"
      ],
      "execution_count": null,
      "outputs": [
        {
          "output_type": "execute_result",
          "data": {
            "text/plain": [
              "<gluonts.dataset.common.ListDataset at 0x7fcc7121fe90>"
            ]
          },
          "metadata": {
            "tags": []
          },
          "execution_count": 40
        }
      ]
    },
    {
      "cell_type": "code",
      "metadata": {
        "id": "rmGmwhpHMV6m"
      },
      "source": [
        "from gluonts.dataset.common import ListDataset\n",
        "start = pd.Timestamp(\"01-05-2020\", freq=\"H\")\n",
        "# train dataset: cut the last window of length \"prediction_length\", add \"target\" and \"start\" fields\n",
        "train_ds = ListDataset([{'target': y.loc[train.shape[0]:,'y'], 'start': start}], freq='H')\n",
        "# test dataset: use the whole dataset, add \"target\" and \"start\" fields\n",
        "test_ds = ListDataset([{'target': y['y'], 'start': start}], freq='H')"
      ],
      "execution_count": null,
      "outputs": []
    },
    {
      "cell_type": "code",
      "metadata": {
        "colab": {
          "base_uri": "https://localhost:8080/"
        },
        "id": "Zk6VLahHMWHD",
        "outputId": "0472e290-e32d-48cf-b0e7-8c1d8048351c"
      },
      "source": [
        "from gluonts.model.deepar import DeepAREstimator\n",
        "from gluonts.mx.trainer import Trainer\n",
        "import mxnet as mx\n",
        "import numpy as np\n",
        "np.random.seed(7)\n",
        "mx.random.seed(7)\n",
        "estimator = DeepAREstimator(prediction_length=test.shape[0], context_length=100, freq='H', trainer=Trainer(ctx=\"cpu\", # remove if running on windows\n",
        "                                                                                                epochs=5,learning_rate=1e-3,num_batches_per_epoch=100) \n",
        ")\n",
        "predictor = estimator.train(train_ds)"
      ],
      "execution_count": null,
      "outputs": [
        {
          "output_type": "stream",
          "text": [
            "INFO:gluonts.trainer:Start model training\n",
            "INFO:gluonts.trainer:Epoch[0] Learning rate is 0.001\n",
            "  0%|          | 0/100 [00:00<?, ?it/s]INFO:gluonts.trainer:Number of parameters in DeepARTrainingNetwork: 27644\n",
            "100%|██████████| 100/100 [00:20<00:00,  4.96it/s, epoch=1/5, avg_epoch_loss=-4.38]\n",
            "INFO:gluonts.trainer:Epoch[0] Elapsed time 20.153 seconds\n",
            "INFO:gluonts.trainer:Epoch[0] Evaluation metric 'epoch_loss'=-4.381917\n",
            "INFO:gluonts.trainer:Epoch[1] Learning rate is 0.001\n",
            "100%|██████████| 100/100 [00:19<00:00,  5.11it/s, epoch=2/5, avg_epoch_loss=-5.93]\n",
            "INFO:gluonts.trainer:Epoch[1] Elapsed time 19.560 seconds\n",
            "INFO:gluonts.trainer:Epoch[1] Evaluation metric 'epoch_loss'=-5.931420\n",
            "INFO:gluonts.trainer:Epoch[2] Learning rate is 0.001\n",
            "100%|██████████| 100/100 [00:19<00:00,  5.09it/s, epoch=3/5, avg_epoch_loss=-6.38]\n",
            "INFO:gluonts.trainer:Epoch[2] Elapsed time 19.645 seconds\n",
            "INFO:gluonts.trainer:Epoch[2] Evaluation metric 'epoch_loss'=-6.381522\n",
            "INFO:gluonts.trainer:Epoch[3] Learning rate is 0.001\n",
            "100%|██████████| 100/100 [00:19<00:00,  5.12it/s, epoch=4/5, avg_epoch_loss=-6.66]\n",
            "INFO:gluonts.trainer:Epoch[3] Elapsed time 19.541 seconds\n",
            "INFO:gluonts.trainer:Epoch[3] Evaluation metric 'epoch_loss'=-6.656556\n",
            "INFO:gluonts.trainer:Epoch[4] Learning rate is 0.001\n",
            "100%|██████████| 100/100 [00:19<00:00,  5.13it/s, epoch=5/5, avg_epoch_loss=-6.75]\n",
            "INFO:gluonts.trainer:Epoch[4] Elapsed time 19.524 seconds\n",
            "INFO:gluonts.trainer:Epoch[4] Evaluation metric 'epoch_loss'=-6.751093\n",
            "INFO:root:Computing averaged parameters.\n",
            "INFO:root:Loading averaged parameters.\n",
            "INFO:gluonts.trainer:End model training\n"
          ],
          "name": "stderr"
        }
      ]
    },
    {
      "cell_type": "code",
      "metadata": {
        "colab": {
          "base_uri": "https://localhost:8080/",
          "height": 283
        },
        "id": "ZOiMeq4JMWOY",
        "outputId": "295ca14b-6956-41e5-f4d7-d9a055eb3c7b"
      },
      "source": [
        "predictions = predictor.predict(test_ds)\n",
        "predictions = list(predictions)[0]\n",
        "predictions = predictions.quantile(0.5)\n",
        "plt.plot(predictions)\n",
        "plt.plot(list(test_ds)[0]['target'][-20:])\n",
        "plt.legend(['predictions', 'actuals'])\n",
        "plt.show()\n",
        "print(mean_absolute_error(list(test_ds)[0]['target'][-20:], predictions))"
      ],
      "execution_count": null,
      "outputs": [
        {
          "output_type": "display_data",
          "data": {
            "image/png": "[encoded data removed]",
            "text/plain": [
              "<Figure size 432x288 with 1 Axes>"
            ]
          },
          "metadata": {
            "tags": [],
            "needs_background": "light"
          }
        },
        {
          "output_type": "stream",
          "text": [
            "0.79308236\n"
          ],
          "name": "stdout"
        }
      ]
    },
    {
      "cell_type": "code",
      "metadata": {
        "colab": {
          "base_uri": "https://localhost:8080/"
        },
        "id": "pIOCeOQ8MWiU",
        "outputId": "d7a84e2e-28f7-48f4-e4e6-e6bdc309314f"
      },
      "source": [
        "list(train_ds)[0]['target']"
      ],
      "execution_count": null,
      "outputs": [
        {
          "output_type": "execute_result",
          "data": {
            "text/plain": [
              "array([  0.  ,   0.  ,   0.  ,   0.  ,   0.  ,   0.  , 170.01,   0.  ,\n",
              "         0.  , 120.02,   0.  ,   0.  ,  44.99,   0.  ,   0.  , 255.96,\n",
              "         0.  , 480.01,   0.  ,  24.99,   0.  ,   0.  , 529.96, 128.99,\n",
              "         0.  ,   0.  , 200.01,   0.  ,   0.  ,   0.  , 160.04,   0.  ,\n",
              "       139.99,   0.  ,  80.02,   0.  ,  92.99, 240.04, 220.01,   0.  ,\n",
              "        80.02,   0.  ,   0.  ,   0.  ,  80.02, 189.99,   0.  ,   0.  ,\n",
              "         0.  ,   0.  ,   0.  , 145.01, 110.02,  39.99,  85.02, 225.04,\n",
              "        79.99,  80.02, 119.99,   0.  , 160.04, 360.02,   0.  ,   0.  ,\n",
              "       450.02, 380.06,   0.  ,   0.  ,  12.  ,   0.  , 229.99,   0.  ,\n",
              "       305.04,   0.  ,  30.  ,   0.  ,   0.  ,   0.  ,  45.  ,   0.  ,\n",
              "        24.99, 119.96, 199.01,   0.  ,   0.  ,   0.  , 120.  ,  80.02,\n",
              "         0.  , 189.98,   0.  ,   0.  ,   0.  ,   0.  ,   0.  ,   0.  ,\n",
              "        79.99,   0.  , 228.99, 210.01, 414.96, 394.97, 109.99, 109.99,\n",
              "       469.96,   0.  ,   0.  ,  54.99, 304.98, 229.98,  79.99, 429.97,\n",
              "         0.  , 119.99, 324.98, 119.99, 109.99, 499.99,   0.  ,   0.  ,\n",
              "       289.98, 119.99, 186.  , 149.99, 238.98, 408.99, 179.99,  80.02,\n",
              "        99.  ,  33.95,  99.  ,   0.  , 491.98,   0.  , 114.99,   0.  ,\n",
              "        80.02, 209.98,   0.  ,  99.  ,   0.  ,   0.  , 149.99, 507.99,\n",
              "         0.  ,   0.  , 139.99, 351.97, 339.97,   0.  , 139.99,   0.  ,\n",
              "       569.98,   0.  ,  80.02,  24.99,  99.99,  15.  , 569.97, 119.99,\n",
              "       469.98,  45.97, 349.99,  89.99,  79.99,  79.99,   0.  ,   0.  ,\n",
              "       266.94,  89.99, 119.99,   0.  , 119.99,   0.  ,   0.  , 419.98,\n",
              "         0.  ,   0.  , 659.96, 109.99, 529.95,   0.  , 319.43,  76.48,\n",
              "       201.47, 141.51, 424.06,   0.  , 160.04,   0.  ,   0.  ,   0.  ,\n",
              "         0.  ,   0.  , 660.03,  80.02, 365.01, 160.04, 200.04,   0.  ,\n",
              "         0.  ,   0.  ,   0.  , 215.03,   0.  , 220.04, 610.11,  80.02,\n",
              "       594.18,  99.  , 149.99,   0.  , 338.98,   0.  ,   0.  , 125.02,\n",
              "         0.  , 239.98, 120.02,  90.02,   0.  ,   0.  ,   0.  ,  90.02,\n",
              "       119.99, 114.99, 259.98], dtype=float32)"
            ]
          },
          "metadata": {
            "tags": []
          },
          "execution_count": 149
        }
      ]
    },
    {
      "cell_type": "markdown",
      "metadata": {
        "id": "fLqOOxqcZ2n6"
      },
      "source": [
        "### EDM"
      ]
    },
    {
      "cell_type": "code",
      "metadata": {
        "id": "z6K4m0F1Z4r4"
      },
      "source": [
        "import pyEDM"
      ],
      "execution_count": null,
      "outputs": []
    },
    {
      "cell_type": "code",
      "metadata": {
        "colab": {
          "base_uri": "https://localhost:8080/",
          "height": 422
        },
        "id": "Coh2W43IUR6y",
        "outputId": "cf14c0bb-9539-4819-92c9-d88ed8554109"
      },
      "source": [
        "y"
      ],
      "execution_count": null,
      "outputs": [
        {
          "output_type": "execute_result",
          "data": {
            "text/html": [
              "<div>\n",
              "<style scoped>\n",
              "    .dataframe tbody tr th:only-of-type {\n",
              "        vertical-align: middle;\n",
              "    }\n",
              "\n",
              "    .dataframe tbody tr th {\n",
              "        vertical-align: top;\n",
              "    }\n",
              "\n",
              "    .dataframe thead th {\n",
              "        text-align: right;\n",
              "    }\n",
              "</style>\n",
              "<table border=\"1\" class=\"dataframe\">\n",
              "  <thead>\n",
              "    <tr style=\"text-align: right;\">\n",
              "      <th></th>\n",
              "      <th>ds</th>\n",
              "      <th>y</th>\n",
              "      <th>floor</th>\n",
              "      <th>cap</th>\n",
              "    </tr>\n",
              "  </thead>\n",
              "  <tbody>\n",
              "    <tr>\n",
              "      <th>0</th>\n",
              "      <td>2020-01-05</td>\n",
              "      <td>0.0</td>\n",
              "      <td>0</td>\n",
              "      <td>2000</td>\n",
              "    </tr>\n",
              "    <tr>\n",
              "      <th>1</th>\n",
              "      <td>2020-01-12</td>\n",
              "      <td>0.0</td>\n",
              "      <td>0</td>\n",
              "      <td>2000</td>\n",
              "    </tr>\n",
              "    <tr>\n",
              "      <th>2</th>\n",
              "      <td>2020-01-19</td>\n",
              "      <td>0.0</td>\n",
              "      <td>0</td>\n",
              "      <td>2000</td>\n",
              "    </tr>\n",
              "    <tr>\n",
              "      <th>3</th>\n",
              "      <td>2020-01-26</td>\n",
              "      <td>0.0</td>\n",
              "      <td>0</td>\n",
              "      <td>2000</td>\n",
              "    </tr>\n",
              "    <tr>\n",
              "      <th>4</th>\n",
              "      <td>2020-02-02</td>\n",
              "      <td>0.0</td>\n",
              "      <td>0</td>\n",
              "      <td>2000</td>\n",
              "    </tr>\n",
              "    <tr>\n",
              "      <th>...</th>\n",
              "      <td>...</td>\n",
              "      <td>...</td>\n",
              "      <td>...</td>\n",
              "      <td>...</td>\n",
              "    </tr>\n",
              "    <tr>\n",
              "      <th>59</th>\n",
              "      <td>2021-02-21</td>\n",
              "      <td>0.0</td>\n",
              "      <td>0</td>\n",
              "      <td>2000</td>\n",
              "    </tr>\n",
              "    <tr>\n",
              "      <th>60</th>\n",
              "      <td>2021-02-28</td>\n",
              "      <td>0.0</td>\n",
              "      <td>0</td>\n",
              "      <td>2000</td>\n",
              "    </tr>\n",
              "    <tr>\n",
              "      <th>61</th>\n",
              "      <td>2021-03-07</td>\n",
              "      <td>0.0</td>\n",
              "      <td>0</td>\n",
              "      <td>2000</td>\n",
              "    </tr>\n",
              "    <tr>\n",
              "      <th>62</th>\n",
              "      <td>2021-03-14</td>\n",
              "      <td>4.0</td>\n",
              "      <td>0</td>\n",
              "      <td>2000</td>\n",
              "    </tr>\n",
              "    <tr>\n",
              "      <th>63</th>\n",
              "      <td>2021-03-21</td>\n",
              "      <td>3.0</td>\n",
              "      <td>0</td>\n",
              "      <td>2000</td>\n",
              "    </tr>\n",
              "  </tbody>\n",
              "</table>\n",
              "<p>64 rows × 4 columns</p>\n",
              "</div>"
            ],
            "text/plain": [
              "           ds    y  floor   cap\n",
              "0  2020-01-05  0.0      0  2000\n",
              "1  2020-01-12  0.0      0  2000\n",
              "2  2020-01-19  0.0      0  2000\n",
              "3  2020-01-26  0.0      0  2000\n",
              "4  2020-02-02  0.0      0  2000\n",
              "..        ...  ...    ...   ...\n",
              "59 2021-02-21  0.0      0  2000\n",
              "60 2021-02-28  0.0      0  2000\n",
              "61 2021-03-07  0.0      0  2000\n",
              "62 2021-03-14  4.0      0  2000\n",
              "63 2021-03-21  3.0      0  2000\n",
              "\n",
              "[64 rows x 4 columns]"
            ]
          },
          "metadata": {
            "tags": []
          },
          "execution_count": 47
        }
      ]
    },
    {
      "cell_type": "code",
      "metadata": {
        "colab": {
          "base_uri": "https://localhost:8080/",
          "height": 422
        },
        "id": "PRXOxcGdUht2",
        "outputId": "dd5516fc-7834-4df0-f1e7-adecdbf4b915"
      },
      "source": [
        "y"
      ],
      "execution_count": null,
      "outputs": [
        {
          "output_type": "execute_result",
          "data": {
            "text/html": [
              "<div>\n",
              "<style scoped>\n",
              "    .dataframe tbody tr th:only-of-type {\n",
              "        vertical-align: middle;\n",
              "    }\n",
              "\n",
              "    .dataframe tbody tr th {\n",
              "        vertical-align: top;\n",
              "    }\n",
              "\n",
              "    .dataframe thead th {\n",
              "        text-align: right;\n",
              "    }\n",
              "</style>\n",
              "<table border=\"1\" class=\"dataframe\">\n",
              "  <thead>\n",
              "    <tr style=\"text-align: right;\">\n",
              "      <th></th>\n",
              "      <th>Time</th>\n",
              "      <th>Revenue</th>\n",
              "    </tr>\n",
              "  </thead>\n",
              "  <tbody>\n",
              "    <tr>\n",
              "      <th>0</th>\n",
              "      <td>1</td>\n",
              "      <td>0.0</td>\n",
              "    </tr>\n",
              "    <tr>\n",
              "      <th>1</th>\n",
              "      <td>2</td>\n",
              "      <td>0.0</td>\n",
              "    </tr>\n",
              "    <tr>\n",
              "      <th>2</th>\n",
              "      <td>3</td>\n",
              "      <td>0.0</td>\n",
              "    </tr>\n",
              "    <tr>\n",
              "      <th>3</th>\n",
              "      <td>4</td>\n",
              "      <td>0.0</td>\n",
              "    </tr>\n",
              "    <tr>\n",
              "      <th>4</th>\n",
              "      <td>5</td>\n",
              "      <td>0.0</td>\n",
              "    </tr>\n",
              "    <tr>\n",
              "      <th>...</th>\n",
              "      <td>...</td>\n",
              "      <td>...</td>\n",
              "    </tr>\n",
              "    <tr>\n",
              "      <th>59</th>\n",
              "      <td>60</td>\n",
              "      <td>0.0</td>\n",
              "    </tr>\n",
              "    <tr>\n",
              "      <th>60</th>\n",
              "      <td>61</td>\n",
              "      <td>0.0</td>\n",
              "    </tr>\n",
              "    <tr>\n",
              "      <th>61</th>\n",
              "      <td>62</td>\n",
              "      <td>0.0</td>\n",
              "    </tr>\n",
              "    <tr>\n",
              "      <th>62</th>\n",
              "      <td>63</td>\n",
              "      <td>4.0</td>\n",
              "    </tr>\n",
              "    <tr>\n",
              "      <th>63</th>\n",
              "      <td>64</td>\n",
              "      <td>3.0</td>\n",
              "    </tr>\n",
              "  </tbody>\n",
              "</table>\n",
              "<p>64 rows × 2 columns</p>\n",
              "</div>"
            ],
            "text/plain": [
              "    Time  Revenue\n",
              "0      1      0.0\n",
              "1      2      0.0\n",
              "2      3      0.0\n",
              "3      4      0.0\n",
              "4      5      0.0\n",
              "..   ...      ...\n",
              "59    60      0.0\n",
              "60    61      0.0\n",
              "61    62      0.0\n",
              "62    63      4.0\n",
              "63    64      3.0\n",
              "\n",
              "[64 rows x 2 columns]"
            ]
          },
          "metadata": {
            "tags": []
          },
          "execution_count": 50
        }
      ]
    },
    {
      "cell_type": "code",
      "metadata": {
        "id": "KMcrgAhrZ4_M",
        "colab": {
          "base_uri": "https://localhost:8080/",
          "height": 358
        },
        "outputId": "ee520cdb-f0fe-47fa-c955-bca1925cf3b9"
      },
      "source": [
        "y = y[[\"ds\",\"y\"]]\n",
        "y.columns = [\"Time\", \"Revenue\"]\n",
        "y.Time = list(range(1,df.shape[0]+1,1))"
      ],
      "execution_count": null,
      "outputs": [
        {
          "output_type": "error",
          "ename": "KeyError",
          "evalue": "ignored",
          "traceback": [
            "\u001b[0;31m---------------------------------------------------------------------------\u001b[0m",
            "\u001b[0;31mKeyError\u001b[0m                                  Traceback (most recent call last)",
            "\u001b[0;32m<ipython-input-49-96929a4af1d5>\u001b[0m in \u001b[0;36m<module>\u001b[0;34m()\u001b[0m\n\u001b[0;32m----> 1\u001b[0;31m \u001b[0my\u001b[0m \u001b[0;34m=\u001b[0m \u001b[0my\u001b[0m\u001b[0;34m[\u001b[0m\u001b[0;34m[\u001b[0m\u001b[0;34m\"ds\"\u001b[0m\u001b[0;34m,\u001b[0m\u001b[0;34m\"y\"\u001b[0m\u001b[0;34m]\u001b[0m\u001b[0;34m]\u001b[0m\u001b[0;34m\u001b[0m\u001b[0;34m\u001b[0m\u001b[0m\n\u001b[0m\u001b[1;32m      2\u001b[0m \u001b[0my\u001b[0m\u001b[0;34m.\u001b[0m\u001b[0mcolumns\u001b[0m \u001b[0;34m=\u001b[0m \u001b[0;34m[\u001b[0m\u001b[0;34m\"Time\"\u001b[0m\u001b[0;34m,\u001b[0m \u001b[0;34m\"Revenue\"\u001b[0m\u001b[0;34m]\u001b[0m\u001b[0;34m\u001b[0m\u001b[0;34m\u001b[0m\u001b[0m\n\u001b[1;32m      3\u001b[0m \u001b[0my\u001b[0m\u001b[0;34m.\u001b[0m\u001b[0mTime\u001b[0m \u001b[0;34m=\u001b[0m \u001b[0mlist\u001b[0m\u001b[0;34m(\u001b[0m\u001b[0mrange\u001b[0m\u001b[0;34m(\u001b[0m\u001b[0;36m1\u001b[0m\u001b[0;34m,\u001b[0m\u001b[0mdf\u001b[0m\u001b[0;34m.\u001b[0m\u001b[0mshape\u001b[0m\u001b[0;34m[\u001b[0m\u001b[0;36m0\u001b[0m\u001b[0;34m]\u001b[0m\u001b[0;34m+\u001b[0m\u001b[0;36m1\u001b[0m\u001b[0;34m,\u001b[0m\u001b[0;36m1\u001b[0m\u001b[0;34m)\u001b[0m\u001b[0;34m)\u001b[0m\u001b[0;34m\u001b[0m\u001b[0;34m\u001b[0m\u001b[0m\n",
            "\u001b[0;32m/usr/local/lib/python3.7/dist-packages/pandas/core/frame.py\u001b[0m in \u001b[0;36m__getitem__\u001b[0;34m(self, key)\u001b[0m\n\u001b[1;32m   2910\u001b[0m             \u001b[0;32mif\u001b[0m \u001b[0mis_iterator\u001b[0m\u001b[0;34m(\u001b[0m\u001b[0mkey\u001b[0m\u001b[0;34m)\u001b[0m\u001b[0;34m:\u001b[0m\u001b[0;34m\u001b[0m\u001b[0;34m\u001b[0m\u001b[0m\n\u001b[1;32m   2911\u001b[0m                 \u001b[0mkey\u001b[0m \u001b[0;34m=\u001b[0m \u001b[0mlist\u001b[0m\u001b[0;34m(\u001b[0m\u001b[0mkey\u001b[0m\u001b[0;34m)\u001b[0m\u001b[0;34m\u001b[0m\u001b[0;34m\u001b[0m\u001b[0m\n\u001b[0;32m-> 2912\u001b[0;31m             \u001b[0mindexer\u001b[0m \u001b[0;34m=\u001b[0m \u001b[0mself\u001b[0m\u001b[0;34m.\u001b[0m\u001b[0mloc\u001b[0m\u001b[0;34m.\u001b[0m\u001b[0m_get_listlike_indexer\u001b[0m\u001b[0;34m(\u001b[0m\u001b[0mkey\u001b[0m\u001b[0;34m,\u001b[0m \u001b[0maxis\u001b[0m\u001b[0;34m=\u001b[0m\u001b[0;36m1\u001b[0m\u001b[0;34m,\u001b[0m \u001b[0mraise_missing\u001b[0m\u001b[0;34m=\u001b[0m\u001b[0;32mTrue\u001b[0m\u001b[0;34m)\u001b[0m\u001b[0;34m[\u001b[0m\u001b[0;36m1\u001b[0m\u001b[0;34m]\u001b[0m\u001b[0;34m\u001b[0m\u001b[0;34m\u001b[0m\u001b[0m\n\u001b[0m\u001b[1;32m   2913\u001b[0m \u001b[0;34m\u001b[0m\u001b[0m\n\u001b[1;32m   2914\u001b[0m         \u001b[0;31m# take() does not accept boolean indexers\u001b[0m\u001b[0;34m\u001b[0m\u001b[0;34m\u001b[0m\u001b[0;34m\u001b[0m\u001b[0m\n",
            "\u001b[0;32m/usr/local/lib/python3.7/dist-packages/pandas/core/indexing.py\u001b[0m in \u001b[0;36m_get_listlike_indexer\u001b[0;34m(self, key, axis, raise_missing)\u001b[0m\n\u001b[1;32m   1252\u001b[0m             \u001b[0mkeyarr\u001b[0m\u001b[0;34m,\u001b[0m \u001b[0mindexer\u001b[0m\u001b[0;34m,\u001b[0m \u001b[0mnew_indexer\u001b[0m \u001b[0;34m=\u001b[0m \u001b[0max\u001b[0m\u001b[0;34m.\u001b[0m\u001b[0m_reindex_non_unique\u001b[0m\u001b[0;34m(\u001b[0m\u001b[0mkeyarr\u001b[0m\u001b[0;34m)\u001b[0m\u001b[0;34m\u001b[0m\u001b[0;34m\u001b[0m\u001b[0m\n\u001b[1;32m   1253\u001b[0m \u001b[0;34m\u001b[0m\u001b[0m\n\u001b[0;32m-> 1254\u001b[0;31m         \u001b[0mself\u001b[0m\u001b[0;34m.\u001b[0m\u001b[0m_validate_read_indexer\u001b[0m\u001b[0;34m(\u001b[0m\u001b[0mkeyarr\u001b[0m\u001b[0;34m,\u001b[0m \u001b[0mindexer\u001b[0m\u001b[0;34m,\u001b[0m \u001b[0maxis\u001b[0m\u001b[0;34m,\u001b[0m \u001b[0mraise_missing\u001b[0m\u001b[0;34m=\u001b[0m\u001b[0mraise_missing\u001b[0m\u001b[0;34m)\u001b[0m\u001b[0;34m\u001b[0m\u001b[0;34m\u001b[0m\u001b[0m\n\u001b[0m\u001b[1;32m   1255\u001b[0m         \u001b[0;32mreturn\u001b[0m \u001b[0mkeyarr\u001b[0m\u001b[0;34m,\u001b[0m \u001b[0mindexer\u001b[0m\u001b[0;34m\u001b[0m\u001b[0;34m\u001b[0m\u001b[0m\n\u001b[1;32m   1256\u001b[0m \u001b[0;34m\u001b[0m\u001b[0m\n",
            "\u001b[0;32m/usr/local/lib/python3.7/dist-packages/pandas/core/indexing.py\u001b[0m in \u001b[0;36m_validate_read_indexer\u001b[0;34m(self, key, indexer, axis, raise_missing)\u001b[0m\n\u001b[1;32m   1296\u001b[0m             \u001b[0;32mif\u001b[0m \u001b[0mmissing\u001b[0m \u001b[0;34m==\u001b[0m \u001b[0mlen\u001b[0m\u001b[0;34m(\u001b[0m\u001b[0mindexer\u001b[0m\u001b[0;34m)\u001b[0m\u001b[0;34m:\u001b[0m\u001b[0;34m\u001b[0m\u001b[0;34m\u001b[0m\u001b[0m\n\u001b[1;32m   1297\u001b[0m                 \u001b[0maxis_name\u001b[0m \u001b[0;34m=\u001b[0m \u001b[0mself\u001b[0m\u001b[0;34m.\u001b[0m\u001b[0mobj\u001b[0m\u001b[0;34m.\u001b[0m\u001b[0m_get_axis_name\u001b[0m\u001b[0;34m(\u001b[0m\u001b[0maxis\u001b[0m\u001b[0;34m)\u001b[0m\u001b[0;34m\u001b[0m\u001b[0;34m\u001b[0m\u001b[0m\n\u001b[0;32m-> 1298\u001b[0;31m                 \u001b[0;32mraise\u001b[0m \u001b[0mKeyError\u001b[0m\u001b[0;34m(\u001b[0m\u001b[0;34mf\"None of [{key}] are in the [{axis_name}]\"\u001b[0m\u001b[0;34m)\u001b[0m\u001b[0;34m\u001b[0m\u001b[0;34m\u001b[0m\u001b[0m\n\u001b[0m\u001b[1;32m   1299\u001b[0m \u001b[0;34m\u001b[0m\u001b[0m\n\u001b[1;32m   1300\u001b[0m             \u001b[0;31m# We (temporarily) allow for some missing keys with .loc, except in\u001b[0m\u001b[0;34m\u001b[0m\u001b[0;34m\u001b[0m\u001b[0;34m\u001b[0m\u001b[0m\n",
            "\u001b[0;31mKeyError\u001b[0m: \"None of [Index(['ds', 'y'], dtype='object')] are in the [columns]\""
          ]
        }
      ]
    },
    {
      "cell_type": "code",
      "metadata": {
        "colab": {
          "base_uri": "https://localhost:8080/",
          "height": 189
        },
        "id": "HdMbatXEVBW4",
        "outputId": "22f29146-3868-4d95-ff9f-d31a471fe1a8"
      },
      "source": [
        "aaa=pyEDM.EmbedDimension(dataFrame = y, lib=\"1 44\", pred=\"45 64\", columns=\"Revenue\",target = \"Revenue\",showPlot=False)\n",
        "frame(aaa.ewm)\n"
      ],
      "execution_count": null,
      "outputs": [
        {
          "output_type": "error",
          "ename": "NameError",
          "evalue": "ignored",
          "traceback": [
            "\u001b[0;31m---------------------------------------------------------------------------\u001b[0m",
            "\u001b[0;31mNameError\u001b[0m                                 Traceback (most recent call last)",
            "\u001b[0;32m<ipython-input-74-9343895f26bd>\u001b[0m in \u001b[0;36m<module>\u001b[0;34m()\u001b[0m\n\u001b[1;32m      1\u001b[0m \u001b[0maaa\u001b[0m\u001b[0;34m=\u001b[0m\u001b[0mpyEDM\u001b[0m\u001b[0;34m.\u001b[0m\u001b[0mEmbedDimension\u001b[0m\u001b[0;34m(\u001b[0m\u001b[0mdataFrame\u001b[0m \u001b[0;34m=\u001b[0m \u001b[0my\u001b[0m\u001b[0;34m,\u001b[0m \u001b[0mlib\u001b[0m\u001b[0;34m=\u001b[0m\u001b[0;34m\"1 44\"\u001b[0m\u001b[0;34m,\u001b[0m \u001b[0mpred\u001b[0m\u001b[0;34m=\u001b[0m\u001b[0;34m\"45 64\"\u001b[0m\u001b[0;34m,\u001b[0m \u001b[0mcolumns\u001b[0m\u001b[0;34m=\u001b[0m\u001b[0;34m\"Revenue\"\u001b[0m\u001b[0;34m,\u001b[0m\u001b[0mtarget\u001b[0m \u001b[0;34m=\u001b[0m \u001b[0;34m\"Revenue\"\u001b[0m\u001b[0;34m,\u001b[0m\u001b[0mshowPlot\u001b[0m\u001b[0;34m=\u001b[0m\u001b[0;32mFalse\u001b[0m\u001b[0;34m)\u001b[0m\u001b[0;34m\u001b[0m\u001b[0;34m\u001b[0m\u001b[0m\n\u001b[0;32m----> 2\u001b[0;31m \u001b[0mframe\u001b[0m\u001b[0;34m(\u001b[0m\u001b[0maaa\u001b[0m\u001b[0;34m.\u001b[0m\u001b[0mewm\u001b[0m\u001b[0;34m)\u001b[0m\u001b[0;34m\u001b[0m\u001b[0;34m\u001b[0m\u001b[0m\n\u001b[0m",
            "\u001b[0;31mNameError\u001b[0m: name 'frame' is not defined"
          ]
        }
      ]
    },
    {
      "cell_type": "code",
      "metadata": {
        "colab": {
          "base_uri": "https://localhost:8080/",
          "height": 896
        },
        "id": "cvFxlkOcaaeI",
        "outputId": "8eeb5b44-b6d2-4bdc-df30-9c18a734629e"
      },
      "source": [
        "pyEDM.EmbedDimension(dataFrame = y, lib=\"1 44\", pred=\"45 64\", columns=\"Revenue\",target = \"Revenue\");\n",
        "pyEDM.PredictInterval(dataFrame = y,lib=\"1 44\", pred=\"45 64\", columns=\"Revenue\", E=8, showPlot=True);\n",
        "pyEDM.PredictNonlinear(dataFrame = y, lib=\"1 44\", pred=\"45 64\", columns=\"Revenue\", E=8);"
      ],
      "execution_count": null,
      "outputs": [
        {
          "output_type": "display_data",
          "data": {
            "image/png": "[encoded data removed]",
            "text/plain": [
              "<Figure size 432x288 with 1 Axes>"
            ]
          },
          "metadata": {
            "tags": [],
            "needs_background": "light"
          }
        },
        {
          "output_type": "display_data",
          "data": {
            "image/png": "[encoded data removed]",
            "text/plain": [
              "<Figure size 432x288 with 1 Axes>"
            ]
          },
          "metadata": {
            "tags": [],
            "needs_background": "light"
          }
        },
        {
          "output_type": "display_data",
          "data": {
            "image/png": "[encoded data removed]",
            "text/plain": [
              "<Figure size 432x288 with 1 Axes>"
            ]
          },
          "metadata": {
            "tags": [],
            "needs_background": "light"
          }
        }
      ]
    },
    {
      "cell_type": "code",
      "metadata": {
        "colab": {
          "base_uri": "https://localhost:8080/",
          "height": 301
        },
        "id": "J8GgZXg9bP5h",
        "outputId": "4b0b3952-a6f4-4e59-bac4-0eee1c9b429e"
      },
      "source": [
        "simplex_pred = pyEDM.Simplex(dataFrame = y,lib=\"1 44\", pred=\"45 64\", E=8, columns=\"Revenue\",Tp=0,tau=-3)\n",
        "print(pyEDM.ComputeError(simplex_pred['Observations'],simplex_pred['Predictions']))\n",
        "simplex_pred[['Observations', 'Predictions']].plot()"
      ],
      "execution_count": null,
      "outputs": [
        {
          "output_type": "stream",
          "text": [
            "{'MAE': 76.75922374379553, 'RMSE': 110.85803388275225, 'rho': 0.9397499713920134}\n"
          ],
          "name": "stdout"
        },
        {
          "output_type": "execute_result",
          "data": {
            "text/plain": [
              "<matplotlib.axes._subplots.AxesSubplot at 0x7f689c55f990>"
            ]
          },
          "metadata": {
            "tags": []
          },
          "execution_count": 128
        },
        {
          "output_type": "display_data",
          "data": {
            "image/png": "[encoded data removed]",
            "text/plain": [
              "<Figure size 432x288 with 1 Axes>"
            ]
          },
          "metadata": {
            "tags": []
          }
        }
      ]
    },
    {
      "cell_type": "code",
      "metadata": {
        "id": "sGR-tO7fbPlf"
      },
      "source": [
        ""
      ],
      "execution_count": null,
      "outputs": []
    }
  ]
}